{
  "nbformat": 4,
  "nbformat_minor": 0,
  "metadata": {
    "colab": {
      "name": "personagens_mapas_auto_organizaveis.ipynb",
      "provenance": [],
      "authorship_tag": "ABX9TyPfXRyzspl/mDWP9/OFWosF",
      "include_colab_link": true
    },
    "kernelspec": {
      "name": "python3",
      "display_name": "Python 3"
    }
  },
  "cells": [
    {
      "cell_type": "markdown",
      "metadata": {
        "id": "view-in-github",
        "colab_type": "text"
      },
      "source": [
        "<a href=\"https://colab.research.google.com/github/itimes-digital/deep-learning-estudo/blob/main/personagens_mapas_auto_organizaveis.ipynb\" target=\"_parent\"><img src=\"https://colab.research.google.com/assets/colab-badge.svg\" alt=\"Open In Colab\"/></a>"
      ]
    },
    {
      "cell_type": "code",
      "metadata": {
        "id": "FDT78yDwVCns"
      },
      "source": [
        "import pandas as pd\n",
        "import numpy as np"
      ],
      "execution_count": 1,
      "outputs": []
    },
    {
      "cell_type": "code",
      "metadata": {
        "id": "h-RJOhyLW0Mi",
        "outputId": "3dfe139b-346d-42fe-c4ff-803dc3219e7b",
        "colab": {
          "base_uri": "https://localhost:8080/"
        }
      },
      "source": [
        "pip install miniSom"
      ],
      "execution_count": 10,
      "outputs": [
        {
          "output_type": "stream",
          "text": [
            "Collecting miniSom\n",
            "  Downloading https://files.pythonhosted.org/packages/69/3c/a5ad0d36137285cdffdd5cad105ec2eb3c3ddfbd3254a324993ab51d3401/MiniSom-2.2.7.tar.gz\n",
            "Building wheels for collected packages: miniSom\n",
            "  Building wheel for miniSom (setup.py) ... \u001b[?25l\u001b[?25hdone\n",
            "  Created wheel for miniSom: filename=MiniSom-2.2.7-cp36-none-any.whl size=8607 sha256=af6baca791543c65adc9b591c57f44388c427d960e57e41a7422eb682360dd8d\n",
            "  Stored in directory: /root/.cache/pip/wheels/db/9a/af/0fca4ced67fec66c00998c4bf55b13f0a4c882ee775f278862\n",
            "Successfully built miniSom\n",
            "Installing collected packages: miniSom\n",
            "Successfully installed miniSom-2.2.7\n"
          ],
          "name": "stdout"
        }
      ]
    },
    {
      "cell_type": "code",
      "metadata": {
        "id": "gcinB2azW5BB"
      },
      "source": [
        "from sklearn.preprocessing import MinMaxScaler\n",
        "from minisom import MiniSom"
      ],
      "execution_count": 120,
      "outputs": []
    },
    {
      "cell_type": "code",
      "metadata": {
        "id": "SOBahBeCVVxN",
        "outputId": "91e67bf6-f723-4ecd-a569-4ea572f96c2f",
        "colab": {
          "base_uri": "https://localhost:8080/",
          "height": 204
        }
      },
      "source": [
        "base = pd.read_csv('https://raw.githubusercontent.com/itimes-digital/deep-learning-estudo/main/dataset/personagens.csv')\n",
        "base.head()"
      ],
      "execution_count": 121,
      "outputs": [
        {
          "output_type": "execute_result",
          "data": {
            "text/html": [
              "<div>\n",
              "<style scoped>\n",
              "    .dataframe tbody tr th:only-of-type {\n",
              "        vertical-align: middle;\n",
              "    }\n",
              "\n",
              "    .dataframe tbody tr th {\n",
              "        vertical-align: top;\n",
              "    }\n",
              "\n",
              "    .dataframe thead th {\n",
              "        text-align: right;\n",
              "    }\n",
              "</style>\n",
              "<table border=\"1\" class=\"dataframe\">\n",
              "  <thead>\n",
              "    <tr style=\"text-align: right;\">\n",
              "      <th></th>\n",
              "      <th>laranja_camisa_bart</th>\n",
              "      <th>azul_calcao_bart</th>\n",
              "      <th>azul_sapato_bart</th>\n",
              "      <th>marrom_boca_homer</th>\n",
              "      <th>azul_calca_homer</th>\n",
              "      <th>cinza_sapato_homer</th>\n",
              "      <th>classe</th>\n",
              "    </tr>\n",
              "  </thead>\n",
              "  <tbody>\n",
              "    <tr>\n",
              "      <th>0</th>\n",
              "      <td>6.886102</td>\n",
              "      <td>3.495204</td>\n",
              "      <td>1.484984</td>\n",
              "      <td>0.000000</td>\n",
              "      <td>0.0</td>\n",
              "      <td>0.062954</td>\n",
              "      <td>Bart</td>\n",
              "    </tr>\n",
              "    <tr>\n",
              "      <th>1</th>\n",
              "      <td>5.004901</td>\n",
              "      <td>3.183889</td>\n",
              "      <td>1.000142</td>\n",
              "      <td>0.000000</td>\n",
              "      <td>0.0</td>\n",
              "      <td>0.033024</td>\n",
              "      <td>Bart</td>\n",
              "    </tr>\n",
              "    <tr>\n",
              "      <th>2</th>\n",
              "      <td>5.264620</td>\n",
              "      <td>5.029683</td>\n",
              "      <td>0.283567</td>\n",
              "      <td>0.000000</td>\n",
              "      <td>0.0</td>\n",
              "      <td>0.151573</td>\n",
              "      <td>Bart</td>\n",
              "    </tr>\n",
              "    <tr>\n",
              "      <th>3</th>\n",
              "      <td>0.000000</td>\n",
              "      <td>0.000000</td>\n",
              "      <td>0.000000</td>\n",
              "      <td>0.480168</td>\n",
              "      <td>0.0</td>\n",
              "      <td>0.021164</td>\n",
              "      <td>Bart</td>\n",
              "    </tr>\n",
              "    <tr>\n",
              "      <th>4</th>\n",
              "      <td>8.978929</td>\n",
              "      <td>3.459119</td>\n",
              "      <td>0.000000</td>\n",
              "      <td>0.000000</td>\n",
              "      <td>0.0</td>\n",
              "      <td>0.011593</td>\n",
              "      <td>Bart</td>\n",
              "    </tr>\n",
              "  </tbody>\n",
              "</table>\n",
              "</div>"
            ],
            "text/plain": [
              "   laranja_camisa_bart  azul_calcao_bart  ...  cinza_sapato_homer  classe\n",
              "0             6.886102          3.495204  ...            0.062954    Bart\n",
              "1             5.004901          3.183889  ...            0.033024    Bart\n",
              "2             5.264620          5.029683  ...            0.151573    Bart\n",
              "3             0.000000          0.000000  ...            0.021164    Bart\n",
              "4             8.978929          3.459119  ...            0.011593    Bart\n",
              "\n",
              "[5 rows x 7 columns]"
            ]
          },
          "metadata": {
            "tags": []
          },
          "execution_count": 121
        }
      ]
    },
    {
      "cell_type": "code",
      "metadata": {
        "id": "QBc3PM4uWNsy",
        "outputId": "400279db-527d-4b2b-cb16-d1b4a0e0595f",
        "colab": {
          "base_uri": "https://localhost:8080/"
        }
      },
      "source": [
        "base.info()"
      ],
      "execution_count": 122,
      "outputs": [
        {
          "output_type": "stream",
          "text": [
            "<class 'pandas.core.frame.DataFrame'>\n",
            "RangeIndex: 293 entries, 0 to 292\n",
            "Data columns (total 7 columns):\n",
            " #   Column               Non-Null Count  Dtype  \n",
            "---  ------               --------------  -----  \n",
            " 0   laranja_camisa_bart  293 non-null    float64\n",
            " 1   azul_calcao_bart     293 non-null    float64\n",
            " 2   azul_sapato_bart     293 non-null    float64\n",
            " 3   marrom_boca_homer    293 non-null    float64\n",
            " 4   azul_calca_homer     293 non-null    float64\n",
            " 5   cinza_sapato_homer   293 non-null    float64\n",
            " 6   classe               293 non-null    object \n",
            "dtypes: float64(6), object(1)\n",
            "memory usage: 16.1+ KB\n"
          ],
          "name": "stdout"
        }
      ]
    },
    {
      "cell_type": "code",
      "metadata": {
        "id": "z9RrozxeWbtQ"
      },
      "source": [
        "x = base.iloc[:, 0:6].values\n",
        "y = base.iloc[:, 6].values"
      ],
      "execution_count": 123,
      "outputs": []
    },
    {
      "cell_type": "code",
      "metadata": {
        "id": "hzDYBhuYWoVY",
        "outputId": "a904069c-1bcd-42e0-f99e-7061cf1075d2",
        "colab": {
          "base_uri": "https://localhost:8080/"
        }
      },
      "source": [
        "x"
      ],
      "execution_count": 124,
      "outputs": [
        {
          "output_type": "execute_result",
          "data": {
            "text/plain": [
              "array([[ 6.886102  ,  3.4952044 ,  1.4849836 ,  0.        ,  0.        ,\n",
              "         0.06295441],\n",
              "       [ 5.004901  ,  3.1838887 ,  1.0001415 ,  0.        ,  0.        ,\n",
              "         0.03302354],\n",
              "       [ 5.2646203 ,  5.0296826 ,  0.283567  ,  0.        ,  0.        ,\n",
              "         0.15157256],\n",
              "       ...,\n",
              "       [ 0.        ,  0.        ,  0.        ,  0.        ,  4.2636285 ,\n",
              "         0.07676148],\n",
              "       [ 0.        ,  0.        ,  0.        ,  0.        ,  1.4291335 ,\n",
              "         0.01701349],\n",
              "       [ 0.        ,  0.        ,  0.        , 13.744248  ,  0.853902  ,\n",
              "         0.0635462 ]])"
            ]
          },
          "metadata": {
            "tags": []
          },
          "execution_count": 124
        }
      ]
    },
    {
      "cell_type": "code",
      "metadata": {
        "id": "tEpvJTUsWpQw",
        "outputId": "4c24284b-f030-46b9-e1ac-fc239b8ac16c",
        "colab": {
          "base_uri": "https://localhost:8080/"
        }
      },
      "source": [
        "scaler = MinMaxScaler(feature_range = (0,1))\n",
        "x = scaler.fit_transform(x)\n",
        "x"
      ],
      "execution_count": 125,
      "outputs": [
        {
          "output_type": "execute_result",
          "data": {
            "text/plain": [
              "array([[0.35231348, 0.19711995, 0.32096694, 0.        , 0.        ,\n",
              "        0.01280093],\n",
              "       [0.25606564, 0.1795626 , 0.21617233, 0.        , 0.        ,\n",
              "        0.00671489],\n",
              "       [0.26935365, 0.28366032, 0.06129067, 0.        , 0.        ,\n",
              "        0.03082025],\n",
              "       ...,\n",
              "       [0.        , 0.        , 0.        , 0.        , 0.48359639,\n",
              "        0.01560842],\n",
              "       [0.        , 0.        , 0.        , 0.        , 0.16209756,\n",
              "        0.00345947],\n",
              "       [0.        , 0.        , 0.        , 0.42540111, 0.0968527 ,\n",
              "        0.01292127]])"
            ]
          },
          "metadata": {
            "tags": []
          },
          "execution_count": 125
        }
      ]
    },
    {
      "cell_type": "code",
      "metadata": {
        "id": "btT9qhmEXNsK",
        "outputId": "829c607b-e58e-4d39-be16-810ede2c215c",
        "colab": {
          "base_uri": "https://localhost:8080/"
        }
      },
      "source": [
        "x.shape"
      ],
      "execution_count": 126,
      "outputs": [
        {
          "output_type": "execute_result",
          "data": {
            "text/plain": [
              "(293, 6)"
            ]
          },
          "metadata": {
            "tags": []
          },
          "execution_count": 126
        }
      ]
    },
    {
      "cell_type": "code",
      "metadata": {
        "id": "-JcqLAGIXSIi",
        "outputId": "c0871d52-45ad-40a1-b0a0-cfb666b7aa7d",
        "colab": {
          "base_uri": "https://localhost:8080/"
        }
      },
      "source": [
        "celulas = 5 * np.sqrt(x.shape[0])\n",
        "celulas"
      ],
      "execution_count": 127,
      "outputs": [
        {
          "output_type": "execute_result",
          "data": {
            "text/plain": [
              "85.58621384311846"
            ]
          },
          "metadata": {
            "tags": []
          },
          "execution_count": 127
        }
      ]
    },
    {
      "cell_type": "code",
      "metadata": {
        "id": "jMEGQjS1XagC"
      },
      "source": [
        "som = MiniSom(x = 10,\n",
        "              y = 10,\n",
        "              sigma = 1.0,\n",
        "              input_len = 6,\n",
        "              learning_rate = 0.5,\n",
        "              random_seed = 0)\n",
        "\n",
        "som.random_weights_init(x);\n",
        "som.train_random(data = x, num_iteration = 1000);"
      ],
      "execution_count": 128,
      "outputs": []
    },
    {
      "cell_type": "code",
      "metadata": {
        "id": "WhynlIenYji0",
        "outputId": "4a56dd41-ae20-4014-9105-f3bb3a91817d",
        "colab": {
          "base_uri": "https://localhost:8080/",
          "height": 269
        }
      },
      "source": [
        "from pylab import pcolor, colorbar, plot\n",
        "pcolor(som.distance_map().T)\n",
        "colorbar();"
      ],
      "execution_count": 129,
      "outputs": [
        {
          "output_type": "display_data",
          "data": {
            "image/png": "[encoded data removed]",
            "text/plain": [
              "<Figure size 432x288 with 2 Axes>"
            ]
          },
          "metadata": {
            "tags": [],
            "needs_background": "light"
          }
        }
      ]
    },
    {
      "cell_type": "code",
      "metadata": {
        "id": "a6VF9AdlYtP1"
      },
      "source": [
        "# o = Bart\n",
        "# s = Homer\n",
        "markers = ['o', 's']\n",
        "colors = ['r', 'w']"
      ],
      "execution_count": 130,
      "outputs": []
    },
    {
      "cell_type": "code",
      "metadata": {
        "id": "8USbd8QGZFHA"
      },
      "source": [
        "y[y == 'Bart'] = 0 \n",
        "y[y == 'Homer'] = 1"
      ],
      "execution_count": 131,
      "outputs": []
    },
    {
      "cell_type": "code",
      "metadata": {
        "id": "m3VAXH5TY5VO",
        "outputId": "885baffa-c252-4576-b9e1-5eae1b02de0e",
        "colab": {
          "base_uri": "https://localhost:8080/",
          "height": 269
        }
      },
      "source": [
        "pcolor(som.distance_map().T)\n",
        "colorbar();\n",
        "for i, a in enumerate(x):\n",
        "  w = som.winner(a);\n",
        "  plot(w[0] + 0.5, w[1] + 0.5, markers[y[i]],\n",
        "       markerfacecolor = 'None', markersize = 10,\n",
        "       markeredgecolor = colors[y[i]], markeredgewidth = 2)"
      ],
      "execution_count": 132,
      "outputs": [
        {
          "output_type": "display_data",
          "data": {
            "image/png": "[encoded data removed]",
            "text/plain": [
              "<Figure size 432x288 with 2 Axes>"
            ]
          },
          "metadata": {
            "tags": [],
            "needs_background": "light"
          }
        }
      ]
    },
    {
      "cell_type": "code",
      "metadata": {
        "id": "2tQuo7oLY7oG"
      },
      "source": [
        "mapeamento = som.win_map(x)"
      ],
      "execution_count": 133,
      "outputs": []
    },
    {
      "cell_type": "code",
      "metadata": {
        "id": "jAGnJZibaAxx"
      },
      "source": [
        "outliers = np.concatenate((mapeamento[(1,5)],\n",
        "                            mapeamento[(2,6)], \n",
        "                            mapeamento[(2,7)], \n",
        "                            mapeamento[(3,8)]),\n",
        "                            axis = 0)"
      ],
      "execution_count": 134,
      "outputs": []
    },
    {
      "cell_type": "code",
      "metadata": {
        "id": "W0XQnSd1hXTJ",
        "outputId": "dc3e7629-9826-4bfd-ebdf-c39015e50cac",
        "colab": {
          "base_uri": "https://localhost:8080/"
        }
      },
      "source": [
        "outliers"
      ],
      "execution_count": 135,
      "outputs": [
        {
          "output_type": "execute_result",
          "data": {
            "text/plain": [
              "array([[0.24628644, 0.29074397, 0.59669812, 0.        , 0.        ,\n",
              "        0.00508127],\n",
              "       [0.1592819 , 0.10689034, 0.18816649, 0.22371571, 0.17791309,\n",
              "        0.01159674],\n",
              "       [0.09590155, 0.10205497, 0.30871385, 0.34922854, 0.11707464,\n",
              "        0.15722289],\n",
              "       [0.12829304, 0.05804886, 0.20653078, 0.30932884, 0.11576834,\n",
              "        0.13551393],\n",
              "       [0.12540179, 0.04827534, 0.        , 0.31891756, 0.1561832 ,\n",
              "        0.42948373],\n",
              "       [0.        , 0.        , 0.        , 0.66583748, 0.34705933,\n",
              "        1.        ]])"
            ]
          },
          "metadata": {
            "tags": []
          },
          "execution_count": 135
        }
      ]
    },
    {
      "cell_type": "code",
      "metadata": {
        "id": "en-bZjhnaRtp"
      },
      "source": [
        "outliers = scaler.inverse_transform(outliers)"
      ],
      "execution_count": 136,
      "outputs": []
    },
    {
      "cell_type": "code",
      "metadata": {
        "id": "OGaSa8OLfKN6",
        "outputId": "673a7309-fc3f-4043-b96c-e652a5bdfccd",
        "colab": {
          "base_uri": "https://localhost:8080/",
          "height": 204
        }
      },
      "source": [
        "base.loc[base.classe == 0, 'classe'] = 'Bart'\n",
        "base.loc[base.classe == 1, 'classe'] = 'Homer'\n",
        "base.head()"
      ],
      "execution_count": 137,
      "outputs": [
        {
          "output_type": "execute_result",
          "data": {
            "text/html": [
              "<div>\n",
              "<style scoped>\n",
              "    .dataframe tbody tr th:only-of-type {\n",
              "        vertical-align: middle;\n",
              "    }\n",
              "\n",
              "    .dataframe tbody tr th {\n",
              "        vertical-align: top;\n",
              "    }\n",
              "\n",
              "    .dataframe thead th {\n",
              "        text-align: right;\n",
              "    }\n",
              "</style>\n",
              "<table border=\"1\" class=\"dataframe\">\n",
              "  <thead>\n",
              "    <tr style=\"text-align: right;\">\n",
              "      <th></th>\n",
              "      <th>laranja_camisa_bart</th>\n",
              "      <th>azul_calcao_bart</th>\n",
              "      <th>azul_sapato_bart</th>\n",
              "      <th>marrom_boca_homer</th>\n",
              "      <th>azul_calca_homer</th>\n",
              "      <th>cinza_sapato_homer</th>\n",
              "      <th>classe</th>\n",
              "    </tr>\n",
              "  </thead>\n",
              "  <tbody>\n",
              "    <tr>\n",
              "      <th>0</th>\n",
              "      <td>6.886102</td>\n",
              "      <td>3.495204</td>\n",
              "      <td>1.484984</td>\n",
              "      <td>0.000000</td>\n",
              "      <td>0.0</td>\n",
              "      <td>0.062954</td>\n",
              "      <td>Bart</td>\n",
              "    </tr>\n",
              "    <tr>\n",
              "      <th>1</th>\n",
              "      <td>5.004901</td>\n",
              "      <td>3.183889</td>\n",
              "      <td>1.000142</td>\n",
              "      <td>0.000000</td>\n",
              "      <td>0.0</td>\n",
              "      <td>0.033024</td>\n",
              "      <td>Bart</td>\n",
              "    </tr>\n",
              "    <tr>\n",
              "      <th>2</th>\n",
              "      <td>5.264620</td>\n",
              "      <td>5.029683</td>\n",
              "      <td>0.283567</td>\n",
              "      <td>0.000000</td>\n",
              "      <td>0.0</td>\n",
              "      <td>0.151573</td>\n",
              "      <td>Bart</td>\n",
              "    </tr>\n",
              "    <tr>\n",
              "      <th>3</th>\n",
              "      <td>0.000000</td>\n",
              "      <td>0.000000</td>\n",
              "      <td>0.000000</td>\n",
              "      <td>0.480168</td>\n",
              "      <td>0.0</td>\n",
              "      <td>0.021164</td>\n",
              "      <td>Bart</td>\n",
              "    </tr>\n",
              "    <tr>\n",
              "      <th>4</th>\n",
              "      <td>8.978929</td>\n",
              "      <td>3.459119</td>\n",
              "      <td>0.000000</td>\n",
              "      <td>0.000000</td>\n",
              "      <td>0.0</td>\n",
              "      <td>0.011593</td>\n",
              "      <td>Bart</td>\n",
              "    </tr>\n",
              "  </tbody>\n",
              "</table>\n",
              "</div>"
            ],
            "text/plain": [
              "   laranja_camisa_bart  azul_calcao_bart  ...  cinza_sapato_homer  classe\n",
              "0             6.886102          3.495204  ...            0.062954    Bart\n",
              "1             5.004901          3.183889  ...            0.033024    Bart\n",
              "2             5.264620          5.029683  ...            0.151573    Bart\n",
              "3             0.000000          0.000000  ...            0.021164    Bart\n",
              "4             8.978929          3.459119  ...            0.011593    Bart\n",
              "\n",
              "[5 rows x 7 columns]"
            ]
          },
          "metadata": {
            "tags": []
          },
          "execution_count": 137
        }
      ]
    },
    {
      "cell_type": "code",
      "metadata": {
        "id": "wiXMoRKycMM1",
        "outputId": "99c678f4-3c6a-45e8-fcca-1696ec5dd809",
        "colab": {
          "base_uri": "https://localhost:8080/"
        }
      },
      "source": [
        "classe = []\n",
        "\n",
        "for i in range(len(base)):\n",
        "  for j in range(len(outliers)):\n",
        "    if int(round(base.iloc[i, 0])) == int(round(outliers[j, 0])) and int(round(base.iloc[i, 1])) == int(round(outliers[j, 1])) and int(round(base.iloc[i, 2])) == int(round(outliers[j, 2])) and int(round(base.iloc[i, 3])) == int(round(outliers[j, 3])) and int(round(base.iloc[i, 4])) == int(round(outliers[j, 4])) and int(round(base.iloc[i, 5])) == int(round(outliers[j, 5])):\n",
        "      classe.append(base.iloc[i, 6]);\n",
        "\n",
        "classe = np.asarray(classe)\n",
        "classe"
      ],
      "execution_count": 138,
      "outputs": [
        {
          "output_type": "execute_result",
          "data": {
            "text/plain": [
              "array(['Bart', 'Homer', 'Homer', 'Homer', 'Homer', 'Homer'], dtype='<U5')"
            ]
          },
          "metadata": {
            "tags": []
          },
          "execution_count": 138
        }
      ]
    },
    {
      "cell_type": "code",
      "metadata": {
        "id": "9TWHlo-6gkSm",
        "outputId": "42c32551-d89d-4f34-d983-ce0bc62b4ba7",
        "colab": {
          "base_uri": "https://localhost:8080/"
        }
      },
      "source": [
        "outliers"
      ],
      "execution_count": 139,
      "outputs": [
        {
          "output_type": "execute_result",
          "data": {
            "text/plain": [
              "array([[ 4.8137627 ,  5.1552854 ,  2.7606797 ,  0.        ,  0.        ,\n",
              "         0.02498948],\n",
              "       [ 3.1132257 ,  1.8953109 ,  0.8705699 ,  7.2280116 ,  1.5685711 ,\n",
              "         0.05703226],\n",
              "       [ 1.8744326 ,  1.8095732 ,  1.4282935 , 11.283195  ,  1.0321888 ,\n",
              "         0.773215  ],\n",
              "       [ 2.5075366 ,  1.0292852 ,  0.955534  ,  9.994079  ,  1.0206718 ,\n",
              "         0.66645133],\n",
              "       [ 2.451026  ,  0.85598725,  0.        , 10.30388   ,  1.3769895 ,\n",
              "         2.1121814 ],\n",
              "       [ 0.        ,  0.        ,  0.        , 21.512486  ,  3.0598493 ,\n",
              "         4.9179544 ]])"
            ]
          },
          "metadata": {
            "tags": []
          },
          "execution_count": 139
        }
      ]
    },
    {
      "cell_type": "code",
      "metadata": {
        "id": "pp2ADscQeQA6"
      },
      "source": [
        "outliers_final = np.column_stack((outliers, classe))"
      ],
      "execution_count": 142,
      "outputs": []
    },
    {
      "cell_type": "code",
      "metadata": {
        "id": "bMifrFGMggTW",
        "outputId": "583aaa18-fbdb-409a-ea5d-3a8476b5d511",
        "colab": {
          "base_uri": "https://localhost:8080/",
          "height": 235
        }
      },
      "source": [
        "outliers_final = pd.DataFrame(data = outliers_final, columns = ['laranja_camisa_bart', \n",
        "                                                      'azul_calcao_bart', \n",
        "                                                      'azul_sapato_bart', \n",
        "                                                      'marrom_boca_homer', \n",
        "                                                      'azul_calca_homer', \n",
        "                                                      'cinza_sapato_homer',\n",
        "                                                      'classe'])\n",
        "outliers_final.head(10)"
      ],
      "execution_count": 143,
      "outputs": [
        {
          "output_type": "execute_result",
          "data": {
            "text/html": [
              "<div>\n",
              "<style scoped>\n",
              "    .dataframe tbody tr th:only-of-type {\n",
              "        vertical-align: middle;\n",
              "    }\n",
              "\n",
              "    .dataframe tbody tr th {\n",
              "        vertical-align: top;\n",
              "    }\n",
              "\n",
              "    .dataframe thead th {\n",
              "        text-align: right;\n",
              "    }\n",
              "</style>\n",
              "<table border=\"1\" class=\"dataframe\">\n",
              "  <thead>\n",
              "    <tr style=\"text-align: right;\">\n",
              "      <th></th>\n",
              "      <th>laranja_camisa_bart</th>\n",
              "      <th>azul_calcao_bart</th>\n",
              "      <th>azul_sapato_bart</th>\n",
              "      <th>marrom_boca_homer</th>\n",
              "      <th>azul_calca_homer</th>\n",
              "      <th>cinza_sapato_homer</th>\n",
              "      <th>classe</th>\n",
              "    </tr>\n",
              "  </thead>\n",
              "  <tbody>\n",
              "    <tr>\n",
              "      <th>0</th>\n",
              "      <td>4.8137627</td>\n",
              "      <td>5.1552854</td>\n",
              "      <td>2.7606797000000007</td>\n",
              "      <td>0.0</td>\n",
              "      <td>0.0</td>\n",
              "      <td>0.024989476</td>\n",
              "      <td>Bart</td>\n",
              "    </tr>\n",
              "    <tr>\n",
              "      <th>1</th>\n",
              "      <td>3.1132257</td>\n",
              "      <td>1.8953109000000001</td>\n",
              "      <td>0.8705699</td>\n",
              "      <td>7.228011599999999</td>\n",
              "      <td>1.5685711000000002</td>\n",
              "      <td>0.05703226</td>\n",
              "      <td>Homer</td>\n",
              "    </tr>\n",
              "    <tr>\n",
              "      <th>2</th>\n",
              "      <td>1.8744326</td>\n",
              "      <td>1.8095732</td>\n",
              "      <td>1.4282934999999997</td>\n",
              "      <td>11.283195</td>\n",
              "      <td>1.0321888000000001</td>\n",
              "      <td>0.7732150000000001</td>\n",
              "      <td>Homer</td>\n",
              "    </tr>\n",
              "    <tr>\n",
              "      <th>3</th>\n",
              "      <td>2.5075366000000003</td>\n",
              "      <td>1.0292852</td>\n",
              "      <td>0.955534</td>\n",
              "      <td>9.994079</td>\n",
              "      <td>1.0206718000000001</td>\n",
              "      <td>0.66645133</td>\n",
              "      <td>Homer</td>\n",
              "    </tr>\n",
              "    <tr>\n",
              "      <th>4</th>\n",
              "      <td>2.4510259999999997</td>\n",
              "      <td>0.85598725</td>\n",
              "      <td>0.0</td>\n",
              "      <td>10.30388</td>\n",
              "      <td>1.3769895</td>\n",
              "      <td>2.1121814</td>\n",
              "      <td>Homer</td>\n",
              "    </tr>\n",
              "    <tr>\n",
              "      <th>5</th>\n",
              "      <td>0.0</td>\n",
              "      <td>0.0</td>\n",
              "      <td>0.0</td>\n",
              "      <td>21.512486</td>\n",
              "      <td>3.0598492999999998</td>\n",
              "      <td>4.9179544</td>\n",
              "      <td>Homer</td>\n",
              "    </tr>\n",
              "  </tbody>\n",
              "</table>\n",
              "</div>"
            ],
            "text/plain": [
              "  laranja_camisa_bart    azul_calcao_bart  ...  cinza_sapato_homer classe\n",
              "0           4.8137627           5.1552854  ...         0.024989476   Bart\n",
              "1           3.1132257  1.8953109000000001  ...          0.05703226  Homer\n",
              "2           1.8744326           1.8095732  ...  0.7732150000000001  Homer\n",
              "3  2.5075366000000003           1.0292852  ...          0.66645133  Homer\n",
              "4  2.4510259999999997          0.85598725  ...           2.1121814  Homer\n",
              "5                 0.0                 0.0  ...           4.9179544  Homer\n",
              "\n",
              "[6 rows x 7 columns]"
            ]
          },
          "metadata": {
            "tags": []
          },
          "execution_count": 143
        }
      ]
    },
    {
      "cell_type": "code",
      "metadata": {
        "id": "hlb_8Hudi1pg"
      },
      "source": [
        ""
      ],
      "execution_count": null,
      "outputs": []
    }
  ]
}