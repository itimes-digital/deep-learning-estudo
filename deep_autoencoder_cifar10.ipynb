{
  "nbformat": 4,
  "nbformat_minor": 0,
  "metadata": {
    "colab": {
      "name": "deep_autoencoder_cifar10.ipynb",
      "provenance": [],
      "authorship_tag": "ABX9TyMqnoLZ84sVpu7syMl7Txwf",
      "include_colab_link": true
    },
    "kernelspec": {
      "name": "python3",
      "display_name": "Python 3"
    }
  },
  "cells": [
    {
      "cell_type": "markdown",
      "metadata": {
        "id": "view-in-github",
        "colab_type": "text"
      },
      "source": [
        "<a href=\"https://colab.research.google.com/github/itimes-digital/deep-learning-estudo/blob/main/deep_autoencoder_cifar10.ipynb\" target=\"_parent\"><img src=\"https://colab.research.google.com/assets/colab-badge.svg\" alt=\"Open In Colab\"/></a>"
      ]
    },
    {
      "cell_type": "code",
      "metadata": {
        "id": "AEPYe_IvcGgk"
      },
      "source": [
        "import pandas as pd\r\n",
        "import numpy as np\r\n",
        "from keras.models import Model, Sequential\r\n",
        "from keras.datasets import cifar10\r\n",
        "import matplotlib.pyplot as plt\r\n",
        "from keras.layers import Input, Dense\r\n",
        "from sklearn.preprocessing import MinMaxScaler"
      ],
      "execution_count": 74,
      "outputs": []
    },
    {
      "cell_type": "code",
      "metadata": {
        "id": "us8QZK7KEEMu",
        "outputId": "5feda491-3a7c-4058-8aa9-15266a218280",
        "colab": {
          "base_uri": "https://localhost:8080/"
        }
      },
      "source": [
        "(x_train, _), (x_test, _) = cifar10.load_data()\r\n",
        "x_train.shape, x_test.shape"
      ],
      "execution_count": 79,
      "outputs": [
        {
          "output_type": "execute_result",
          "data": {
            "text/plain": [
              "((50000, 32, 32, 3), (10000, 32, 32, 3))"
            ]
          },
          "metadata": {
            "tags": []
          },
          "execution_count": 79
        }
      ]
    },
    {
      "cell_type": "code",
      "metadata": {
        "id": "pEPlLVV9a-jZ",
        "outputId": "b2134dc6-ad0d-4065-c276-2cf889cecdf9",
        "colab": {
          "base_uri": "https://localhost:8080/"
        }
      },
      "source": [
        "x_train[0][0][0]"
      ],
      "execution_count": 83,
      "outputs": [
        {
          "output_type": "execute_result",
          "data": {
            "text/plain": [
              "array([59, 62, 63], dtype=uint8)"
            ]
          },
          "metadata": {
            "tags": []
          },
          "execution_count": 83
        }
      ]
    },
    {
      "cell_type": "code",
      "metadata": {
        "id": "XuqadIsdbIQu",
        "outputId": "4733bdfd-7884-405b-e3f8-5303e2d7377a",
        "colab": {
          "base_uri": "https://localhost:8080/"
        }
      },
      "source": [
        "x_test[0][0][0]"
      ],
      "execution_count": 84,
      "outputs": [
        {
          "output_type": "execute_result",
          "data": {
            "text/plain": [
              "array([158, 112,  49], dtype=uint8)"
            ]
          },
          "metadata": {
            "tags": []
          },
          "execution_count": 84
        }
      ]
    },
    {
      "cell_type": "markdown",
      "metadata": {
        "id": "saIxI157Ei8c"
      },
      "source": [
        "## Normalização dos dados"
      ]
    },
    {
      "cell_type": "code",
      "metadata": {
        "id": "V5a-NBrBETY2"
      },
      "source": [
        "x_train = x_train.astype('float32') / 255\r\n",
        "x_test = x_test.astype('float32') / 255"
      ],
      "execution_count": 85,
      "outputs": []
    },
    {
      "cell_type": "code",
      "metadata": {
        "id": "CRoM6D0vbPIH",
        "outputId": "db61b00a-26b7-426c-ca25-ded5b4d3b0f9",
        "colab": {
          "base_uri": "https://localhost:8080/"
        }
      },
      "source": [
        "x_train[0][0][0]"
      ],
      "execution_count": 86,
      "outputs": [
        {
          "output_type": "execute_result",
          "data": {
            "text/plain": [
              "array([0.23137255, 0.24313726, 0.24705882], dtype=float32)"
            ]
          },
          "metadata": {
            "tags": []
          },
          "execution_count": 86
        }
      ]
    },
    {
      "cell_type": "code",
      "metadata": {
        "id": "HMo95oFKbR0K",
        "outputId": "427f3554-a65f-4e9c-dd1e-a6a13362509e",
        "colab": {
          "base_uri": "https://localhost:8080/"
        }
      },
      "source": [
        "x_test[0][0][0]"
      ],
      "execution_count": 87,
      "outputs": [
        {
          "output_type": "execute_result",
          "data": {
            "text/plain": [
              "array([0.61960787, 0.4392157 , 0.19215687], dtype=float32)"
            ]
          },
          "metadata": {
            "tags": []
          },
          "execution_count": 87
        }
      ]
    },
    {
      "cell_type": "code",
      "metadata": {
        "id": "2WkXzJaeFjL-",
        "outputId": "6b81a8b3-c7b0-459d-b00d-b10f6ee9cdfe",
        "colab": {
          "base_uri": "https://localhost:8080/"
        }
      },
      "source": [
        "x_train.shape, x_test.shape"
      ],
      "execution_count": 88,
      "outputs": [
        {
          "output_type": "execute_result",
          "data": {
            "text/plain": [
              "((50000, 32, 32, 3), (10000, 32, 32, 3))"
            ]
          },
          "metadata": {
            "tags": []
          },
          "execution_count": 88
        }
      ]
    },
    {
      "cell_type": "code",
      "metadata": {
        "id": "_Ww9FGAbKCGF",
        "outputId": "96edf75c-2d02-410f-c12a-70180c080b0e",
        "colab": {
          "base_uri": "https://localhost:8080/"
        }
      },
      "source": [
        "entradas = (32 * 32 * 3)\r\n",
        "entradas"
      ],
      "execution_count": 89,
      "outputs": [
        {
          "output_type": "execute_result",
          "data": {
            "text/plain": [
              "3072"
            ]
          },
          "metadata": {
            "tags": []
          },
          "execution_count": 89
        }
      ]
    },
    {
      "cell_type": "code",
      "metadata": {
        "id": "w2DOJ65qExk9",
        "outputId": "728d246d-6f33-4e36-84d1-7e00f9e390ca",
        "colab": {
          "base_uri": "https://localhost:8080/"
        }
      },
      "source": [
        "x_train = x_train.reshape(x_train.shape[0], entradas)\r\n",
        "x_test = x_test.reshape(x_test.shape[0], entradas)\r\n",
        "x_train.shape, x_test.shape"
      ],
      "execution_count": 90,
      "outputs": [
        {
          "output_type": "execute_result",
          "data": {
            "text/plain": [
              "((50000, 3072), (10000, 3072))"
            ]
          },
          "metadata": {
            "tags": []
          },
          "execution_count": 90
        }
      ]
    },
    {
      "cell_type": "code",
      "metadata": {
        "id": "SvWx9h8tFYt1"
      },
      "source": [
        "model = Sequential()"
      ],
      "execution_count": 91,
      "outputs": []
    },
    {
      "cell_type": "markdown",
      "metadata": {
        "id": "-0CrdUT3HeSp"
      },
      "source": [
        "### Encoder"
      ]
    },
    {
      "cell_type": "code",
      "metadata": {
        "id": "4tVVQcs_HjVh"
      },
      "source": [
        "model.add(Dense(units = 256, activation = 'relu', input_dim = entradas))\r\n",
        "model.add(Dense(units = 128, activation = 'relu'))\r\n",
        "model.add(Dense(units = 64, activation = 'relu'))\r\n",
        "model.add(Dense(units = 32, activation = 'relu'))"
      ],
      "execution_count": 60,
      "outputs": []
    },
    {
      "cell_type": "markdown",
      "metadata": {
        "id": "yyfJXe4OIJU6"
      },
      "source": [
        "### Decoder"
      ]
    },
    {
      "cell_type": "code",
      "metadata": {
        "id": "iOotr_L1II2R"
      },
      "source": [
        "model.add(Dense(units = 64, activation = 'relu'))\r\n",
        "model.add(Dense(units = 128, activation = 'relu'))\r\n",
        "model.add(Dense(units = 256, activation = 'relu'))\r\n",
        "model.add(Dense(units = entradas, activation = 'sigmoid'))"
      ],
      "execution_count": 61,
      "outputs": []
    },
    {
      "cell_type": "code",
      "metadata": {
        "id": "uG4vZwFEIhSC",
        "outputId": "a9a6e744-4be8-48d5-8d2a-f6c82400a92f",
        "colab": {
          "base_uri": "https://localhost:8080/"
        }
      },
      "source": [
        "model.summary()"
      ],
      "execution_count": 62,
      "outputs": [
        {
          "output_type": "stream",
          "text": [
            "Model: \"sequential_2\"\n",
            "_________________________________________________________________\n",
            "Layer (type)                 Output Shape              Param #   \n",
            "=================================================================\n",
            "dense_12 (Dense)             (None, 128)               393344    \n",
            "_________________________________________________________________\n",
            "dense_13 (Dense)             (None, 64)                8256      \n",
            "_________________________________________________________________\n",
            "dense_14 (Dense)             (None, 32)                2080      \n",
            "_________________________________________________________________\n",
            "dense_15 (Dense)             (None, 64)                2112      \n",
            "_________________________________________________________________\n",
            "dense_16 (Dense)             (None, 128)               8320      \n",
            "_________________________________________________________________\n",
            "dense_17 (Dense)             (None, 3072)              396288    \n",
            "=================================================================\n",
            "Total params: 810,400\n",
            "Trainable params: 810,400\n",
            "Non-trainable params: 0\n",
            "_________________________________________________________________\n"
          ],
          "name": "stdout"
        }
      ]
    },
    {
      "cell_type": "code",
      "metadata": {
        "id": "Kr78m_Q3Iksb"
      },
      "source": [
        "model.compile(optimizer = 'adam', loss = 'binary_crossentropy',\r\n",
        "              metrics = ['accuracy'])"
      ],
      "execution_count": 63,
      "outputs": []
    },
    {
      "cell_type": "code",
      "metadata": {
        "id": "wnks-gT8I1IB"
      },
      "source": [
        "history_ = model.fit(x_train, x_train,\r\n",
        "                     epochs = 100, batch_size = 256,\r\n",
        "                     validation_data = (x_test, x_test))"
      ],
      "execution_count": null,
      "outputs": []
    },
    {
      "cell_type": "code",
      "metadata": {
        "id": "VZI0dcpcJELj",
        "outputId": "a26a1d43-5206-42f5-c4ee-59a981940092",
        "colab": {
          "base_uri": "https://localhost:8080/"
        }
      },
      "source": [
        "np.mean(history_.history['accuracy'])"
      ],
      "execution_count": 65,
      "outputs": [
        {
          "output_type": "execute_result",
          "data": {
            "text/plain": [
              "0.019649799477920168"
            ]
          },
          "metadata": {
            "tags": []
          },
          "execution_count": 65
        }
      ]
    },
    {
      "cell_type": "code",
      "metadata": {
        "id": "auuxWl4gaHiV",
        "outputId": "13555218-e017-4c82-fb17-445b2bf6fe70",
        "colab": {
          "base_uri": "https://localhost:8080/"
        }
      },
      "source": [
        "np.mean(history_.history['val_accuracy'])"
      ],
      "execution_count": 71,
      "outputs": [
        {
          "output_type": "execute_result",
          "data": {
            "text/plain": [
              "0.02010199988297245"
            ]
          },
          "metadata": {
            "tags": []
          },
          "execution_count": 71
        }
      ]
    },
    {
      "cell_type": "code",
      "metadata": {
        "id": "A2Hwyen_L92v"
      },
      "source": [
        "dimensao_original = Input(shape = (entradas, ))\r\n",
        "camada_encoder0 = model.layers[0]\r\n",
        "camada_encoder1 = model.layers[1]\r\n",
        "camada_encoder2 = model.layers[2]\r\n",
        "camada_encoder3 = model.layers[3]"
      ],
      "execution_count": 66,
      "outputs": []
    },
    {
      "cell_type": "code",
      "metadata": {
        "id": "RLpB0nSMMXMy",
        "outputId": "4fe15e0b-b1c8-45a1-b085-3868c6008a7b",
        "colab": {
          "base_uri": "https://localhost:8080/"
        }
      },
      "source": [
        "encoder = Model(dimensao_original,\r\n",
        "                camada_encoder3(camada_encoder2(camada_encoder1(camada_encoder0(dimensao_original)))))\r\n",
        "\r\n",
        "encoder.summary()"
      ],
      "execution_count": 67,
      "outputs": [
        {
          "output_type": "stream",
          "text": [
            "Model: \"functional_5\"\n",
            "_________________________________________________________________\n",
            "Layer (type)                 Output Shape              Param #   \n",
            "=================================================================\n",
            "input_3 (InputLayer)         [(None, 3072)]            0         \n",
            "_________________________________________________________________\n",
            "dense_12 (Dense)             (None, 128)               393344    \n",
            "_________________________________________________________________\n",
            "dense_13 (Dense)             (None, 64)                8256      \n",
            "_________________________________________________________________\n",
            "dense_14 (Dense)             (None, 32)                2080      \n",
            "=================================================================\n",
            "Total params: 403,680\n",
            "Trainable params: 403,680\n",
            "Non-trainable params: 0\n",
            "_________________________________________________________________\n"
          ],
          "name": "stdout"
        }
      ]
    },
    {
      "cell_type": "code",
      "metadata": {
        "id": "2cDMJ_DiMpF7",
        "outputId": "8e4a1acf-a7bf-419e-e4a8-f488f96a58fa",
        "colab": {
          "base_uri": "https://localhost:8080/"
        }
      },
      "source": [
        "imagens_codificadas = encoder.predict(x_test)\r\n",
        "imagens_decodificadas = model.predict(x_test)\r\n",
        "imagens_codificadas.shape, imagens_decodificadas.shape"
      ],
      "execution_count": 68,
      "outputs": [
        {
          "output_type": "execute_result",
          "data": {
            "text/plain": [
              "((10000, 32), (10000, 3072))"
            ]
          },
          "metadata": {
            "tags": []
          },
          "execution_count": 68
        }
      ]
    },
    {
      "cell_type": "code",
      "metadata": {
        "id": "tgYkcU4hM8gr",
        "outputId": "579d1439-97a8-4d0a-a169-e0484a8c5205",
        "colab": {
          "base_uri": "https://localhost:8080/"
        }
      },
      "source": [
        "numero_imagens = 10\r\n",
        "imagens_teste = np.random.randint(x_test.shape[0], size = numero_imagens)\r\n",
        "imagens_teste.shape"
      ],
      "execution_count": 69,
      "outputs": [
        {
          "output_type": "execute_result",
          "data": {
            "text/plain": [
              "(10,)"
            ]
          },
          "metadata": {
            "tags": []
          },
          "execution_count": 69
        }
      ]
    },
    {
      "cell_type": "code",
      "metadata": {
        "id": "a5njgf1FNOz0",
        "outputId": "0c558c51-8eae-48f4-ef1a-a0a1f3e96446",
        "colab": {
          "base_uri": "https://localhost:8080/",
          "height": 671
        }
      },
      "source": [
        "plt.figure(figsize = (20,20))\r\n",
        "\r\n",
        "for i, indice_imagem in enumerate(imagens_teste):\r\n",
        "  #Imagem original\r\n",
        "  eixo = plt.subplot(10,10, i + 1)\r\n",
        "  plt.imshow(x_test[indice_imagem].reshape(32,32,3))\r\n",
        "  plt.xticks(())\r\n",
        "  plt.yticks(())\r\n",
        "\r\n",
        "  #Imagem codificada\r\n",
        "  eixo = plt.subplot(10,10, i + 1 + numero_imagens)\r\n",
        "  a = np.expand_dims(imagens_decodificadas[indice_imagem], axis = 0)\r\n",
        "  plt.imshow(a)\r\n",
        "  plt.xticks(())\r\n",
        "  plt.yticks(())\r\n",
        "\r\n",
        "  #Imagem reconstruída\r\n",
        "  eixo = plt.subplot(10,10, i + 1 + numero_imagens * 2)\r\n",
        "  plt.imshow(imagens_decodificadas[indice_imagem].reshape(32,32,3))\r\n",
        "  plt.xticks(())\r\n",
        "  plt.yticks(())"
      ],
      "execution_count": 70,
      "outputs": [
        {
          "output_type": "stream",
          "text": [
            "Clipping input data to the valid range for imshow with RGB data ([0..1] for floats or [0..255] for integers).\n",
            "Clipping input data to the valid range for imshow with RGB data ([0..1] for floats or [0..255] for integers).\n",
            "Clipping input data to the valid range for imshow with RGB data ([0..1] for floats or [0..255] for integers).\n",
            "Clipping input data to the valid range for imshow with RGB data ([0..1] for floats or [0..255] for integers).\n",
            "Clipping input data to the valid range for imshow with RGB data ([0..1] for floats or [0..255] for integers).\n",
            "Clipping input data to the valid range for imshow with RGB data ([0..1] for floats or [0..255] for integers).\n",
            "Clipping input data to the valid range for imshow with RGB data ([0..1] for floats or [0..255] for integers).\n",
            "Clipping input data to the valid range for imshow with RGB data ([0..1] for floats or [0..255] for integers).\n",
            "Clipping input data to the valid range for imshow with RGB data ([0..1] for floats or [0..255] for integers).\n",
            "Clipping input data to the valid range for imshow with RGB data ([0..1] for floats or [0..255] for integers).\n",
            "/usr/local/lib/python3.6/dist-packages/matplotlib/image.py:452: UserWarning: Warning: converting a masked element to nan.\n",
            "  dv = np.float64(self.norm.vmax) - np.float64(self.norm.vmin)\n",
            "/usr/local/lib/python3.6/dist-packages/matplotlib/image.py:459: UserWarning: Warning: converting a masked element to nan.\n",
            "  a_min = np.float64(newmin)\n",
            "/usr/local/lib/python3.6/dist-packages/matplotlib/image.py:464: UserWarning: Warning: converting a masked element to nan.\n",
            "  a_max = np.float64(newmax)\n",
            "<string>:6: UserWarning: Warning: converting a masked element to nan.\n",
            "/usr/local/lib/python3.6/dist-packages/numpy/core/_asarray.py:85: UserWarning: Warning: converting a masked element to nan.\n",
            "  return array(a, dtype, copy=False, order=order)\n"
          ],
          "name": "stderr"
        },
        {
          "output_type": "display_data",
          "data": {
            "image/png": "[encoded data removed]",
            "text/plain": [
              "<Figure size 1440x1440 with 30 Axes>"
            ]
          },
          "metadata": {
            "tags": []
          }
        }
      ]
    },
    {
      "cell_type": "code",
      "metadata": {
        "id": "tAw6TrT8OiBc"
      },
      "source": [
        ""
      ],
      "execution_count": null,
      "outputs": []
    }
  ]
}