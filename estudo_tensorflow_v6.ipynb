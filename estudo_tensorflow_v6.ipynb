{
  "nbformat": 4,
  "nbformat_minor": 0,
  "metadata": {
    "colab": {
      "name": "estudo_tensorflow_v6.ipynb",
      "provenance": [],
      "authorship_tag": "ABX9TyOhkTMLOJRgdI5Pv5qtnNH6",
      "include_colab_link": true
    },
    "kernelspec": {
      "name": "python3",
      "display_name": "Python 3"
    }
  },
  "cells": [
    {
      "cell_type": "markdown",
      "metadata": {
        "id": "view-in-github",
        "colab_type": "text"
      },
      "source": [
        "<a href=\"https://colab.research.google.com/github/itimes-digital/deep-learning-estudo/blob/main/estudo_tensorflow_v6.ipynb\" target=\"_parent\"><img src=\"https://colab.research.google.com/assets/colab-badge.svg\" alt=\"Open In Colab\"/></a>"
      ]
    },
    {
      "cell_type": "code",
      "metadata": {
        "id": "VG8fDS47h6Ir"
      },
      "source": [
        "import tensorflow as tf"
      ],
      "execution_count": 2,
      "outputs": []
    },
    {
      "cell_type": "code",
      "metadata": {
        "id": "7_-pQbVRijYU"
      },
      "source": [
        "!pip install tensorflow==1.14\r\n",
        "!pip install tensorflow"
      ],
      "execution_count": null,
      "outputs": []
    },
    {
      "cell_type": "code",
      "metadata": {
        "id": "DOI6hH8Yoz1z"
      },
      "source": [
        "# Ao usar None, não é definido uma dimensão, portanto, mais flexível\r\n",
        "p = tf.placeholder('float', None)"
      ],
      "execution_count": 27,
      "outputs": []
    },
    {
      "cell_type": "code",
      "metadata": {
        "id": "bDV0lyxKrD-q"
      },
      "source": [
        "operacao = p + 2"
      ],
      "execution_count": 28,
      "outputs": []
    },
    {
      "cell_type": "code",
      "metadata": {
        "colab": {
          "base_uri": "https://localhost:8080/"
        },
        "id": "XPKvO6GyrGbF",
        "outputId": "d6f4f986-17f6-4f76-ba3f-7fdfc39764ac"
      },
      "source": [
        "with tf.Session() as sess:\r\n",
        "    resultado = sess.run(operacao, feed_dict = {p: [5, 3]})\r\n",
        "    print(resultado)"
      ],
      "execution_count": 29,
      "outputs": [
        {
          "output_type": "stream",
          "text": [
            "[7. 5.]\n"
          ],
          "name": "stdout"
        }
      ]
    },
    {
      "cell_type": "code",
      "metadata": {
        "id": "wYo9ifLdrS75"
      },
      "source": [
        "p2 = tf.placeholder('float', [2, 5])\r\n",
        "# Pode ser assim também: p2 = tf.placeholder('float', [None, 5])\r\n",
        "\r\n",
        "operacao2 = p2 * 4 "
      ],
      "execution_count": 49,
      "outputs": []
    },
    {
      "cell_type": "code",
      "metadata": {
        "colab": {
          "base_uri": "https://localhost:8080/"
        },
        "id": "2yVsp9dPsnEE",
        "outputId": "5612189c-ecf1-4c5e-b106-0fd639c59fff"
      },
      "source": [
        "with tf.Session() as sess:\r\n",
        "    dados = [[1,2,3,4,5], [6,7,8,9,10]]\r\n",
        "    print(sess.run(operacao2, feed_dict = {p2: dados}))"
      ],
      "execution_count": 50,
      "outputs": [
        {
          "output_type": "stream",
          "text": [
            "[[ 4.  8. 12. 16. 20.]\n",
            " [24. 28. 32. 36. 40.]]\n"
          ],
          "name": "stdout"
        }
      ]
    },
    {
      "cell_type": "code",
      "metadata": {
        "id": "46RlgBhmtC6i"
      },
      "source": [
        ""
      ],
      "execution_count": null,
      "outputs": []
    }
  ]
}