{
  "nbformat": 4,
  "nbformat_minor": 0,
  "metadata": {
    "colab": {
      "name": "serie_temporal_mult_previsores.ipynb",
      "provenance": [],
      "authorship_tag": "ABX9TyNQ3JjS+IxpSOQqzqrznuxO",
      "include_colab_link": true
    },
    "kernelspec": {
      "name": "python3",
      "display_name": "Python 3"
    }
  },
  "cells": [
    {
      "cell_type": "markdown",
      "metadata": {
        "id": "view-in-github",
        "colab_type": "text"
      },
      "source": [
        "<a href=\"https://colab.research.google.com/github/itimes-digital/deep-learning-estudo/blob/main/serie_temporal_mult_previsores.ipynb\" target=\"_parent\"><img src=\"https://colab.research.google.com/assets/colab-badge.svg\" alt=\"Open In Colab\"/></a>"
      ]
    },
    {
      "cell_type": "code",
      "metadata": {
        "id": "zyB4wd736uk6"
      },
      "source": [
        "from keras.models import Sequential\n",
        "from keras.layers import Dense, Dropout, LSTM\n",
        "from sklearn.preprocessing import MinMaxScaler\n",
        "import numpy as np\n",
        "import pandas as pd\n",
        "import matplotlib.pyplot as plt"
      ],
      "execution_count": 2,
      "outputs": []
    },
    {
      "cell_type": "code",
      "metadata": {
        "id": "VCuiE_eO7yZG",
        "outputId": "fa3b11ee-b847-457a-89b7-eb28af65b732",
        "colab": {
          "base_uri": "https://localhost:8080/",
          "height": 204
        }
      },
      "source": [
        "base = pd.read_csv('https://raw.githubusercontent.com/itimes-digital/deep-learning-estudo/main/dataset/petr4_treinamento.csv')\n",
        "base.head()"
      ],
      "execution_count": 3,
      "outputs": [
        {
          "output_type": "execute_result",
          "data": {
            "text/html": [
              "<div>\n",
              "<style scoped>\n",
              "    .dataframe tbody tr th:only-of-type {\n",
              "        vertical-align: middle;\n",
              "    }\n",
              "\n",
              "    .dataframe tbody tr th {\n",
              "        vertical-align: top;\n",
              "    }\n",
              "\n",
              "    .dataframe thead th {\n",
              "        text-align: right;\n",
              "    }\n",
              "</style>\n",
              "<table border=\"1\" class=\"dataframe\">\n",
              "  <thead>\n",
              "    <tr style=\"text-align: right;\">\n",
              "      <th></th>\n",
              "      <th>Date</th>\n",
              "      <th>Open</th>\n",
              "      <th>High</th>\n",
              "      <th>Low</th>\n",
              "      <th>Close</th>\n",
              "      <th>Adj Close</th>\n",
              "      <th>Volume</th>\n",
              "    </tr>\n",
              "  </thead>\n",
              "  <tbody>\n",
              "    <tr>\n",
              "      <th>0</th>\n",
              "      <td>2013-01-02</td>\n",
              "      <td>19.990000</td>\n",
              "      <td>20.209999</td>\n",
              "      <td>19.690001</td>\n",
              "      <td>19.690001</td>\n",
              "      <td>18.086271</td>\n",
              "      <td>30182600.0</td>\n",
              "    </tr>\n",
              "    <tr>\n",
              "      <th>1</th>\n",
              "      <td>2013-01-03</td>\n",
              "      <td>19.809999</td>\n",
              "      <td>20.400000</td>\n",
              "      <td>19.700001</td>\n",
              "      <td>20.400000</td>\n",
              "      <td>18.738441</td>\n",
              "      <td>30552600.0</td>\n",
              "    </tr>\n",
              "    <tr>\n",
              "      <th>2</th>\n",
              "      <td>2013-01-04</td>\n",
              "      <td>20.330000</td>\n",
              "      <td>20.620001</td>\n",
              "      <td>20.170000</td>\n",
              "      <td>20.430000</td>\n",
              "      <td>18.766001</td>\n",
              "      <td>36141000.0</td>\n",
              "    </tr>\n",
              "    <tr>\n",
              "      <th>3</th>\n",
              "      <td>2013-01-07</td>\n",
              "      <td>20.480000</td>\n",
              "      <td>20.670000</td>\n",
              "      <td>19.950001</td>\n",
              "      <td>20.080000</td>\n",
              "      <td>18.444506</td>\n",
              "      <td>28069600.0</td>\n",
              "    </tr>\n",
              "    <tr>\n",
              "      <th>4</th>\n",
              "      <td>2013-01-08</td>\n",
              "      <td>20.110001</td>\n",
              "      <td>20.230000</td>\n",
              "      <td>19.459999</td>\n",
              "      <td>19.500000</td>\n",
              "      <td>17.911745</td>\n",
              "      <td>29091300.0</td>\n",
              "    </tr>\n",
              "  </tbody>\n",
              "</table>\n",
              "</div>"
            ],
            "text/plain": [
              "         Date       Open       High  ...      Close  Adj Close      Volume\n",
              "0  2013-01-02  19.990000  20.209999  ...  19.690001  18.086271  30182600.0\n",
              "1  2013-01-03  19.809999  20.400000  ...  20.400000  18.738441  30552600.0\n",
              "2  2013-01-04  20.330000  20.620001  ...  20.430000  18.766001  36141000.0\n",
              "3  2013-01-07  20.480000  20.670000  ...  20.080000  18.444506  28069600.0\n",
              "4  2013-01-08  20.110001  20.230000  ...  19.500000  17.911745  29091300.0\n",
              "\n",
              "[5 rows x 7 columns]"
            ]
          },
          "metadata": {
            "tags": []
          },
          "execution_count": 3
        }
      ]
    },
    {
      "cell_type": "code",
      "metadata": {
        "id": "TnPi1UID9WGF"
      },
      "source": [
        "base.dropna(inplace=True)"
      ],
      "execution_count": 4,
      "outputs": []
    },
    {
      "cell_type": "code",
      "metadata": {
        "id": "LO6qRvc6_BXV",
        "outputId": "4c89568a-eef9-47cd-9923-710e621ae67a",
        "colab": {
          "base_uri": "https://localhost:8080/"
        }
      },
      "source": [
        "base.info()"
      ],
      "execution_count": 7,
      "outputs": [
        {
          "output_type": "stream",
          "text": [
            "<class 'pandas.core.frame.DataFrame'>\n",
            "Int64Index: 1242 entries, 0 to 1244\n",
            "Data columns (total 7 columns):\n",
            " #   Column     Non-Null Count  Dtype  \n",
            "---  ------     --------------  -----  \n",
            " 0   Date       1242 non-null   object \n",
            " 1   Open       1242 non-null   float64\n",
            " 2   High       1242 non-null   float64\n",
            " 3   Low        1242 non-null   float64\n",
            " 4   Close      1242 non-null   float64\n",
            " 5   Adj Close  1242 non-null   float64\n",
            " 6   Volume     1242 non-null   float64\n",
            "dtypes: float64(6), object(1)\n",
            "memory usage: 77.6+ KB\n"
          ],
          "name": "stdout"
        }
      ]
    },
    {
      "cell_type": "code",
      "metadata": {
        "id": "c6LW727a9bFY"
      },
      "source": [
        "base_treinamento = base.iloc[:, 1:7].values"
      ],
      "execution_count": 5,
      "outputs": []
    },
    {
      "cell_type": "code",
      "metadata": {
        "id": "vdreE1e_9of5"
      },
      "source": [
        "scaler = MinMaxScaler(feature_range=(0,1));\n",
        "base_treinamento_normalizado = scaler.fit_transform(base_treinamento);"
      ],
      "execution_count": 6,
      "outputs": []
    },
    {
      "cell_type": "code",
      "metadata": {
        "id": "FXyGoF80-HMb"
      },
      "source": [
        "previsores = []\n",
        "preco_real = []\n",
        "\n",
        "for i in range(180, 1242):\n",
        "  previsores.append(base_treinamento_normalizado[i - 180: i, 0:6]);\n",
        "  preco_real.append(base_treinamento_normalizado[i, 0])"
      ],
      "execution_count": 12,
      "outputs": []
    },
    {
      "cell_type": "code",
      "metadata": {
        "id": "eapnaIei_ILi",
        "outputId": "722eb9f1-a7a8-40d6-e7e6-5dc2fd7591cc",
        "colab": {
          "base_uri": "https://localhost:8080/"
        }
      },
      "source": [
        "previsores, preco_real = np.array(previsores), np.array(preco_real)\n",
        "previsores.shape"
      ],
      "execution_count": 13,
      "outputs": [
        {
          "output_type": "execute_result",
          "data": {
            "text/plain": [
              "(1062, 180, 6)"
            ]
          },
          "metadata": {
            "tags": []
          },
          "execution_count": 13
        }
      ]
    },
    {
      "cell_type": "code",
      "metadata": {
        "id": "auYthZSPBmCd"
      },
      "source": [
        "from keras.callbacks import EarlyStopping, ReduceLROnPlateau, ModelCheckpoint"
      ],
      "execution_count": 15,
      "outputs": []
    },
    {
      "cell_type": "code",
      "metadata": {
        "id": "R2fAS4C3_s-k"
      },
      "source": [
        "model = Sequential();\n",
        "model.add(LSTM(units = 100, return_sequences = True, input_shape = (previsores[1], 6)));\n",
        "model.add(Dropout(0.3));\n",
        "\n",
        "model.add(LSTM(units = 50, return_sequences = True));\n",
        "model.add(Dropout(0.3));\n",
        "\n",
        "model.add(LSTM(units = 50, return_sequences = True));\n",
        "model.add(Dropout(0.3));\n",
        "\n",
        "model.add(LSTM(units = 50));\n",
        "model.add(Dropout(0.3));\n",
        "\n",
        "model.add(Dense(units = 1 activation = 'sigmoid'));\n",
        "model.compile(optimizer = 'adam', \n",
        "              loss = 'mean_squared_error', \n",
        "              metrics = ['mean_absolute_error'])\n",
        "\n",
        "model.summary()\n"
      ],
      "execution_count": null,
      "outputs": []
    },
    {
      "cell_type": "code",
      "metadata": {
        "id": "TpaoFgASB6-I"
      },
      "source": [
        "es = EarlyStopping(monitor = 'loss', \n",
        "                   min_delta = 1e-10, \n",
        "                   patience = 10,\n",
        "                   verbose = 1)\n",
        "\n",
        "rlr = ReduceLROnPlateau(monitor = 'loss',\n",
        "                        factor = 0.2,\n",
        "                        patience = 5,\n",
        "                        verbose = 1)\n",
        "\n",
        "mcp = ModelCheckpoint(filepath = 'pesos.h5',\n",
        "                      monitor = 'loss',\n",
        "                      save_best_only = True,\n",
        "                      verbose = 1)"
      ],
      "execution_count": 17,
      "outputs": []
    },
    {
      "cell_type": "code",
      "metadata": {
        "id": "aWxaiaW0DbPH"
      },
      "source": [
        "history_ = model.fit(previsores, \n",
        "                    preco_real, \n",
        "                    epochs = 100, \n",
        "                    batch_size = 32, \n",
        "                    callbacks = [es, rlr, mcp])"
      ],
      "execution_count": null,
      "outputs": []
    }
  ]
}