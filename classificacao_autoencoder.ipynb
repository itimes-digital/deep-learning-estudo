{
  "nbformat": 4,
  "nbformat_minor": 0,
  "metadata": {
    "colab": {
      "name": "classificacao_autoencoder.ipynb",
      "provenance": [],
      "authorship_tag": "ABX9TyOtdeIgI01JSeZWsW00cIZa",
      "include_colab_link": true
    },
    "kernelspec": {
      "name": "python3",
      "display_name": "Python 3"
    }
  },
  "cells": [
    {
      "cell_type": "markdown",
      "metadata": {
        "id": "view-in-github",
        "colab_type": "text"
      },
      "source": [
        "<a href=\"https://colab.research.google.com/github/itimes-digital/deep-learning-estudo/blob/main/classificacao_autoencoder.ipynb\" target=\"_parent\"><img src=\"https://colab.research.google.com/assets/colab-badge.svg\" alt=\"Open In Colab\"/></a>"
      ]
    },
    {
      "cell_type": "code",
      "metadata": {
        "id": "7q_unVZyF9Ux"
      },
      "source": [
        "import numpy as np\n",
        "from keras.datasets import mnist\n",
        "from keras.models import Model, Sequential\n",
        "from keras.layers import Input, Dense\n",
        "from keras.utils import np_utils"
      ],
      "execution_count": 11,
      "outputs": []
    },
    {
      "cell_type": "code",
      "metadata": {
        "id": "Pp1sfIRMOIU3"
      },
      "source": [
        "(previsores_treinamento, classe_treinamento), (previsores_teste, classe_teste) = mnist.load_data()\n",
        "previsores_treinamento = previsores_treinamento.astype('float32') / 255\n",
        "previsores_teste = previsores_teste.astype('float32') / 255"
      ],
      "execution_count": 12,
      "outputs": []
    },
    {
      "cell_type": "code",
      "metadata": {
        "colab": {
          "base_uri": "https://localhost:8080/"
        },
        "id": "7gaMDu7qSLxj",
        "outputId": "f185fe70-dbc2-44d3-f836-08e111b22217"
      },
      "source": [
        "previsores_treinamento.shape, classe_treinamento.shape, previsores_teste.shape, classe_teste.shape"
      ],
      "execution_count": 13,
      "outputs": [
        {
          "output_type": "execute_result",
          "data": {
            "text/plain": [
              "((60000, 28, 28), (60000,), (10000, 28, 28), (10000,))"
            ]
          },
          "metadata": {
            "tags": []
          },
          "execution_count": 13
        }
      ]
    },
    {
      "cell_type": "code",
      "metadata": {
        "id": "HMEOD3mtOgsV"
      },
      "source": [
        "previsores_treinamento = previsores_treinamento.reshape((len(previsores_treinamento), \n",
        "                                                         np.prod(previsores_treinamento.shape[1:])))\n",
        "\n",
        "previsores_teste = previsores_teste.reshape((len(previsores_teste), np.prod(previsores_teste.shape[1:])))"
      ],
      "execution_count": 15,
      "outputs": []
    },
    {
      "cell_type": "code",
      "metadata": {
        "colab": {
          "base_uri": "https://localhost:8080/"
        },
        "id": "d2WbgWd_SYR5",
        "outputId": "c9cb8ea5-9250-4077-f67a-127f255040c9"
      },
      "source": [
        "previsores_treinamento.shape, previsores_teste.shape"
      ],
      "execution_count": 16,
      "outputs": [
        {
          "output_type": "execute_result",
          "data": {
            "text/plain": [
              "((60000, 784), (10000, 784))"
            ]
          },
          "metadata": {
            "tags": []
          },
          "execution_count": 16
        }
      ]
    },
    {
      "cell_type": "code",
      "metadata": {
        "id": "rjYOILoCTh1u"
      },
      "source": [
        "classe_dummy_treinamento = np_utils.to_categorical(classe_treinamento)\n",
        "classe_dummy_teste = np_utils.to_categorical(classe_teste)"
      ],
      "execution_count": 21,
      "outputs": []
    },
    {
      "cell_type": "markdown",
      "metadata": {
        "id": "0opwzZ6GSgz0"
      },
      "source": [
        "# Estrutura da rede AUTOENCODER para redução de dimensionalidade\n",
        "Camada de entrada 784\n",
        "\n",
        "Camada oculta 32\n",
        "\n",
        "Camada de saída 784"
      ]
    },
    {
      "cell_type": "code",
      "metadata": {
        "colab": {
          "base_uri": "https://localhost:8080/"
        },
        "id": "ILspSg9wO2Zs",
        "outputId": "9df04c41-d408-4f86-f9f2-4e21cc3f0b00"
      },
      "source": [
        "auto_encoder = Sequential()\n",
        "\n",
        "auto_encoder.add(Dense(units = 32, activation = 'relu', input_dim = 784))\n",
        "auto_encoder.add(Dense(units = 784, activation = 'sigmoid'))\n",
        "auto_encoder.summary()"
      ],
      "execution_count": 17,
      "outputs": [
        {
          "output_type": "stream",
          "text": [
            "Model: \"sequential_1\"\n",
            "_________________________________________________________________\n",
            "Layer (type)                 Output Shape              Param #   \n",
            "=================================================================\n",
            "dense_2 (Dense)              (None, 32)                25120     \n",
            "_________________________________________________________________\n",
            "dense_3 (Dense)              (None, 784)               25872     \n",
            "=================================================================\n",
            "Total params: 50,992\n",
            "Trainable params: 50,992\n",
            "Non-trainable params: 0\n",
            "_________________________________________________________________\n"
          ],
          "name": "stdout"
        }
      ]
    },
    {
      "cell_type": "code",
      "metadata": {
        "id": "qXVeR94VPgSt"
      },
      "source": [
        "auto_encoder.compile(optimizer = 'sgd', loss = 'binary_crossentropy',\n",
        "                     metrics = ['accuracy'])\n",
        "\n",
        "auto_encoder.fit(previsores_treinamento, previsores_treinamento,\n",
        "                 epochs = 100, batch_size = 256,\n",
        "                 validation_data = (previsores_teste, previsores_teste));"
      ],
      "execution_count": null,
      "outputs": []
    },
    {
      "cell_type": "code",
      "metadata": {
        "id": "-i2C5E68QRH9"
      },
      "source": [
        "dimensao_original = Input(shape=(784,))\n",
        "camada_encoder = auto_encoder.layers[0]\n",
        "encoder = Model(dimensao_original, camada_encoder(dimensao_original))"
      ],
      "execution_count": 10,
      "outputs": []
    },
    {
      "cell_type": "code",
      "metadata": {
        "colab": {
          "base_uri": "https://localhost:8080/"
        },
        "id": "PNQMCyfQR0BH",
        "outputId": "6fcf3ab5-8a58-412d-ed28-1e1977051a84"
      },
      "source": [
        "previsores_treinamento_codificado = encoder.predict(previsores_treinamento)\n",
        "previsores_treinamento_codificado.shape"
      ],
      "execution_count": 18,
      "outputs": [
        {
          "output_type": "execute_result",
          "data": {
            "text/plain": [
              "(60000, 32)"
            ]
          },
          "metadata": {
            "tags": []
          },
          "execution_count": 18
        }
      ]
    },
    {
      "cell_type": "code",
      "metadata": {
        "colab": {
          "base_uri": "https://localhost:8080/"
        },
        "id": "Eb_IoRWjS-0-",
        "outputId": "a112cc24-ffbc-4b0e-e9dd-4294fc58a1a2"
      },
      "source": [
        "previsores_teste_codificado = encoder.predict(previsores_teste)\n",
        "previsores_teste_codificado.shape"
      ],
      "execution_count": 19,
      "outputs": [
        {
          "output_type": "execute_result",
          "data": {
            "text/plain": [
              "(10000, 32)"
            ]
          },
          "metadata": {
            "tags": []
          },
          "execution_count": 19
        }
      ]
    },
    {
      "cell_type": "markdown",
      "metadata": {
        "id": "xKYWkz0mTRez"
      },
      "source": [
        "# Criação de uma rede densa para previsores com e sem redução de dimensionalidade."
      ]
    },
    {
      "cell_type": "markdown",
      "metadata": {
        "id": "HnLysgw_YKLf"
      },
      "source": [
        "Sem redução de dimensionalidade"
      ]
    },
    {
      "cell_type": "code",
      "metadata": {
        "id": "F4hlZPKHTO4d"
      },
      "source": [
        "model_sem_reducao = Sequential()\n",
        "\n",
        "model_sem_reducao.add(Dense(units = 400, activation = 'relu', input_dim = 784))\n",
        "model_sem_reducao.add(Dense(units = 400, activation = 'relu'))\n",
        "model_sem_reducao.add(Dense(units = 10, activation = 'softmax'))\n",
        "\n",
        "model_sem_reducao.compile(optimizer = 'sgd', \n",
        "                          loss = 'categorical_crossentropy',\n",
        "                          metrics = ['accuracy'])\n",
        "\n",
        "model_sem_reducao.fit(previsores_treinamento, classe_dummy_treinamento,\n",
        "                      batch_size = 256, epochs = 100,\n",
        "                      validation_data = (previsores_teste, classe_dummy_teste))"
      ],
      "execution_count": null,
      "outputs": []
    },
    {
      "cell_type": "code",
      "metadata": {
        "colab": {
          "base_uri": "https://localhost:8080/"
        },
        "id": "IAPkeYeeZpMo",
        "outputId": "2fa098f6-91ae-4f5c-d5fe-d530f9be924c"
      },
      "source": [
        "np.mean(model_sem_reducao.history.history['val_accuracy'])"
      ],
      "execution_count": 27,
      "outputs": [
        {
          "output_type": "execute_result",
          "data": {
            "text/plain": [
              "0.9520769995450974"
            ]
          },
          "metadata": {
            "tags": []
          },
          "execution_count": 27
        }
      ]
    },
    {
      "cell_type": "markdown",
      "metadata": {
        "id": "ArAkJHsVYei8"
      },
      "source": [
        "Com redução de dimensionalidade"
      ]
    },
    {
      "cell_type": "code",
      "metadata": {
        "id": "K2nznjTWWyMH"
      },
      "source": [
        "model_com_reducao = Sequential()\n",
        "\n",
        "model_com_reducao.add(Dense(units = 21, activation = 'relu', input_dim = 32))\n",
        "model_com_reducao.add(Dense(units = 21, activation = 'relu'))\n",
        "model_com_reducao.add(Dense(units = 10, activation = 'softmax'))\n",
        "\n",
        "model_com_reducao.compile(optimizer = 'sgd', \n",
        "                          loss = 'categorical_crossentropy',\n",
        "                          metrics = ['accuracy'])\n",
        "\n",
        "model_com_reducao.fit(previsores_treinamento_codificado, classe_dummy_treinamento,\n",
        "                      batch_size = 256, epochs = 100,\n",
        "                      validation_data = (previsores_teste_codificado, classe_dummy_teste))"
      ],
      "execution_count": null,
      "outputs": []
    },
    {
      "cell_type": "code",
      "metadata": {
        "colab": {
          "base_uri": "https://localhost:8080/"
        },
        "id": "B96BBYSzY7En",
        "outputId": "26c22c95-5c93-4182-a9e6-8f25bf795ad7"
      },
      "source": [
        "np.mean(model_com_reducao.history.history['val_accuracy'])"
      ],
      "execution_count": 28,
      "outputs": [
        {
          "output_type": "execute_result",
          "data": {
            "text/plain": [
              "0.7221419996023178"
            ]
          },
          "metadata": {
            "tags": []
          },
          "execution_count": 28
        }
      ]
    },
    {
      "cell_type": "markdown",
      "metadata": {
        "id": "x1Khu_S_aEWS"
      },
      "source": [
        "# Para uma inferência mais adequada, o ideal é aumentar o número de épocas consideralmente para o treinamento do modelo, e assim termos uma resposta melhor ao uso ou não de uma rede neural na redução de dimensionalidade dos dados."
      ]
    }
  ]
}