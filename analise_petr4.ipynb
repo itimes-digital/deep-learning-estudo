{
  "nbformat": 4,
  "nbformat_minor": 0,
  "metadata": {
    "colab": {
      "name": "analise_petr4.ipynb",
      "provenance": [],
      "authorship_tag": "ABX9TyN9Xr5o21zOC73ytq3quxaE",
      "include_colab_link": true
    },
    "kernelspec": {
      "name": "python3",
      "display_name": "Python 3"
    }
  },
  "cells": [
    {
      "cell_type": "markdown",
      "metadata": {
        "id": "view-in-github",
        "colab_type": "text"
      },
      "source": [
        "<a href=\"https://colab.research.google.com/github/itimes-digital/deep-learning-estudo/blob/main/analise_petr4.ipynb\" target=\"_parent\"><img src=\"https://colab.research.google.com/assets/colab-badge.svg\" alt=\"Open In Colab\"/></a>"
      ]
    },
    {
      "cell_type": "code",
      "metadata": {
        "id": "Biu4BIRUIju8"
      },
      "source": [
        "import pandas as pd\n",
        "import numpy as np"
      ],
      "execution_count": 5,
      "outputs": []
    },
    {
      "cell_type": "code",
      "metadata": {
        "id": "wGq481yQSd0O"
      },
      "source": [
        "from keras.models import Sequential\n",
        "from keras.layers import Dense, Dropout, LSTM\n",
        "from sklearn.preprocessing import MinMaxScaler\n",
        "import matplotlib.pyplot as plt"
      ],
      "execution_count": 6,
      "outputs": []
    },
    {
      "cell_type": "code",
      "metadata": {
        "id": "Xf-GuJrJS35G"
      },
      "source": [
        "treinamento = pd.read_csv('https://raw.githubusercontent.com/itimes-digital/deep-learning-estudo/main/dataset/petr4_treinamento_ex.csv')"
      ],
      "execution_count": 7,
      "outputs": []
    },
    {
      "cell_type": "code",
      "metadata": {
        "colab": {
          "base_uri": "https://localhost:8080/",
          "height": 204
        },
        "id": "ifRyapdkTzse",
        "outputId": "4420190e-346e-4373-eeb7-56e26be144fc"
      },
      "source": [
        "treinamento.head()"
      ],
      "execution_count": 8,
      "outputs": [
        {
          "output_type": "execute_result",
          "data": {
            "text/html": [
              "<div>\n",
              "<style scoped>\n",
              "    .dataframe tbody tr th:only-of-type {\n",
              "        vertical-align: middle;\n",
              "    }\n",
              "\n",
              "    .dataframe tbody tr th {\n",
              "        vertical-align: top;\n",
              "    }\n",
              "\n",
              "    .dataframe thead th {\n",
              "        text-align: right;\n",
              "    }\n",
              "</style>\n",
              "<table border=\"1\" class=\"dataframe\">\n",
              "  <thead>\n",
              "    <tr style=\"text-align: right;\">\n",
              "      <th></th>\n",
              "      <th>Date</th>\n",
              "      <th>Open</th>\n",
              "      <th>High</th>\n",
              "      <th>Low</th>\n",
              "      <th>Close</th>\n",
              "      <th>Adj Close</th>\n",
              "      <th>Volume</th>\n",
              "    </tr>\n",
              "  </thead>\n",
              "  <tbody>\n",
              "    <tr>\n",
              "      <th>0</th>\n",
              "      <td>2013-01-02</td>\n",
              "      <td>19.990000</td>\n",
              "      <td>20.209999</td>\n",
              "      <td>19.690001</td>\n",
              "      <td>19.690001</td>\n",
              "      <td>18.086271</td>\n",
              "      <td>30182600.0</td>\n",
              "    </tr>\n",
              "    <tr>\n",
              "      <th>1</th>\n",
              "      <td>2013-01-03</td>\n",
              "      <td>19.809999</td>\n",
              "      <td>20.400000</td>\n",
              "      <td>19.700001</td>\n",
              "      <td>20.400000</td>\n",
              "      <td>18.738441</td>\n",
              "      <td>30552600.0</td>\n",
              "    </tr>\n",
              "    <tr>\n",
              "      <th>2</th>\n",
              "      <td>2013-01-04</td>\n",
              "      <td>20.330000</td>\n",
              "      <td>20.620001</td>\n",
              "      <td>20.170000</td>\n",
              "      <td>20.430000</td>\n",
              "      <td>18.766001</td>\n",
              "      <td>36141000.0</td>\n",
              "    </tr>\n",
              "    <tr>\n",
              "      <th>3</th>\n",
              "      <td>2013-01-07</td>\n",
              "      <td>20.480000</td>\n",
              "      <td>20.670000</td>\n",
              "      <td>19.950001</td>\n",
              "      <td>20.080000</td>\n",
              "      <td>18.444506</td>\n",
              "      <td>28069600.0</td>\n",
              "    </tr>\n",
              "    <tr>\n",
              "      <th>4</th>\n",
              "      <td>2013-01-08</td>\n",
              "      <td>20.110001</td>\n",
              "      <td>20.230000</td>\n",
              "      <td>19.459999</td>\n",
              "      <td>19.500000</td>\n",
              "      <td>17.911745</td>\n",
              "      <td>29091300.0</td>\n",
              "    </tr>\n",
              "  </tbody>\n",
              "</table>\n",
              "</div>"
            ],
            "text/plain": [
              "         Date       Open       High  ...      Close  Adj Close      Volume\n",
              "0  2013-01-02  19.990000  20.209999  ...  19.690001  18.086271  30182600.0\n",
              "1  2013-01-03  19.809999  20.400000  ...  20.400000  18.738441  30552600.0\n",
              "2  2013-01-04  20.330000  20.620001  ...  20.430000  18.766001  36141000.0\n",
              "3  2013-01-07  20.480000  20.670000  ...  20.080000  18.444506  28069600.0\n",
              "4  2013-01-08  20.110001  20.230000  ...  19.500000  17.911745  29091300.0\n",
              "\n",
              "[5 rows x 7 columns]"
            ]
          },
          "metadata": {
            "tags": []
          },
          "execution_count": 8
        }
      ]
    },
    {
      "cell_type": "code",
      "metadata": {
        "colab": {
          "base_uri": "https://localhost:8080/",
          "height": 204
        },
        "id": "zKAQtintT4jK",
        "outputId": "baaf6c08-8a04-40c3-ca8d-43326c6e63ab"
      },
      "source": [
        "treinamento.tail()"
      ],
      "execution_count": 9,
      "outputs": [
        {
          "output_type": "execute_result",
          "data": {
            "text/html": [
              "<div>\n",
              "<style scoped>\n",
              "    .dataframe tbody tr th:only-of-type {\n",
              "        vertical-align: middle;\n",
              "    }\n",
              "\n",
              "    .dataframe tbody tr th {\n",
              "        vertical-align: top;\n",
              "    }\n",
              "\n",
              "    .dataframe thead th {\n",
              "        text-align: right;\n",
              "    }\n",
              "</style>\n",
              "<table border=\"1\" class=\"dataframe\">\n",
              "  <thead>\n",
              "    <tr style=\"text-align: right;\">\n",
              "      <th></th>\n",
              "      <th>Date</th>\n",
              "      <th>Open</th>\n",
              "      <th>High</th>\n",
              "      <th>Low</th>\n",
              "      <th>Close</th>\n",
              "      <th>Adj Close</th>\n",
              "      <th>Volume</th>\n",
              "    </tr>\n",
              "  </thead>\n",
              "  <tbody>\n",
              "    <tr>\n",
              "      <th>1340</th>\n",
              "      <td>2018-05-21</td>\n",
              "      <td>26.100000</td>\n",
              "      <td>26.290001</td>\n",
              "      <td>24.940001</td>\n",
              "      <td>25.049999</td>\n",
              "      <td>25.000000</td>\n",
              "      <td>75971900.0</td>\n",
              "    </tr>\n",
              "    <tr>\n",
              "      <th>1341</th>\n",
              "      <td>2018-05-22</td>\n",
              "      <td>24.809999</td>\n",
              "      <td>25.290001</td>\n",
              "      <td>24.150000</td>\n",
              "      <td>24.709999</td>\n",
              "      <td>24.709999</td>\n",
              "      <td>88109900.0</td>\n",
              "    </tr>\n",
              "    <tr>\n",
              "      <th>1342</th>\n",
              "      <td>2018-05-23</td>\n",
              "      <td>24.230000</td>\n",
              "      <td>24.480000</td>\n",
              "      <td>23.270000</td>\n",
              "      <td>23.270000</td>\n",
              "      <td>23.270000</td>\n",
              "      <td>74622500.0</td>\n",
              "    </tr>\n",
              "    <tr>\n",
              "      <th>1343</th>\n",
              "      <td>2018-05-24</td>\n",
              "      <td>20.049999</td>\n",
              "      <td>20.750000</td>\n",
              "      <td>19.650000</td>\n",
              "      <td>20.080000</td>\n",
              "      <td>20.080000</td>\n",
              "      <td>240343800.0</td>\n",
              "    </tr>\n",
              "    <tr>\n",
              "      <th>1344</th>\n",
              "      <td>2018-05-25</td>\n",
              "      <td>20.650000</td>\n",
              "      <td>21.270000</td>\n",
              "      <td>19.660000</td>\n",
              "      <td>19.799999</td>\n",
              "      <td>19.799999</td>\n",
              "      <td>131188100.0</td>\n",
              "    </tr>\n",
              "  </tbody>\n",
              "</table>\n",
              "</div>"
            ],
            "text/plain": [
              "            Date       Open       High  ...      Close  Adj Close       Volume\n",
              "1340  2018-05-21  26.100000  26.290001  ...  25.049999  25.000000   75971900.0\n",
              "1341  2018-05-22  24.809999  25.290001  ...  24.709999  24.709999   88109900.0\n",
              "1342  2018-05-23  24.230000  24.480000  ...  23.270000  23.270000   74622500.0\n",
              "1343  2018-05-24  20.049999  20.750000  ...  20.080000  20.080000  240343800.0\n",
              "1344  2018-05-25  20.650000  21.270000  ...  19.799999  19.799999  131188100.0\n",
              "\n",
              "[5 rows x 7 columns]"
            ]
          },
          "metadata": {
            "tags": []
          },
          "execution_count": 9
        }
      ]
    },
    {
      "cell_type": "code",
      "metadata": {
        "colab": {
          "base_uri": "https://localhost:8080/"
        },
        "id": "G68DP-5fT8Gd",
        "outputId": "ad23265e-f0ee-49ce-a1d5-1f7c297c5e81"
      },
      "source": [
        "treinamento.info()"
      ],
      "execution_count": 10,
      "outputs": [
        {
          "output_type": "stream",
          "text": [
            "<class 'pandas.core.frame.DataFrame'>\n",
            "RangeIndex: 1345 entries, 0 to 1344\n",
            "Data columns (total 7 columns):\n",
            " #   Column     Non-Null Count  Dtype  \n",
            "---  ------     --------------  -----  \n",
            " 0   Date       1345 non-null   object \n",
            " 1   Open       1342 non-null   float64\n",
            " 2   High       1342 non-null   float64\n",
            " 3   Low        1342 non-null   float64\n",
            " 4   Close      1342 non-null   float64\n",
            " 5   Adj Close  1342 non-null   float64\n",
            " 6   Volume     1342 non-null   float64\n",
            "dtypes: float64(6), object(1)\n",
            "memory usage: 73.7+ KB\n"
          ],
          "name": "stdout"
        }
      ]
    },
    {
      "cell_type": "code",
      "metadata": {
        "id": "TEqZLf-MT-v1"
      },
      "source": [
        "treinamento.dropna(inplace=True)"
      ],
      "execution_count": 11,
      "outputs": []
    },
    {
      "cell_type": "code",
      "metadata": {
        "colab": {
          "base_uri": "https://localhost:8080/"
        },
        "id": "ASoSTfA6UDrF",
        "outputId": "a6a9ad13-95db-43d3-8fa6-33ab0a07ee78"
      },
      "source": [
        "treinamento.info()"
      ],
      "execution_count": 12,
      "outputs": [
        {
          "output_type": "stream",
          "text": [
            "<class 'pandas.core.frame.DataFrame'>\n",
            "Int64Index: 1342 entries, 0 to 1344\n",
            "Data columns (total 7 columns):\n",
            " #   Column     Non-Null Count  Dtype  \n",
            "---  ------     --------------  -----  \n",
            " 0   Date       1342 non-null   object \n",
            " 1   Open       1342 non-null   float64\n",
            " 2   High       1342 non-null   float64\n",
            " 3   Low        1342 non-null   float64\n",
            " 4   Close      1342 non-null   float64\n",
            " 5   Adj Close  1342 non-null   float64\n",
            " 6   Volume     1342 non-null   float64\n",
            "dtypes: float64(6), object(1)\n",
            "memory usage: 83.9+ KB\n"
          ],
          "name": "stdout"
        }
      ]
    },
    {
      "cell_type": "code",
      "metadata": {
        "colab": {
          "base_uri": "https://localhost:8080/"
        },
        "id": "QCUPukrLUIug",
        "outputId": "3847b13e-a799-4ec1-d8b5-ee871124123e"
      },
      "source": [
        "treinamento_open = treinamento.iloc[:, 1:2].values\n",
        "treinamento_open"
      ],
      "execution_count": 13,
      "outputs": [
        {
          "output_type": "execute_result",
          "data": {
            "text/plain": [
              "array([[19.99    ],\n",
              "       [19.809999],\n",
              "       [20.33    ],\n",
              "       ...,\n",
              "       [24.23    ],\n",
              "       [20.049999],\n",
              "       [20.65    ]])"
            ]
          },
          "metadata": {
            "tags": []
          },
          "execution_count": 13
        }
      ]
    },
    {
      "cell_type": "code",
      "metadata": {
        "colab": {
          "base_uri": "https://localhost:8080/"
        },
        "id": "Hpjfc2RPUSgN",
        "outputId": "4396dc9c-6f6c-46af-be5a-1ff03d4ff7f7"
      },
      "source": [
        "normalizador = MinMaxScaler(feature_range=(0,1))\n",
        "treinamento_open_normlizado = normalizador.fit_transform(treinamento_open)\n",
        "treinamento_open_normlizado"
      ],
      "execution_count": 14,
      "outputs": [
        {
          "output_type": "execute_result",
          "data": {
            "text/plain": [
              "array([[0.68207343],\n",
              "       [0.67429801],\n",
              "       [0.69676026],\n",
              "       ...,\n",
              "       [0.86522678],\n",
              "       [0.68466518],\n",
              "       [0.71058315]])"
            ]
          },
          "metadata": {
            "tags": []
          },
          "execution_count": 14
        }
      ]
    },
    {
      "cell_type": "code",
      "metadata": {
        "colab": {
          "base_uri": "https://localhost:8080/"
        },
        "id": "laLJpiuVUwrX",
        "outputId": "8652f8e7-70bd-49f6-e93d-11ac19f26d41"
      },
      "source": [
        "treinamento_open_normlizado.shape"
      ],
      "execution_count": 15,
      "outputs": [
        {
          "output_type": "execute_result",
          "data": {
            "text/plain": [
              "(1342, 1)"
            ]
          },
          "metadata": {
            "tags": []
          },
          "execution_count": 15
        }
      ]
    },
    {
      "cell_type": "code",
      "metadata": {
        "id": "O3pcx6TWUzXO"
      },
      "source": [
        "previsores = []\n",
        "preco_real = []\n",
        "ultimos_dias = 180\n",
        "\n",
        "for i in range(ultimos_dias, treinamento_open_normlizado.shape[0]):\n",
        "  previsores.append(treinamento_open_normlizado[i - ultimos_dias: i,0])\n",
        "  preco_real.append(treinamento_open_normlizado[i, 0])"
      ],
      "execution_count": 16,
      "outputs": []
    },
    {
      "cell_type": "code",
      "metadata": {
        "colab": {
          "base_uri": "https://localhost:8080/"
        },
        "id": "pQbumDs0VogP",
        "outputId": "7f175380-78a6-493a-80ea-d79d40acfc62"
      },
      "source": [
        "len(previsores)"
      ],
      "execution_count": 17,
      "outputs": [
        {
          "output_type": "execute_result",
          "data": {
            "text/plain": [
              "1162"
            ]
          },
          "metadata": {
            "tags": []
          },
          "execution_count": 17
        }
      ]
    },
    {
      "cell_type": "code",
      "metadata": {
        "colab": {
          "base_uri": "https://localhost:8080/"
        },
        "id": "Flp4TlnFVrPv",
        "outputId": "0cde6fae-b7cd-498c-c11d-153c911f6ea5"
      },
      "source": [
        "len(preco_real)"
      ],
      "execution_count": 18,
      "outputs": [
        {
          "output_type": "execute_result",
          "data": {
            "text/plain": [
              "1162"
            ]
          },
          "metadata": {
            "tags": []
          },
          "execution_count": 18
        }
      ]
    },
    {
      "cell_type": "code",
      "metadata": {
        "id": "MqndXtLpVt-f"
      },
      "source": [
        "previsores, preco_real = np.array(previsores), np.array(preco_real)"
      ],
      "execution_count": 19,
      "outputs": []
    },
    {
      "cell_type": "code",
      "metadata": {
        "colab": {
          "base_uri": "https://localhost:8080/"
        },
        "id": "s_kUBsTZV6QB",
        "outputId": "54a485a8-b6a5-4263-d6da-e0a999b8caa4"
      },
      "source": [
        "previsores"
      ],
      "execution_count": 20,
      "outputs": [
        {
          "output_type": "execute_result",
          "data": {
            "text/plain": [
              "array([[0.68207343, 0.67429801, 0.69676026, ..., 0.64319654, 0.64319654,\n",
              "        0.64319654],\n",
              "       [0.67429801, 0.69676026, 0.70323974, ..., 0.64319654, 0.64319654,\n",
              "        0.62764579],\n",
              "       [0.69676026, 0.70323974, 0.68725706, ..., 0.64319654, 0.62764579,\n",
              "        0.63153348],\n",
              "       ...,\n",
              "       [0.45140389, 0.46738661, 0.47084233, ..., 0.89892009, 0.94600432,\n",
              "        0.89028073],\n",
              "       [0.46738661, 0.47084233, 0.46133909, ..., 0.94600432, 0.89028073,\n",
              "        0.86522678],\n",
              "       [0.47084233, 0.46133909, 0.46565875, ..., 0.89028073, 0.86522678,\n",
              "        0.68466518]])"
            ]
          },
          "metadata": {
            "tags": []
          },
          "execution_count": 20
        }
      ]
    },
    {
      "cell_type": "code",
      "metadata": {
        "colab": {
          "base_uri": "https://localhost:8080/"
        },
        "id": "uUhws1mUV6lv",
        "outputId": "f3970a0d-6bd8-41a8-907c-711c8c0a1896"
      },
      "source": [
        "previsores.shape"
      ],
      "execution_count": 21,
      "outputs": [
        {
          "output_type": "execute_result",
          "data": {
            "text/plain": [
              "(1162, 180)"
            ]
          },
          "metadata": {
            "tags": []
          },
          "execution_count": 21
        }
      ]
    },
    {
      "cell_type": "code",
      "metadata": {
        "colab": {
          "base_uri": "https://localhost:8080/"
        },
        "id": "xLnMy6aSV9gw",
        "outputId": "c7c41428-052f-461e-b051-0ab5738426b6"
      },
      "source": [
        "previsores = np.reshape(previsores, (previsores.shape[0], previsores.shape[1], 1))\n",
        "previsores.shape"
      ],
      "execution_count": 22,
      "outputs": [
        {
          "output_type": "execute_result",
          "data": {
            "text/plain": [
              "(1162, 180, 1)"
            ]
          },
          "metadata": {
            "tags": []
          },
          "execution_count": 22
        }
      ]
    },
    {
      "cell_type": "code",
      "metadata": {
        "colab": {
          "base_uri": "https://localhost:8080/"
        },
        "id": "MJgv9aN3WOKD",
        "outputId": "04febcc0-a00d-401e-da25-44665af0cb35"
      },
      "source": [
        "model = Sequential()\n",
        "\n",
        "model.add(LSTM(units = 180, return_sequences = True, input_shape = (previsores.shape[1], 1)))\n",
        "model.add(Dropout(0.2))\n",
        "\n",
        "model.add(LSTM(units = 150, return_sequences = True))\n",
        "model.add(Dropout(0.2))\n",
        "\n",
        "model.add(LSTM(units = 100))\n",
        "model.add(Dropout(0.2))\n",
        "\n",
        "model.add(Dense(units = 1, activation = 'linear'))\n",
        "\n",
        "model.compile(optimizer = 'rmsprop', \n",
        "              loss = 'mean_squared_error',\n",
        "              metrics = ['mean_absolute_error'])\n",
        "\n",
        "model.summary()"
      ],
      "execution_count": 24,
      "outputs": [
        {
          "output_type": "stream",
          "text": [
            "Model: \"sequential_1\"\n",
            "_________________________________________________________________\n",
            "Layer (type)                 Output Shape              Param #   \n",
            "=================================================================\n",
            "lstm_1 (LSTM)                (None, 180, 180)          131040    \n",
            "_________________________________________________________________\n",
            "dropout (Dropout)            (None, 180, 180)          0         \n",
            "_________________________________________________________________\n",
            "lstm_2 (LSTM)                (None, 180, 150)          198600    \n",
            "_________________________________________________________________\n",
            "dropout_1 (Dropout)          (None, 180, 150)          0         \n",
            "_________________________________________________________________\n",
            "lstm_3 (LSTM)                (None, 100)               100400    \n",
            "_________________________________________________________________\n",
            "dropout_2 (Dropout)          (None, 100)               0         \n",
            "_________________________________________________________________\n",
            "dense (Dense)                (None, 1)                 101       \n",
            "=================================================================\n",
            "Total params: 430,141\n",
            "Trainable params: 430,141\n",
            "Non-trainable params: 0\n",
            "_________________________________________________________________\n"
          ],
          "name": "stdout"
        }
      ]
    },
    {
      "cell_type": "code",
      "metadata": {
        "colab": {
          "base_uri": "https://localhost:8080/"
        },
        "id": "atXypXKUXgA2",
        "outputId": "ecbb2a57-67ba-435b-a1d6-747a16b9ec3d"
      },
      "source": [
        "history_ = model.fit(previsores, preco_real, epochs = 500, batch_size = 32)"
      ],
      "execution_count": 25,
      "outputs": [
        {
          "output_type": "stream",
          "text": [
            "Epoch 1/500\n",
            "37/37 [==============================] - 29s 788ms/step - loss: 0.0321 - mean_absolute_error: 0.1261\n",
            "Epoch 2/500\n",
            "37/37 [==============================] - 30s 800ms/step - loss: 0.0114 - mean_absolute_error: 0.0783\n",
            "Epoch 3/500\n",
            "37/37 [==============================] - 29s 791ms/step - loss: 0.0099 - mean_absolute_error: 0.0728\n",
            "Epoch 4/500\n",
            "37/37 [==============================] - 29s 790ms/step - loss: 0.0075 - mean_absolute_error: 0.0637\n",
            "Epoch 5/500\n",
            "37/37 [==============================] - 29s 790ms/step - loss: 0.0057 - mean_absolute_error: 0.0566\n",
            "Epoch 6/500\n",
            "37/37 [==============================] - 29s 794ms/step - loss: 0.0058 - mean_absolute_error: 0.0576\n",
            "Epoch 7/500\n",
            "37/37 [==============================] - 29s 791ms/step - loss: 0.0048 - mean_absolute_error: 0.0537\n",
            "Epoch 8/500\n",
            "37/37 [==============================] - 29s 794ms/step - loss: 0.0049 - mean_absolute_error: 0.0537\n",
            "Epoch 9/500\n",
            "37/37 [==============================] - 29s 793ms/step - loss: 0.0041 - mean_absolute_error: 0.0480\n",
            "Epoch 10/500\n",
            "37/37 [==============================] - 30s 799ms/step - loss: 0.0037 - mean_absolute_error: 0.0458\n",
            "Epoch 11/500\n",
            "37/37 [==============================] - 29s 790ms/step - loss: 0.0041 - mean_absolute_error: 0.0491\n",
            "Epoch 12/500\n",
            "37/37 [==============================] - 30s 804ms/step - loss: 0.0034 - mean_absolute_error: 0.0435\n",
            "Epoch 13/500\n",
            "37/37 [==============================] - 30s 798ms/step - loss: 0.0034 - mean_absolute_error: 0.0443\n",
            "Epoch 14/500\n",
            "37/37 [==============================] - 30s 799ms/step - loss: 0.0027 - mean_absolute_error: 0.0387\n",
            "Epoch 15/500\n",
            "37/37 [==============================] - 30s 803ms/step - loss: 0.0029 - mean_absolute_error: 0.0404\n",
            "Epoch 16/500\n",
            "37/37 [==============================] - 30s 801ms/step - loss: 0.0027 - mean_absolute_error: 0.0389\n",
            "Epoch 17/500\n",
            "37/37 [==============================] - 29s 797ms/step - loss: 0.0034 - mean_absolute_error: 0.0431\n",
            "Epoch 18/500\n",
            "37/37 [==============================] - 29s 794ms/step - loss: 0.0023 - mean_absolute_error: 0.0358\n",
            "Epoch 19/500\n",
            "37/37 [==============================] - 29s 797ms/step - loss: 0.0026 - mean_absolute_error: 0.0378\n",
            "Epoch 20/500\n",
            "37/37 [==============================] - 30s 803ms/step - loss: 0.0027 - mean_absolute_error: 0.0383\n",
            "Epoch 21/500\n",
            "37/37 [==============================] - 29s 793ms/step - loss: 0.0024 - mean_absolute_error: 0.0367\n",
            "Epoch 22/500\n",
            "37/37 [==============================] - 30s 807ms/step - loss: 0.0020 - mean_absolute_error: 0.0325\n",
            "Epoch 23/500\n",
            "37/37 [==============================] - 30s 809ms/step - loss: 0.0023 - mean_absolute_error: 0.0358\n",
            "Epoch 24/500\n",
            "37/37 [==============================] - 30s 803ms/step - loss: 0.0019 - mean_absolute_error: 0.0335\n",
            "Epoch 25/500\n",
            "37/37 [==============================] - 29s 794ms/step - loss: 0.0020 - mean_absolute_error: 0.0317\n",
            "Epoch 26/500\n",
            "37/37 [==============================] - 30s 811ms/step - loss: 0.0019 - mean_absolute_error: 0.0326\n",
            "Epoch 27/500\n",
            "37/37 [==============================] - 30s 800ms/step - loss: 0.0021 - mean_absolute_error: 0.0345\n",
            "Epoch 28/500\n",
            "37/37 [==============================] - 29s 792ms/step - loss: 0.0019 - mean_absolute_error: 0.0325\n",
            "Epoch 29/500\n",
            "37/37 [==============================] - 29s 796ms/step - loss: 0.0018 - mean_absolute_error: 0.0314\n",
            "Epoch 30/500\n",
            "37/37 [==============================] - 30s 800ms/step - loss: 0.0019 - mean_absolute_error: 0.0318\n",
            "Epoch 31/500\n",
            "37/37 [==============================] - 29s 794ms/step - loss: 0.0017 - mean_absolute_error: 0.0317\n",
            "Epoch 32/500\n",
            "37/37 [==============================] - 29s 796ms/step - loss: 0.0017 - mean_absolute_error: 0.0318\n",
            "Epoch 33/500\n",
            "37/37 [==============================] - 30s 814ms/step - loss: 0.0018 - mean_absolute_error: 0.0321\n",
            "Epoch 34/500\n",
            "37/37 [==============================] - 29s 795ms/step - loss: 0.0016 - mean_absolute_error: 0.0301\n",
            "Epoch 35/500\n",
            "37/37 [==============================] - 29s 795ms/step - loss: 0.0018 - mean_absolute_error: 0.0314\n",
            "Epoch 36/500\n",
            "37/37 [==============================] - 29s 794ms/step - loss: 0.0017 - mean_absolute_error: 0.0307\n",
            "Epoch 37/500\n",
            "37/37 [==============================] - 29s 793ms/step - loss: 0.0015 - mean_absolute_error: 0.0292\n",
            "Epoch 38/500\n",
            "37/37 [==============================] - 29s 795ms/step - loss: 0.0015 - mean_absolute_error: 0.0287\n",
            "Epoch 39/500\n",
            "37/37 [==============================] - 29s 794ms/step - loss: 0.0017 - mean_absolute_error: 0.0307\n",
            "Epoch 40/500\n",
            "37/37 [==============================] - 30s 802ms/step - loss: 0.0015 - mean_absolute_error: 0.0285\n",
            "Epoch 41/500\n",
            "37/37 [==============================] - 29s 797ms/step - loss: 0.0015 - mean_absolute_error: 0.0291\n",
            "Epoch 42/500\n",
            "37/37 [==============================] - 30s 798ms/step - loss: 0.0017 - mean_absolute_error: 0.0308\n",
            "Epoch 43/500\n",
            "37/37 [==============================] - 31s 829ms/step - loss: 0.0015 - mean_absolute_error: 0.0292\n",
            "Epoch 44/500\n",
            "37/37 [==============================] - 29s 796ms/step - loss: 0.0016 - mean_absolute_error: 0.0290\n",
            "Epoch 45/500\n",
            "37/37 [==============================] - 29s 796ms/step - loss: 0.0014 - mean_absolute_error: 0.0289\n",
            "Epoch 46/500\n",
            "37/37 [==============================] - 29s 796ms/step - loss: 0.0014 - mean_absolute_error: 0.0279\n",
            "Epoch 47/500\n",
            "37/37 [==============================] - 30s 800ms/step - loss: 0.0015 - mean_absolute_error: 0.0288\n",
            "Epoch 48/500\n",
            "37/37 [==============================] - 30s 799ms/step - loss: 0.0015 - mean_absolute_error: 0.0287\n",
            "Epoch 49/500\n",
            "37/37 [==============================] - 30s 801ms/step - loss: 0.0014 - mean_absolute_error: 0.0279\n",
            "Epoch 50/500\n",
            "37/37 [==============================] - 30s 803ms/step - loss: 0.0013 - mean_absolute_error: 0.0273\n",
            "Epoch 51/500\n",
            "37/37 [==============================] - 29s 795ms/step - loss: 0.0015 - mean_absolute_error: 0.0285\n",
            "Epoch 52/500\n",
            "37/37 [==============================] - 29s 792ms/step - loss: 0.0014 - mean_absolute_error: 0.0284\n",
            "Epoch 53/500\n",
            "37/37 [==============================] - 30s 812ms/step - loss: 0.0015 - mean_absolute_error: 0.0289\n",
            "Epoch 54/500\n",
            "37/37 [==============================] - 29s 791ms/step - loss: 0.0012 - mean_absolute_error: 0.0266\n",
            "Epoch 55/500\n",
            "37/37 [==============================] - 29s 794ms/step - loss: 0.0013 - mean_absolute_error: 0.0277\n",
            "Epoch 56/500\n",
            "37/37 [==============================] - 29s 790ms/step - loss: 0.0012 - mean_absolute_error: 0.0270\n",
            "Epoch 57/500\n",
            "37/37 [==============================] - 30s 798ms/step - loss: 0.0014 - mean_absolute_error: 0.0282\n",
            "Epoch 58/500\n",
            "37/37 [==============================] - 29s 796ms/step - loss: 0.0012 - mean_absolute_error: 0.0267\n",
            "Epoch 59/500\n",
            "37/37 [==============================] - 30s 803ms/step - loss: 0.0014 - mean_absolute_error: 0.0282\n",
            "Epoch 60/500\n",
            "37/37 [==============================] - 30s 812ms/step - loss: 0.0013 - mean_absolute_error: 0.0270\n",
            "Epoch 61/500\n",
            "37/37 [==============================] - 30s 801ms/step - loss: 0.0013 - mean_absolute_error: 0.0268\n",
            "Epoch 62/500\n",
            "37/37 [==============================] - 30s 804ms/step - loss: 0.0012 - mean_absolute_error: 0.0255\n",
            "Epoch 63/500\n",
            "37/37 [==============================] - 35s 933ms/step - loss: 0.0013 - mean_absolute_error: 0.0276\n",
            "Epoch 64/500\n",
            "37/37 [==============================] - 30s 805ms/step - loss: 0.0012 - mean_absolute_error: 0.0263\n",
            "Epoch 65/500\n",
            "37/37 [==============================] - 30s 812ms/step - loss: 0.0013 - mean_absolute_error: 0.0271\n",
            "Epoch 66/500\n",
            "37/37 [==============================] - 30s 817ms/step - loss: 0.0013 - mean_absolute_error: 0.0271\n",
            "Epoch 67/500\n",
            "37/37 [==============================] - 30s 809ms/step - loss: 0.0013 - mean_absolute_error: 0.0273\n",
            "Epoch 68/500\n",
            "37/37 [==============================] - 30s 816ms/step - loss: 0.0012 - mean_absolute_error: 0.0264\n",
            "Epoch 69/500\n",
            "37/37 [==============================] - 30s 815ms/step - loss: 0.0012 - mean_absolute_error: 0.0260\n",
            "Epoch 70/500\n",
            "37/37 [==============================] - 31s 838ms/step - loss: 0.0012 - mean_absolute_error: 0.0262\n",
            "Epoch 71/500\n",
            "37/37 [==============================] - 30s 818ms/step - loss: 0.0012 - mean_absolute_error: 0.0258\n",
            "Epoch 72/500\n",
            "37/37 [==============================] - 30s 814ms/step - loss: 0.0011 - mean_absolute_error: 0.0249\n",
            "Epoch 73/500\n",
            "37/37 [==============================] - 31s 838ms/step - loss: 0.0012 - mean_absolute_error: 0.0257\n",
            "Epoch 74/500\n",
            "37/37 [==============================] - 30s 815ms/step - loss: 0.0012 - mean_absolute_error: 0.0255\n",
            "Epoch 75/500\n",
            "37/37 [==============================] - 30s 819ms/step - loss: 0.0014 - mean_absolute_error: 0.0263\n",
            "Epoch 76/500\n",
            "37/37 [==============================] - 31s 825ms/step - loss: 0.0011 - mean_absolute_error: 0.0250\n",
            "Epoch 77/500\n",
            "37/37 [==============================] - 30s 816ms/step - loss: 0.0011 - mean_absolute_error: 0.0250\n",
            "Epoch 78/500\n",
            "37/37 [==============================] - 30s 820ms/step - loss: 0.0013 - mean_absolute_error: 0.0264\n",
            "Epoch 79/500\n",
            "37/37 [==============================] - 30s 820ms/step - loss: 0.0011 - mean_absolute_error: 0.0254\n",
            "Epoch 80/500\n",
            "37/37 [==============================] - 31s 841ms/step - loss: 0.0010 - mean_absolute_error: 0.0242\n",
            "Epoch 81/500\n",
            "37/37 [==============================] - 30s 819ms/step - loss: 0.0012 - mean_absolute_error: 0.0254\n",
            "Epoch 82/500\n",
            "37/37 [==============================] - 31s 825ms/step - loss: 0.0012 - mean_absolute_error: 0.0253\n",
            "Epoch 83/500\n",
            "37/37 [==============================] - 38s 1s/step - loss: 0.0011 - mean_absolute_error: 0.0252\n",
            "Epoch 84/500\n",
            "37/37 [==============================] - 30s 822ms/step - loss: 0.0011 - mean_absolute_error: 0.0248\n",
            "Epoch 85/500\n",
            "37/37 [==============================] - 30s 823ms/step - loss: 0.0012 - mean_absolute_error: 0.0264\n",
            "Epoch 86/500\n",
            "37/37 [==============================] - 30s 806ms/step - loss: 0.0011 - mean_absolute_error: 0.0253\n",
            "Epoch 87/500\n",
            "37/37 [==============================] - 30s 817ms/step - loss: 0.0011 - mean_absolute_error: 0.0242\n",
            "Epoch 88/500\n",
            "37/37 [==============================] - 30s 813ms/step - loss: 0.0010 - mean_absolute_error: 0.0241\n",
            "Epoch 89/500\n",
            "37/37 [==============================] - 30s 814ms/step - loss: 0.0011 - mean_absolute_error: 0.0248\n",
            "Epoch 90/500\n",
            "37/37 [==============================] - 30s 824ms/step - loss: 0.0011 - mean_absolute_error: 0.0249\n",
            "Epoch 91/500\n",
            "37/37 [==============================] - 30s 804ms/step - loss: 0.0011 - mean_absolute_error: 0.0247\n",
            "Epoch 92/500\n",
            "37/37 [==============================] - 30s 806ms/step - loss: 0.0011 - mean_absolute_error: 0.0252\n",
            "Epoch 93/500\n",
            "37/37 [==============================] - 31s 837ms/step - loss: 0.0012 - mean_absolute_error: 0.0251\n",
            "Epoch 94/500\n",
            "37/37 [==============================] - 30s 807ms/step - loss: 0.0012 - mean_absolute_error: 0.0253\n",
            "Epoch 95/500\n",
            "37/37 [==============================] - 30s 807ms/step - loss: 0.0011 - mean_absolute_error: 0.0246\n",
            "Epoch 96/500\n",
            "37/37 [==============================] - 30s 804ms/step - loss: 9.9384e-04 - mean_absolute_error: 0.0238\n",
            "Epoch 97/500\n",
            "37/37 [==============================] - 30s 804ms/step - loss: 0.0011 - mean_absolute_error: 0.0238\n",
            "Epoch 98/500\n",
            "37/37 [==============================] - 30s 803ms/step - loss: 9.8090e-04 - mean_absolute_error: 0.0229\n",
            "Epoch 99/500\n",
            "37/37 [==============================] - 30s 811ms/step - loss: 0.0011 - mean_absolute_error: 0.0244\n",
            "Epoch 100/500\n",
            "37/37 [==============================] - 30s 816ms/step - loss: 0.0010 - mean_absolute_error: 0.0240\n",
            "Epoch 101/500\n",
            "37/37 [==============================] - 30s 804ms/step - loss: 0.0010 - mean_absolute_error: 0.0236\n",
            "Epoch 102/500\n",
            "37/37 [==============================] - 30s 801ms/step - loss: 0.0011 - mean_absolute_error: 0.0244\n",
            "Epoch 103/500\n",
            "37/37 [==============================] - 30s 824ms/step - loss: 9.0691e-04 - mean_absolute_error: 0.0229\n",
            "Epoch 104/500\n",
            "37/37 [==============================] - 30s 800ms/step - loss: 0.0011 - mean_absolute_error: 0.0238\n",
            "Epoch 105/500\n",
            "37/37 [==============================] - 30s 801ms/step - loss: 9.7019e-04 - mean_absolute_error: 0.0234\n",
            "Epoch 106/500\n",
            "37/37 [==============================] - 30s 801ms/step - loss: 9.7062e-04 - mean_absolute_error: 0.0231\n",
            "Epoch 107/500\n",
            "37/37 [==============================] - 30s 801ms/step - loss: 0.0010 - mean_absolute_error: 0.0246\n",
            "Epoch 108/500\n",
            "37/37 [==============================] - 30s 802ms/step - loss: 0.0011 - mean_absolute_error: 0.0237\n",
            "Epoch 109/500\n",
            "37/37 [==============================] - 30s 803ms/step - loss: 9.7800e-04 - mean_absolute_error: 0.0228\n",
            "Epoch 110/500\n",
            "37/37 [==============================] - 30s 813ms/step - loss: 0.0010 - mean_absolute_error: 0.0234\n",
            "Epoch 111/500\n",
            "37/37 [==============================] - 30s 805ms/step - loss: 0.0011 - mean_absolute_error: 0.0247\n",
            "Epoch 112/500\n",
            "37/37 [==============================] - 30s 807ms/step - loss: 9.7850e-04 - mean_absolute_error: 0.0232\n",
            "Epoch 113/500\n",
            "37/37 [==============================] - 30s 818ms/step - loss: 0.0011 - mean_absolute_error: 0.0233\n",
            "Epoch 114/500\n",
            "37/37 [==============================] - 30s 805ms/step - loss: 9.0965e-04 - mean_absolute_error: 0.0221\n",
            "Epoch 115/500\n",
            "37/37 [==============================] - 30s 809ms/step - loss: 0.0010 - mean_absolute_error: 0.0235\n",
            "Epoch 116/500\n",
            "37/37 [==============================] - 30s 806ms/step - loss: 8.9963e-04 - mean_absolute_error: 0.0220\n",
            "Epoch 117/500\n",
            "37/37 [==============================] - 30s 804ms/step - loss: 8.7702e-04 - mean_absolute_error: 0.0223\n",
            "Epoch 118/500\n",
            "37/37 [==============================] - 30s 802ms/step - loss: 9.3895e-04 - mean_absolute_error: 0.0229\n",
            "Epoch 119/500\n",
            "37/37 [==============================] - 30s 806ms/step - loss: 9.6125e-04 - mean_absolute_error: 0.0231\n",
            "Epoch 120/500\n",
            "37/37 [==============================] - 30s 812ms/step - loss: 9.9926e-04 - mean_absolute_error: 0.0234\n",
            "Epoch 121/500\n",
            "37/37 [==============================] - 30s 801ms/step - loss: 9.7907e-04 - mean_absolute_error: 0.0232\n",
            "Epoch 122/500\n",
            "37/37 [==============================] - 30s 805ms/step - loss: 8.7885e-04 - mean_absolute_error: 0.0222\n",
            "Epoch 123/500\n",
            "37/37 [==============================] - 30s 814ms/step - loss: 9.1886e-04 - mean_absolute_error: 0.0229\n",
            "Epoch 124/500\n",
            "37/37 [==============================] - 30s 813ms/step - loss: 0.0010 - mean_absolute_error: 0.0231\n",
            "Epoch 125/500\n",
            "37/37 [==============================] - 30s 802ms/step - loss: 9.2859e-04 - mean_absolute_error: 0.0225\n",
            "Epoch 126/500\n",
            "37/37 [==============================] - 30s 807ms/step - loss: 9.0311e-04 - mean_absolute_error: 0.0218\n",
            "Epoch 127/500\n",
            "37/37 [==============================] - 30s 802ms/step - loss: 9.7991e-04 - mean_absolute_error: 0.0234\n",
            "Epoch 128/500\n",
            "37/37 [==============================] - 30s 805ms/step - loss: 9.7396e-04 - mean_absolute_error: 0.0224\n",
            "Epoch 129/500\n",
            "37/37 [==============================] - 30s 804ms/step - loss: 8.8739e-04 - mean_absolute_error: 0.0218\n",
            "Epoch 130/500\n",
            "37/37 [==============================] - 30s 809ms/step - loss: 9.0574e-04 - mean_absolute_error: 0.0222\n",
            "Epoch 131/500\n",
            "37/37 [==============================] - 30s 804ms/step - loss: 8.8007e-04 - mean_absolute_error: 0.0220\n",
            "Epoch 132/500\n",
            "37/37 [==============================] - 30s 808ms/step - loss: 9.9083e-04 - mean_absolute_error: 0.0232\n",
            "Epoch 133/500\n",
            "37/37 [==============================] - 30s 809ms/step - loss: 9.4705e-04 - mean_absolute_error: 0.0226\n",
            "Epoch 134/500\n",
            "37/37 [==============================] - 31s 844ms/step - loss: 8.9235e-04 - mean_absolute_error: 0.0223\n",
            "Epoch 135/500\n",
            "37/37 [==============================] - 30s 809ms/step - loss: 9.6910e-04 - mean_absolute_error: 0.0229\n",
            "Epoch 136/500\n",
            "37/37 [==============================] - 30s 805ms/step - loss: 9.8916e-04 - mean_absolute_error: 0.0231\n",
            "Epoch 137/500\n",
            "37/37 [==============================] - 30s 801ms/step - loss: 9.3522e-04 - mean_absolute_error: 0.0221\n",
            "Epoch 138/500\n",
            "37/37 [==============================] - 30s 804ms/step - loss: 9.1127e-04 - mean_absolute_error: 0.0227\n",
            "Epoch 139/500\n",
            "37/37 [==============================] - 30s 809ms/step - loss: 9.1144e-04 - mean_absolute_error: 0.0222\n",
            "Epoch 140/500\n",
            "37/37 [==============================] - 30s 809ms/step - loss: 9.5123e-04 - mean_absolute_error: 0.0226\n",
            "Epoch 141/500\n",
            "37/37 [==============================] - 30s 800ms/step - loss: 8.6671e-04 - mean_absolute_error: 0.0216\n",
            "Epoch 142/500\n",
            "37/37 [==============================] - 30s 803ms/step - loss: 9.1310e-04 - mean_absolute_error: 0.0219\n",
            "Epoch 143/500\n",
            "37/37 [==============================] - 30s 804ms/step - loss: 9.5184e-04 - mean_absolute_error: 0.0226\n",
            "Epoch 144/500\n",
            "37/37 [==============================] - 30s 824ms/step - loss: 8.5963e-04 - mean_absolute_error: 0.0219\n",
            "Epoch 145/500\n",
            "37/37 [==============================] - 30s 800ms/step - loss: 9.3429e-04 - mean_absolute_error: 0.0226\n",
            "Epoch 146/500\n",
            "37/37 [==============================] - 30s 804ms/step - loss: 9.1924e-04 - mean_absolute_error: 0.0220\n",
            "Epoch 147/500\n",
            "37/37 [==============================] - 30s 804ms/step - loss: 9.3733e-04 - mean_absolute_error: 0.0222\n",
            "Epoch 148/500\n",
            "37/37 [==============================] - 30s 803ms/step - loss: 8.6880e-04 - mean_absolute_error: 0.0222\n",
            "Epoch 149/500\n",
            "37/37 [==============================] - 30s 806ms/step - loss: 8.7404e-04 - mean_absolute_error: 0.0219\n",
            "Epoch 150/500\n",
            "37/37 [==============================] - 30s 808ms/step - loss: 9.0554e-04 - mean_absolute_error: 0.0225\n",
            "Epoch 151/500\n",
            "37/37 [==============================] - 30s 799ms/step - loss: 9.4975e-04 - mean_absolute_error: 0.0226\n",
            "Epoch 152/500\n",
            "37/37 [==============================] - 30s 802ms/step - loss: 8.5509e-04 - mean_absolute_error: 0.0211\n",
            "Epoch 153/500\n",
            "37/37 [==============================] - 30s 802ms/step - loss: 8.1811e-04 - mean_absolute_error: 0.0213\n",
            "Epoch 154/500\n",
            "37/37 [==============================] - 30s 819ms/step - loss: 8.7619e-04 - mean_absolute_error: 0.0215\n",
            "Epoch 155/500\n",
            "37/37 [==============================] - 30s 802ms/step - loss: 9.2625e-04 - mean_absolute_error: 0.0228\n",
            "Epoch 156/500\n",
            "37/37 [==============================] - 30s 804ms/step - loss: 8.8104e-04 - mean_absolute_error: 0.0215\n",
            "Epoch 157/500\n",
            "37/37 [==============================] - 30s 803ms/step - loss: 9.7420e-04 - mean_absolute_error: 0.0224\n",
            "Epoch 158/500\n",
            "37/37 [==============================] - 30s 804ms/step - loss: 9.2436e-04 - mean_absolute_error: 0.0219\n",
            "Epoch 159/500\n",
            "37/37 [==============================] - 30s 812ms/step - loss: 8.3245e-04 - mean_absolute_error: 0.0214\n",
            "Epoch 160/500\n",
            "37/37 [==============================] - 30s 805ms/step - loss: 7.8269e-04 - mean_absolute_error: 0.0207\n",
            "Epoch 161/500\n",
            "37/37 [==============================] - 30s 805ms/step - loss: 8.0373e-04 - mean_absolute_error: 0.0208\n",
            "Epoch 162/500\n",
            "37/37 [==============================] - 30s 802ms/step - loss: 9.6352e-04 - mean_absolute_error: 0.0224\n",
            "Epoch 163/500\n",
            "37/37 [==============================] - 30s 800ms/step - loss: 8.0844e-04 - mean_absolute_error: 0.0209\n",
            "Epoch 164/500\n",
            "37/37 [==============================] - 30s 819ms/step - loss: 8.1105e-04 - mean_absolute_error: 0.0213\n",
            "Epoch 165/500\n",
            "37/37 [==============================] - 30s 802ms/step - loss: 8.2278e-04 - mean_absolute_error: 0.0209\n",
            "Epoch 166/500\n",
            "37/37 [==============================] - 30s 803ms/step - loss: 8.0144e-04 - mean_absolute_error: 0.0212\n",
            "Epoch 167/500\n",
            "37/37 [==============================] - 30s 804ms/step - loss: 9.0424e-04 - mean_absolute_error: 0.0223\n",
            "Epoch 168/500\n",
            "37/37 [==============================] - 30s 803ms/step - loss: 8.1266e-04 - mean_absolute_error: 0.0208\n",
            "Epoch 169/500\n",
            "37/37 [==============================] - 30s 808ms/step - loss: 8.5808e-04 - mean_absolute_error: 0.0216\n",
            "Epoch 170/500\n",
            "37/37 [==============================] - 30s 808ms/step - loss: 8.1067e-04 - mean_absolute_error: 0.0208\n",
            "Epoch 171/500\n",
            "37/37 [==============================] - 30s 805ms/step - loss: 7.8947e-04 - mean_absolute_error: 0.0209\n",
            "Epoch 172/500\n",
            "37/37 [==============================] - 30s 805ms/step - loss: 8.5409e-04 - mean_absolute_error: 0.0214\n",
            "Epoch 173/500\n",
            "37/37 [==============================] - 30s 804ms/step - loss: 7.8321e-04 - mean_absolute_error: 0.0206\n",
            "Epoch 174/500\n",
            "37/37 [==============================] - 30s 820ms/step - loss: 8.2668e-04 - mean_absolute_error: 0.0204\n",
            "Epoch 175/500\n",
            "37/37 [==============================] - 30s 809ms/step - loss: 8.4300e-04 - mean_absolute_error: 0.0214\n",
            "Epoch 176/500\n",
            "37/37 [==============================] - 30s 806ms/step - loss: 8.5863e-04 - mean_absolute_error: 0.0214\n",
            "Epoch 177/500\n",
            "37/37 [==============================] - 30s 805ms/step - loss: 8.8370e-04 - mean_absolute_error: 0.0216\n",
            "Epoch 178/500\n",
            "37/37 [==============================] - 30s 803ms/step - loss: 7.5976e-04 - mean_absolute_error: 0.0201\n",
            "Epoch 179/500\n",
            "37/37 [==============================] - 30s 806ms/step - loss: 9.0447e-04 - mean_absolute_error: 0.0221\n",
            "Epoch 180/500\n",
            "37/37 [==============================] - 30s 802ms/step - loss: 8.6950e-04 - mean_absolute_error: 0.0218\n",
            "Epoch 181/500\n",
            "37/37 [==============================] - 30s 800ms/step - loss: 8.0471e-04 - mean_absolute_error: 0.0202\n",
            "Epoch 182/500\n",
            "37/37 [==============================] - 30s 799ms/step - loss: 8.4887e-04 - mean_absolute_error: 0.0214\n",
            "Epoch 183/500\n",
            "37/37 [==============================] - 30s 799ms/step - loss: 8.8887e-04 - mean_absolute_error: 0.0213\n",
            "Epoch 184/500\n",
            "37/37 [==============================] - 30s 817ms/step - loss: 8.5303e-04 - mean_absolute_error: 0.0213\n",
            "Epoch 185/500\n",
            "37/37 [==============================] - 30s 813ms/step - loss: 7.3489e-04 - mean_absolute_error: 0.0202\n",
            "Epoch 186/500\n",
            "37/37 [==============================] - 35s 944ms/step - loss: 7.5957e-04 - mean_absolute_error: 0.0207\n",
            "Epoch 187/500\n",
            "37/37 [==============================] - 30s 817ms/step - loss: 7.8673e-04 - mean_absolute_error: 0.0204\n",
            "Epoch 188/500\n",
            "37/37 [==============================] - 30s 809ms/step - loss: 8.2582e-04 - mean_absolute_error: 0.0207\n",
            "Epoch 189/500\n",
            "37/37 [==============================] - 30s 817ms/step - loss: 7.5388e-04 - mean_absolute_error: 0.0203\n",
            "Epoch 190/500\n",
            "37/37 [==============================] - 30s 805ms/step - loss: 8.1619e-04 - mean_absolute_error: 0.0211\n",
            "Epoch 191/500\n",
            "37/37 [==============================] - 30s 804ms/step - loss: 8.1107e-04 - mean_absolute_error: 0.0205\n",
            "Epoch 192/500\n",
            "37/37 [==============================] - 30s 806ms/step - loss: 8.4055e-04 - mean_absolute_error: 0.0213\n",
            "Epoch 193/500\n",
            "37/37 [==============================] - 30s 800ms/step - loss: 8.2025e-04 - mean_absolute_error: 0.0210\n",
            "Epoch 194/500\n",
            "37/37 [==============================] - 31s 828ms/step - loss: 9.0244e-04 - mean_absolute_error: 0.0218\n",
            "Epoch 195/500\n",
            "37/37 [==============================] - 31s 828ms/step - loss: 8.6133e-04 - mean_absolute_error: 0.0212\n",
            "Epoch 196/500\n",
            "37/37 [==============================] - 30s 810ms/step - loss: 7.7821e-04 - mean_absolute_error: 0.0205\n",
            "Epoch 197/500\n",
            "37/37 [==============================] - 30s 814ms/step - loss: 8.6844e-04 - mean_absolute_error: 0.0212\n",
            "Epoch 198/500\n",
            "37/37 [==============================] - 30s 808ms/step - loss: 7.2857e-04 - mean_absolute_error: 0.0202\n",
            "Epoch 199/500\n",
            "37/37 [==============================] - 31s 836ms/step - loss: 8.1422e-04 - mean_absolute_error: 0.0209\n",
            "Epoch 200/500\n",
            "37/37 [==============================] - 30s 811ms/step - loss: 7.8087e-04 - mean_absolute_error: 0.0204\n",
            "Epoch 201/500\n",
            "37/37 [==============================] - 30s 807ms/step - loss: 7.8677e-04 - mean_absolute_error: 0.0203\n",
            "Epoch 202/500\n",
            "37/37 [==============================] - 30s 809ms/step - loss: 7.4428e-04 - mean_absolute_error: 0.0198\n",
            "Epoch 203/500\n",
            "37/37 [==============================] - 30s 806ms/step - loss: 8.0983e-04 - mean_absolute_error: 0.0208\n",
            "Epoch 204/500\n",
            "37/37 [==============================] - 31s 851ms/step - loss: 8.5055e-04 - mean_absolute_error: 0.0210\n",
            "Epoch 205/500\n",
            "37/37 [==============================] - 30s 807ms/step - loss: 7.5923e-04 - mean_absolute_error: 0.0202\n",
            "Epoch 206/500\n",
            "37/37 [==============================] - 36s 965ms/step - loss: 7.7505e-04 - mean_absolute_error: 0.0206\n",
            "Epoch 207/500\n",
            "37/37 [==============================] - 30s 808ms/step - loss: 7.5774e-04 - mean_absolute_error: 0.0199\n",
            "Epoch 208/500\n",
            "37/37 [==============================] - 30s 811ms/step - loss: 6.9241e-04 - mean_absolute_error: 0.0197\n",
            "Epoch 209/500\n",
            "37/37 [==============================] - 30s 817ms/step - loss: 7.9924e-04 - mean_absolute_error: 0.0210\n",
            "Epoch 210/500\n",
            "37/37 [==============================] - 30s 822ms/step - loss: 7.7023e-04 - mean_absolute_error: 0.0201\n",
            "Epoch 211/500\n",
            "37/37 [==============================] - 30s 808ms/step - loss: 8.0895e-04 - mean_absolute_error: 0.0209\n",
            "Epoch 212/500\n",
            "37/37 [==============================] - 30s 809ms/step - loss: 7.3017e-04 - mean_absolute_error: 0.0199\n",
            "Epoch 213/500\n",
            "37/37 [==============================] - 30s 810ms/step - loss: 7.9249e-04 - mean_absolute_error: 0.0202\n",
            "Epoch 214/500\n",
            "37/37 [==============================] - 31s 832ms/step - loss: 7.6918e-04 - mean_absolute_error: 0.0201\n",
            "Epoch 215/500\n",
            "37/37 [==============================] - 30s 812ms/step - loss: 7.8628e-04 - mean_absolute_error: 0.0206\n",
            "Epoch 216/500\n",
            "37/37 [==============================] - 30s 806ms/step - loss: 7.5045e-04 - mean_absolute_error: 0.0202\n",
            "Epoch 217/500\n",
            "37/37 [==============================] - 30s 812ms/step - loss: 7.7383e-04 - mean_absolute_error: 0.0204\n",
            "Epoch 218/500\n",
            "37/37 [==============================] - 30s 805ms/step - loss: 7.5051e-04 - mean_absolute_error: 0.0200\n",
            "Epoch 219/500\n",
            "37/37 [==============================] - 30s 817ms/step - loss: 7.4138e-04 - mean_absolute_error: 0.0202\n",
            "Epoch 220/500\n",
            "37/37 [==============================] - 30s 807ms/step - loss: 7.5201e-04 - mean_absolute_error: 0.0202\n",
            "Epoch 221/500\n",
            "37/37 [==============================] - 30s 806ms/step - loss: 7.3844e-04 - mean_absolute_error: 0.0197\n",
            "Epoch 222/500\n",
            "37/37 [==============================] - 30s 806ms/step - loss: 7.9502e-04 - mean_absolute_error: 0.0211\n",
            "Epoch 223/500\n",
            "37/37 [==============================] - 30s 803ms/step - loss: 7.8632e-04 - mean_absolute_error: 0.0198\n",
            "Epoch 224/500\n",
            "37/37 [==============================] - 30s 819ms/step - loss: 8.0932e-04 - mean_absolute_error: 0.0206\n",
            "Epoch 225/500\n",
            "37/37 [==============================] - 30s 803ms/step - loss: 8.3844e-04 - mean_absolute_error: 0.0211\n",
            "Epoch 226/500\n",
            "37/37 [==============================] - 30s 801ms/step - loss: 7.5357e-04 - mean_absolute_error: 0.0199\n",
            "Epoch 227/500\n",
            "37/37 [==============================] - 30s 802ms/step - loss: 7.2819e-04 - mean_absolute_error: 0.0203\n",
            "Epoch 228/500\n",
            "37/37 [==============================] - 30s 800ms/step - loss: 7.3900e-04 - mean_absolute_error: 0.0196\n",
            "Epoch 229/500\n",
            "37/37 [==============================] - 30s 813ms/step - loss: 7.8323e-04 - mean_absolute_error: 0.0202\n",
            "Epoch 230/500\n",
            "37/37 [==============================] - 30s 804ms/step - loss: 7.2680e-04 - mean_absolute_error: 0.0196\n",
            "Epoch 231/500\n",
            "37/37 [==============================] - 30s 802ms/step - loss: 7.3183e-04 - mean_absolute_error: 0.0201\n",
            "Epoch 232/500\n",
            "37/37 [==============================] - 30s 802ms/step - loss: 7.7312e-04 - mean_absolute_error: 0.0202\n",
            "Epoch 233/500\n",
            "37/37 [==============================] - 30s 801ms/step - loss: 7.9151e-04 - mean_absolute_error: 0.0204\n",
            "Epoch 234/500\n",
            "37/37 [==============================] - 35s 952ms/step - loss: 7.3962e-04 - mean_absolute_error: 0.0203\n",
            "Epoch 235/500\n",
            "37/37 [==============================] - 30s 808ms/step - loss: 7.6082e-04 - mean_absolute_error: 0.0202\n",
            "Epoch 236/500\n",
            "37/37 [==============================] - 30s 801ms/step - loss: 7.7520e-04 - mean_absolute_error: 0.0203\n",
            "Epoch 237/500\n",
            "37/37 [==============================] - 30s 802ms/step - loss: 7.5254e-04 - mean_absolute_error: 0.0201\n",
            "Epoch 238/500\n",
            "37/37 [==============================] - 30s 800ms/step - loss: 7.3305e-04 - mean_absolute_error: 0.0202\n",
            "Epoch 239/500\n",
            "37/37 [==============================] - 30s 808ms/step - loss: 7.7928e-04 - mean_absolute_error: 0.0203\n",
            "Epoch 240/500\n",
            "37/37 [==============================] - 30s 801ms/step - loss: 8.0568e-04 - mean_absolute_error: 0.0211\n",
            "Epoch 241/500\n",
            "37/37 [==============================] - 30s 800ms/step - loss: 7.0829e-04 - mean_absolute_error: 0.0197\n",
            "Epoch 242/500\n",
            "37/37 [==============================] - 30s 802ms/step - loss: 7.6009e-04 - mean_absolute_error: 0.0201\n",
            "Epoch 243/500\n",
            "37/37 [==============================] - 30s 807ms/step - loss: 7.0912e-04 - mean_absolute_error: 0.0196\n",
            "Epoch 244/500\n",
            "37/37 [==============================] - 31s 837ms/step - loss: 7.3795e-04 - mean_absolute_error: 0.0197\n",
            "Epoch 245/500\n",
            "37/37 [==============================] - 30s 812ms/step - loss: 7.7250e-04 - mean_absolute_error: 0.0200\n",
            "Epoch 246/500\n",
            "37/37 [==============================] - 30s 813ms/step - loss: 7.2492e-04 - mean_absolute_error: 0.0196\n",
            "Epoch 247/500\n",
            "37/37 [==============================] - 30s 810ms/step - loss: 7.4786e-04 - mean_absolute_error: 0.0200\n",
            "Epoch 248/500\n",
            "37/37 [==============================] - 30s 812ms/step - loss: 7.4740e-04 - mean_absolute_error: 0.0197\n",
            "Epoch 249/500\n",
            "37/37 [==============================] - 31s 836ms/step - loss: 7.1645e-04 - mean_absolute_error: 0.0197\n",
            "Epoch 250/500\n",
            "37/37 [==============================] - 30s 820ms/step - loss: 8.3452e-04 - mean_absolute_error: 0.0208\n",
            "Epoch 251/500\n",
            "37/37 [==============================] - 30s 821ms/step - loss: 7.5305e-04 - mean_absolute_error: 0.0203\n",
            "Epoch 252/500\n",
            "37/37 [==============================] - 30s 817ms/step - loss: 7.6898e-04 - mean_absolute_error: 0.0201\n",
            "Epoch 253/500\n",
            "37/37 [==============================] - 30s 822ms/step - loss: 7.6142e-04 - mean_absolute_error: 0.0201\n",
            "Epoch 254/500\n",
            "37/37 [==============================] - 37s 1s/step - loss: 7.7810e-04 - mean_absolute_error: 0.0202\n",
            "Epoch 255/500\n",
            "37/37 [==============================] - 30s 809ms/step - loss: 8.3514e-04 - mean_absolute_error: 0.0209\n",
            "Epoch 256/500\n",
            "37/37 [==============================] - 30s 810ms/step - loss: 7.9544e-04 - mean_absolute_error: 0.0207\n",
            "Epoch 257/500\n",
            "37/37 [==============================] - 30s 803ms/step - loss: 7.6416e-04 - mean_absolute_error: 0.0206\n",
            "Epoch 258/500\n",
            "37/37 [==============================] - 31s 831ms/step - loss: 7.8688e-04 - mean_absolute_error: 0.0202\n",
            "Epoch 259/500\n",
            "37/37 [==============================] - 30s 807ms/step - loss: 7.2760e-04 - mean_absolute_error: 0.0199\n",
            "Epoch 260/500\n",
            "37/37 [==============================] - 30s 805ms/step - loss: 6.6745e-04 - mean_absolute_error: 0.0189\n",
            "Epoch 261/500\n",
            "37/37 [==============================] - 30s 806ms/step - loss: 7.3117e-04 - mean_absolute_error: 0.0197\n",
            "Epoch 262/500\n",
            "37/37 [==============================] - 30s 811ms/step - loss: 7.5881e-04 - mean_absolute_error: 0.0201\n",
            "Epoch 263/500\n",
            "37/37 [==============================] - 30s 808ms/step - loss: 7.7610e-04 - mean_absolute_error: 0.0204\n",
            "Epoch 264/500\n",
            "37/37 [==============================] - 31s 844ms/step - loss: 7.8325e-04 - mean_absolute_error: 0.0201\n",
            "Epoch 265/500\n",
            "37/37 [==============================] - 30s 806ms/step - loss: 6.8259e-04 - mean_absolute_error: 0.0193\n",
            "Epoch 266/500\n",
            "37/37 [==============================] - 30s 812ms/step - loss: 6.5918e-04 - mean_absolute_error: 0.0189\n",
            "Epoch 267/500\n",
            "37/37 [==============================] - 30s 808ms/step - loss: 7.9519e-04 - mean_absolute_error: 0.0204\n",
            "Epoch 268/500\n",
            "37/37 [==============================] - 31s 832ms/step - loss: 7.2343e-04 - mean_absolute_error: 0.0197\n",
            "Epoch 269/500\n",
            "37/37 [==============================] - 30s 814ms/step - loss: 6.7159e-04 - mean_absolute_error: 0.0191\n",
            "Epoch 270/500\n",
            "37/37 [==============================] - 30s 809ms/step - loss: 7.4830e-04 - mean_absolute_error: 0.0198\n",
            "Epoch 271/500\n",
            "37/37 [==============================] - 30s 805ms/step - loss: 7.5368e-04 - mean_absolute_error: 0.0201\n",
            "Epoch 272/500\n",
            "37/37 [==============================] - 30s 805ms/step - loss: 6.6797e-04 - mean_absolute_error: 0.0190\n",
            "Epoch 273/500\n",
            "37/37 [==============================] - 30s 807ms/step - loss: 7.6334e-04 - mean_absolute_error: 0.0202\n",
            "Epoch 274/500\n",
            "37/37 [==============================] - 31s 830ms/step - loss: 7.3962e-04 - mean_absolute_error: 0.0198\n",
            "Epoch 275/500\n",
            "37/37 [==============================] - 30s 809ms/step - loss: 7.0620e-04 - mean_absolute_error: 0.0196\n",
            "Epoch 276/500\n",
            "37/37 [==============================] - 30s 807ms/step - loss: 7.2700e-04 - mean_absolute_error: 0.0197\n",
            "Epoch 277/500\n",
            "37/37 [==============================] - 30s 803ms/step - loss: 6.9079e-04 - mean_absolute_error: 0.0190\n",
            "Epoch 278/500\n",
            "37/37 [==============================] - 30s 815ms/step - loss: 7.1825e-04 - mean_absolute_error: 0.0198\n",
            "Epoch 279/500\n",
            "37/37 [==============================] - 30s 803ms/step - loss: 7.6237e-04 - mean_absolute_error: 0.0205\n",
            "Epoch 280/500\n",
            "37/37 [==============================] - 30s 807ms/step - loss: 7.0029e-04 - mean_absolute_error: 0.0194\n",
            "Epoch 281/500\n",
            "37/37 [==============================] - 30s 805ms/step - loss: 7.1871e-04 - mean_absolute_error: 0.0194\n",
            "Epoch 282/500\n",
            "37/37 [==============================] - 30s 806ms/step - loss: 7.2476e-04 - mean_absolute_error: 0.0190\n",
            "Epoch 283/500\n",
            "37/37 [==============================] - 30s 812ms/step - loss: 7.0180e-04 - mean_absolute_error: 0.0199\n",
            "Epoch 284/500\n",
            "37/37 [==============================] - 30s 821ms/step - loss: 7.4447e-04 - mean_absolute_error: 0.0200\n",
            "Epoch 285/500\n",
            "37/37 [==============================] - 31s 829ms/step - loss: 7.2030e-04 - mean_absolute_error: 0.0195\n",
            "Epoch 286/500\n",
            "37/37 [==============================] - 30s 812ms/step - loss: 6.9813e-04 - mean_absolute_error: 0.0193\n",
            "Epoch 287/500\n",
            "37/37 [==============================] - 30s 811ms/step - loss: 7.4210e-04 - mean_absolute_error: 0.0199\n",
            "Epoch 288/500\n",
            "37/37 [==============================] - 31s 827ms/step - loss: 7.4796e-04 - mean_absolute_error: 0.0199\n",
            "Epoch 289/500\n",
            "37/37 [==============================] - 30s 814ms/step - loss: 7.4959e-04 - mean_absolute_error: 0.0192\n",
            "Epoch 290/500\n",
            "37/37 [==============================] - 30s 822ms/step - loss: 7.6225e-04 - mean_absolute_error: 0.0197\n",
            "Epoch 291/500\n",
            "37/37 [==============================] - 30s 816ms/step - loss: 7.2764e-04 - mean_absolute_error: 0.0193\n",
            "Epoch 292/500\n",
            "37/37 [==============================] - 35s 943ms/step - loss: 8.3716e-04 - mean_absolute_error: 0.0204\n",
            "Epoch 293/500\n",
            "37/37 [==============================] - 30s 816ms/step - loss: 7.2289e-04 - mean_absolute_error: 0.0195\n",
            "Epoch 294/500\n",
            "37/37 [==============================] - 31s 832ms/step - loss: 7.5910e-04 - mean_absolute_error: 0.0199\n",
            "Epoch 295/500\n",
            "37/37 [==============================] - 30s 807ms/step - loss: 7.0122e-04 - mean_absolute_error: 0.0193\n",
            "Epoch 296/500\n",
            "37/37 [==============================] - 30s 810ms/step - loss: 7.1891e-04 - mean_absolute_error: 0.0195\n",
            "Epoch 297/500\n",
            "37/37 [==============================] - 30s 813ms/step - loss: 7.1570e-04 - mean_absolute_error: 0.0196\n",
            "Epoch 298/500\n",
            "37/37 [==============================] - 31s 825ms/step - loss: 7.0921e-04 - mean_absolute_error: 0.0194\n",
            "Epoch 299/500\n",
            "37/37 [==============================] - 30s 808ms/step - loss: 7.0869e-04 - mean_absolute_error: 0.0192\n",
            "Epoch 300/500\n",
            "37/37 [==============================] - 31s 833ms/step - loss: 6.9615e-04 - mean_absolute_error: 0.0192\n",
            "Epoch 301/500\n",
            "37/37 [==============================] - 31s 834ms/step - loss: 6.9358e-04 - mean_absolute_error: 0.0193\n",
            "Epoch 302/500\n",
            "37/37 [==============================] - 31s 828ms/step - loss: 6.7207e-04 - mean_absolute_error: 0.0187\n",
            "Epoch 303/500\n",
            "37/37 [==============================] - 31s 825ms/step - loss: 7.3899e-04 - mean_absolute_error: 0.0194\n",
            "Epoch 304/500\n",
            "37/37 [==============================] - 32s 865ms/step - loss: 7.0964e-04 - mean_absolute_error: 0.0195\n",
            "Epoch 305/500\n",
            "37/37 [==============================] - 30s 818ms/step - loss: 7.4717e-04 - mean_absolute_error: 0.0199\n",
            "Epoch 306/500\n",
            "37/37 [==============================] - 30s 820ms/step - loss: 6.6776e-04 - mean_absolute_error: 0.0192\n",
            "Epoch 307/500\n",
            "37/37 [==============================] - 30s 822ms/step - loss: 7.6122e-04 - mean_absolute_error: 0.0201\n",
            "Epoch 308/500\n",
            "37/37 [==============================] - 31s 837ms/step - loss: 7.0469e-04 - mean_absolute_error: 0.0193\n",
            "Epoch 309/500\n",
            "37/37 [==============================] - 31s 828ms/step - loss: 7.2762e-04 - mean_absolute_error: 0.0197\n",
            "Epoch 310/500\n",
            "37/37 [==============================] - 31s 832ms/step - loss: 7.0172e-04 - mean_absolute_error: 0.0191\n",
            "Epoch 311/500\n",
            "37/37 [==============================] - 37s 999ms/step - loss: 6.9450e-04 - mean_absolute_error: 0.0194\n",
            "Epoch 312/500\n",
            "37/37 [==============================] - 31s 844ms/step - loss: 7.3081e-04 - mean_absolute_error: 0.0195\n",
            "Epoch 313/500\n",
            "37/37 [==============================] - 31s 836ms/step - loss: 7.3012e-04 - mean_absolute_error: 0.0198\n",
            "Epoch 314/500\n",
            "37/37 [==============================] - 32s 871ms/step - loss: 7.2635e-04 - mean_absolute_error: 0.0195\n",
            "Epoch 315/500\n",
            "37/37 [==============================] - 30s 821ms/step - loss: 6.8673e-04 - mean_absolute_error: 0.0189\n",
            "Epoch 316/500\n",
            "37/37 [==============================] - 31s 826ms/step - loss: 7.1564e-04 - mean_absolute_error: 0.0194\n",
            "Epoch 317/500\n",
            "37/37 [==============================] - 31s 838ms/step - loss: 6.3772e-04 - mean_absolute_error: 0.0183\n",
            "Epoch 318/500\n",
            "37/37 [==============================] - 30s 819ms/step - loss: 7.0115e-04 - mean_absolute_error: 0.0190\n",
            "Epoch 319/500\n",
            "37/37 [==============================] - 30s 821ms/step - loss: 6.6317e-04 - mean_absolute_error: 0.0188\n",
            "Epoch 320/500\n",
            "37/37 [==============================] - 31s 829ms/step - loss: 7.0620e-04 - mean_absolute_error: 0.0190\n",
            "Epoch 321/500\n",
            "37/37 [==============================] - 30s 822ms/step - loss: 6.4496e-04 - mean_absolute_error: 0.0190\n",
            "Epoch 322/500\n",
            "37/37 [==============================] - 30s 817ms/step - loss: 6.9445e-04 - mean_absolute_error: 0.0190\n",
            "Epoch 323/500\n",
            "37/37 [==============================] - 30s 820ms/step - loss: 7.3096e-04 - mean_absolute_error: 0.0195\n",
            "Epoch 324/500\n",
            "37/37 [==============================] - 31s 840ms/step - loss: 7.2525e-04 - mean_absolute_error: 0.0197\n",
            "Epoch 325/500\n",
            "37/37 [==============================] - 30s 816ms/step - loss: 7.0237e-04 - mean_absolute_error: 0.0193\n",
            "Epoch 326/500\n",
            "37/37 [==============================] - 30s 807ms/step - loss: 7.0206e-04 - mean_absolute_error: 0.0191\n",
            "Epoch 327/500\n",
            "37/37 [==============================] - 31s 829ms/step - loss: 7.0793e-04 - mean_absolute_error: 0.0192\n",
            "Epoch 328/500\n",
            "37/37 [==============================] - 30s 808ms/step - loss: 6.9117e-04 - mean_absolute_error: 0.0190\n",
            "Epoch 329/500\n",
            "37/37 [==============================] - 30s 808ms/step - loss: 7.0057e-04 - mean_absolute_error: 0.0190\n",
            "Epoch 330/500\n",
            "37/37 [==============================] - 30s 810ms/step - loss: 6.7587e-04 - mean_absolute_error: 0.0193\n",
            "Epoch 331/500\n",
            "37/37 [==============================] - 30s 815ms/step - loss: 6.9142e-04 - mean_absolute_error: 0.0192\n",
            "Epoch 332/500\n",
            "37/37 [==============================] - 30s 812ms/step - loss: 6.1600e-04 - mean_absolute_error: 0.0182\n",
            "Epoch 333/500\n",
            "37/37 [==============================] - 30s 809ms/step - loss: 7.1815e-04 - mean_absolute_error: 0.0195\n",
            "Epoch 334/500\n",
            "37/37 [==============================] - 31s 842ms/step - loss: 6.9823e-04 - mean_absolute_error: 0.0194\n",
            "Epoch 335/500\n",
            "37/37 [==============================] - 30s 807ms/step - loss: 7.3488e-04 - mean_absolute_error: 0.0195\n",
            "Epoch 336/500\n",
            "37/37 [==============================] - 30s 810ms/step - loss: 7.3127e-04 - mean_absolute_error: 0.0196\n",
            "Epoch 337/500\n",
            "37/37 [==============================] - 30s 823ms/step - loss: 6.8276e-04 - mean_absolute_error: 0.0192\n",
            "Epoch 338/500\n",
            "37/37 [==============================] - 30s 813ms/step - loss: 6.5526e-04 - mean_absolute_error: 0.0185\n",
            "Epoch 339/500\n",
            "37/37 [==============================] - 30s 810ms/step - loss: 6.9685e-04 - mean_absolute_error: 0.0193\n",
            "Epoch 340/500\n",
            "37/37 [==============================] - 30s 808ms/step - loss: 7.3087e-04 - mean_absolute_error: 0.0197\n",
            "Epoch 341/500\n",
            "37/37 [==============================] - 30s 808ms/step - loss: 6.3958e-04 - mean_absolute_error: 0.0182\n",
            "Epoch 342/500\n",
            "37/37 [==============================] - 30s 811ms/step - loss: 6.9237e-04 - mean_absolute_error: 0.0191\n",
            "Epoch 343/500\n",
            "37/37 [==============================] - 30s 807ms/step - loss: 7.2988e-04 - mean_absolute_error: 0.0198\n",
            "Epoch 344/500\n",
            "37/37 [==============================] - 31s 840ms/step - loss: 7.3643e-04 - mean_absolute_error: 0.0197\n",
            "Epoch 345/500\n",
            "37/37 [==============================] - 30s 809ms/step - loss: 6.8767e-04 - mean_absolute_error: 0.0193\n",
            "Epoch 346/500\n",
            "37/37 [==============================] - 30s 815ms/step - loss: 7.0816e-04 - mean_absolute_error: 0.0191\n",
            "Epoch 347/500\n",
            "37/37 [==============================] - 31s 831ms/step - loss: 6.8889e-04 - mean_absolute_error: 0.0186\n",
            "Epoch 348/500\n",
            "37/37 [==============================] - 30s 814ms/step - loss: 6.4862e-04 - mean_absolute_error: 0.0186\n",
            "Epoch 349/500\n",
            "37/37 [==============================] - 35s 943ms/step - loss: 6.9705e-04 - mean_absolute_error: 0.0189\n",
            "Epoch 350/500\n",
            "37/37 [==============================] - 30s 816ms/step - loss: 6.5919e-04 - mean_absolute_error: 0.0187\n",
            "Epoch 351/500\n",
            "37/37 [==============================] - 30s 818ms/step - loss: 7.1379e-04 - mean_absolute_error: 0.0194\n",
            "Epoch 352/500\n",
            "37/37 [==============================] - 30s 816ms/step - loss: 6.6513e-04 - mean_absolute_error: 0.0190\n",
            "Epoch 353/500\n",
            "37/37 [==============================] - 30s 814ms/step - loss: 7.3432e-04 - mean_absolute_error: 0.0192\n",
            "Epoch 354/500\n",
            "37/37 [==============================] - 32s 856ms/step - loss: 6.9481e-04 - mean_absolute_error: 0.0193\n",
            "Epoch 355/500\n",
            "37/37 [==============================] - 30s 814ms/step - loss: 7.4976e-04 - mean_absolute_error: 0.0199\n",
            "Epoch 356/500\n",
            "37/37 [==============================] - 31s 846ms/step - loss: 6.6719e-04 - mean_absolute_error: 0.0192\n",
            "Epoch 357/500\n",
            "37/37 [==============================] - 30s 816ms/step - loss: 7.0875e-04 - mean_absolute_error: 0.0193\n",
            "Epoch 358/500\n",
            "37/37 [==============================] - 30s 818ms/step - loss: 6.1956e-04 - mean_absolute_error: 0.0184\n",
            "Epoch 359/500\n",
            "37/37 [==============================] - 30s 816ms/step - loss: 6.8109e-04 - mean_absolute_error: 0.0189\n",
            "Epoch 360/500\n",
            "37/37 [==============================] - 31s 828ms/step - loss: 7.0692e-04 - mean_absolute_error: 0.0192\n",
            "Epoch 361/500\n",
            "37/37 [==============================] - 31s 825ms/step - loss: 7.1365e-04 - mean_absolute_error: 0.0193\n",
            "Epoch 362/500\n",
            "37/37 [==============================] - 31s 834ms/step - loss: 6.8725e-04 - mean_absolute_error: 0.0190\n",
            "Epoch 363/500\n",
            "37/37 [==============================] - 31s 826ms/step - loss: 6.6966e-04 - mean_absolute_error: 0.0189\n",
            "Epoch 364/500\n",
            "37/37 [==============================] - 32s 855ms/step - loss: 6.7487e-04 - mean_absolute_error: 0.0187\n",
            "Epoch 365/500\n",
            "37/37 [==============================] - 30s 823ms/step - loss: 7.1209e-04 - mean_absolute_error: 0.0192\n",
            "Epoch 366/500\n",
            "37/37 [==============================] - 31s 832ms/step - loss: 6.8801e-04 - mean_absolute_error: 0.0193\n",
            "Epoch 367/500\n",
            "37/37 [==============================] - 31s 831ms/step - loss: 7.2358e-04 - mean_absolute_error: 0.0193\n",
            "Epoch 368/500\n",
            "37/37 [==============================] - 34s 910ms/step - loss: 7.1582e-04 - mean_absolute_error: 0.0191\n",
            "Epoch 369/500\n",
            "37/37 [==============================] - 33s 880ms/step - loss: 6.7468e-04 - mean_absolute_error: 0.0188\n",
            "Epoch 370/500\n",
            "37/37 [==============================] - 30s 815ms/step - loss: 6.4540e-04 - mean_absolute_error: 0.0184\n",
            "Epoch 371/500\n",
            "37/37 [==============================] - 30s 814ms/step - loss: 6.9901e-04 - mean_absolute_error: 0.0194\n",
            "Epoch 372/500\n",
            "37/37 [==============================] - 30s 818ms/step - loss: 6.8662e-04 - mean_absolute_error: 0.0191\n",
            "Epoch 373/500\n",
            "37/37 [==============================] - 31s 843ms/step - loss: 6.5629e-04 - mean_absolute_error: 0.0185\n",
            "Epoch 374/500\n",
            "37/37 [==============================] - 30s 813ms/step - loss: 6.8628e-04 - mean_absolute_error: 0.0190\n",
            "Epoch 375/500\n",
            "37/37 [==============================] - 30s 815ms/step - loss: 6.7018e-04 - mean_absolute_error: 0.0188\n",
            "Epoch 376/500\n",
            "37/37 [==============================] - 31s 829ms/step - loss: 6.8219e-04 - mean_absolute_error: 0.0189\n",
            "Epoch 377/500\n",
            "37/37 [==============================] - 30s 818ms/step - loss: 7.1168e-04 - mean_absolute_error: 0.0191\n",
            "Epoch 378/500\n",
            "37/37 [==============================] - 30s 819ms/step - loss: 6.7363e-04 - mean_absolute_error: 0.0190\n",
            "Epoch 379/500\n",
            "37/37 [==============================] - 31s 827ms/step - loss: 7.0854e-04 - mean_absolute_error: 0.0194\n",
            "Epoch 380/500\n",
            "37/37 [==============================] - 31s 832ms/step - loss: 6.7443e-04 - mean_absolute_error: 0.0189\n",
            "Epoch 381/500\n",
            "37/37 [==============================] - 30s 810ms/step - loss: 6.7054e-04 - mean_absolute_error: 0.0187\n",
            "Epoch 382/500\n",
            "37/37 [==============================] - 30s 823ms/step - loss: 6.8335e-04 - mean_absolute_error: 0.0191\n",
            "Epoch 383/500\n",
            "37/37 [==============================] - 32s 858ms/step - loss: 6.5236e-04 - mean_absolute_error: 0.0185\n",
            "Epoch 384/500\n",
            "37/37 [==============================] - 30s 810ms/step - loss: 6.6837e-04 - mean_absolute_error: 0.0191\n",
            "Epoch 385/500\n",
            "37/37 [==============================] - 31s 829ms/step - loss: 6.8907e-04 - mean_absolute_error: 0.0192\n",
            "Epoch 386/500\n",
            "37/37 [==============================] - 30s 809ms/step - loss: 6.6644e-04 - mean_absolute_error: 0.0183\n",
            "Epoch 387/500\n",
            "37/37 [==============================] - 30s 810ms/step - loss: 6.4218e-04 - mean_absolute_error: 0.0186\n",
            "Epoch 388/500\n",
            "37/37 [==============================] - 30s 811ms/step - loss: 6.5197e-04 - mean_absolute_error: 0.0189\n",
            "Epoch 389/500\n",
            "37/37 [==============================] - 30s 808ms/step - loss: 6.5756e-04 - mean_absolute_error: 0.0183\n",
            "Epoch 390/500\n",
            "37/37 [==============================] - 30s 815ms/step - loss: 7.4651e-04 - mean_absolute_error: 0.0201\n",
            "Epoch 391/500\n",
            "37/37 [==============================] - 30s 809ms/step - loss: 6.5760e-04 - mean_absolute_error: 0.0188\n",
            "Epoch 392/500\n",
            "37/37 [==============================] - 30s 808ms/step - loss: 6.9284e-04 - mean_absolute_error: 0.0194\n",
            "Epoch 393/500\n",
            "37/37 [==============================] - 31s 831ms/step - loss: 6.6970e-04 - mean_absolute_error: 0.0183\n",
            "Epoch 394/500\n",
            "37/37 [==============================] - 30s 805ms/step - loss: 6.2352e-04 - mean_absolute_error: 0.0186\n",
            "Epoch 395/500\n",
            "37/37 [==============================] - 30s 819ms/step - loss: 7.3096e-04 - mean_absolute_error: 0.0194\n",
            "Epoch 396/500\n",
            "37/37 [==============================] - 30s 809ms/step - loss: 6.6133e-04 - mean_absolute_error: 0.0187\n",
            "Epoch 397/500\n",
            "37/37 [==============================] - 30s 811ms/step - loss: 7.1344e-04 - mean_absolute_error: 0.0191\n",
            "Epoch 398/500\n",
            "37/37 [==============================] - 30s 812ms/step - loss: 6.9110e-04 - mean_absolute_error: 0.0191\n",
            "Epoch 399/500\n",
            "37/37 [==============================] - 30s 811ms/step - loss: 6.5193e-04 - mean_absolute_error: 0.0187\n",
            "Epoch 400/500\n",
            "37/37 [==============================] - 30s 816ms/step - loss: 6.8887e-04 - mean_absolute_error: 0.0186\n",
            "Epoch 401/500\n",
            "37/37 [==============================] - 30s 810ms/step - loss: 6.4351e-04 - mean_absolute_error: 0.0189\n",
            "Epoch 402/500\n",
            "37/37 [==============================] - 30s 811ms/step - loss: 6.3509e-04 - mean_absolute_error: 0.0181\n",
            "Epoch 403/500\n",
            "37/37 [==============================] - 30s 824ms/step - loss: 6.6532e-04 - mean_absolute_error: 0.0189\n",
            "Epoch 404/500\n",
            "37/37 [==============================] - 30s 811ms/step - loss: 6.7969e-04 - mean_absolute_error: 0.0191\n",
            "Epoch 405/500\n",
            "37/37 [==============================] - 30s 824ms/step - loss: 6.3797e-04 - mean_absolute_error: 0.0182\n",
            "Epoch 406/500\n",
            "37/37 [==============================] - 30s 805ms/step - loss: 6.7980e-04 - mean_absolute_error: 0.0189\n",
            "Epoch 407/500\n",
            "37/37 [==============================] - 35s 933ms/step - loss: 7.2227e-04 - mean_absolute_error: 0.0191\n",
            "Epoch 408/500\n",
            "37/37 [==============================] - 30s 807ms/step - loss: 6.4461e-04 - mean_absolute_error: 0.0187\n",
            "Epoch 409/500\n",
            "37/37 [==============================] - 30s 805ms/step - loss: 7.0212e-04 - mean_absolute_error: 0.0190\n",
            "Epoch 410/500\n",
            "37/37 [==============================] - 30s 809ms/step - loss: 6.9983e-04 - mean_absolute_error: 0.0185\n",
            "Epoch 411/500\n",
            "37/37 [==============================] - 30s 807ms/step - loss: 7.3552e-04 - mean_absolute_error: 0.0196\n",
            "Epoch 412/500\n",
            "37/37 [==============================] - 30s 806ms/step - loss: 6.8332e-04 - mean_absolute_error: 0.0188\n",
            "Epoch 413/500\n",
            "37/37 [==============================] - 30s 822ms/step - loss: 7.2947e-04 - mean_absolute_error: 0.0194\n",
            "Epoch 414/500\n",
            "37/37 [==============================] - 30s 809ms/step - loss: 6.5650e-04 - mean_absolute_error: 0.0185\n",
            "Epoch 415/500\n",
            "37/37 [==============================] - 30s 816ms/step - loss: 6.6075e-04 - mean_absolute_error: 0.0184\n",
            "Epoch 416/500\n",
            "37/37 [==============================] - 30s 811ms/step - loss: 6.4972e-04 - mean_absolute_error: 0.0190\n",
            "Epoch 417/500\n",
            "37/37 [==============================] - 30s 807ms/step - loss: 6.7831e-04 - mean_absolute_error: 0.0189\n",
            "Epoch 418/500\n",
            "37/37 [==============================] - 30s 810ms/step - loss: 6.4577e-04 - mean_absolute_error: 0.0187\n",
            "Epoch 419/500\n",
            "37/37 [==============================] - 30s 806ms/step - loss: 6.5790e-04 - mean_absolute_error: 0.0187\n",
            "Epoch 420/500\n",
            "37/37 [==============================] - 30s 806ms/step - loss: 6.5519e-04 - mean_absolute_error: 0.0187\n",
            "Epoch 421/500\n",
            "37/37 [==============================] - 30s 811ms/step - loss: 6.7809e-04 - mean_absolute_error: 0.0188\n",
            "Epoch 422/500\n",
            "37/37 [==============================] - 30s 807ms/step - loss: 6.4895e-04 - mean_absolute_error: 0.0188\n",
            "Epoch 423/500\n",
            "37/37 [==============================] - 30s 821ms/step - loss: 6.7944e-04 - mean_absolute_error: 0.0189\n",
            "Epoch 424/500\n",
            "37/37 [==============================] - 30s 814ms/step - loss: 6.6243e-04 - mean_absolute_error: 0.0184\n",
            "Epoch 425/500\n",
            "37/37 [==============================] - 30s 815ms/step - loss: 6.9154e-04 - mean_absolute_error: 0.0191\n",
            "Epoch 426/500\n",
            "37/37 [==============================] - 30s 817ms/step - loss: 6.4027e-04 - mean_absolute_error: 0.0186\n",
            "Epoch 427/500\n",
            "37/37 [==============================] - 35s 946ms/step - loss: 7.0445e-04 - mean_absolute_error: 0.0190\n",
            "Epoch 428/500\n",
            "37/37 [==============================] - 30s 808ms/step - loss: 6.4495e-04 - mean_absolute_error: 0.0187\n",
            "Epoch 429/500\n",
            "37/37 [==============================] - 30s 804ms/step - loss: 6.4452e-04 - mean_absolute_error: 0.0182\n",
            "Epoch 430/500\n",
            "37/37 [==============================] - 30s 806ms/step - loss: 6.4296e-04 - mean_absolute_error: 0.0184\n",
            "Epoch 431/500\n",
            "37/37 [==============================] - 30s 805ms/step - loss: 6.9801e-04 - mean_absolute_error: 0.0191\n",
            "Epoch 432/500\n",
            "37/37 [==============================] - 30s 807ms/step - loss: 6.2134e-04 - mean_absolute_error: 0.0180\n",
            "Epoch 433/500\n",
            "37/37 [==============================] - 30s 819ms/step - loss: 6.7206e-04 - mean_absolute_error: 0.0192\n",
            "Epoch 434/500\n",
            "37/37 [==============================] - 30s 805ms/step - loss: 6.7390e-04 - mean_absolute_error: 0.0189\n",
            "Epoch 435/500\n",
            "37/37 [==============================] - 30s 823ms/step - loss: 6.5275e-04 - mean_absolute_error: 0.0186\n",
            "Epoch 436/500\n",
            "37/37 [==============================] - 30s 803ms/step - loss: 6.9154e-04 - mean_absolute_error: 0.0190\n",
            "Epoch 437/500\n",
            "37/37 [==============================] - 30s 802ms/step - loss: 6.8705e-04 - mean_absolute_error: 0.0188\n",
            "Epoch 438/500\n",
            "37/37 [==============================] - 30s 801ms/step - loss: 7.1758e-04 - mean_absolute_error: 0.0190\n",
            "Epoch 439/500\n",
            "37/37 [==============================] - 30s 802ms/step - loss: 6.8102e-04 - mean_absolute_error: 0.0189\n",
            "Epoch 440/500\n",
            "37/37 [==============================] - 30s 805ms/step - loss: 6.4533e-04 - mean_absolute_error: 0.0185\n",
            "Epoch 441/500\n",
            "37/37 [==============================] - 30s 806ms/step - loss: 6.4055e-04 - mean_absolute_error: 0.0183\n",
            "Epoch 442/500\n",
            "37/37 [==============================] - 30s 805ms/step - loss: 6.6614e-04 - mean_absolute_error: 0.0189\n",
            "Epoch 443/500\n",
            "37/37 [==============================] - 30s 812ms/step - loss: 6.5502e-04 - mean_absolute_error: 0.0186\n",
            "Epoch 444/500\n",
            "37/37 [==============================] - 30s 817ms/step - loss: 6.4968e-04 - mean_absolute_error: 0.0185\n",
            "Epoch 445/500\n",
            "37/37 [==============================] - 31s 828ms/step - loss: 6.4138e-04 - mean_absolute_error: 0.0187\n",
            "Epoch 446/500\n",
            "37/37 [==============================] - 30s 814ms/step - loss: 6.3138e-04 - mean_absolute_error: 0.0184\n",
            "Epoch 447/500\n",
            "37/37 [==============================] - 30s 824ms/step - loss: 6.5402e-04 - mean_absolute_error: 0.0184\n",
            "Epoch 448/500\n",
            "37/37 [==============================] - 31s 826ms/step - loss: 6.3778e-04 - mean_absolute_error: 0.0187\n",
            "Epoch 449/500\n",
            "37/37 [==============================] - 30s 816ms/step - loss: 7.0232e-04 - mean_absolute_error: 0.0191\n",
            "Epoch 450/500\n",
            "37/37 [==============================] - 30s 821ms/step - loss: 6.5421e-04 - mean_absolute_error: 0.0187\n",
            "Epoch 451/500\n",
            "37/37 [==============================] - 30s 809ms/step - loss: 6.6555e-04 - mean_absolute_error: 0.0186\n",
            "Epoch 452/500\n",
            "37/37 [==============================] - 30s 811ms/step - loss: 6.4885e-04 - mean_absolute_error: 0.0184\n",
            "Epoch 453/500\n",
            "37/37 [==============================] - 30s 815ms/step - loss: 6.8479e-04 - mean_absolute_error: 0.0190\n",
            "Epoch 454/500\n",
            "37/37 [==============================] - 30s 822ms/step - loss: 6.8739e-04 - mean_absolute_error: 0.0192\n",
            "Epoch 455/500\n",
            "37/37 [==============================] - 30s 815ms/step - loss: 6.9112e-04 - mean_absolute_error: 0.0192\n",
            "Epoch 456/500\n",
            "37/37 [==============================] - 30s 806ms/step - loss: 6.9242e-04 - mean_absolute_error: 0.0189\n",
            "Epoch 457/500\n",
            "37/37 [==============================] - 30s 807ms/step - loss: 6.6618e-04 - mean_absolute_error: 0.0186\n",
            "Epoch 458/500\n",
            "37/37 [==============================] - 30s 805ms/step - loss: 6.5750e-04 - mean_absolute_error: 0.0188\n",
            "Epoch 459/500\n",
            "37/37 [==============================] - 30s 808ms/step - loss: 6.9274e-04 - mean_absolute_error: 0.0189\n",
            "Epoch 460/500\n",
            "37/37 [==============================] - 30s 803ms/step - loss: 6.6936e-04 - mean_absolute_error: 0.0190\n",
            "Epoch 461/500\n",
            "37/37 [==============================] - 30s 803ms/step - loss: 6.5959e-04 - mean_absolute_error: 0.0185\n",
            "Epoch 462/500\n",
            "37/37 [==============================] - 30s 803ms/step - loss: 6.6201e-04 - mean_absolute_error: 0.0187\n",
            "Epoch 463/500\n",
            "37/37 [==============================] - 30s 803ms/step - loss: 6.6049e-04 - mean_absolute_error: 0.0185\n",
            "Epoch 464/500\n",
            "37/37 [==============================] - 30s 817ms/step - loss: 6.3343e-04 - mean_absolute_error: 0.0181\n",
            "Epoch 465/500\n",
            "37/37 [==============================] - 30s 804ms/step - loss: 6.2135e-04 - mean_absolute_error: 0.0183\n",
            "Epoch 466/500\n",
            "37/37 [==============================] - 30s 803ms/step - loss: 6.7147e-04 - mean_absolute_error: 0.0186\n",
            "Epoch 467/500\n",
            "37/37 [==============================] - 30s 804ms/step - loss: 6.3130e-04 - mean_absolute_error: 0.0183\n",
            "Epoch 468/500\n",
            "37/37 [==============================] - 30s 801ms/step - loss: 6.6501e-04 - mean_absolute_error: 0.0186\n",
            "Epoch 469/500\n",
            "37/37 [==============================] - 30s 807ms/step - loss: 6.6803e-04 - mean_absolute_error: 0.0186\n",
            "Epoch 470/500\n",
            "37/37 [==============================] - 30s 814ms/step - loss: 6.3737e-04 - mean_absolute_error: 0.0181\n",
            "Epoch 471/500\n",
            "37/37 [==============================] - 30s 811ms/step - loss: 6.7662e-04 - mean_absolute_error: 0.0188\n",
            "Epoch 472/500\n",
            "37/37 [==============================] - 30s 808ms/step - loss: 6.5829e-04 - mean_absolute_error: 0.0189\n",
            "Epoch 473/500\n",
            "37/37 [==============================] - 30s 810ms/step - loss: 6.2199e-04 - mean_absolute_error: 0.0180\n",
            "Epoch 474/500\n",
            "37/37 [==============================] - 31s 840ms/step - loss: 6.5723e-04 - mean_absolute_error: 0.0185\n",
            "Epoch 475/500\n",
            "37/37 [==============================] - 30s 806ms/step - loss: 6.7288e-04 - mean_absolute_error: 0.0190\n",
            "Epoch 476/500\n",
            "37/37 [==============================] - 30s 804ms/step - loss: 6.4403e-04 - mean_absolute_error: 0.0186\n",
            "Epoch 477/500\n",
            "37/37 [==============================] - 30s 805ms/step - loss: 6.7362e-04 - mean_absolute_error: 0.0185\n",
            "Epoch 478/500\n",
            "37/37 [==============================] - 30s 808ms/step - loss: 7.1185e-04 - mean_absolute_error: 0.0193\n",
            "Epoch 479/500\n",
            "37/37 [==============================] - 30s 804ms/step - loss: 6.4485e-04 - mean_absolute_error: 0.0183\n",
            "Epoch 480/500\n",
            "37/37 [==============================] - 30s 804ms/step - loss: 6.4379e-04 - mean_absolute_error: 0.0184\n",
            "Epoch 481/500\n",
            "37/37 [==============================] - 30s 806ms/step - loss: 6.8294e-04 - mean_absolute_error: 0.0190\n",
            "Epoch 482/500\n",
            "37/37 [==============================] - 30s 805ms/step - loss: 6.7670e-04 - mean_absolute_error: 0.0189\n",
            "Epoch 483/500\n",
            "37/37 [==============================] - 30s 805ms/step - loss: 6.5065e-04 - mean_absolute_error: 0.0188\n",
            "Epoch 484/500\n",
            "37/37 [==============================] - 31s 827ms/step - loss: 6.2843e-04 - mean_absolute_error: 0.0181\n",
            "Epoch 485/500\n",
            "37/37 [==============================] - 30s 803ms/step - loss: 6.5106e-04 - mean_absolute_error: 0.0186\n",
            "Epoch 486/500\n",
            "37/37 [==============================] - 30s 803ms/step - loss: 6.8394e-04 - mean_absolute_error: 0.0188\n",
            "Epoch 487/500\n",
            "37/37 [==============================] - 30s 803ms/step - loss: 6.0581e-04 - mean_absolute_error: 0.0181\n",
            "Epoch 488/500\n",
            "37/37 [==============================] - 30s 800ms/step - loss: 6.8318e-04 - mean_absolute_error: 0.0188\n",
            "Epoch 489/500\n",
            "37/37 [==============================] - 30s 805ms/step - loss: 6.1831e-04 - mean_absolute_error: 0.0183\n",
            "Epoch 490/500\n",
            "37/37 [==============================] - 30s 803ms/step - loss: 7.0636e-04 - mean_absolute_error: 0.0194\n",
            "Epoch 491/500\n",
            "37/37 [==============================] - 30s 803ms/step - loss: 6.2525e-04 - mean_absolute_error: 0.0183\n",
            "Epoch 492/500\n",
            "37/37 [==============================] - 30s 801ms/step - loss: 6.2862e-04 - mean_absolute_error: 0.0184\n",
            "Epoch 493/500\n",
            "37/37 [==============================] - 30s 802ms/step - loss: 6.7016e-04 - mean_absolute_error: 0.0186\n",
            "Epoch 494/500\n",
            "37/37 [==============================] - 30s 823ms/step - loss: 6.6500e-04 - mean_absolute_error: 0.0188\n",
            "Epoch 495/500\n",
            "37/37 [==============================] - 30s 800ms/step - loss: 6.4497e-04 - mean_absolute_error: 0.0184\n",
            "Epoch 496/500\n",
            "37/37 [==============================] - 30s 804ms/step - loss: 6.5615e-04 - mean_absolute_error: 0.0183\n",
            "Epoch 497/500\n",
            "37/37 [==============================] - 30s 805ms/step - loss: 6.6848e-04 - mean_absolute_error: 0.0186\n",
            "Epoch 498/500\n",
            "37/37 [==============================] - 30s 807ms/step - loss: 6.7729e-04 - mean_absolute_error: 0.0192\n",
            "Epoch 499/500\n",
            "37/37 [==============================] - 30s 807ms/step - loss: 6.2132e-04 - mean_absolute_error: 0.0182\n",
            "Epoch 500/500\n",
            "37/37 [==============================] - 30s 803ms/step - loss: 6.5451e-04 - mean_absolute_error: 0.0181\n"
          ],
          "name": "stdout"
        }
      ]
    },
    {
      "cell_type": "code",
      "metadata": {
        "colab": {
          "base_uri": "https://localhost:8080/"
        },
        "id": "g9rk150SXxrv",
        "outputId": "b2adff8a-fcef-47f7-8da6-6aa8f2b31e6c"
      },
      "source": [
        "np.mean(history_.history['mean_absolute_error'])"
      ],
      "execution_count": 26,
      "outputs": [
        {
          "output_type": "execute_result",
          "data": {
            "text/plain": [
              "0.022514281343668698"
            ]
          },
          "metadata": {
            "tags": []
          },
          "execution_count": 26
        }
      ]
    },
    {
      "cell_type": "code",
      "metadata": {
        "id": "L1YFdxghU5a9",
        "outputId": "bdda5624-4fe3-4795-8876-3c6df0731866",
        "colab": {
          "base_uri": "https://localhost:8080/"
        }
      },
      "source": [
        "np.sum(history_.history['mean_absolute_error'])"
      ],
      "execution_count": 31,
      "outputs": [
        {
          "output_type": "execute_result",
          "data": {
            "text/plain": [
              "11.25714067183435"
            ]
          },
          "metadata": {
            "tags": []
          },
          "execution_count": 31
        }
      ]
    },
    {
      "cell_type": "code",
      "metadata": {
        "colab": {
          "base_uri": "https://localhost:8080/",
          "height": 607
        },
        "id": "dSLd13-DX6y8",
        "outputId": "c67461b5-745b-4f9f-f288-90a8ae589c37"
      },
      "source": [
        "plt.figure(figsize = (15, 10))\n",
        "plt.plot(history_.history['mean_absolute_error'], color = 'red', label = 'mean_absolute_error')\n",
        "plt.plot(history_.history['loss'], color = 'green', label = 'mean_squared_error')\n",
        "plt.title('Loss vs Error')\n",
        "plt.legend()\n",
        "plt.show()"
      ],
      "execution_count": 30,
      "outputs": [
        {
          "output_type": "display_data",
          "data": {
            "image/png": "[encoded data removed]",
            "text/plain": [
              "<Figure size 1080x720 with 1 Axes>"
            ]
          },
          "metadata": {
            "tags": [],
            "needs_background": "light"
          }
        }
      ]
    },
    {
      "cell_type": "code",
      "metadata": {
        "id": "rp31BfVnUSPJ",
        "outputId": "9ea6b4fa-b072-4373-fde4-cd61c64a7e58",
        "colab": {
          "base_uri": "https://localhost:8080/",
          "height": 204
        }
      },
      "source": [
        "base_teste = pd.read_csv('https://raw.githubusercontent.com/itimes-digital/deep-learning-estudo/main/dataset/petr4_teste_ex.csv')\n",
        "base_teste.head()"
      ],
      "execution_count": 40,
      "outputs": [
        {
          "output_type": "execute_result",
          "data": {
            "text/html": [
              "<div>\n",
              "<style scoped>\n",
              "    .dataframe tbody tr th:only-of-type {\n",
              "        vertical-align: middle;\n",
              "    }\n",
              "\n",
              "    .dataframe tbody tr th {\n",
              "        vertical-align: top;\n",
              "    }\n",
              "\n",
              "    .dataframe thead th {\n",
              "        text-align: right;\n",
              "    }\n",
              "</style>\n",
              "<table border=\"1\" class=\"dataframe\">\n",
              "  <thead>\n",
              "    <tr style=\"text-align: right;\">\n",
              "      <th></th>\n",
              "      <th>Date</th>\n",
              "      <th>Open</th>\n",
              "      <th>High</th>\n",
              "      <th>Low</th>\n",
              "      <th>Close</th>\n",
              "      <th>Adj Close</th>\n",
              "      <th>Volume</th>\n",
              "    </tr>\n",
              "  </thead>\n",
              "  <tbody>\n",
              "    <tr>\n",
              "      <th>0</th>\n",
              "      <td>2018-05-28</td>\n",
              "      <td>19.200001</td>\n",
              "      <td>19.200001</td>\n",
              "      <td>16.910000</td>\n",
              "      <td>16.910000</td>\n",
              "      <td>16.910000</td>\n",
              "      <td>134504900</td>\n",
              "    </tr>\n",
              "    <tr>\n",
              "      <th>1</th>\n",
              "      <td>2018-05-29</td>\n",
              "      <td>18.000000</td>\n",
              "      <td>19.440001</td>\n",
              "      <td>17.600000</td>\n",
              "      <td>19.299999</td>\n",
              "      <td>19.299999</td>\n",
              "      <td>181509800</td>\n",
              "    </tr>\n",
              "    <tr>\n",
              "      <th>2</th>\n",
              "      <td>2018-05-30</td>\n",
              "      <td>18.389999</td>\n",
              "      <td>19.969999</td>\n",
              "      <td>18.129999</td>\n",
              "      <td>18.980000</td>\n",
              "      <td>18.980000</td>\n",
              "      <td>125430000</td>\n",
              "    </tr>\n",
              "    <tr>\n",
              "      <th>3</th>\n",
              "      <td>2018-06-01</td>\n",
              "      <td>19.559999</td>\n",
              "      <td>19.750000</td>\n",
              "      <td>14.900000</td>\n",
              "      <td>16.160000</td>\n",
              "      <td>16.160000</td>\n",
              "      <td>216954700</td>\n",
              "    </tr>\n",
              "    <tr>\n",
              "      <th>4</th>\n",
              "      <td>2018-06-04</td>\n",
              "      <td>17.290001</td>\n",
              "      <td>17.639999</td>\n",
              "      <td>17.049999</td>\n",
              "      <td>17.530001</td>\n",
              "      <td>17.530001</td>\n",
              "      <td>93547600</td>\n",
              "    </tr>\n",
              "  </tbody>\n",
              "</table>\n",
              "</div>"
            ],
            "text/plain": [
              "         Date       Open       High        Low      Close  Adj Close     Volume\n",
              "0  2018-05-28  19.200001  19.200001  16.910000  16.910000  16.910000  134504900\n",
              "1  2018-05-29  18.000000  19.440001  17.600000  19.299999  19.299999  181509800\n",
              "2  2018-05-30  18.389999  19.969999  18.129999  18.980000  18.980000  125430000\n",
              "3  2018-06-01  19.559999  19.750000  14.900000  16.160000  16.160000  216954700\n",
              "4  2018-06-04  17.290001  17.639999  17.049999  17.530001  17.530001   93547600"
            ]
          },
          "metadata": {
            "tags": []
          },
          "execution_count": 40
        }
      ]
    },
    {
      "cell_type": "code",
      "metadata": {
        "id": "ThGcsAwOXDdO",
        "outputId": "0d4c686b-b806-4aae-af9c-2793b191b987",
        "colab": {
          "base_uri": "https://localhost:8080/"
        }
      },
      "source": [
        "base_teste.info()"
      ],
      "execution_count": 41,
      "outputs": [
        {
          "output_type": "stream",
          "text": [
            "<class 'pandas.core.frame.DataFrame'>\n",
            "RangeIndex: 19 entries, 0 to 18\n",
            "Data columns (total 7 columns):\n",
            " #   Column     Non-Null Count  Dtype  \n",
            "---  ------     --------------  -----  \n",
            " 0   Date       19 non-null     object \n",
            " 1   Open       19 non-null     float64\n",
            " 2   High       19 non-null     float64\n",
            " 3   Low        19 non-null     float64\n",
            " 4   Close      19 non-null     float64\n",
            " 5   Adj Close  19 non-null     float64\n",
            " 6   Volume     19 non-null     int64  \n",
            "dtypes: float64(5), int64(1), object(1)\n",
            "memory usage: 1.2+ KB\n"
          ],
          "name": "stdout"
        }
      ]
    },
    {
      "cell_type": "code",
      "metadata": {
        "id": "MBoK6xARVSFL",
        "outputId": "3b47af63-8d28-402e-96e8-2c4b572018a8",
        "colab": {
          "base_uri": "https://localhost:8080/"
        }
      },
      "source": [
        "preco_real_teste = base_teste.iloc[:, 1:2].values\n",
        "preco_real_teste"
      ],
      "execution_count": 42,
      "outputs": [
        {
          "output_type": "execute_result",
          "data": {
            "text/plain": [
              "array([[19.200001],\n",
              "       [18.      ],\n",
              "       [18.389999],\n",
              "       [19.559999],\n",
              "       [17.290001],\n",
              "       [17.360001],\n",
              "       [16.469999],\n",
              "       [16.      ],\n",
              "       [15.81    ],\n",
              "       [15.5     ],\n",
              "       [15.48    ],\n",
              "       [15.42    ],\n",
              "       [15.33    ],\n",
              "       [15.03    ],\n",
              "       [14.77    ],\n",
              "       [14.26    ],\n",
              "       [15.84    ],\n",
              "       [16.09    ],\n",
              "       [15.41    ]])"
            ]
          },
          "metadata": {
            "tags": []
          },
          "execution_count": 42
        }
      ]
    },
    {
      "cell_type": "code",
      "metadata": {
        "id": "j0dFzQ00VgXK",
        "outputId": "03c36d12-1007-4cef-f950-87579ad75a3b",
        "colab": {
          "base_uri": "https://localhost:8080/"
        }
      },
      "source": [
        "base_completa = pd.concat((treinamento['Open'], base_teste['Open']), axis=0)\n",
        "base_completa.shape"
      ],
      "execution_count": 43,
      "outputs": [
        {
          "output_type": "execute_result",
          "data": {
            "text/plain": [
              "(1361,)"
            ]
          },
          "metadata": {
            "tags": []
          },
          "execution_count": 43
        }
      ]
    },
    {
      "cell_type": "code",
      "metadata": {
        "id": "L8u78D3zXOv1",
        "outputId": "bac7bd8d-6a36-4f96-beb0-55c758052787",
        "colab": {
          "base_uri": "https://localhost:8080/"
        }
      },
      "source": [
        "len(base_completa) - len(base_teste) - ultimos_dias"
      ],
      "execution_count": 46,
      "outputs": [
        {
          "output_type": "execute_result",
          "data": {
            "text/plain": [
              "1162"
            ]
          },
          "metadata": {
            "tags": []
          },
          "execution_count": 46
        }
      ]
    },
    {
      "cell_type": "code",
      "metadata": {
        "id": "zz7XHnccVvcZ",
        "outputId": "f1eeb9c4-e962-4cfc-8823-530b0b49d70b",
        "colab": {
          "base_uri": "https://localhost:8080/"
        }
      },
      "source": [
        "entrada_base_completa = base_completa[len(base_completa) - len(base_teste) - ultimos_dias:].values\n",
        "entrada_base_completa"
      ],
      "execution_count": 47,
      "outputs": [
        {
          "output_type": "execute_result",
          "data": {
            "text/plain": [
              "array([14.88    , 14.98    , 14.94    , 15.03    , 15.07    , 15.02    ,\n",
              "       15.1     , 15.25    , 15.85    , 15.6     , 15.79    , 15.86    ,\n",
              "       15.7     , 15.37    , 15.5     , 15.19    , 15.6     , 15.9     ,\n",
              "       15.88    , 15.66    , 15.61    , 16.129999, 16.17    , 16.08    ,\n",
              "       16.23    , 16.16    , 16.139999, 16.219999, 16.      , 16.190001,\n",
              "       16.290001, 16.290001, 16.530001, 16.780001, 16.77    , 16.969999,\n",
              "       16.9     , 16.99    , 16.9     , 16.959999, 17.049999, 17.309999,\n",
              "       16.690001, 16.889999, 16.709999, 16.690001, 16.639999, 15.35    ,\n",
              "       15.62    , 15.92    , 16.02    , 16.15    , 16.09    , 15.98    ,\n",
              "       16.25    , 16.01    , 15.93    , 15.87    , 15.3     , 15.34    ,\n",
              "       15.65    , 15.5     , 15.22    , 15.3     , 15.51    , 15.48    ,\n",
              "       15.36    , 15.65    , 15.1     , 15.05    , 15.16    , 15.18    ,\n",
              "       15.21    , 15.31    , 15.75    , 15.75    , 15.75    , 15.99    ,\n",
              "       16.1     , 16.1     , 16.190001, 16.49    , 16.780001, 16.700001,\n",
              "       16.74    , 17.030001, 16.92    , 16.879999, 17.040001, 17.32    ,\n",
              "       17.35    , 17.92    , 18.35    , 18.309999, 18.26    , 18.4     ,\n",
              "       18.42    , 19.34    , 19.620001, 19.67    , 19.77    , 19.74    ,\n",
              "       19.76    , 20.299999, 19.65    , 18.66    , 19.969999, 19.549999,\n",
              "       19.030001, 19.01    , 19.5     , 19.459999, 19.549999, 19.879999,\n",
              "       20.59    , 20.59    , 20.950001, 21.4     , 21.469999, 21.629999,\n",
              "       21.4     , 20.700001, 21.49    , 22.5     , 21.690001, 21.85    ,\n",
              "       21.780001, 22.540001, 22.450001, 22.299999, 22.049999, 21.469999,\n",
              "       21.27    , 21.18    , 21.25    , 21.860001, 21.610001, 22.07    ,\n",
              "       22.139999, 21.26    , 21.26    , 21.360001, 21.110001, 20.309999,\n",
              "       21.15    , 20.98    , 21.43    , 20.91    , 21.35    , 21.790001,\n",
              "       21.639999, 21.049999, 20.700001, 21.35    , 22.07    , 22.059999,\n",
              "       22.09    , 22.6     , 22.01    , 22.      , 22.84    , 22.73    ,\n",
              "       22.67    , 22.540001, 22.450001, 22.57    , 23.059999, 23.299999,\n",
              "       25.139999, 25.83    , 25.85    , 26.35    , 26.870001, 27.35    ,\n",
              "       25.01    , 26.1     , 24.809999, 24.23    , 20.049999, 20.65    ,\n",
              "       19.200001, 18.      , 18.389999, 19.559999, 17.290001, 17.360001,\n",
              "       16.469999, 16.      , 15.81    , 15.5     , 15.48    , 15.42    ,\n",
              "       15.33    , 15.03    , 14.77    , 14.26    , 15.84    , 16.09    ,\n",
              "       15.41    ])"
            ]
          },
          "metadata": {
            "tags": []
          },
          "execution_count": 47
        }
      ]
    },
    {
      "cell_type": "code",
      "metadata": {
        "id": "Dk1c5JGSWDYF",
        "outputId": "aee97857-5382-4f03-f064-e3468bd9875f",
        "colab": {
          "base_uri": "https://localhost:8080/"
        }
      },
      "source": [
        "entrada_base_completa = entrada_base_completa.reshape(-1, 1)\n",
        "entrada_base_completa.shape"
      ],
      "execution_count": 48,
      "outputs": [
        {
          "output_type": "execute_result",
          "data": {
            "text/plain": [
              "(199, 1)"
            ]
          },
          "metadata": {
            "tags": []
          },
          "execution_count": 48
        }
      ]
    },
    {
      "cell_type": "code",
      "metadata": {
        "id": "J3A1z3dgWQE5"
      },
      "source": [
        "entrada_base_completa = normalizador.transform(entrada_base_completa);"
      ],
      "execution_count": 49,
      "outputs": []
    },
    {
      "cell_type": "code",
      "metadata": {
        "id": "9iSn1fLCWc2l",
        "outputId": "aeba5b96-f69d-4c9b-cbcd-4f3ba874e584",
        "colab": {
          "base_uri": "https://localhost:8080/"
        }
      },
      "source": [
        "x_teste = []\n",
        "\n",
        "for i in range(ultimos_dias, 199):\n",
        "  x_teste.append(entrada_base_completa[i - ultimos_dias: i,0])\n",
        "\n",
        "x_teste = np.array(x_teste)\n",
        "x_teste"
      ],
      "execution_count": 50,
      "outputs": [
        {
          "output_type": "execute_result",
          "data": {
            "text/plain": [
              "array([[0.46133909, 0.46565875, 0.46393089, ..., 0.86522678, 0.68466518,\n",
              "        0.71058315],\n",
              "       [0.46565875, 0.46393089, 0.46781857, ..., 0.68466518, 0.71058315,\n",
              "        0.64794821],\n",
              "       [0.46393089, 0.46781857, 0.46954644, ..., 0.71058315, 0.64794821,\n",
              "        0.59611231],\n",
              "       ...,\n",
              "       [0.4924406 , 0.50539957, 0.50453564, ..., 0.46781857, 0.45658747,\n",
              "        0.43455724],\n",
              "       [0.50539957, 0.50453564, 0.4950324 , ..., 0.45658747, 0.43455724,\n",
              "        0.50280778],\n",
              "       [0.50453564, 0.4950324 , 0.49287257, ..., 0.43455724, 0.50280778,\n",
              "        0.51360691]])"
            ]
          },
          "metadata": {
            "tags": []
          },
          "execution_count": 50
        }
      ]
    },
    {
      "cell_type": "code",
      "metadata": {
        "id": "hKoJgn5dW2hE",
        "outputId": "635b694c-403f-4210-f41a-b5b4aa92aab4",
        "colab": {
          "base_uri": "https://localhost:8080/"
        }
      },
      "source": [
        "x_teste = np.reshape(x_teste, (x_teste.shape[0], x_teste.shape[1], 1))\n",
        "x_teste.shape"
      ],
      "execution_count": 51,
      "outputs": [
        {
          "output_type": "execute_result",
          "data": {
            "text/plain": [
              "(19, 180, 1)"
            ]
          },
          "metadata": {
            "tags": []
          },
          "execution_count": 51
        }
      ]
    },
    {
      "cell_type": "code",
      "metadata": {
        "id": "BCHgtZR2YAB8",
        "outputId": "82c7ea78-1edc-4834-c71e-bb0652f29417",
        "colab": {
          "base_uri": "https://localhost:8080/"
        }
      },
      "source": [
        "previsao = model.predict(x_teste)\n",
        "previsao.shape"
      ],
      "execution_count": 52,
      "outputs": [
        {
          "output_type": "execute_result",
          "data": {
            "text/plain": [
              "(19, 1)"
            ]
          },
          "metadata": {
            "tags": []
          },
          "execution_count": 52
        }
      ]
    },
    {
      "cell_type": "code",
      "metadata": {
        "id": "qawOb_1sYMMz",
        "outputId": "ff0d105d-8cb2-4af9-ee76-4a98e6464e3c",
        "colab": {
          "base_uri": "https://localhost:8080/"
        }
      },
      "source": [
        "previsao = normalizador.inverse_transform(previsao)\n",
        "previsao.mean()"
      ],
      "execution_count": 53,
      "outputs": [
        {
          "output_type": "execute_result",
          "data": {
            "text/plain": [
              "16.25332"
            ]
          },
          "metadata": {
            "tags": []
          },
          "execution_count": 53
        }
      ]
    },
    {
      "cell_type": "code",
      "metadata": {
        "id": "hRMK433pYUTs",
        "outputId": "68a64179-a68f-4a9d-da18-15c46a7f5374",
        "colab": {
          "base_uri": "https://localhost:8080/"
        }
      },
      "source": [
        "preco_real_teste.mean()"
      ],
      "execution_count": 54,
      "outputs": [
        {
          "output_type": "execute_result",
          "data": {
            "text/plain": [
              "16.379473684210524"
            ]
          },
          "metadata": {
            "tags": []
          },
          "execution_count": 54
        }
      ]
    },
    {
      "cell_type": "code",
      "metadata": {
        "id": "yvczVSj3YYdj",
        "outputId": "4ba6069c-6744-4352-f920-edb05635d4d2",
        "colab": {
          "base_uri": "https://localhost:8080/"
        }
      },
      "source": [
        "preco_real_teste.mean() - previsao.mean()"
      ],
      "execution_count": 55,
      "outputs": [
        {
          "output_type": "execute_result",
          "data": {
            "text/plain": [
              "0.12615299024079718"
            ]
          },
          "metadata": {
            "tags": []
          },
          "execution_count": 55
        }
      ]
    },
    {
      "cell_type": "code",
      "metadata": {
        "id": "ZfGYj1LuYbxj",
        "outputId": "59085073-cba6-4080-9aa8-cb4e7998ee68",
        "colab": {
          "base_uri": "https://localhost:8080/",
          "height": 204
        }
      },
      "source": [
        "previsao_real = pd.DataFrame(list(zip(previsao, preco_real_teste)), columns= ['previsao', 'preço real'])\n",
        "previsao_real.tail()"
      ],
      "execution_count": 57,
      "outputs": [
        {
          "output_type": "execute_result",
          "data": {
            "text/html": [
              "<div>\n",
              "<style scoped>\n",
              "    .dataframe tbody tr th:only-of-type {\n",
              "        vertical-align: middle;\n",
              "    }\n",
              "\n",
              "    .dataframe tbody tr th {\n",
              "        vertical-align: top;\n",
              "    }\n",
              "\n",
              "    .dataframe thead th {\n",
              "        text-align: right;\n",
              "    }\n",
              "</style>\n",
              "<table border=\"1\" class=\"dataframe\">\n",
              "  <thead>\n",
              "    <tr style=\"text-align: right;\">\n",
              "      <th></th>\n",
              "      <th>previsao</th>\n",
              "      <th>preço real</th>\n",
              "    </tr>\n",
              "  </thead>\n",
              "  <tbody>\n",
              "    <tr>\n",
              "      <th>14</th>\n",
              "      <td>[14.702484]</td>\n",
              "      <td>[14.77]</td>\n",
              "    </tr>\n",
              "    <tr>\n",
              "      <th>15</th>\n",
              "      <td>[14.486528]</td>\n",
              "      <td>[14.26]</td>\n",
              "    </tr>\n",
              "    <tr>\n",
              "      <th>16</th>\n",
              "      <td>[14.062618]</td>\n",
              "      <td>[15.84]</td>\n",
              "    </tr>\n",
              "    <tr>\n",
              "      <th>17</th>\n",
              "      <td>[15.446341]</td>\n",
              "      <td>[16.09]</td>\n",
              "    </tr>\n",
              "    <tr>\n",
              "      <th>18</th>\n",
              "      <td>[15.723234]</td>\n",
              "      <td>[15.41]</td>\n",
              "    </tr>\n",
              "  </tbody>\n",
              "</table>\n",
              "</div>"
            ],
            "text/plain": [
              "       previsao preço real\n",
              "14  [14.702484]    [14.77]\n",
              "15  [14.486528]    [14.26]\n",
              "16  [14.062618]    [15.84]\n",
              "17  [15.446341]    [16.09]\n",
              "18  [15.723234]    [15.41]"
            ]
          },
          "metadata": {
            "tags": []
          },
          "execution_count": 57
        }
      ]
    },
    {
      "cell_type": "code",
      "metadata": {
        "id": "k5Hjc1C-YzBP",
        "outputId": "98e9a8b8-0de6-446f-90ef-342624eafb23",
        "colab": {
          "base_uri": "https://localhost:8080/",
          "height": 893
        }
      },
      "source": [
        "plt.figure(figsize = (20,15))\n",
        "plt.plot(preco_real_teste, color = 'red', label = 'Preço Real')\n",
        "plt.plot(previsao, color = 'green', label = 'Previsão')\n",
        "plt.title('Previsão vs Real - Stock')\n",
        "plt.xlabel('Tempo')\n",
        "plt.ylabel('Yahoo Finance Brasil')\n",
        "plt.legend()\n",
        "plt.show()"
      ],
      "execution_count": 59,
      "outputs": [
        {
          "output_type": "display_data",
          "data": {
            "image/png": "[encoded data removed]",
            "text/plain": [
              "<Figure size 1440x1080 with 1 Axes>"
            ]
          },
          "metadata": {
            "tags": [],
            "needs_background": "light"
          }
        }
      ]
    },
    {
      "cell_type": "code",
      "metadata": {
        "id": "mDGOKhogZoLJ"
      },
      "source": [
        ""
      ],
      "execution_count": null,
      "outputs": []
    }
  ]
}