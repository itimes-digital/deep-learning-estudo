{
  "nbformat": 4,
  "nbformat_minor": 0,
  "metadata": {
    "colab": {
      "name": "analise_petr4.ipynb",
      "provenance": [],
      "authorship_tag": "ABX9TyNWtIvq3Zii4c1fxEtxNqf/",
      "include_colab_link": true
    },
    "kernelspec": {
      "name": "python3",
      "display_name": "Python 3"
    }
  },
  "cells": [
    {
      "cell_type": "markdown",
      "metadata": {
        "id": "view-in-github",
        "colab_type": "text"
      },
      "source": [
        "<a href=\"https://colab.research.google.com/github/itimes-digital/deep-learning-estudo/blob/main/analise_petr4.ipynb\" target=\"_parent\"><img src=\"https://colab.research.google.com/assets/colab-badge.svg\" alt=\"Open In Colab\"/></a>"
      ]
    },
    {
      "cell_type": "code",
      "metadata": {
        "id": "Biu4BIRUIju8"
      },
      "source": [
        "import pandas as pd\n",
        "import numpy as np"
      ],
      "execution_count": 5,
      "outputs": []
    },
    {
      "cell_type": "code",
      "metadata": {
        "id": "wGq481yQSd0O"
      },
      "source": [
        "from keras.models import Sequential\n",
        "from keras.layers import Dense, Dropout, LSTM\n",
        "from sklearn.preprocessing import MinMaxScaler\n",
        "import matplotlib.pyplot as plt"
      ],
      "execution_count": 6,
      "outputs": []
    },
    {
      "cell_type": "code",
      "metadata": {
        "id": "Xf-GuJrJS35G"
      },
      "source": [
        "treinamento = pd.read_csv('https://raw.githubusercontent.com/itimes-digital/deep-learning-estudo/main/dataset/petr4_treinamento_ex.csv')"
      ],
      "execution_count": 7,
      "outputs": []
    },
    {
      "cell_type": "code",
      "metadata": {
        "id": "ifRyapdkTzse",
        "outputId": "4420190e-346e-4373-eeb7-56e26be144fc",
        "colab": {
          "base_uri": "https://localhost:8080/",
          "height": 204
        }
      },
      "source": [
        "treinamento.head()"
      ],
      "execution_count": 8,
      "outputs": [
        {
          "output_type": "execute_result",
          "data": {
            "text/html": [
              "<div>\n",
              "<style scoped>\n",
              "    .dataframe tbody tr th:only-of-type {\n",
              "        vertical-align: middle;\n",
              "    }\n",
              "\n",
              "    .dataframe tbody tr th {\n",
              "        vertical-align: top;\n",
              "    }\n",
              "\n",
              "    .dataframe thead th {\n",
              "        text-align: right;\n",
              "    }\n",
              "</style>\n",
              "<table border=\"1\" class=\"dataframe\">\n",
              "  <thead>\n",
              "    <tr style=\"text-align: right;\">\n",
              "      <th></th>\n",
              "      <th>Date</th>\n",
              "      <th>Open</th>\n",
              "      <th>High</th>\n",
              "      <th>Low</th>\n",
              "      <th>Close</th>\n",
              "      <th>Adj Close</th>\n",
              "      <th>Volume</th>\n",
              "    </tr>\n",
              "  </thead>\n",
              "  <tbody>\n",
              "    <tr>\n",
              "      <th>0</th>\n",
              "      <td>2013-01-02</td>\n",
              "      <td>19.990000</td>\n",
              "      <td>20.209999</td>\n",
              "      <td>19.690001</td>\n",
              "      <td>19.690001</td>\n",
              "      <td>18.086271</td>\n",
              "      <td>30182600.0</td>\n",
              "    </tr>\n",
              "    <tr>\n",
              "      <th>1</th>\n",
              "      <td>2013-01-03</td>\n",
              "      <td>19.809999</td>\n",
              "      <td>20.400000</td>\n",
              "      <td>19.700001</td>\n",
              "      <td>20.400000</td>\n",
              "      <td>18.738441</td>\n",
              "      <td>30552600.0</td>\n",
              "    </tr>\n",
              "    <tr>\n",
              "      <th>2</th>\n",
              "      <td>2013-01-04</td>\n",
              "      <td>20.330000</td>\n",
              "      <td>20.620001</td>\n",
              "      <td>20.170000</td>\n",
              "      <td>20.430000</td>\n",
              "      <td>18.766001</td>\n",
              "      <td>36141000.0</td>\n",
              "    </tr>\n",
              "    <tr>\n",
              "      <th>3</th>\n",
              "      <td>2013-01-07</td>\n",
              "      <td>20.480000</td>\n",
              "      <td>20.670000</td>\n",
              "      <td>19.950001</td>\n",
              "      <td>20.080000</td>\n",
              "      <td>18.444506</td>\n",
              "      <td>28069600.0</td>\n",
              "    </tr>\n",
              "    <tr>\n",
              "      <th>4</th>\n",
              "      <td>2013-01-08</td>\n",
              "      <td>20.110001</td>\n",
              "      <td>20.230000</td>\n",
              "      <td>19.459999</td>\n",
              "      <td>19.500000</td>\n",
              "      <td>17.911745</td>\n",
              "      <td>29091300.0</td>\n",
              "    </tr>\n",
              "  </tbody>\n",
              "</table>\n",
              "</div>"
            ],
            "text/plain": [
              "         Date       Open       High  ...      Close  Adj Close      Volume\n",
              "0  2013-01-02  19.990000  20.209999  ...  19.690001  18.086271  30182600.0\n",
              "1  2013-01-03  19.809999  20.400000  ...  20.400000  18.738441  30552600.0\n",
              "2  2013-01-04  20.330000  20.620001  ...  20.430000  18.766001  36141000.0\n",
              "3  2013-01-07  20.480000  20.670000  ...  20.080000  18.444506  28069600.0\n",
              "4  2013-01-08  20.110001  20.230000  ...  19.500000  17.911745  29091300.0\n",
              "\n",
              "[5 rows x 7 columns]"
            ]
          },
          "metadata": {
            "tags": []
          },
          "execution_count": 8
        }
      ]
    },
    {
      "cell_type": "code",
      "metadata": {
        "id": "zKAQtintT4jK",
        "outputId": "baaf6c08-8a04-40c3-ca8d-43326c6e63ab",
        "colab": {
          "base_uri": "https://localhost:8080/",
          "height": 204
        }
      },
      "source": [
        "treinamento.tail()"
      ],
      "execution_count": 9,
      "outputs": [
        {
          "output_type": "execute_result",
          "data": {
            "text/html": [
              "<div>\n",
              "<style scoped>\n",
              "    .dataframe tbody tr th:only-of-type {\n",
              "        vertical-align: middle;\n",
              "    }\n",
              "\n",
              "    .dataframe tbody tr th {\n",
              "        vertical-align: top;\n",
              "    }\n",
              "\n",
              "    .dataframe thead th {\n",
              "        text-align: right;\n",
              "    }\n",
              "</style>\n",
              "<table border=\"1\" class=\"dataframe\">\n",
              "  <thead>\n",
              "    <tr style=\"text-align: right;\">\n",
              "      <th></th>\n",
              "      <th>Date</th>\n",
              "      <th>Open</th>\n",
              "      <th>High</th>\n",
              "      <th>Low</th>\n",
              "      <th>Close</th>\n",
              "      <th>Adj Close</th>\n",
              "      <th>Volume</th>\n",
              "    </tr>\n",
              "  </thead>\n",
              "  <tbody>\n",
              "    <tr>\n",
              "      <th>1340</th>\n",
              "      <td>2018-05-21</td>\n",
              "      <td>26.100000</td>\n",
              "      <td>26.290001</td>\n",
              "      <td>24.940001</td>\n",
              "      <td>25.049999</td>\n",
              "      <td>25.000000</td>\n",
              "      <td>75971900.0</td>\n",
              "    </tr>\n",
              "    <tr>\n",
              "      <th>1341</th>\n",
              "      <td>2018-05-22</td>\n",
              "      <td>24.809999</td>\n",
              "      <td>25.290001</td>\n",
              "      <td>24.150000</td>\n",
              "      <td>24.709999</td>\n",
              "      <td>24.709999</td>\n",
              "      <td>88109900.0</td>\n",
              "    </tr>\n",
              "    <tr>\n",
              "      <th>1342</th>\n",
              "      <td>2018-05-23</td>\n",
              "      <td>24.230000</td>\n",
              "      <td>24.480000</td>\n",
              "      <td>23.270000</td>\n",
              "      <td>23.270000</td>\n",
              "      <td>23.270000</td>\n",
              "      <td>74622500.0</td>\n",
              "    </tr>\n",
              "    <tr>\n",
              "      <th>1343</th>\n",
              "      <td>2018-05-24</td>\n",
              "      <td>20.049999</td>\n",
              "      <td>20.750000</td>\n",
              "      <td>19.650000</td>\n",
              "      <td>20.080000</td>\n",
              "      <td>20.080000</td>\n",
              "      <td>240343800.0</td>\n",
              "    </tr>\n",
              "    <tr>\n",
              "      <th>1344</th>\n",
              "      <td>2018-05-25</td>\n",
              "      <td>20.650000</td>\n",
              "      <td>21.270000</td>\n",
              "      <td>19.660000</td>\n",
              "      <td>19.799999</td>\n",
              "      <td>19.799999</td>\n",
              "      <td>131188100.0</td>\n",
              "    </tr>\n",
              "  </tbody>\n",
              "</table>\n",
              "</div>"
            ],
            "text/plain": [
              "            Date       Open       High  ...      Close  Adj Close       Volume\n",
              "1340  2018-05-21  26.100000  26.290001  ...  25.049999  25.000000   75971900.0\n",
              "1341  2018-05-22  24.809999  25.290001  ...  24.709999  24.709999   88109900.0\n",
              "1342  2018-05-23  24.230000  24.480000  ...  23.270000  23.270000   74622500.0\n",
              "1343  2018-05-24  20.049999  20.750000  ...  20.080000  20.080000  240343800.0\n",
              "1344  2018-05-25  20.650000  21.270000  ...  19.799999  19.799999  131188100.0\n",
              "\n",
              "[5 rows x 7 columns]"
            ]
          },
          "metadata": {
            "tags": []
          },
          "execution_count": 9
        }
      ]
    },
    {
      "cell_type": "code",
      "metadata": {
        "id": "G68DP-5fT8Gd",
        "outputId": "ad23265e-f0ee-49ce-a1d5-1f7c297c5e81",
        "colab": {
          "base_uri": "https://localhost:8080/"
        }
      },
      "source": [
        "treinamento.info()"
      ],
      "execution_count": 10,
      "outputs": [
        {
          "output_type": "stream",
          "text": [
            "<class 'pandas.core.frame.DataFrame'>\n",
            "RangeIndex: 1345 entries, 0 to 1344\n",
            "Data columns (total 7 columns):\n",
            " #   Column     Non-Null Count  Dtype  \n",
            "---  ------     --------------  -----  \n",
            " 0   Date       1345 non-null   object \n",
            " 1   Open       1342 non-null   float64\n",
            " 2   High       1342 non-null   float64\n",
            " 3   Low        1342 non-null   float64\n",
            " 4   Close      1342 non-null   float64\n",
            " 5   Adj Close  1342 non-null   float64\n",
            " 6   Volume     1342 non-null   float64\n",
            "dtypes: float64(6), object(1)\n",
            "memory usage: 73.7+ KB\n"
          ],
          "name": "stdout"
        }
      ]
    },
    {
      "cell_type": "code",
      "metadata": {
        "id": "TEqZLf-MT-v1"
      },
      "source": [
        "treinamento.dropna(inplace=True)"
      ],
      "execution_count": 11,
      "outputs": []
    },
    {
      "cell_type": "code",
      "metadata": {
        "id": "ASoSTfA6UDrF",
        "outputId": "a6a9ad13-95db-43d3-8fa6-33ab0a07ee78",
        "colab": {
          "base_uri": "https://localhost:8080/"
        }
      },
      "source": [
        "treinamento.info()"
      ],
      "execution_count": 12,
      "outputs": [
        {
          "output_type": "stream",
          "text": [
            "<class 'pandas.core.frame.DataFrame'>\n",
            "Int64Index: 1342 entries, 0 to 1344\n",
            "Data columns (total 7 columns):\n",
            " #   Column     Non-Null Count  Dtype  \n",
            "---  ------     --------------  -----  \n",
            " 0   Date       1342 non-null   object \n",
            " 1   Open       1342 non-null   float64\n",
            " 2   High       1342 non-null   float64\n",
            " 3   Low        1342 non-null   float64\n",
            " 4   Close      1342 non-null   float64\n",
            " 5   Adj Close  1342 non-null   float64\n",
            " 6   Volume     1342 non-null   float64\n",
            "dtypes: float64(6), object(1)\n",
            "memory usage: 83.9+ KB\n"
          ],
          "name": "stdout"
        }
      ]
    },
    {
      "cell_type": "code",
      "metadata": {
        "id": "QCUPukrLUIug",
        "outputId": "3847b13e-a799-4ec1-d8b5-ee871124123e",
        "colab": {
          "base_uri": "https://localhost:8080/"
        }
      },
      "source": [
        "treinamento_open = treinamento.iloc[:, 1:2].values\n",
        "treinamento_open"
      ],
      "execution_count": 13,
      "outputs": [
        {
          "output_type": "execute_result",
          "data": {
            "text/plain": [
              "array([[19.99    ],\n",
              "       [19.809999],\n",
              "       [20.33    ],\n",
              "       ...,\n",
              "       [24.23    ],\n",
              "       [20.049999],\n",
              "       [20.65    ]])"
            ]
          },
          "metadata": {
            "tags": []
          },
          "execution_count": 13
        }
      ]
    },
    {
      "cell_type": "code",
      "metadata": {
        "id": "Hpjfc2RPUSgN",
        "outputId": "4396dc9c-6f6c-46af-be5a-1ff03d4ff7f7",
        "colab": {
          "base_uri": "https://localhost:8080/"
        }
      },
      "source": [
        "normalizador = MinMaxScaler(feature_range=(0,1))\n",
        "treinamento_open_normlizado = normalizador.fit_transform(treinamento_open)\n",
        "treinamento_open_normlizado"
      ],
      "execution_count": 14,
      "outputs": [
        {
          "output_type": "execute_result",
          "data": {
            "text/plain": [
              "array([[0.68207343],\n",
              "       [0.67429801],\n",
              "       [0.69676026],\n",
              "       ...,\n",
              "       [0.86522678],\n",
              "       [0.68466518],\n",
              "       [0.71058315]])"
            ]
          },
          "metadata": {
            "tags": []
          },
          "execution_count": 14
        }
      ]
    },
    {
      "cell_type": "code",
      "metadata": {
        "id": "laLJpiuVUwrX",
        "outputId": "8652f8e7-70bd-49f6-e93d-11ac19f26d41",
        "colab": {
          "base_uri": "https://localhost:8080/"
        }
      },
      "source": [
        "treinamento_open_normlizado.shape"
      ],
      "execution_count": 15,
      "outputs": [
        {
          "output_type": "execute_result",
          "data": {
            "text/plain": [
              "(1342, 1)"
            ]
          },
          "metadata": {
            "tags": []
          },
          "execution_count": 15
        }
      ]
    },
    {
      "cell_type": "code",
      "metadata": {
        "id": "O3pcx6TWUzXO"
      },
      "source": [
        "previsores = []\n",
        "preco_real = []\n",
        "ultimos_dias = 180\n",
        "\n",
        "for i in range(ultimos_dias, treinamento_open_normlizado.shape[0]):\n",
        "  previsores.append(treinamento_open_normlizado[i - ultimos_dias: i,0])\n",
        "  preco_real.append(treinamento_open_normlizado[i, 0])"
      ],
      "execution_count": 16,
      "outputs": []
    },
    {
      "cell_type": "code",
      "metadata": {
        "id": "pQbumDs0VogP",
        "outputId": "7f175380-78a6-493a-80ea-d79d40acfc62",
        "colab": {
          "base_uri": "https://localhost:8080/"
        }
      },
      "source": [
        "len(previsores)"
      ],
      "execution_count": 17,
      "outputs": [
        {
          "output_type": "execute_result",
          "data": {
            "text/plain": [
              "1162"
            ]
          },
          "metadata": {
            "tags": []
          },
          "execution_count": 17
        }
      ]
    },
    {
      "cell_type": "code",
      "metadata": {
        "id": "Flp4TlnFVrPv",
        "outputId": "0cde6fae-b7cd-498c-c11d-153c911f6ea5",
        "colab": {
          "base_uri": "https://localhost:8080/"
        }
      },
      "source": [
        "len(preco_real)"
      ],
      "execution_count": 18,
      "outputs": [
        {
          "output_type": "execute_result",
          "data": {
            "text/plain": [
              "1162"
            ]
          },
          "metadata": {
            "tags": []
          },
          "execution_count": 18
        }
      ]
    },
    {
      "cell_type": "code",
      "metadata": {
        "id": "MqndXtLpVt-f"
      },
      "source": [
        "previsores, preco_real = np.array(previsores), np.array(preco_real)"
      ],
      "execution_count": 19,
      "outputs": []
    },
    {
      "cell_type": "code",
      "metadata": {
        "id": "s_kUBsTZV6QB",
        "outputId": "54a485a8-b6a5-4263-d6da-e0a999b8caa4",
        "colab": {
          "base_uri": "https://localhost:8080/"
        }
      },
      "source": [
        "previsores"
      ],
      "execution_count": 20,
      "outputs": [
        {
          "output_type": "execute_result",
          "data": {
            "text/plain": [
              "array([[0.68207343, 0.67429801, 0.69676026, ..., 0.64319654, 0.64319654,\n",
              "        0.64319654],\n",
              "       [0.67429801, 0.69676026, 0.70323974, ..., 0.64319654, 0.64319654,\n",
              "        0.62764579],\n",
              "       [0.69676026, 0.70323974, 0.68725706, ..., 0.64319654, 0.62764579,\n",
              "        0.63153348],\n",
              "       ...,\n",
              "       [0.45140389, 0.46738661, 0.47084233, ..., 0.89892009, 0.94600432,\n",
              "        0.89028073],\n",
              "       [0.46738661, 0.47084233, 0.46133909, ..., 0.94600432, 0.89028073,\n",
              "        0.86522678],\n",
              "       [0.47084233, 0.46133909, 0.46565875, ..., 0.89028073, 0.86522678,\n",
              "        0.68466518]])"
            ]
          },
          "metadata": {
            "tags": []
          },
          "execution_count": 20
        }
      ]
    },
    {
      "cell_type": "code",
      "metadata": {
        "id": "uUhws1mUV6lv",
        "outputId": "f3970a0d-6bd8-41a8-907c-711c8c0a1896",
        "colab": {
          "base_uri": "https://localhost:8080/"
        }
      },
      "source": [
        "previsores.shape"
      ],
      "execution_count": 21,
      "outputs": [
        {
          "output_type": "execute_result",
          "data": {
            "text/plain": [
              "(1162, 180)"
            ]
          },
          "metadata": {
            "tags": []
          },
          "execution_count": 21
        }
      ]
    },
    {
      "cell_type": "code",
      "metadata": {
        "id": "xLnMy6aSV9gw",
        "outputId": "c7c41428-052f-461e-b051-0ab5738426b6",
        "colab": {
          "base_uri": "https://localhost:8080/"
        }
      },
      "source": [
        "previsores = np.reshape(previsores, (previsores.shape[0], previsores.shape[1], 1))\n",
        "previsores.shape"
      ],
      "execution_count": 22,
      "outputs": [
        {
          "output_type": "execute_result",
          "data": {
            "text/plain": [
              "(1162, 180, 1)"
            ]
          },
          "metadata": {
            "tags": []
          },
          "execution_count": 22
        }
      ]
    },
    {
      "cell_type": "code",
      "metadata": {
        "id": "MJgv9aN3WOKD",
        "outputId": "04febcc0-a00d-401e-da25-44665af0cb35",
        "colab": {
          "base_uri": "https://localhost:8080/"
        }
      },
      "source": [
        "model = Sequential()\n",
        "\n",
        "model.add(LSTM(units = 180, return_sequences = True, input_shape = (previsores.shape[1], 1)))\n",
        "model.add(Dropout(0.2))\n",
        "\n",
        "model.add(LSTM(units = 150, return_sequences = True))\n",
        "model.add(Dropout(0.2))\n",
        "\n",
        "model.add(LSTM(units = 100))\n",
        "model.add(Dropout(0.2))\n",
        "\n",
        "model.add(Dense(units = 1, activation = 'linear'))\n",
        "\n",
        "model.compile(optimizer = 'rmsprop', \n",
        "              loss = 'mean_squared_error',\n",
        "              metrics = ['mean_absolute_error'])\n",
        "\n",
        "model.summary()"
      ],
      "execution_count": 24,
      "outputs": [
        {
          "output_type": "stream",
          "text": [
            "Model: \"sequential_1\"\n",
            "_________________________________________________________________\n",
            "Layer (type)                 Output Shape              Param #   \n",
            "=================================================================\n",
            "lstm_1 (LSTM)                (None, 180, 180)          131040    \n",
            "_________________________________________________________________\n",
            "dropout (Dropout)            (None, 180, 180)          0         \n",
            "_________________________________________________________________\n",
            "lstm_2 (LSTM)                (None, 180, 150)          198600    \n",
            "_________________________________________________________________\n",
            "dropout_1 (Dropout)          (None, 180, 150)          0         \n",
            "_________________________________________________________________\n",
            "lstm_3 (LSTM)                (None, 100)               100400    \n",
            "_________________________________________________________________\n",
            "dropout_2 (Dropout)          (None, 100)               0         \n",
            "_________________________________________________________________\n",
            "dense (Dense)                (None, 1)                 101       \n",
            "=================================================================\n",
            "Total params: 430,141\n",
            "Trainable params: 430,141\n",
            "Non-trainable params: 0\n",
            "_________________________________________________________________\n"
          ],
          "name": "stdout"
        }
      ]
    },
    {
      "cell_type": "code",
      "metadata": {
        "id": "atXypXKUXgA2"
      },
      "source": [
        "history_ = model.fit(previsores, preco_real, epochs = 500, batch_size = 32)"
      ],
      "execution_count": null,
      "outputs": []
    },
    {
      "cell_type": "code",
      "metadata": {
        "id": "g9rk150SXxrv"
      },
      "source": [
        "np.mean(history_.history['mean_absolute_error'])"
      ],
      "execution_count": null,
      "outputs": []
    },
    {
      "cell_type": "code",
      "metadata": {
        "id": "dSLd13-DX6y8"
      },
      "source": [
        "plt.figure(figsize = (15, 10))\n",
        "plt.plot(history_.history['mean_absolute_error'], color = 'red', label = 'mean_absolute_error')\n",
        "plt.plot(history_.history['mean_squared_error'], color = 'green', label = 'mean_squared_error')\n",
        "plt.title('Loss vs Error')\n",
        "plt.legend()\n",
        "plt.show()"
      ],
      "execution_count": null,
      "outputs": []
    }
  ]
}