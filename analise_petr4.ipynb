{
  "nbformat": 4,
  "nbformat_minor": 0,
  "metadata": {
    "colab": {
      "name": "analise_petr4.ipynb",
      "provenance": [],
      "authorship_tag": "ABX9TyNdDRzxnLzXr8nKzTvqwdAJ",
      "include_colab_link": true
    },
    "kernelspec": {
      "name": "python3",
      "display_name": "Python 3"
    }
  },
  "cells": [
    {
      "cell_type": "markdown",
      "metadata": {
        "id": "view-in-github",
        "colab_type": "text"
      },
      "source": [
        "<a href=\"https://colab.research.google.com/github/itimes-digital/deep-learning-estudo/blob/main/analise_petr4.ipynb\" target=\"_parent\"><img src=\"https://colab.research.google.com/assets/colab-badge.svg\" alt=\"Open In Colab\"/></a>"
      ]
    },
    {
      "cell_type": "code",
      "metadata": {
        "id": "Biu4BIRUIju8"
      },
      "source": [
        "import pandas as pd\n",
        "import numpy as np"
      ],
      "execution_count": 5,
      "outputs": []
    },
    {
      "cell_type": "code",
      "metadata": {
        "id": "wGq481yQSd0O"
      },
      "source": [
        "from keras.models import Sequential\n",
        "from keras.layers import Dense, Dropout, LSTM\n",
        "from sklearn.preprocessing import MinMaxScaler\n",
        "import matplotlib.pyplot as plt"
      ],
      "execution_count": 6,
      "outputs": []
    },
    {
      "cell_type": "code",
      "metadata": {
        "id": "Xf-GuJrJS35G"
      },
      "source": [
        "treinamento = pd.read_csv('https://raw.githubusercontent.com/itimes-digital/deep-learning-estudo/main/dataset/petr4_treinamento_ex.csv')"
      ],
      "execution_count": 7,
      "outputs": []
    },
    {
      "cell_type": "code",
      "metadata": {
        "colab": {
          "base_uri": "https://localhost:8080/",
          "height": 204
        },
        "id": "ifRyapdkTzse",
        "outputId": "4420190e-346e-4373-eeb7-56e26be144fc"
      },
      "source": [
        "treinamento.head()"
      ],
      "execution_count": 8,
      "outputs": [
        {
          "output_type": "execute_result",
          "data": {
            "text/html": [
              "<div>\n",
              "<style scoped>\n",
              "    .dataframe tbody tr th:only-of-type {\n",
              "        vertical-align: middle;\n",
              "    }\n",
              "\n",
              "    .dataframe tbody tr th {\n",
              "        vertical-align: top;\n",
              "    }\n",
              "\n",
              "    .dataframe thead th {\n",
              "        text-align: right;\n",
              "    }\n",
              "</style>\n",
              "<table border=\"1\" class=\"dataframe\">\n",
              "  <thead>\n",
              "    <tr style=\"text-align: right;\">\n",
              "      <th></th>\n",
              "      <th>Date</th>\n",
              "      <th>Open</th>\n",
              "      <th>High</th>\n",
              "      <th>Low</th>\n",
              "      <th>Close</th>\n",
              "      <th>Adj Close</th>\n",
              "      <th>Volume</th>\n",
              "    </tr>\n",
              "  </thead>\n",
              "  <tbody>\n",
              "    <tr>\n",
              "      <th>0</th>\n",
              "      <td>2013-01-02</td>\n",
              "      <td>19.990000</td>\n",
              "      <td>20.209999</td>\n",
              "      <td>19.690001</td>\n",
              "      <td>19.690001</td>\n",
              "      <td>18.086271</td>\n",
              "      <td>30182600.0</td>\n",
              "    </tr>\n",
              "    <tr>\n",
              "      <th>1</th>\n",
              "      <td>2013-01-03</td>\n",
              "      <td>19.809999</td>\n",
              "      <td>20.400000</td>\n",
              "      <td>19.700001</td>\n",
              "      <td>20.400000</td>\n",
              "      <td>18.738441</td>\n",
              "      <td>30552600.0</td>\n",
              "    </tr>\n",
              "    <tr>\n",
              "      <th>2</th>\n",
              "      <td>2013-01-04</td>\n",
              "      <td>20.330000</td>\n",
              "      <td>20.620001</td>\n",
              "      <td>20.170000</td>\n",
              "      <td>20.430000</td>\n",
              "      <td>18.766001</td>\n",
              "      <td>36141000.0</td>\n",
              "    </tr>\n",
              "    <tr>\n",
              "      <th>3</th>\n",
              "      <td>2013-01-07</td>\n",
              "      <td>20.480000</td>\n",
              "      <td>20.670000</td>\n",
              "      <td>19.950001</td>\n",
              "      <td>20.080000</td>\n",
              "      <td>18.444506</td>\n",
              "      <td>28069600.0</td>\n",
              "    </tr>\n",
              "    <tr>\n",
              "      <th>4</th>\n",
              "      <td>2013-01-08</td>\n",
              "      <td>20.110001</td>\n",
              "      <td>20.230000</td>\n",
              "      <td>19.459999</td>\n",
              "      <td>19.500000</td>\n",
              "      <td>17.911745</td>\n",
              "      <td>29091300.0</td>\n",
              "    </tr>\n",
              "  </tbody>\n",
              "</table>\n",
              "</div>"
            ],
            "text/plain": [
              "         Date       Open       High  ...      Close  Adj Close      Volume\n",
              "0  2013-01-02  19.990000  20.209999  ...  19.690001  18.086271  30182600.0\n",
              "1  2013-01-03  19.809999  20.400000  ...  20.400000  18.738441  30552600.0\n",
              "2  2013-01-04  20.330000  20.620001  ...  20.430000  18.766001  36141000.0\n",
              "3  2013-01-07  20.480000  20.670000  ...  20.080000  18.444506  28069600.0\n",
              "4  2013-01-08  20.110001  20.230000  ...  19.500000  17.911745  29091300.0\n",
              "\n",
              "[5 rows x 7 columns]"
            ]
          },
          "metadata": {
            "tags": []
          },
          "execution_count": 8
        }
      ]
    },
    {
      "cell_type": "code",
      "metadata": {
        "colab": {
          "base_uri": "https://localhost:8080/",
          "height": 204
        },
        "id": "zKAQtintT4jK",
        "outputId": "baaf6c08-8a04-40c3-ca8d-43326c6e63ab"
      },
      "source": [
        "treinamento.tail()"
      ],
      "execution_count": 9,
      "outputs": [
        {
          "output_type": "execute_result",
          "data": {
            "text/html": [
              "<div>\n",
              "<style scoped>\n",
              "    .dataframe tbody tr th:only-of-type {\n",
              "        vertical-align: middle;\n",
              "    }\n",
              "\n",
              "    .dataframe tbody tr th {\n",
              "        vertical-align: top;\n",
              "    }\n",
              "\n",
              "    .dataframe thead th {\n",
              "        text-align: right;\n",
              "    }\n",
              "</style>\n",
              "<table border=\"1\" class=\"dataframe\">\n",
              "  <thead>\n",
              "    <tr style=\"text-align: right;\">\n",
              "      <th></th>\n",
              "      <th>Date</th>\n",
              "      <th>Open</th>\n",
              "      <th>High</th>\n",
              "      <th>Low</th>\n",
              "      <th>Close</th>\n",
              "      <th>Adj Close</th>\n",
              "      <th>Volume</th>\n",
              "    </tr>\n",
              "  </thead>\n",
              "  <tbody>\n",
              "    <tr>\n",
              "      <th>1340</th>\n",
              "      <td>2018-05-21</td>\n",
              "      <td>26.100000</td>\n",
              "      <td>26.290001</td>\n",
              "      <td>24.940001</td>\n",
              "      <td>25.049999</td>\n",
              "      <td>25.000000</td>\n",
              "      <td>75971900.0</td>\n",
              "    </tr>\n",
              "    <tr>\n",
              "      <th>1341</th>\n",
              "      <td>2018-05-22</td>\n",
              "      <td>24.809999</td>\n",
              "      <td>25.290001</td>\n",
              "      <td>24.150000</td>\n",
              "      <td>24.709999</td>\n",
              "      <td>24.709999</td>\n",
              "      <td>88109900.0</td>\n",
              "    </tr>\n",
              "    <tr>\n",
              "      <th>1342</th>\n",
              "      <td>2018-05-23</td>\n",
              "      <td>24.230000</td>\n",
              "      <td>24.480000</td>\n",
              "      <td>23.270000</td>\n",
              "      <td>23.270000</td>\n",
              "      <td>23.270000</td>\n",
              "      <td>74622500.0</td>\n",
              "    </tr>\n",
              "    <tr>\n",
              "      <th>1343</th>\n",
              "      <td>2018-05-24</td>\n",
              "      <td>20.049999</td>\n",
              "      <td>20.750000</td>\n",
              "      <td>19.650000</td>\n",
              "      <td>20.080000</td>\n",
              "      <td>20.080000</td>\n",
              "      <td>240343800.0</td>\n",
              "    </tr>\n",
              "    <tr>\n",
              "      <th>1344</th>\n",
              "      <td>2018-05-25</td>\n",
              "      <td>20.650000</td>\n",
              "      <td>21.270000</td>\n",
              "      <td>19.660000</td>\n",
              "      <td>19.799999</td>\n",
              "      <td>19.799999</td>\n",
              "      <td>131188100.0</td>\n",
              "    </tr>\n",
              "  </tbody>\n",
              "</table>\n",
              "</div>"
            ],
            "text/plain": [
              "            Date       Open       High  ...      Close  Adj Close       Volume\n",
              "1340  2018-05-21  26.100000  26.290001  ...  25.049999  25.000000   75971900.0\n",
              "1341  2018-05-22  24.809999  25.290001  ...  24.709999  24.709999   88109900.0\n",
              "1342  2018-05-23  24.230000  24.480000  ...  23.270000  23.270000   74622500.0\n",
              "1343  2018-05-24  20.049999  20.750000  ...  20.080000  20.080000  240343800.0\n",
              "1344  2018-05-25  20.650000  21.270000  ...  19.799999  19.799999  131188100.0\n",
              "\n",
              "[5 rows x 7 columns]"
            ]
          },
          "metadata": {
            "tags": []
          },
          "execution_count": 9
        }
      ]
    },
    {
      "cell_type": "code",
      "metadata": {
        "colab": {
          "base_uri": "https://localhost:8080/"
        },
        "id": "G68DP-5fT8Gd",
        "outputId": "ad23265e-f0ee-49ce-a1d5-1f7c297c5e81"
      },
      "source": [
        "treinamento.info()"
      ],
      "execution_count": 10,
      "outputs": [
        {
          "output_type": "stream",
          "text": [
            "<class 'pandas.core.frame.DataFrame'>\n",
            "RangeIndex: 1345 entries, 0 to 1344\n",
            "Data columns (total 7 columns):\n",
            " #   Column     Non-Null Count  Dtype  \n",
            "---  ------     --------------  -----  \n",
            " 0   Date       1345 non-null   object \n",
            " 1   Open       1342 non-null   float64\n",
            " 2   High       1342 non-null   float64\n",
            " 3   Low        1342 non-null   float64\n",
            " 4   Close      1342 non-null   float64\n",
            " 5   Adj Close  1342 non-null   float64\n",
            " 6   Volume     1342 non-null   float64\n",
            "dtypes: float64(6), object(1)\n",
            "memory usage: 73.7+ KB\n"
          ],
          "name": "stdout"
        }
      ]
    },
    {
      "cell_type": "code",
      "metadata": {
        "id": "TEqZLf-MT-v1"
      },
      "source": [
        "treinamento.dropna(inplace=True)"
      ],
      "execution_count": 11,
      "outputs": []
    },
    {
      "cell_type": "code",
      "metadata": {
        "colab": {
          "base_uri": "https://localhost:8080/"
        },
        "id": "ASoSTfA6UDrF",
        "outputId": "a6a9ad13-95db-43d3-8fa6-33ab0a07ee78"
      },
      "source": [
        "treinamento.info()"
      ],
      "execution_count": 12,
      "outputs": [
        {
          "output_type": "stream",
          "text": [
            "<class 'pandas.core.frame.DataFrame'>\n",
            "Int64Index: 1342 entries, 0 to 1344\n",
            "Data columns (total 7 columns):\n",
            " #   Column     Non-Null Count  Dtype  \n",
            "---  ------     --------------  -----  \n",
            " 0   Date       1342 non-null   object \n",
            " 1   Open       1342 non-null   float64\n",
            " 2   High       1342 non-null   float64\n",
            " 3   Low        1342 non-null   float64\n",
            " 4   Close      1342 non-null   float64\n",
            " 5   Adj Close  1342 non-null   float64\n",
            " 6   Volume     1342 non-null   float64\n",
            "dtypes: float64(6), object(1)\n",
            "memory usage: 83.9+ KB\n"
          ],
          "name": "stdout"
        }
      ]
    },
    {
      "cell_type": "code",
      "metadata": {
        "colab": {
          "base_uri": "https://localhost:8080/"
        },
        "id": "QCUPukrLUIug",
        "outputId": "3847b13e-a799-4ec1-d8b5-ee871124123e"
      },
      "source": [
        "treinamento_open = treinamento.iloc[:, 1:2].values\n",
        "treinamento_open"
      ],
      "execution_count": 13,
      "outputs": [
        {
          "output_type": "execute_result",
          "data": {
            "text/plain": [
              "array([[19.99    ],\n",
              "       [19.809999],\n",
              "       [20.33    ],\n",
              "       ...,\n",
              "       [24.23    ],\n",
              "       [20.049999],\n",
              "       [20.65    ]])"
            ]
          },
          "metadata": {
            "tags": []
          },
          "execution_count": 13
        }
      ]
    },
    {
      "cell_type": "code",
      "metadata": {
        "colab": {
          "base_uri": "https://localhost:8080/"
        },
        "id": "Hpjfc2RPUSgN",
        "outputId": "4396dc9c-6f6c-46af-be5a-1ff03d4ff7f7"
      },
      "source": [
        "normalizador = MinMaxScaler(feature_range=(0,1))\n",
        "treinamento_open_normlizado = normalizador.fit_transform(treinamento_open)\n",
        "treinamento_open_normlizado"
      ],
      "execution_count": 14,
      "outputs": [
        {
          "output_type": "execute_result",
          "data": {
            "text/plain": [
              "array([[0.68207343],\n",
              "       [0.67429801],\n",
              "       [0.69676026],\n",
              "       ...,\n",
              "       [0.86522678],\n",
              "       [0.68466518],\n",
              "       [0.71058315]])"
            ]
          },
          "metadata": {
            "tags": []
          },
          "execution_count": 14
        }
      ]
    },
    {
      "cell_type": "code",
      "metadata": {
        "colab": {
          "base_uri": "https://localhost:8080/"
        },
        "id": "laLJpiuVUwrX",
        "outputId": "8652f8e7-70bd-49f6-e93d-11ac19f26d41"
      },
      "source": [
        "treinamento_open_normlizado.shape"
      ],
      "execution_count": 15,
      "outputs": [
        {
          "output_type": "execute_result",
          "data": {
            "text/plain": [
              "(1342, 1)"
            ]
          },
          "metadata": {
            "tags": []
          },
          "execution_count": 15
        }
      ]
    },
    {
      "cell_type": "code",
      "metadata": {
        "id": "O3pcx6TWUzXO"
      },
      "source": [
        "previsores = []\n",
        "preco_real = []\n",
        "ultimos_dias = 180\n",
        "\n",
        "for i in range(ultimos_dias, treinamento_open_normlizado.shape[0]):\n",
        "  previsores.append(treinamento_open_normlizado[i - ultimos_dias: i,0])\n",
        "  preco_real.append(treinamento_open_normlizado[i, 0])"
      ],
      "execution_count": 16,
      "outputs": []
    },
    {
      "cell_type": "code",
      "metadata": {
        "colab": {
          "base_uri": "https://localhost:8080/"
        },
        "id": "pQbumDs0VogP",
        "outputId": "7f175380-78a6-493a-80ea-d79d40acfc62"
      },
      "source": [
        "len(previsores)"
      ],
      "execution_count": 17,
      "outputs": [
        {
          "output_type": "execute_result",
          "data": {
            "text/plain": [
              "1162"
            ]
          },
          "metadata": {
            "tags": []
          },
          "execution_count": 17
        }
      ]
    },
    {
      "cell_type": "code",
      "metadata": {
        "colab": {
          "base_uri": "https://localhost:8080/"
        },
        "id": "Flp4TlnFVrPv",
        "outputId": "0cde6fae-b7cd-498c-c11d-153c911f6ea5"
      },
      "source": [
        "len(preco_real)"
      ],
      "execution_count": 18,
      "outputs": [
        {
          "output_type": "execute_result",
          "data": {
            "text/plain": [
              "1162"
            ]
          },
          "metadata": {
            "tags": []
          },
          "execution_count": 18
        }
      ]
    },
    {
      "cell_type": "code",
      "metadata": {
        "id": "MqndXtLpVt-f"
      },
      "source": [
        "previsores, preco_real = np.array(previsores), np.array(preco_real)"
      ],
      "execution_count": 19,
      "outputs": []
    },
    {
      "cell_type": "code",
      "metadata": {
        "colab": {
          "base_uri": "https://localhost:8080/"
        },
        "id": "s_kUBsTZV6QB",
        "outputId": "54a485a8-b6a5-4263-d6da-e0a999b8caa4"
      },
      "source": [
        "previsores"
      ],
      "execution_count": 20,
      "outputs": [
        {
          "output_type": "execute_result",
          "data": {
            "text/plain": [
              "array([[0.68207343, 0.67429801, 0.69676026, ..., 0.64319654, 0.64319654,\n",
              "        0.64319654],\n",
              "       [0.67429801, 0.69676026, 0.70323974, ..., 0.64319654, 0.64319654,\n",
              "        0.62764579],\n",
              "       [0.69676026, 0.70323974, 0.68725706, ..., 0.64319654, 0.62764579,\n",
              "        0.63153348],\n",
              "       ...,\n",
              "       [0.45140389, 0.46738661, 0.47084233, ..., 0.89892009, 0.94600432,\n",
              "        0.89028073],\n",
              "       [0.46738661, 0.47084233, 0.46133909, ..., 0.94600432, 0.89028073,\n",
              "        0.86522678],\n",
              "       [0.47084233, 0.46133909, 0.46565875, ..., 0.89028073, 0.86522678,\n",
              "        0.68466518]])"
            ]
          },
          "metadata": {
            "tags": []
          },
          "execution_count": 20
        }
      ]
    },
    {
      "cell_type": "code",
      "metadata": {
        "colab": {
          "base_uri": "https://localhost:8080/"
        },
        "id": "uUhws1mUV6lv",
        "outputId": "f3970a0d-6bd8-41a8-907c-711c8c0a1896"
      },
      "source": [
        "previsores.shape"
      ],
      "execution_count": 21,
      "outputs": [
        {
          "output_type": "execute_result",
          "data": {
            "text/plain": [
              "(1162, 180)"
            ]
          },
          "metadata": {
            "tags": []
          },
          "execution_count": 21
        }
      ]
    },
    {
      "cell_type": "code",
      "metadata": {
        "colab": {
          "base_uri": "https://localhost:8080/"
        },
        "id": "xLnMy6aSV9gw",
        "outputId": "c7c41428-052f-461e-b051-0ab5738426b6"
      },
      "source": [
        "previsores = np.reshape(previsores, (previsores.shape[0], previsores.shape[1], 1))\n",
        "previsores.shape"
      ],
      "execution_count": 22,
      "outputs": [
        {
          "output_type": "execute_result",
          "data": {
            "text/plain": [
              "(1162, 180, 1)"
            ]
          },
          "metadata": {
            "tags": []
          },
          "execution_count": 22
        }
      ]
    },
    {
      "cell_type": "code",
      "metadata": {
        "colab": {
          "base_uri": "https://localhost:8080/"
        },
        "id": "MJgv9aN3WOKD",
        "outputId": "04febcc0-a00d-401e-da25-44665af0cb35"
      },
      "source": [
        "model = Sequential()\n",
        "\n",
        "model.add(LSTM(units = 180, return_sequences = True, input_shape = (previsores.shape[1], 1)))\n",
        "model.add(Dropout(0.2))\n",
        "\n",
        "model.add(LSTM(units = 150, return_sequences = True))\n",
        "model.add(Dropout(0.2))\n",
        "\n",
        "model.add(LSTM(units = 100))\n",
        "model.add(Dropout(0.2))\n",
        "\n",
        "model.add(Dense(units = 1, activation = 'linear'))\n",
        "\n",
        "model.compile(optimizer = 'rmsprop', \n",
        "              loss = 'mean_squared_error',\n",
        "              metrics = ['mean_absolute_error'])\n",
        "\n",
        "model.summary()"
      ],
      "execution_count": 24,
      "outputs": [
        {
          "output_type": "stream",
          "text": [
            "Model: \"sequential_1\"\n",
            "_________________________________________________________________\n",
            "Layer (type)                 Output Shape              Param #   \n",
            "=================================================================\n",
            "lstm_1 (LSTM)                (None, 180, 180)          131040    \n",
            "_________________________________________________________________\n",
            "dropout (Dropout)            (None, 180, 180)          0         \n",
            "_________________________________________________________________\n",
            "lstm_2 (LSTM)                (None, 180, 150)          198600    \n",
            "_________________________________________________________________\n",
            "dropout_1 (Dropout)          (None, 180, 150)          0         \n",
            "_________________________________________________________________\n",
            "lstm_3 (LSTM)                (None, 100)               100400    \n",
            "_________________________________________________________________\n",
            "dropout_2 (Dropout)          (None, 100)               0         \n",
            "_________________________________________________________________\n",
            "dense (Dense)                (None, 1)                 101       \n",
            "=================================================================\n",
            "Total params: 430,141\n",
            "Trainable params: 430,141\n",
            "Non-trainable params: 0\n",
            "_________________________________________________________________\n"
          ],
          "name": "stdout"
        }
      ]
    },
    {
      "cell_type": "code",
      "metadata": {
        "id": "atXypXKUXgA2"
      },
      "source": [
        "history_ = model.fit(previsores, preco_real, epochs = 500, batch_size = 32)"
      ],
      "execution_count": null,
      "outputs": []
    },
    {
      "cell_type": "code",
      "metadata": {
        "colab": {
          "base_uri": "https://localhost:8080/"
        },
        "id": "g9rk150SXxrv",
        "outputId": "b2adff8a-fcef-47f7-8da6-6aa8f2b31e6c"
      },
      "source": [
        "np.mean(history_.history['mean_absolute_error'])"
      ],
      "execution_count": 26,
      "outputs": [
        {
          "output_type": "execute_result",
          "data": {
            "text/plain": [
              "0.022514281343668698"
            ]
          },
          "metadata": {
            "tags": []
          },
          "execution_count": 26
        }
      ]
    },
    {
      "cell_type": "code",
      "metadata": {
        "colab": {
          "base_uri": "https://localhost:8080/"
        },
        "id": "L1YFdxghU5a9",
        "outputId": "bdda5624-4fe3-4795-8876-3c6df0731866"
      },
      "source": [
        "np.sum(history_.history['mean_absolute_error'])"
      ],
      "execution_count": 31,
      "outputs": [
        {
          "output_type": "execute_result",
          "data": {
            "text/plain": [
              "11.25714067183435"
            ]
          },
          "metadata": {
            "tags": []
          },
          "execution_count": 31
        }
      ]
    },
    {
      "cell_type": "code",
      "metadata": {
        "colab": {
          "base_uri": "https://localhost:8080/",
          "height": 607
        },
        "id": "dSLd13-DX6y8",
        "outputId": "c67461b5-745b-4f9f-f288-90a8ae589c37"
      },
      "source": [
        "plt.figure(figsize = (15, 10))\n",
        "plt.plot(history_.history['mean_absolute_error'], color = 'red', label = 'mean_absolute_error')\n",
        "plt.plot(history_.history['loss'], color = 'green', label = 'mean_squared_error')\n",
        "plt.title('Loss vs Error')\n",
        "plt.legend()\n",
        "plt.show()"
      ],
      "execution_count": 30,
      "outputs": [
        {
          "output_type": "display_data",
          "data": {
            "image/png": "[encoded data removed]",
            "text/plain": [
              "<Figure size 1080x720 with 1 Axes>"
            ]
          },
          "metadata": {
            "tags": [],
            "needs_background": "light"
          }
        }
      ]
    },
    {
      "cell_type": "code",
      "metadata": {
        "colab": {
          "base_uri": "https://localhost:8080/",
          "height": 204
        },
        "id": "rp31BfVnUSPJ",
        "outputId": "9ea6b4fa-b072-4373-fde4-cd61c64a7e58"
      },
      "source": [
        "base_teste = pd.read_csv('https://raw.githubusercontent.com/itimes-digital/deep-learning-estudo/main/dataset/petr4_teste_ex.csv')\n",
        "base_teste.head()"
      ],
      "execution_count": 40,
      "outputs": [
        {
          "output_type": "execute_result",
          "data": {
            "text/html": [
              "<div>\n",
              "<style scoped>\n",
              "    .dataframe tbody tr th:only-of-type {\n",
              "        vertical-align: middle;\n",
              "    }\n",
              "\n",
              "    .dataframe tbody tr th {\n",
              "        vertical-align: top;\n",
              "    }\n",
              "\n",
              "    .dataframe thead th {\n",
              "        text-align: right;\n",
              "    }\n",
              "</style>\n",
              "<table border=\"1\" class=\"dataframe\">\n",
              "  <thead>\n",
              "    <tr style=\"text-align: right;\">\n",
              "      <th></th>\n",
              "      <th>Date</th>\n",
              "      <th>Open</th>\n",
              "      <th>High</th>\n",
              "      <th>Low</th>\n",
              "      <th>Close</th>\n",
              "      <th>Adj Close</th>\n",
              "      <th>Volume</th>\n",
              "    </tr>\n",
              "  </thead>\n",
              "  <tbody>\n",
              "    <tr>\n",
              "      <th>0</th>\n",
              "      <td>2018-05-28</td>\n",
              "      <td>19.200001</td>\n",
              "      <td>19.200001</td>\n",
              "      <td>16.910000</td>\n",
              "      <td>16.910000</td>\n",
              "      <td>16.910000</td>\n",
              "      <td>134504900</td>\n",
              "    </tr>\n",
              "    <tr>\n",
              "      <th>1</th>\n",
              "      <td>2018-05-29</td>\n",
              "      <td>18.000000</td>\n",
              "      <td>19.440001</td>\n",
              "      <td>17.600000</td>\n",
              "      <td>19.299999</td>\n",
              "      <td>19.299999</td>\n",
              "      <td>181509800</td>\n",
              "    </tr>\n",
              "    <tr>\n",
              "      <th>2</th>\n",
              "      <td>2018-05-30</td>\n",
              "      <td>18.389999</td>\n",
              "      <td>19.969999</td>\n",
              "      <td>18.129999</td>\n",
              "      <td>18.980000</td>\n",
              "      <td>18.980000</td>\n",
              "      <td>125430000</td>\n",
              "    </tr>\n",
              "    <tr>\n",
              "      <th>3</th>\n",
              "      <td>2018-06-01</td>\n",
              "      <td>19.559999</td>\n",
              "      <td>19.750000</td>\n",
              "      <td>14.900000</td>\n",
              "      <td>16.160000</td>\n",
              "      <td>16.160000</td>\n",
              "      <td>216954700</td>\n",
              "    </tr>\n",
              "    <tr>\n",
              "      <th>4</th>\n",
              "      <td>2018-06-04</td>\n",
              "      <td>17.290001</td>\n",
              "      <td>17.639999</td>\n",
              "      <td>17.049999</td>\n",
              "      <td>17.530001</td>\n",
              "      <td>17.530001</td>\n",
              "      <td>93547600</td>\n",
              "    </tr>\n",
              "  </tbody>\n",
              "</table>\n",
              "</div>"
            ],
            "text/plain": [
              "         Date       Open       High        Low      Close  Adj Close     Volume\n",
              "0  2018-05-28  19.200001  19.200001  16.910000  16.910000  16.910000  134504900\n",
              "1  2018-05-29  18.000000  19.440001  17.600000  19.299999  19.299999  181509800\n",
              "2  2018-05-30  18.389999  19.969999  18.129999  18.980000  18.980000  125430000\n",
              "3  2018-06-01  19.559999  19.750000  14.900000  16.160000  16.160000  216954700\n",
              "4  2018-06-04  17.290001  17.639999  17.049999  17.530001  17.530001   93547600"
            ]
          },
          "metadata": {
            "tags": []
          },
          "execution_count": 40
        }
      ]
    },
    {
      "cell_type": "code",
      "metadata": {
        "colab": {
          "base_uri": "https://localhost:8080/"
        },
        "id": "ThGcsAwOXDdO",
        "outputId": "0d4c686b-b806-4aae-af9c-2793b191b987"
      },
      "source": [
        "base_teste.info()"
      ],
      "execution_count": 41,
      "outputs": [
        {
          "output_type": "stream",
          "text": [
            "<class 'pandas.core.frame.DataFrame'>\n",
            "RangeIndex: 19 entries, 0 to 18\n",
            "Data columns (total 7 columns):\n",
            " #   Column     Non-Null Count  Dtype  \n",
            "---  ------     --------------  -----  \n",
            " 0   Date       19 non-null     object \n",
            " 1   Open       19 non-null     float64\n",
            " 2   High       19 non-null     float64\n",
            " 3   Low        19 non-null     float64\n",
            " 4   Close      19 non-null     float64\n",
            " 5   Adj Close  19 non-null     float64\n",
            " 6   Volume     19 non-null     int64  \n",
            "dtypes: float64(5), int64(1), object(1)\n",
            "memory usage: 1.2+ KB\n"
          ],
          "name": "stdout"
        }
      ]
    },
    {
      "cell_type": "code",
      "metadata": {
        "colab": {
          "base_uri": "https://localhost:8080/"
        },
        "id": "MBoK6xARVSFL",
        "outputId": "3b47af63-8d28-402e-96e8-2c4b572018a8"
      },
      "source": [
        "preco_real_teste = base_teste.iloc[:, 1:2].values\n",
        "preco_real_teste"
      ],
      "execution_count": 42,
      "outputs": [
        {
          "output_type": "execute_result",
          "data": {
            "text/plain": [
              "array([[19.200001],\n",
              "       [18.      ],\n",
              "       [18.389999],\n",
              "       [19.559999],\n",
              "       [17.290001],\n",
              "       [17.360001],\n",
              "       [16.469999],\n",
              "       [16.      ],\n",
              "       [15.81    ],\n",
              "       [15.5     ],\n",
              "       [15.48    ],\n",
              "       [15.42    ],\n",
              "       [15.33    ],\n",
              "       [15.03    ],\n",
              "       [14.77    ],\n",
              "       [14.26    ],\n",
              "       [15.84    ],\n",
              "       [16.09    ],\n",
              "       [15.41    ]])"
            ]
          },
          "metadata": {
            "tags": []
          },
          "execution_count": 42
        }
      ]
    },
    {
      "cell_type": "code",
      "metadata": {
        "colab": {
          "base_uri": "https://localhost:8080/"
        },
        "id": "j0dFzQ00VgXK",
        "outputId": "03c36d12-1007-4cef-f950-87579ad75a3b"
      },
      "source": [
        "base_completa = pd.concat((treinamento['Open'], base_teste['Open']), axis=0)\n",
        "base_completa.shape"
      ],
      "execution_count": 43,
      "outputs": [
        {
          "output_type": "execute_result",
          "data": {
            "text/plain": [
              "(1361,)"
            ]
          },
          "metadata": {
            "tags": []
          },
          "execution_count": 43
        }
      ]
    },
    {
      "cell_type": "code",
      "metadata": {
        "colab": {
          "base_uri": "https://localhost:8080/"
        },
        "id": "L8u78D3zXOv1",
        "outputId": "bac7bd8d-6a36-4f96-beb0-55c758052787"
      },
      "source": [
        "len(base_completa) - len(base_teste) - ultimos_dias"
      ],
      "execution_count": 46,
      "outputs": [
        {
          "output_type": "execute_result",
          "data": {
            "text/plain": [
              "1162"
            ]
          },
          "metadata": {
            "tags": []
          },
          "execution_count": 46
        }
      ]
    },
    {
      "cell_type": "code",
      "metadata": {
        "colab": {
          "base_uri": "https://localhost:8080/"
        },
        "id": "zz7XHnccVvcZ",
        "outputId": "f1eeb9c4-e962-4cfc-8823-530b0b49d70b"
      },
      "source": [
        "entrada_base_completa = base_completa[len(base_completa) - len(base_teste) - ultimos_dias:].values\n",
        "entrada_base_completa"
      ],
      "execution_count": 47,
      "outputs": [
        {
          "output_type": "execute_result",
          "data": {
            "text/plain": [
              "array([14.88    , 14.98    , 14.94    , 15.03    , 15.07    , 15.02    ,\n",
              "       15.1     , 15.25    , 15.85    , 15.6     , 15.79    , 15.86    ,\n",
              "       15.7     , 15.37    , 15.5     , 15.19    , 15.6     , 15.9     ,\n",
              "       15.88    , 15.66    , 15.61    , 16.129999, 16.17    , 16.08    ,\n",
              "       16.23    , 16.16    , 16.139999, 16.219999, 16.      , 16.190001,\n",
              "       16.290001, 16.290001, 16.530001, 16.780001, 16.77    , 16.969999,\n",
              "       16.9     , 16.99    , 16.9     , 16.959999, 17.049999, 17.309999,\n",
              "       16.690001, 16.889999, 16.709999, 16.690001, 16.639999, 15.35    ,\n",
              "       15.62    , 15.92    , 16.02    , 16.15    , 16.09    , 15.98    ,\n",
              "       16.25    , 16.01    , 15.93    , 15.87    , 15.3     , 15.34    ,\n",
              "       15.65    , 15.5     , 15.22    , 15.3     , 15.51    , 15.48    ,\n",
              "       15.36    , 15.65    , 15.1     , 15.05    , 15.16    , 15.18    ,\n",
              "       15.21    , 15.31    , 15.75    , 15.75    , 15.75    , 15.99    ,\n",
              "       16.1     , 16.1     , 16.190001, 16.49    , 16.780001, 16.700001,\n",
              "       16.74    , 17.030001, 16.92    , 16.879999, 17.040001, 17.32    ,\n",
              "       17.35    , 17.92    , 18.35    , 18.309999, 18.26    , 18.4     ,\n",
              "       18.42    , 19.34    , 19.620001, 19.67    , 19.77    , 19.74    ,\n",
              "       19.76    , 20.299999, 19.65    , 18.66    , 19.969999, 19.549999,\n",
              "       19.030001, 19.01    , 19.5     , 19.459999, 19.549999, 19.879999,\n",
              "       20.59    , 20.59    , 20.950001, 21.4     , 21.469999, 21.629999,\n",
              "       21.4     , 20.700001, 21.49    , 22.5     , 21.690001, 21.85    ,\n",
              "       21.780001, 22.540001, 22.450001, 22.299999, 22.049999, 21.469999,\n",
              "       21.27    , 21.18    , 21.25    , 21.860001, 21.610001, 22.07    ,\n",
              "       22.139999, 21.26    , 21.26    , 21.360001, 21.110001, 20.309999,\n",
              "       21.15    , 20.98    , 21.43    , 20.91    , 21.35    , 21.790001,\n",
              "       21.639999, 21.049999, 20.700001, 21.35    , 22.07    , 22.059999,\n",
              "       22.09    , 22.6     , 22.01    , 22.      , 22.84    , 22.73    ,\n",
              "       22.67    , 22.540001, 22.450001, 22.57    , 23.059999, 23.299999,\n",
              "       25.139999, 25.83    , 25.85    , 26.35    , 26.870001, 27.35    ,\n",
              "       25.01    , 26.1     , 24.809999, 24.23    , 20.049999, 20.65    ,\n",
              "       19.200001, 18.      , 18.389999, 19.559999, 17.290001, 17.360001,\n",
              "       16.469999, 16.      , 15.81    , 15.5     , 15.48    , 15.42    ,\n",
              "       15.33    , 15.03    , 14.77    , 14.26    , 15.84    , 16.09    ,\n",
              "       15.41    ])"
            ]
          },
          "metadata": {
            "tags": []
          },
          "execution_count": 47
        }
      ]
    },
    {
      "cell_type": "code",
      "metadata": {
        "colab": {
          "base_uri": "https://localhost:8080/"
        },
        "id": "Dk1c5JGSWDYF",
        "outputId": "aee97857-5382-4f03-f064-e3468bd9875f"
      },
      "source": [
        "entrada_base_completa = entrada_base_completa.reshape(-1, 1)\n",
        "entrada_base_completa.shape"
      ],
      "execution_count": 48,
      "outputs": [
        {
          "output_type": "execute_result",
          "data": {
            "text/plain": [
              "(199, 1)"
            ]
          },
          "metadata": {
            "tags": []
          },
          "execution_count": 48
        }
      ]
    },
    {
      "cell_type": "code",
      "metadata": {
        "id": "J3A1z3dgWQE5"
      },
      "source": [
        "entrada_base_completa = normalizador.transform(entrada_base_completa);"
      ],
      "execution_count": 49,
      "outputs": []
    },
    {
      "cell_type": "code",
      "metadata": {
        "colab": {
          "base_uri": "https://localhost:8080/"
        },
        "id": "9iSn1fLCWc2l",
        "outputId": "aeba5b96-f69d-4c9b-cbcd-4f3ba874e584"
      },
      "source": [
        "x_teste = []\n",
        "\n",
        "for i in range(ultimos_dias, 199):\n",
        "  x_teste.append(entrada_base_completa[i - ultimos_dias: i,0])\n",
        "\n",
        "x_teste = np.array(x_teste)\n",
        "x_teste"
      ],
      "execution_count": 50,
      "outputs": [
        {
          "output_type": "execute_result",
          "data": {
            "text/plain": [
              "array([[0.46133909, 0.46565875, 0.46393089, ..., 0.86522678, 0.68466518,\n",
              "        0.71058315],\n",
              "       [0.46565875, 0.46393089, 0.46781857, ..., 0.68466518, 0.71058315,\n",
              "        0.64794821],\n",
              "       [0.46393089, 0.46781857, 0.46954644, ..., 0.71058315, 0.64794821,\n",
              "        0.59611231],\n",
              "       ...,\n",
              "       [0.4924406 , 0.50539957, 0.50453564, ..., 0.46781857, 0.45658747,\n",
              "        0.43455724],\n",
              "       [0.50539957, 0.50453564, 0.4950324 , ..., 0.45658747, 0.43455724,\n",
              "        0.50280778],\n",
              "       [0.50453564, 0.4950324 , 0.49287257, ..., 0.43455724, 0.50280778,\n",
              "        0.51360691]])"
            ]
          },
          "metadata": {
            "tags": []
          },
          "execution_count": 50
        }
      ]
    },
    {
      "cell_type": "code",
      "metadata": {
        "colab": {
          "base_uri": "https://localhost:8080/"
        },
        "id": "hKoJgn5dW2hE",
        "outputId": "635b694c-403f-4210-f41a-b5b4aa92aab4"
      },
      "source": [
        "x_teste = np.reshape(x_teste, (x_teste.shape[0], x_teste.shape[1], 1))\n",
        "x_teste.shape"
      ],
      "execution_count": 51,
      "outputs": [
        {
          "output_type": "execute_result",
          "data": {
            "text/plain": [
              "(19, 180, 1)"
            ]
          },
          "metadata": {
            "tags": []
          },
          "execution_count": 51
        }
      ]
    },
    {
      "cell_type": "code",
      "metadata": {
        "colab": {
          "base_uri": "https://localhost:8080/"
        },
        "id": "BCHgtZR2YAB8",
        "outputId": "82c7ea78-1edc-4834-c71e-bb0652f29417"
      },
      "source": [
        "previsao = model.predict(x_teste)\n",
        "previsao.shape"
      ],
      "execution_count": 52,
      "outputs": [
        {
          "output_type": "execute_result",
          "data": {
            "text/plain": [
              "(19, 1)"
            ]
          },
          "metadata": {
            "tags": []
          },
          "execution_count": 52
        }
      ]
    },
    {
      "cell_type": "code",
      "metadata": {
        "colab": {
          "base_uri": "https://localhost:8080/"
        },
        "id": "qawOb_1sYMMz",
        "outputId": "ff0d105d-8cb2-4af9-ee76-4a98e6464e3c"
      },
      "source": [
        "previsao = normalizador.inverse_transform(previsao)\n",
        "previsao.mean()"
      ],
      "execution_count": 53,
      "outputs": [
        {
          "output_type": "execute_result",
          "data": {
            "text/plain": [
              "16.25332"
            ]
          },
          "metadata": {
            "tags": []
          },
          "execution_count": 53
        }
      ]
    },
    {
      "cell_type": "code",
      "metadata": {
        "colab": {
          "base_uri": "https://localhost:8080/"
        },
        "id": "hRMK433pYUTs",
        "outputId": "68a64179-a68f-4a9d-da18-15c46a7f5374"
      },
      "source": [
        "preco_real_teste.mean()"
      ],
      "execution_count": 54,
      "outputs": [
        {
          "output_type": "execute_result",
          "data": {
            "text/plain": [
              "16.379473684210524"
            ]
          },
          "metadata": {
            "tags": []
          },
          "execution_count": 54
        }
      ]
    },
    {
      "cell_type": "code",
      "metadata": {
        "colab": {
          "base_uri": "https://localhost:8080/"
        },
        "id": "yvczVSj3YYdj",
        "outputId": "4ba6069c-6744-4352-f920-edb05635d4d2"
      },
      "source": [
        "preco_real_teste.mean() - previsao.mean()"
      ],
      "execution_count": 55,
      "outputs": [
        {
          "output_type": "execute_result",
          "data": {
            "text/plain": [
              "0.12615299024079718"
            ]
          },
          "metadata": {
            "tags": []
          },
          "execution_count": 55
        }
      ]
    },
    {
      "cell_type": "code",
      "metadata": {
        "colab": {
          "base_uri": "https://localhost:8080/",
          "height": 204
        },
        "id": "ZfGYj1LuYbxj",
        "outputId": "59085073-cba6-4080-9aa8-cb4e7998ee68"
      },
      "source": [
        "previsao_real = pd.DataFrame(list(zip(previsao, preco_real_teste)), columns= ['previsao', 'preço real'])\n",
        "previsao_real.tail()"
      ],
      "execution_count": 57,
      "outputs": [
        {
          "output_type": "execute_result",
          "data": {
            "text/html": [
              "<div>\n",
              "<style scoped>\n",
              "    .dataframe tbody tr th:only-of-type {\n",
              "        vertical-align: middle;\n",
              "    }\n",
              "\n",
              "    .dataframe tbody tr th {\n",
              "        vertical-align: top;\n",
              "    }\n",
              "\n",
              "    .dataframe thead th {\n",
              "        text-align: right;\n",
              "    }\n",
              "</style>\n",
              "<table border=\"1\" class=\"dataframe\">\n",
              "  <thead>\n",
              "    <tr style=\"text-align: right;\">\n",
              "      <th></th>\n",
              "      <th>previsao</th>\n",
              "      <th>preço real</th>\n",
              "    </tr>\n",
              "  </thead>\n",
              "  <tbody>\n",
              "    <tr>\n",
              "      <th>14</th>\n",
              "      <td>[14.702484]</td>\n",
              "      <td>[14.77]</td>\n",
              "    </tr>\n",
              "    <tr>\n",
              "      <th>15</th>\n",
              "      <td>[14.486528]</td>\n",
              "      <td>[14.26]</td>\n",
              "    </tr>\n",
              "    <tr>\n",
              "      <th>16</th>\n",
              "      <td>[14.062618]</td>\n",
              "      <td>[15.84]</td>\n",
              "    </tr>\n",
              "    <tr>\n",
              "      <th>17</th>\n",
              "      <td>[15.446341]</td>\n",
              "      <td>[16.09]</td>\n",
              "    </tr>\n",
              "    <tr>\n",
              "      <th>18</th>\n",
              "      <td>[15.723234]</td>\n",
              "      <td>[15.41]</td>\n",
              "    </tr>\n",
              "  </tbody>\n",
              "</table>\n",
              "</div>"
            ],
            "text/plain": [
              "       previsao preço real\n",
              "14  [14.702484]    [14.77]\n",
              "15  [14.486528]    [14.26]\n",
              "16  [14.062618]    [15.84]\n",
              "17  [15.446341]    [16.09]\n",
              "18  [15.723234]    [15.41]"
            ]
          },
          "metadata": {
            "tags": []
          },
          "execution_count": 57
        }
      ]
    },
    {
      "cell_type": "code",
      "metadata": {
        "colab": {
          "base_uri": "https://localhost:8080/",
          "height": 893
        },
        "id": "k5Hjc1C-YzBP",
        "outputId": "25774c39-7f47-45ea-9d57-386ae13e9521"
      },
      "source": [
        "plt.figure(figsize = (20,15))\n",
        "plt.plot(previsao, color = 'green', label = 'Previsão')\n",
        "plt.plot(preco_real_teste, color = 'red', label = 'Preço Real')\n",
        "plt.title('Previsão vs Real - Yahoo Finance Brasil')\n",
        "plt.xlabel('Tempo')\n",
        "plt.ylabel('Preço')\n",
        "plt.legend()\n",
        "plt.show()"
      ],
      "execution_count": 60,
      "outputs": [
        {
          "output_type": "display_data",
          "data": {
            "image/png": "[encoded data removed]",
            "text/plain": [
              "<Figure size 1440x1080 with 1 Axes>"
            ]
          },
          "metadata": {
            "tags": [],
            "needs_background": "light"
          }
        }
      ]
    },
    {
      "cell_type": "code",
      "metadata": {
        "id": "mDGOKhogZoLJ"
      },
      "source": [
        ""
      ],
      "execution_count": null,
      "outputs": []
    }
  ]
}