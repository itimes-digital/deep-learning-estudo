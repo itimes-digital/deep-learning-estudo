{
  "nbformat": 4,
  "nbformat_minor": 0,
  "metadata": {
    "colab": {
      "name": "deep_autoencoders.ipynb",
      "provenance": [],
      "authorship_tag": "ABX9TyOwj0tBDr4wkqO/p2DEGw3z",
      "include_colab_link": true
    },
    "kernelspec": {
      "name": "python3",
      "display_name": "Python 3"
    }
  },
  "cells": [
    {
      "cell_type": "markdown",
      "metadata": {
        "id": "view-in-github",
        "colab_type": "text"
      },
      "source": [
        "<a href=\"https://colab.research.google.com/github/itimes-digital/deep-learning-estudo/blob/main/deep_autoencoders.ipynb\" target=\"_parent\"><img src=\"https://colab.research.google.com/assets/colab-badge.svg\" alt=\"Open In Colab\"/></a>"
      ]
    },
    {
      "cell_type": "code",
      "metadata": {
        "id": "aMWyk1XZjuEz"
      },
      "source": [
        "import matplotlib.pyplot as plt\n",
        "import numpy as np\n",
        "from keras.datasets import mnist\n",
        "from keras.models import Model, Sequential\n",
        "from keras.layers import Input, Dense"
      ],
      "execution_count": 1,
      "outputs": []
    },
    {
      "cell_type": "code",
      "metadata": {
        "id": "yZvnT-zxkSpy",
        "outputId": "e80e83ff-7733-4bbd-9b11-2eced035f78a",
        "colab": {
          "base_uri": "https://localhost:8080/"
        }
      },
      "source": [
        "(previsores_treinamento, _), (previsores_teste, _) = mnist.load_data()"
      ],
      "execution_count": 2,
      "outputs": [
        {
          "output_type": "stream",
          "text": [
            "Downloading data from https://storage.googleapis.com/tensorflow/tf-keras-datasets/mnist.npz\n",
            "11493376/11490434 [==============================] - 0s 0us/step\n"
          ],
          "name": "stdout"
        }
      ]
    },
    {
      "cell_type": "markdown",
      "metadata": {
        "id": "opFM3dX3lKIm"
      },
      "source": [
        "# Normalização dos dados"
      ]
    },
    {
      "cell_type": "code",
      "metadata": {
        "id": "9-se72fWkcJK"
      },
      "source": [
        "previsores_treinamento = previsores_treinamento.astype('float32') / 255\n",
        "previsores_teste = previsores_teste.astype('float32') / 255"
      ],
      "execution_count": 3,
      "outputs": []
    },
    {
      "cell_type": "code",
      "metadata": {
        "id": "dRsOic0Akr4A"
      },
      "source": [
        "previsores_treinamento = previsores_treinamento.reshape((len(previsores_treinamento), np.prod(previsores_treinamento.shape[1:])))\n",
        "previsores_teste = previsores_teste.reshape((len(previsores_teste), np.prod(previsores_teste.shape[1:])))"
      ],
      "execution_count": 5,
      "outputs": []
    },
    {
      "cell_type": "markdown",
      "metadata": {
        "id": "6XZnt2o5looo"
      },
      "source": [
        "# Criando o modelo"
      ]
    },
    {
      "cell_type": "markdown",
      "metadata": {
        "id": "5kZDJyj4lvo6"
      },
      "source": [
        "Dimensão do modelo Deep AutoEncoder: 784 -> 128 -> 64 -> 32 -> 64 -> 128 -> 784"
      ]
    },
    {
      "cell_type": "code",
      "metadata": {
        "id": "4r6kBUPKldT5",
        "outputId": "30c38c21-e28d-48ad-9ac9-d62497f119d3",
        "colab": {
          "base_uri": "https://localhost:8080/"
        }
      },
      "source": [
        "model = Sequential()\n",
        "\n",
        "#Encoder\n",
        "model.add(Dense(units = 128, activation = 'relu', input_dim = 784))\n",
        "model.add(Dense(units = 64, activation = 'relu'))\n",
        "model.add(Dense(units = 32, activation = 'relu'))\n",
        "\n",
        "#Decode\n",
        "model.add(Dense(units = 64, activation = 'relu'))\n",
        "model.add(Dense(units = 128, activation = 'relu'))\n",
        "model.add(Dense(units = 784, activation = 'sigmoid'))\n",
        "\n",
        "model.summary()"
      ],
      "execution_count": 6,
      "outputs": [
        {
          "output_type": "stream",
          "text": [
            "Model: \"sequential\"\n",
            "_________________________________________________________________\n",
            "Layer (type)                 Output Shape              Param #   \n",
            "=================================================================\n",
            "dense (Dense)                (None, 128)               100480    \n",
            "_________________________________________________________________\n",
            "dense_1 (Dense)              (None, 64)                8256      \n",
            "_________________________________________________________________\n",
            "dense_2 (Dense)              (None, 32)                2080      \n",
            "_________________________________________________________________\n",
            "dense_3 (Dense)              (None, 64)                2112      \n",
            "_________________________________________________________________\n",
            "dense_4 (Dense)              (None, 128)               8320      \n",
            "_________________________________________________________________\n",
            "dense_5 (Dense)              (None, 784)               101136    \n",
            "=================================================================\n",
            "Total params: 222,384\n",
            "Trainable params: 222,384\n",
            "Non-trainable params: 0\n",
            "_________________________________________________________________\n"
          ],
          "name": "stdout"
        }
      ]
    },
    {
      "cell_type": "code",
      "metadata": {
        "id": "WUEHf2RZmtcJ"
      },
      "source": [
        "model.compile(optimizer = 'adam', loss = 'binary_crossentropy', \n",
        "              metrics = ['accuracy'])"
      ],
      "execution_count": 7,
      "outputs": []
    },
    {
      "cell_type": "code",
      "metadata": {
        "id": "fUe4oKr3m4rP"
      },
      "source": [
        "history_ = model.fit(previsores_treinamento, previsores_treinamento,\n",
        "                     epochs = 100, batch_size = 256,\n",
        "                     validation_data = (previsores_teste, previsores_teste))"
      ],
      "execution_count": null,
      "outputs": []
    },
    {
      "cell_type": "code",
      "metadata": {
        "id": "pH4baivDnJET",
        "outputId": "0e7aa39a-f898-4b91-f81b-6da60885ee08",
        "colab": {
          "base_uri": "https://localhost:8080/"
        }
      },
      "source": [
        "np.mean(history_.history['accuracy'])"
      ],
      "execution_count": 18,
      "outputs": [
        {
          "output_type": "execute_result",
          "data": {
            "text/plain": [
              "0.0153911666944623"
            ]
          },
          "metadata": {
            "tags": []
          },
          "execution_count": 18
        }
      ]
    },
    {
      "cell_type": "code",
      "metadata": {
        "id": "N0XpNLT_oJE0"
      },
      "source": [
        "dimensao_original = Input(shape = (784,))\n",
        "camada_encoder0 = model.layers[0]\n",
        "camada_encoder1 = model.layers[1]\n",
        "camada_encoder2 = model.layers[2]"
      ],
      "execution_count": 19,
      "outputs": []
    },
    {
      "cell_type": "code",
      "metadata": {
        "id": "W92fUKLtovCs",
        "outputId": "053b83d0-4112-46f7-e5d4-db03a428357f",
        "colab": {
          "base_uri": "https://localhost:8080/"
        }
      },
      "source": [
        "encoder = Model(dimensao_original,\n",
        "                camada_encoder2(camada_encoder1(camada_encoder0(dimensao_original))))\n",
        "\n",
        "encoder.summary()"
      ],
      "execution_count": 20,
      "outputs": [
        {
          "output_type": "stream",
          "text": [
            "Model: \"functional_3\"\n",
            "_________________________________________________________________\n",
            "Layer (type)                 Output Shape              Param #   \n",
            "=================================================================\n",
            "input_2 (InputLayer)         [(None, 784)]             0         \n",
            "_________________________________________________________________\n",
            "dense (Dense)                (None, 128)               100480    \n",
            "_________________________________________________________________\n",
            "dense_1 (Dense)              (None, 64)                8256      \n",
            "_________________________________________________________________\n",
            "dense_2 (Dense)              (None, 32)                2080      \n",
            "=================================================================\n",
            "Total params: 110,816\n",
            "Trainable params: 110,816\n",
            "Non-trainable params: 0\n",
            "_________________________________________________________________\n"
          ],
          "name": "stdout"
        }
      ]
    },
    {
      "cell_type": "code",
      "metadata": {
        "id": "Y-QSQO_wo8fh"
      },
      "source": [
        "imagens_codificadas = encoder.predict(previsores_teste)\n",
        "imagens_decodificadas = model.predict(previsores_teste)"
      ],
      "execution_count": 21,
      "outputs": []
    },
    {
      "cell_type": "code",
      "metadata": {
        "id": "XMFJVdTYrBgq"
      },
      "source": [
        "numero_imagens = 10\n",
        "imagens_teste = np.random.randint(previsores_teste.shape[0], size = numero_imagens)"
      ],
      "execution_count": 25,
      "outputs": []
    },
    {
      "cell_type": "code",
      "metadata": {
        "id": "6XDbZ8-opOtn",
        "outputId": "b5bdd58d-4fd6-4128-9554-b022a6c14a09",
        "colab": {
          "base_uri": "https://localhost:8080/",
          "height": 348
        }
      },
      "source": [
        "plt.figure(figsize = (20,20))\n",
        "for i, indice_imagem in enumerate(imagens_teste):\n",
        "  #Imagem original\n",
        "  eixo = plt.subplot(10,10, i + 1)\n",
        "  plt.imshow(previsores_teste[indice_imagem].reshape(28,28))\n",
        "  plt.xticks(())\n",
        "  plt.yticks(())\n",
        "\n",
        "  #Imagem codificada\n",
        "  eixo = plt.subplot(10,10, i + 1 + numero_imagens)\n",
        "  plt.imshow(imagens_codificadas[indice_imagem].reshape(8,4))\n",
        "  plt.xticks(())\n",
        "  plt.yticks(())\n",
        "\n",
        "  #Imagem reconstruída\n",
        "  eixo = plt.subplot(10,10, i + 1 + numero_imagens * 2)\n",
        "  plt.imshow(imagens_decodificadas[indice_imagem].reshape(28,28))\n",
        "  plt.xticks(())\n",
        "  plt.yticks(())"
      ],
      "execution_count": 26,
      "outputs": [
        {
          "output_type": "display_data",
          "data": {
            "image/png": "[encoded data removed]",
            "text/plain": [
              "<Figure size 1440x1440 with 30 Axes>"
            ]
          },
          "metadata": {
            "tags": []
          }
        }
      ]
    },
    {
      "cell_type": "code",
      "metadata": {
        "id": "D-UrTy-3ub1U"
      },
      "source": [
        ""
      ],
      "execution_count": null,
      "outputs": []
    }
  ]
}