{
  "nbformat": 4,
  "nbformat_minor": 0,
  "metadata": {
    "colab": {
      "name": "deep_autoencoders.ipynb",
      "provenance": [],
      "authorship_tag": "ABX9TyPNdXedOxFdn/BLfXuhQBnz",
      "include_colab_link": true
    },
    "kernelspec": {
      "name": "python3",
      "display_name": "Python 3"
    }
  },
  "cells": [
    {
      "cell_type": "markdown",
      "metadata": {
        "id": "view-in-github",
        "colab_type": "text"
      },
      "source": [
        "<a href=\"https://colab.research.google.com/github/itimes-digital/deep-learning-estudo/blob/main/deep_autoencoders.ipynb\" target=\"_parent\"><img src=\"https://colab.research.google.com/assets/colab-badge.svg\" alt=\"Open In Colab\"/></a>"
      ]
    },
    {
      "cell_type": "code",
      "metadata": {
        "id": "aMWyk1XZjuEz"
      },
      "source": [
        "import matplotlib.pyplot as plt\n",
        "import numpy as np\n",
        "from keras.datasets import mnist\n",
        "from keras.models import Model, Sequential\n",
        "from keras.layers import Input, Dense"
      ],
      "execution_count": 1,
      "outputs": []
    },
    {
      "cell_type": "code",
      "metadata": {
        "id": "yZvnT-zxkSpy",
        "colab": {
          "base_uri": "https://localhost:8080/"
        },
        "outputId": "58a2be26-583c-4764-fa87-f232b7822912"
      },
      "source": [
        "(previsores_treinamento, _), (previsores_teste, _) = mnist.load_data()"
      ],
      "execution_count": 2,
      "outputs": [
        {
          "output_type": "stream",
          "text": [
            "Downloading data from https://storage.googleapis.com/tensorflow/tf-keras-datasets/mnist.npz\n",
            "11493376/11490434 [==============================] - 0s 0us/step\n"
          ],
          "name": "stdout"
        }
      ]
    },
    {
      "cell_type": "markdown",
      "metadata": {
        "id": "opFM3dX3lKIm"
      },
      "source": [
        "# Normalização dos dados"
      ]
    },
    {
      "cell_type": "code",
      "metadata": {
        "id": "9-se72fWkcJK"
      },
      "source": [
        "previsores_treinamento = previsores_treinamento.astype('float32') / 255\n",
        "previsores_teste = previsores_teste.astype('float32') / 255"
      ],
      "execution_count": 3,
      "outputs": []
    },
    {
      "cell_type": "code",
      "metadata": {
        "id": "dRsOic0Akr4A"
      },
      "source": [
        "previsores_treinamento = previsores_treinamento.reshape((len(previsores_treinamento), np.prod(previsores_treinamento.shape[1:])))\n",
        "previsores_teste = previsores_teste.reshape((len(previsores_teste), np.prod(previsores_teste.shape[1:])))"
      ],
      "execution_count": 4,
      "outputs": []
    },
    {
      "cell_type": "code",
      "metadata": {
        "id": "a10mMInby-oz",
        "outputId": "5aea2978-61c7-48f0-9893-47d0630eb7d7",
        "colab": {
          "base_uri": "https://localhost:8080/"
        }
      },
      "source": [
        "previsores_treinamento.shape, previsores_teste.shape"
      ],
      "execution_count": 5,
      "outputs": [
        {
          "output_type": "execute_result",
          "data": {
            "text/plain": [
              "((60000, 784), (10000, 784))"
            ]
          },
          "metadata": {
            "tags": []
          },
          "execution_count": 5
        }
      ]
    },
    {
      "cell_type": "markdown",
      "metadata": {
        "id": "6XZnt2o5looo"
      },
      "source": [
        "# Criando o modelo"
      ]
    },
    {
      "cell_type": "markdown",
      "metadata": {
        "id": "5kZDJyj4lvo6"
      },
      "source": [
        "Dimensão do modelo Deep AutoEncoder: 784 -> 128 -> 64 -> 32 -> 64 -> 128 -> 784"
      ]
    },
    {
      "cell_type": "code",
      "metadata": {
        "id": "4r6kBUPKldT5",
        "colab": {
          "base_uri": "https://localhost:8080/"
        },
        "outputId": "5b1f5059-17f1-4b78-eb7d-fda2e58c6c3c"
      },
      "source": [
        "model = Sequential()\n",
        "\n",
        "#Encoder\n",
        "model.add(Dense(units = 128, activation = 'relu', input_dim = 784))\n",
        "model.add(Dense(units = 64, activation = 'relu'))\n",
        "model.add(Dense(units = 32, activation = 'relu'))\n",
        "model.add(Dense(units = 8, activation = 'relu'))\n",
        "\n",
        "#Decode\n",
        "model.add(Dense(units = 32, activation = 'relu'))\n",
        "model.add(Dense(units = 64, activation = 'relu'))\n",
        "model.add(Dense(units = 128, activation = 'relu'))\n",
        "model.add(Dense(units = 784, activation = 'sigmoid'))\n",
        "\n",
        "model.summary()"
      ],
      "execution_count": 6,
      "outputs": [
        {
          "output_type": "stream",
          "text": [
            "Model: \"sequential\"\n",
            "_________________________________________________________________\n",
            "Layer (type)                 Output Shape              Param #   \n",
            "=================================================================\n",
            "dense (Dense)                (None, 128)               100480    \n",
            "_________________________________________________________________\n",
            "dense_1 (Dense)              (None, 64)                8256      \n",
            "_________________________________________________________________\n",
            "dense_2 (Dense)              (None, 32)                2080      \n",
            "_________________________________________________________________\n",
            "dense_3 (Dense)              (None, 8)                 264       \n",
            "_________________________________________________________________\n",
            "dense_4 (Dense)              (None, 32)                288       \n",
            "_________________________________________________________________\n",
            "dense_5 (Dense)              (None, 64)                2112      \n",
            "_________________________________________________________________\n",
            "dense_6 (Dense)              (None, 128)               8320      \n",
            "_________________________________________________________________\n",
            "dense_7 (Dense)              (None, 784)               101136    \n",
            "=================================================================\n",
            "Total params: 222,936\n",
            "Trainable params: 222,936\n",
            "Non-trainable params: 0\n",
            "_________________________________________________________________\n"
          ],
          "name": "stdout"
        }
      ]
    },
    {
      "cell_type": "code",
      "metadata": {
        "id": "WUEHf2RZmtcJ"
      },
      "source": [
        "model.compile(optimizer = 'adam', loss = 'binary_crossentropy', \n",
        "              metrics = ['accuracy'])"
      ],
      "execution_count": 7,
      "outputs": []
    },
    {
      "cell_type": "code",
      "metadata": {
        "id": "fUe4oKr3m4rP",
        "outputId": "f282daa1-435b-4e3f-fcde-e5ad2787bfaf",
        "colab": {
          "base_uri": "https://localhost:8080/"
        }
      },
      "source": [
        "history_ = model.fit(previsores_treinamento, previsores_treinamento,\n",
        "                     epochs = 50, batch_size = 256,\n",
        "                     validation_data = (previsores_teste, previsores_teste))"
      ],
      "execution_count": 8,
      "outputs": [
        {
          "output_type": "stream",
          "text": [
            "Epoch 1/50\n",
            "235/235 [==============================] - 4s 17ms/step - loss: 0.2654 - accuracy: 0.0095 - val_loss: 0.1985 - val_accuracy: 0.0131\n",
            "Epoch 2/50\n",
            "235/235 [==============================] - 4s 16ms/step - loss: 0.1756 - accuracy: 0.0134 - val_loss: 0.1560 - val_accuracy: 0.0112\n",
            "Epoch 3/50\n",
            "235/235 [==============================] - 4s 16ms/step - loss: 0.1513 - accuracy: 0.0101 - val_loss: 0.1455 - val_accuracy: 0.0090\n",
            "Epoch 4/50\n",
            "235/235 [==============================] - 4s 16ms/step - loss: 0.1439 - accuracy: 0.0095 - val_loss: 0.1405 - val_accuracy: 0.0073\n",
            "Epoch 5/50\n",
            "235/235 [==============================] - 4s 16ms/step - loss: 0.1401 - accuracy: 0.0098 - val_loss: 0.1376 - val_accuracy: 0.0100\n",
            "Epoch 6/50\n",
            "235/235 [==============================] - 4s 16ms/step - loss: 0.1375 - accuracy: 0.0092 - val_loss: 0.1356 - val_accuracy: 0.0088\n",
            "Epoch 7/50\n",
            "235/235 [==============================] - 4s 17ms/step - loss: 0.1353 - accuracy: 0.0088 - val_loss: 0.1336 - val_accuracy: 0.0118\n",
            "Epoch 8/50\n",
            "235/235 [==============================] - 4s 17ms/step - loss: 0.1336 - accuracy: 0.0088 - val_loss: 0.1320 - val_accuracy: 0.0102\n",
            "Epoch 9/50\n",
            "235/235 [==============================] - 4s 16ms/step - loss: 0.1321 - accuracy: 0.0093 - val_loss: 0.1308 - val_accuracy: 0.0117\n",
            "Epoch 10/50\n",
            "235/235 [==============================] - 4s 16ms/step - loss: 0.1308 - accuracy: 0.0095 - val_loss: 0.1292 - val_accuracy: 0.0119\n",
            "Epoch 11/50\n",
            "235/235 [==============================] - 4s 16ms/step - loss: 0.1296 - accuracy: 0.0096 - val_loss: 0.1282 - val_accuracy: 0.0105\n",
            "Epoch 12/50\n",
            "235/235 [==============================] - 4s 16ms/step - loss: 0.1287 - accuracy: 0.0099 - val_loss: 0.1277 - val_accuracy: 0.0113\n",
            "Epoch 13/50\n",
            "235/235 [==============================] - 4s 16ms/step - loss: 0.1279 - accuracy: 0.0103 - val_loss: 0.1266 - val_accuracy: 0.0117\n",
            "Epoch 14/50\n",
            "235/235 [==============================] - 4s 16ms/step - loss: 0.1271 - accuracy: 0.0106 - val_loss: 0.1260 - val_accuracy: 0.0098\n",
            "Epoch 15/50\n",
            "235/235 [==============================] - 4s 16ms/step - loss: 0.1264 - accuracy: 0.0105 - val_loss: 0.1257 - val_accuracy: 0.0126\n",
            "Epoch 16/50\n",
            "235/235 [==============================] - 4s 16ms/step - loss: 0.1258 - accuracy: 0.0108 - val_loss: 0.1250 - val_accuracy: 0.0136\n",
            "Epoch 17/50\n",
            "235/235 [==============================] - 4s 16ms/step - loss: 0.1252 - accuracy: 0.0113 - val_loss: 0.1247 - val_accuracy: 0.0137\n",
            "Epoch 18/50\n",
            "235/235 [==============================] - 4s 16ms/step - loss: 0.1247 - accuracy: 0.0115 - val_loss: 0.1241 - val_accuracy: 0.0131\n",
            "Epoch 19/50\n",
            "235/235 [==============================] - 4s 16ms/step - loss: 0.1242 - accuracy: 0.0113 - val_loss: 0.1235 - val_accuracy: 0.0145\n",
            "Epoch 20/50\n",
            "235/235 [==============================] - 4s 16ms/step - loss: 0.1237 - accuracy: 0.0116 - val_loss: 0.1232 - val_accuracy: 0.0137\n",
            "Epoch 21/50\n",
            "235/235 [==============================] - 4s 16ms/step - loss: 0.1233 - accuracy: 0.0106 - val_loss: 0.1229 - val_accuracy: 0.0096\n",
            "Epoch 22/50\n",
            "235/235 [==============================] - 4s 16ms/step - loss: 0.1229 - accuracy: 0.0109 - val_loss: 0.1226 - val_accuracy: 0.0106\n",
            "Epoch 23/50\n",
            "235/235 [==============================] - 4s 16ms/step - loss: 0.1225 - accuracy: 0.0105 - val_loss: 0.1222 - val_accuracy: 0.0114\n",
            "Epoch 24/50\n",
            "235/235 [==============================] - 4s 16ms/step - loss: 0.1222 - accuracy: 0.0113 - val_loss: 0.1216 - val_accuracy: 0.0110\n",
            "Epoch 25/50\n",
            "235/235 [==============================] - 4s 16ms/step - loss: 0.1218 - accuracy: 0.0121 - val_loss: 0.1214 - val_accuracy: 0.0122\n",
            "Epoch 26/50\n",
            "235/235 [==============================] - 4s 16ms/step - loss: 0.1215 - accuracy: 0.0122 - val_loss: 0.1211 - val_accuracy: 0.0107\n",
            "Epoch 27/50\n",
            "235/235 [==============================] - 4s 16ms/step - loss: 0.1213 - accuracy: 0.0124 - val_loss: 0.1210 - val_accuracy: 0.0115\n",
            "Epoch 28/50\n",
            "235/235 [==============================] - 4s 16ms/step - loss: 0.1209 - accuracy: 0.0120 - val_loss: 0.1207 - val_accuracy: 0.0117\n",
            "Epoch 29/50\n",
            "235/235 [==============================] - 4s 16ms/step - loss: 0.1206 - accuracy: 0.0123 - val_loss: 0.1207 - val_accuracy: 0.0115\n",
            "Epoch 30/50\n",
            "235/235 [==============================] - 4s 16ms/step - loss: 0.1204 - accuracy: 0.0122 - val_loss: 0.1205 - val_accuracy: 0.0122\n",
            "Epoch 31/50\n",
            "235/235 [==============================] - 4s 16ms/step - loss: 0.1202 - accuracy: 0.0129 - val_loss: 0.1200 - val_accuracy: 0.0127\n",
            "Epoch 32/50\n",
            "235/235 [==============================] - 4s 16ms/step - loss: 0.1200 - accuracy: 0.0129 - val_loss: 0.1204 - val_accuracy: 0.0142\n",
            "Epoch 33/50\n",
            "235/235 [==============================] - 4s 16ms/step - loss: 0.1198 - accuracy: 0.0125 - val_loss: 0.1198 - val_accuracy: 0.0120\n",
            "Epoch 34/50\n",
            "235/235 [==============================] - 4s 16ms/step - loss: 0.1196 - accuracy: 0.0130 - val_loss: 0.1202 - val_accuracy: 0.0151\n",
            "Epoch 35/50\n",
            "235/235 [==============================] - 4s 16ms/step - loss: 0.1194 - accuracy: 0.0135 - val_loss: 0.1195 - val_accuracy: 0.0128\n",
            "Epoch 36/50\n",
            "235/235 [==============================] - 4s 16ms/step - loss: 0.1192 - accuracy: 0.0133 - val_loss: 0.1194 - val_accuracy: 0.0119\n",
            "Epoch 37/50\n",
            "235/235 [==============================] - 4s 16ms/step - loss: 0.1190 - accuracy: 0.0131 - val_loss: 0.1195 - val_accuracy: 0.0133\n",
            "Epoch 38/50\n",
            "235/235 [==============================] - 4s 16ms/step - loss: 0.1189 - accuracy: 0.0132 - val_loss: 0.1189 - val_accuracy: 0.0114\n",
            "Epoch 39/50\n",
            "235/235 [==============================] - 4s 16ms/step - loss: 0.1187 - accuracy: 0.0136 - val_loss: 0.1189 - val_accuracy: 0.0125\n",
            "Epoch 40/50\n",
            "235/235 [==============================] - 4s 16ms/step - loss: 0.1186 - accuracy: 0.0132 - val_loss: 0.1191 - val_accuracy: 0.0134\n",
            "Epoch 41/50\n",
            "235/235 [==============================] - 4s 16ms/step - loss: 0.1184 - accuracy: 0.0132 - val_loss: 0.1189 - val_accuracy: 0.0139\n",
            "Epoch 42/50\n",
            "235/235 [==============================] - 4s 16ms/step - loss: 0.1183 - accuracy: 0.0138 - val_loss: 0.1188 - val_accuracy: 0.0133\n",
            "Epoch 43/50\n",
            "235/235 [==============================] - 4s 16ms/step - loss: 0.1181 - accuracy: 0.0138 - val_loss: 0.1186 - val_accuracy: 0.0140\n",
            "Epoch 44/50\n",
            "235/235 [==============================] - 4s 16ms/step - loss: 0.1179 - accuracy: 0.0135 - val_loss: 0.1183 - val_accuracy: 0.0105\n",
            "Epoch 45/50\n",
            "235/235 [==============================] - 4s 17ms/step - loss: 0.1178 - accuracy: 0.0139 - val_loss: 0.1181 - val_accuracy: 0.0119\n",
            "Epoch 46/50\n",
            "235/235 [==============================] - 6s 27ms/step - loss: 0.1176 - accuracy: 0.0140 - val_loss: 0.1182 - val_accuracy: 0.0126\n",
            "Epoch 47/50\n",
            "235/235 [==============================] - 7s 29ms/step - loss: 0.1175 - accuracy: 0.0133 - val_loss: 0.1180 - val_accuracy: 0.0157\n",
            "Epoch 48/50\n",
            "235/235 [==============================] - 4s 17ms/step - loss: 0.1174 - accuracy: 0.0140 - val_loss: 0.1184 - val_accuracy: 0.0151\n",
            "Epoch 49/50\n",
            "235/235 [==============================] - 4s 16ms/step - loss: 0.1173 - accuracy: 0.0141 - val_loss: 0.1176 - val_accuracy: 0.0105\n",
            "Epoch 50/50\n",
            "235/235 [==============================] - 4s 16ms/step - loss: 0.1171 - accuracy: 0.0140 - val_loss: 0.1178 - val_accuracy: 0.0139\n"
          ],
          "name": "stdout"
        }
      ]
    },
    {
      "cell_type": "code",
      "metadata": {
        "id": "pH4baivDnJET",
        "colab": {
          "base_uri": "https://localhost:8080/"
        },
        "outputId": "4a316a9f-626a-4afc-df11-1a01927464f8"
      },
      "source": [
        "np.mean(history_.history['accuracy'])"
      ],
      "execution_count": 9,
      "outputs": [
        {
          "output_type": "execute_result",
          "data": {
            "text/plain": [
              "0.01180833339691162"
            ]
          },
          "metadata": {
            "tags": []
          },
          "execution_count": 9
        }
      ]
    },
    {
      "cell_type": "code",
      "metadata": {
        "id": "N0XpNLT_oJE0"
      },
      "source": [
        "dimensao_original = Input(shape = (784,))\n",
        "camada_encoder0 = model.layers[0]\n",
        "camada_encoder1 = model.layers[1]\n",
        "camada_encoder2 = model.layers[2]\n",
        "camada_encoder3 = model.layers[3]"
      ],
      "execution_count": 10,
      "outputs": []
    },
    {
      "cell_type": "code",
      "metadata": {
        "id": "W92fUKLtovCs",
        "colab": {
          "base_uri": "https://localhost:8080/"
        },
        "outputId": "b98056d8-6e89-44e9-bbe4-18bc5e02dee0"
      },
      "source": [
        "encoder = Model(dimensao_original,\n",
        "                camada_encoder3(camada_encoder2(camada_encoder1(camada_encoder0(dimensao_original)))))\n",
        "\n",
        "encoder.summary()"
      ],
      "execution_count": 11,
      "outputs": [
        {
          "output_type": "stream",
          "text": [
            "Model: \"functional_1\"\n",
            "_________________________________________________________________\n",
            "Layer (type)                 Output Shape              Param #   \n",
            "=================================================================\n",
            "input_1 (InputLayer)         [(None, 784)]             0         \n",
            "_________________________________________________________________\n",
            "dense (Dense)                (None, 128)               100480    \n",
            "_________________________________________________________________\n",
            "dense_1 (Dense)              (None, 64)                8256      \n",
            "_________________________________________________________________\n",
            "dense_2 (Dense)              (None, 32)                2080      \n",
            "_________________________________________________________________\n",
            "dense_3 (Dense)              (None, 8)                 264       \n",
            "=================================================================\n",
            "Total params: 111,080\n",
            "Trainable params: 111,080\n",
            "Non-trainable params: 0\n",
            "_________________________________________________________________\n"
          ],
          "name": "stdout"
        }
      ]
    },
    {
      "cell_type": "code",
      "metadata": {
        "id": "Y-QSQO_wo8fh"
      },
      "source": [
        "imagens_codificadas = encoder.predict(previsores_teste)\n",
        "imagens_decodificadas = model.predict(previsores_teste)"
      ],
      "execution_count": 12,
      "outputs": []
    },
    {
      "cell_type": "code",
      "metadata": {
        "id": "XMFJVdTYrBgq"
      },
      "source": [
        "numero_imagens = 10\n",
        "imagens_teste = np.random.randint(previsores_teste.shape[0], size = numero_imagens)"
      ],
      "execution_count": 17,
      "outputs": []
    },
    {
      "cell_type": "code",
      "metadata": {
        "id": "Pucgf0TzxxfI",
        "outputId": "5a2a9a07-75e5-4b0a-b9ee-637ae49b8891",
        "colab": {
          "base_uri": "https://localhost:8080/"
        }
      },
      "source": [
        "imagens_codificadas.shape"
      ],
      "execution_count": 14,
      "outputs": [
        {
          "output_type": "execute_result",
          "data": {
            "text/plain": [
              "(10000, 8)"
            ]
          },
          "metadata": {
            "tags": []
          },
          "execution_count": 14
        }
      ]
    },
    {
      "cell_type": "code",
      "metadata": {
        "id": "6XDbZ8-opOtn",
        "colab": {
          "base_uri": "https://localhost:8080/",
          "height": 348
        },
        "outputId": "44368d52-3ecb-41d4-9fa4-b241dd00b552"
      },
      "source": [
        "plt.figure(figsize = (20,20))\n",
        "for i, indice_imagem in enumerate(imagens_teste):\n",
        "  #Imagem original\n",
        "  eixo = plt.subplot(10,10, i + 1)\n",
        "  plt.imshow(previsores_teste[indice_imagem].reshape(28,28))\n",
        "  plt.xticks(())\n",
        "  plt.yticks(())\n",
        "\n",
        "  #Imagem codificada\n",
        "  eixo = plt.subplot(10,10, i + 1 + numero_imagens)\n",
        "  a = np.expand_dims(imagens_codificadas[indice_imagem], axis=0)\n",
        "  plt.imshow(a)\n",
        "  plt.xticks(())\n",
        "  plt.yticks(())\n",
        "\n",
        "  #Imagem reconstruída\n",
        "  eixo = plt.subplot(10,10, i + 1 + numero_imagens * 2)\n",
        "  plt.imshow(imagens_decodificadas[indice_imagem].reshape(28,28))\n",
        "  plt.xticks(())\n",
        "  plt.yticks(())"
      ],
      "execution_count": 18,
      "outputs": [
        {
          "output_type": "display_data",
          "data": {
            "image/png": "[encoded data removed]",
            "text/plain": [
              "<Figure size 1440x1440 with 30 Axes>"
            ]
          },
          "metadata": {
            "tags": []
          }
        }
      ]
    },
    {
      "cell_type": "code",
      "metadata": {
        "id": "D-UrTy-3ub1U"
      },
      "source": [
        ""
      ],
      "execution_count": null,
      "outputs": []
    }
  ]
}