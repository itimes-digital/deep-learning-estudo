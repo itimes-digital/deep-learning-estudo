{
  "nbformat": 4,
  "nbformat_minor": 0,
  "metadata": {
    "colab": {
      "name": "estudo_tensorflow_v3.ipynb",
      "provenance": [],
      "authorship_tag": "ABX9TyPCdY0dUJ6MgZ4MZvqCUYZX",
      "include_colab_link": true
    },
    "kernelspec": {
      "name": "python3",
      "display_name": "Python 3"
    }
  },
  "cells": [
    {
      "cell_type": "markdown",
      "metadata": {
        "id": "view-in-github",
        "colab_type": "text"
      },
      "source": [
        "<a href=\"https://colab.research.google.com/github/itimes-digital/deep-learning-estudo/blob/main/estudo_tensorflow_v3.ipynb\" target=\"_parent\"><img src=\"https://colab.research.google.com/assets/colab-badge.svg\" alt=\"Open In Colab\"/></a>"
      ]
    },
    {
      "cell_type": "code",
      "metadata": {
        "id": "ZizTd5cTTxb0"
      },
      "source": [
        "import tensorflow as tf"
      ],
      "execution_count": 19,
      "outputs": []
    },
    {
      "cell_type": "code",
      "metadata": {
        "colab": {
          "base_uri": "https://localhost:8080/",
          "height": 35
        },
        "id": "k58CaPMYT-rr",
        "outputId": "8978381b-775e-4001-f940-5bd563cad168"
      },
      "source": [
        "tf.__version__"
      ],
      "execution_count": 2,
      "outputs": [
        {
          "output_type": "execute_result",
          "data": {
            "application/vnd.google.colaboratory.intrinsic+json": {
              "type": "string"
            },
            "text/plain": [
              "'1.14.0'"
            ]
          },
          "metadata": {
            "tags": []
          },
          "execution_count": 2
        }
      ]
    },
    {
      "cell_type": "code",
      "metadata": {
        "id": "RNJj3q_3aEvm"
      },
      "source": [
        "!pip install tensorflow==1.14\r\n",
        "!pip install tensorflow"
      ],
      "execution_count": null,
      "outputs": []
    },
    {
      "cell_type": "code",
      "metadata": {
        "id": "P-NXAqyAcHr7"
      },
      "source": [
        "x = 35\r\n",
        "y = x + 35"
      ],
      "execution_count": 4,
      "outputs": []
    },
    {
      "cell_type": "code",
      "metadata": {
        "colab": {
          "base_uri": "https://localhost:8080/"
        },
        "id": "WtRjDRjJcSAN",
        "outputId": "0715ae91-7083-4167-bf25-b7519a9e4a98"
      },
      "source": [
        "print(y)"
      ],
      "execution_count": 5,
      "outputs": [
        {
          "output_type": "stream",
          "text": [
            "70\n"
          ],
          "name": "stdout"
        }
      ]
    },
    {
      "cell_type": "code",
      "metadata": {
        "colab": {
          "base_uri": "https://localhost:8080/"
        },
        "id": "jl-DZ8T7cTev",
        "outputId": "97dd7c94-1371-4f97-eaca-ab444c72f3f5"
      },
      "source": [
        "valor1 = tf.constant(15, name = 'valor1')\r\n",
        "print(valor1)"
      ],
      "execution_count": 6,
      "outputs": [
        {
          "output_type": "stream",
          "text": [
            "Tensor(\"valor1:0\", shape=(), dtype=int32)\n"
          ],
          "name": "stdout"
        }
      ]
    },
    {
      "cell_type": "code",
      "metadata": {
        "id": "l0w-vNLHeB5S"
      },
      "source": [
        "soma = tf.Variable(valor1 + 5, name = 'valor1')"
      ],
      "execution_count": 7,
      "outputs": []
    },
    {
      "cell_type": "code",
      "metadata": {
        "colab": {
          "base_uri": "https://localhost:8080/"
        },
        "id": "LSFe5ahEeNif",
        "outputId": "65270811-dafc-47ee-ee9e-c63f5c188285"
      },
      "source": [
        "print(soma)\r\n",
        "type(soma)"
      ],
      "execution_count": 8,
      "outputs": [
        {
          "output_type": "stream",
          "text": [
            "<tf.Variable 'valor1_1:0' shape=() dtype=int32_ref>\n"
          ],
          "name": "stdout"
        },
        {
          "output_type": "execute_result",
          "data": {
            "text/plain": [
              "tensorflow.python.ops.variables.RefVariable"
            ]
          },
          "metadata": {
            "tags": []
          },
          "execution_count": 8
        }
      ]
    },
    {
      "cell_type": "code",
      "metadata": {
        "id": "9QALtQjJeQUA"
      },
      "source": [
        "init = tf.global_variables_initializer()"
      ],
      "execution_count": 9,
      "outputs": []
    },
    {
      "cell_type": "code",
      "metadata": {
        "colab": {
          "base_uri": "https://localhost:8080/"
        },
        "id": "tXX5kVs_eWBg",
        "outputId": "203cf010-dcdb-4d09-8407-386ad0270e36"
      },
      "source": [
        "with tf.Session() as sess:\r\n",
        "  sess.run(init)\r\n",
        "  print(sess.run(soma))"
      ],
      "execution_count": 10,
      "outputs": [
        {
          "output_type": "stream",
          "text": [
            "20\n"
          ],
          "name": "stdout"
        }
      ]
    },
    {
      "cell_type": "code",
      "metadata": {
        "id": "AJjET6IleciH"
      },
      "source": [
        "vetor = tf.constant([5,10,15], name = 'vetor')"
      ],
      "execution_count": 11,
      "outputs": []
    },
    {
      "cell_type": "code",
      "metadata": {
        "colab": {
          "base_uri": "https://localhost:8080/"
        },
        "id": "c7nT4gejeylf",
        "outputId": "16979137-03e3-40ea-c7a5-53cd09c5c547"
      },
      "source": [
        "type(vetor)"
      ],
      "execution_count": 12,
      "outputs": [
        {
          "output_type": "execute_result",
          "data": {
            "text/plain": [
              "tensorflow.python.framework.ops.Tensor"
            ]
          },
          "metadata": {
            "tags": []
          },
          "execution_count": 12
        }
      ]
    },
    {
      "cell_type": "code",
      "metadata": {
        "colab": {
          "base_uri": "https://localhost:8080/"
        },
        "id": "kryIMyBlezsY",
        "outputId": "3e67654d-06a6-451c-9013-09bdae9dd563"
      },
      "source": [
        "print(vetor)"
      ],
      "execution_count": 13,
      "outputs": [
        {
          "output_type": "stream",
          "text": [
            "Tensor(\"vetor:0\", shape=(3,), dtype=int32)\n"
          ],
          "name": "stdout"
        }
      ]
    },
    {
      "cell_type": "code",
      "metadata": {
        "id": "IW-X43p-e2Of"
      },
      "source": [
        "soma = tf.Variable(vetor + 5, name = 'soma')"
      ],
      "execution_count": 14,
      "outputs": []
    },
    {
      "cell_type": "code",
      "metadata": {
        "colab": {
          "base_uri": "https://localhost:8080/"
        },
        "id": "FiF3Jsm3e9Ao",
        "outputId": "43c61637-1149-4efb-f81e-cae27467320f"
      },
      "source": [
        "init = tf.global_variables_initializer()\r\n",
        "with tf.Session() as sess:\r\n",
        "  sess.run(init)\r\n",
        "  print(sess.run(soma))"
      ],
      "execution_count": 15,
      "outputs": [
        {
          "output_type": "stream",
          "text": [
            "[10 15 20]\n"
          ],
          "name": "stdout"
        }
      ]
    },
    {
      "cell_type": "code",
      "metadata": {
        "id": "_BG2raB0fKi_"
      },
      "source": [
        "valor = tf.Variable(0, name = 'valor')"
      ],
      "execution_count": 16,
      "outputs": []
    },
    {
      "cell_type": "code",
      "metadata": {
        "colab": {
          "base_uri": "https://localhost:8080/"
        },
        "id": "fuTT1v7tgEyf",
        "outputId": "497f339b-46fe-4bbd-fc70-1754711956b1"
      },
      "source": [
        "print(valor)"
      ],
      "execution_count": 17,
      "outputs": [
        {
          "output_type": "stream",
          "text": [
            "<tf.Variable 'valor:0' shape=() dtype=int32_ref>\n"
          ],
          "name": "stdout"
        }
      ]
    },
    {
      "cell_type": "code",
      "metadata": {
        "colab": {
          "base_uri": "https://localhost:8080/"
        },
        "id": "2owxee3OfUyP",
        "outputId": "05d7b4ad-9d36-4784-fc04-b66bb94d88be"
      },
      "source": [
        "init2 = tf.global_variables_initializer()\r\n",
        "with tf.Session() as sess:\r\n",
        "  sess.run(init2)\r\n",
        "  for i in range(5):\r\n",
        "    valor = valor + 1\r\n",
        "    print(sess.run(valor))"
      ],
      "execution_count": 18,
      "outputs": [
        {
          "output_type": "stream",
          "text": [
            "1\n",
            "2\n",
            "3\n",
            "4\n",
            "5\n"
          ],
          "name": "stdout"
        }
      ]
    },
    {
      "cell_type": "code",
      "metadata": {
        "id": "_jWIlucvfx-Y"
      },
      "source": [
        "a2 = tf.constant([[1,2,3],[4,5,6]])\r\n",
        "b2 = tf.constant([[1], [2]])"
      ],
      "execution_count": 20,
      "outputs": []
    },
    {
      "cell_type": "code",
      "metadata": {
        "id": "J3zdiVYihUEu",
        "outputId": "14832b78-5002-43f9-f4fc-48b172edbc7d",
        "colab": {
          "base_uri": "https://localhost:8080/"
        }
      },
      "source": [
        "with tf.Session() as sess:\r\n",
        "    print(sess.run(a2))\r\n",
        "    print('\\n')\r\n",
        "    print(sess.run(b2))\r\n",
        "    print('\\n')"
      ],
      "execution_count": 21,
      "outputs": [
        {
          "output_type": "stream",
          "text": [
            "[[1 2 3]\n",
            " [4 5 6]]\n",
            "\n",
            "\n",
            "[[1]\n",
            " [2]]\n",
            "\n",
            "\n"
          ],
          "name": "stdout"
        }
      ]
    },
    {
      "cell_type": "code",
      "metadata": {
        "id": "v6_9ILjXhfqK"
      },
      "source": [
        "soma2 = tf.add(a2, a2)"
      ],
      "execution_count": 22,
      "outputs": []
    },
    {
      "cell_type": "code",
      "metadata": {
        "id": "KzT_GxPAhtv6",
        "outputId": "eb2f5d0a-e251-416a-d9ef-f6f90ca8b1aa",
        "colab": {
          "base_uri": "https://localhost:8080/"
        }
      },
      "source": [
        "with tf.Session() as sess:\r\n",
        "    print(sess.run(a2))\r\n",
        "    print('\\n')\r\n",
        "    print(sess.run(b2))\r\n",
        "    print('\\n')\r\n",
        "    print(sess.run(soma2))"
      ],
      "execution_count": 23,
      "outputs": [
        {
          "output_type": "stream",
          "text": [
            "[[1 2 3]\n",
            " [4 5 6]]\n",
            "\n",
            "\n",
            "[[1]\n",
            " [2]]\n",
            "\n",
            "\n",
            "[[ 2  4  6]\n",
            " [ 8 10 12]]\n"
          ],
          "name": "stdout"
        }
      ]
    },
    {
      "cell_type": "code",
      "metadata": {
        "id": "PqIRErbJhw-_"
      },
      "source": [
        ""
      ],
      "execution_count": null,
      "outputs": []
    }
  ]
}