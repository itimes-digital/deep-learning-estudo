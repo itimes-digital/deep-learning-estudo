{
  "nbformat": 4,
  "nbformat_minor": 0,
  "metadata": {
    "colab": {
      "name": "estudo_tensorflow_v3.ipynb",
      "provenance": [],
      "authorship_tag": "ABX9TyOKd0jIwJECt3h2Cx6hc43D",
      "include_colab_link": true
    },
    "kernelspec": {
      "name": "python3",
      "display_name": "Python 3"
    }
  },
  "cells": [
    {
      "cell_type": "markdown",
      "metadata": {
        "id": "view-in-github",
        "colab_type": "text"
      },
      "source": [
        "<a href=\"https://colab.research.google.com/github/itimes-digital/deep-learning-estudo/blob/main/estudo_tensorflow_v3.ipynb\" target=\"_parent\"><img src=\"https://colab.research.google.com/assets/colab-badge.svg\" alt=\"Open In Colab\"/></a>"
      ]
    },
    {
      "cell_type": "code",
      "metadata": {
        "id": "ZizTd5cTTxb0"
      },
      "source": [
        "import tensorflow as tf"
      ],
      "execution_count": null,
      "outputs": []
    },
    {
      "cell_type": "code",
      "metadata": {
        "colab": {
          "base_uri": "https://localhost:8080/",
          "height": 35
        },
        "id": "k58CaPMYT-rr",
        "outputId": "d67f17c2-e00f-49f2-9f79-994d90c2d2b6"
      },
      "source": [
        "tf.__version__"
      ],
      "execution_count": 2,
      "outputs": [
        {
          "output_type": "execute_result",
          "data": {
            "application/vnd.google.colaboratory.intrinsic+json": {
              "type": "string"
            },
            "text/plain": [
              "'1.14.0'"
            ]
          },
          "metadata": {
            "tags": []
          },
          "execution_count": 2
        }
      ]
    },
    {
      "cell_type": "code",
      "metadata": {
        "id": "RNJj3q_3aEvm"
      },
      "source": [
        "!pip install tensorflow==1.14\r\n",
        "!pip install tensorflow"
      ],
      "execution_count": null,
      "outputs": []
    },
    {
      "cell_type": "code",
      "metadata": {
        "id": "P-NXAqyAcHr7"
      },
      "source": [
        "x = 35\r\n",
        "y = x + 35"
      ],
      "execution_count": 18,
      "outputs": []
    },
    {
      "cell_type": "code",
      "metadata": {
        "colab": {
          "base_uri": "https://localhost:8080/"
        },
        "id": "WtRjDRjJcSAN",
        "outputId": "0d2ce86b-974b-4494-e001-a6ea6427a613"
      },
      "source": [
        "print(y)"
      ],
      "execution_count": 19,
      "outputs": [
        {
          "output_type": "stream",
          "text": [
            "70\n"
          ],
          "name": "stdout"
        }
      ]
    },
    {
      "cell_type": "code",
      "metadata": {
        "colab": {
          "base_uri": "https://localhost:8080/"
        },
        "id": "jl-DZ8T7cTev",
        "outputId": "9ae0b8ac-9a9e-4c37-f6a0-19e311b29437"
      },
      "source": [
        "valor1 = tf.constant(15, name = 'valor1')\r\n",
        "print(valor1)"
      ],
      "execution_count": 22,
      "outputs": [
        {
          "output_type": "stream",
          "text": [
            "Tensor(\"valor1_2:0\", shape=(), dtype=int32)\n"
          ],
          "name": "stdout"
        }
      ]
    },
    {
      "cell_type": "code",
      "metadata": {
        "id": "l0w-vNLHeB5S"
      },
      "source": [
        "soma = tf.Variable(valor1 + 5, name = 'valor1')"
      ],
      "execution_count": 23,
      "outputs": []
    },
    {
      "cell_type": "code",
      "metadata": {
        "colab": {
          "base_uri": "https://localhost:8080/"
        },
        "id": "LSFe5ahEeNif",
        "outputId": "aeb5daa0-8891-4104-e2c3-4999a2081f29"
      },
      "source": [
        "print(soma)\r\n",
        "type(soma)"
      ],
      "execution_count": 24,
      "outputs": [
        {
          "output_type": "stream",
          "text": [
            "<tf.Variable 'valor1_3:0' shape=() dtype=int32_ref>\n"
          ],
          "name": "stdout"
        },
        {
          "output_type": "execute_result",
          "data": {
            "text/plain": [
              "tensorflow.python.ops.variables.RefVariable"
            ]
          },
          "metadata": {
            "tags": []
          },
          "execution_count": 24
        }
      ]
    },
    {
      "cell_type": "code",
      "metadata": {
        "id": "9QALtQjJeQUA"
      },
      "source": [
        "init = tf.global_variables_initializer()"
      ],
      "execution_count": 25,
      "outputs": []
    },
    {
      "cell_type": "code",
      "metadata": {
        "colab": {
          "base_uri": "https://localhost:8080/"
        },
        "id": "tXX5kVs_eWBg",
        "outputId": "6ab3fe5f-0464-4c05-a954-042814c44cd1"
      },
      "source": [
        "with tf.Session() as sess:\r\n",
        "  sess.run(init)\r\n",
        "  print(sess.run(soma))"
      ],
      "execution_count": 26,
      "outputs": [
        {
          "output_type": "stream",
          "text": [
            "20\n"
          ],
          "name": "stdout"
        }
      ]
    },
    {
      "cell_type": "code",
      "metadata": {
        "id": "AJjET6IleciH"
      },
      "source": [
        "vetor = tf.constant([5,10,15], name = 'vetor')"
      ],
      "execution_count": 27,
      "outputs": []
    },
    {
      "cell_type": "code",
      "metadata": {
        "colab": {
          "base_uri": "https://localhost:8080/"
        },
        "id": "c7nT4gejeylf",
        "outputId": "63442f04-50da-48ba-ad4b-4c0c38f7a950"
      },
      "source": [
        "type(vetor)"
      ],
      "execution_count": 28,
      "outputs": [
        {
          "output_type": "execute_result",
          "data": {
            "text/plain": [
              "tensorflow.python.framework.ops.Tensor"
            ]
          },
          "metadata": {
            "tags": []
          },
          "execution_count": 28
        }
      ]
    },
    {
      "cell_type": "code",
      "metadata": {
        "colab": {
          "base_uri": "https://localhost:8080/"
        },
        "id": "kryIMyBlezsY",
        "outputId": "cd979356-3815-4ac0-ec9e-f76713183517"
      },
      "source": [
        "print(vetor)"
      ],
      "execution_count": 29,
      "outputs": [
        {
          "output_type": "stream",
          "text": [
            "Tensor(\"vetor:0\", shape=(3,), dtype=int32)\n"
          ],
          "name": "stdout"
        }
      ]
    },
    {
      "cell_type": "code",
      "metadata": {
        "id": "IW-X43p-e2Of"
      },
      "source": [
        "soma = tf.Variable(vetor + 5, name = 'soma')"
      ],
      "execution_count": 30,
      "outputs": []
    },
    {
      "cell_type": "code",
      "metadata": {
        "colab": {
          "base_uri": "https://localhost:8080/"
        },
        "id": "FiF3Jsm3e9Ao",
        "outputId": "6f29a5fb-75fd-44e8-99b8-a26d64d4ee61"
      },
      "source": [
        "init = tf.global_variables_initializer()\r\n",
        "with tf.Session() as sess:\r\n",
        "  sess.run(init)\r\n",
        "  print(sess.run(soma))"
      ],
      "execution_count": 33,
      "outputs": [
        {
          "output_type": "stream",
          "text": [
            "[10 15 20]\n"
          ],
          "name": "stdout"
        }
      ]
    },
    {
      "cell_type": "code",
      "metadata": {
        "id": "_BG2raB0fKi_"
      },
      "source": [
        "valor = tf.Variable(0, name = 'valor')"
      ],
      "execution_count": 44,
      "outputs": []
    },
    {
      "cell_type": "code",
      "metadata": {
        "colab": {
          "base_uri": "https://localhost:8080/"
        },
        "id": "fuTT1v7tgEyf",
        "outputId": "3b2049e3-c05f-43f8-e510-13a854e273aa"
      },
      "source": [
        "print(valor)"
      ],
      "execution_count": 42,
      "outputs": [
        {
          "output_type": "stream",
          "text": [
            "Tensor(\"add_28:0\", shape=(), dtype=int32)\n"
          ],
          "name": "stdout"
        }
      ]
    },
    {
      "cell_type": "code",
      "metadata": {
        "colab": {
          "base_uri": "https://localhost:8080/"
        },
        "id": "2owxee3OfUyP",
        "outputId": "2a37490d-3ae4-4dd7-9758-acb643fefc81"
      },
      "source": [
        "init2 = tf.global_variables_initializer()\r\n",
        "with tf.Session() as sess:\r\n",
        "  sess.run(init2)\r\n",
        "  for i in range(5):\r\n",
        "    valor = valor + 1\r\n",
        "    print(sess.run(valor))"
      ],
      "execution_count": 45,
      "outputs": [
        {
          "output_type": "stream",
          "text": [
            "1\n",
            "2\n",
            "3\n",
            "4\n",
            "5\n"
          ],
          "name": "stdout"
        }
      ]
    },
    {
      "cell_type": "code",
      "metadata": {
        "id": "_jWIlucvfx-Y"
      },
      "source": [
        ""
      ],
      "execution_count": null,
      "outputs": []
    }
  ]
}