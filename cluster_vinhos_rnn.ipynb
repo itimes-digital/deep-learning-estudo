{
  "nbformat": 4,
  "nbformat_minor": 0,
  "metadata": {
    "colab": {
      "name": "cluster_vinhos_rnn.ipynb",
      "provenance": [],
      "authorship_tag": "ABX9TyOqIdtHZL1I/U9NAYNC+69a",
      "include_colab_link": true
    },
    "kernelspec": {
      "name": "python3",
      "display_name": "Python 3"
    }
  },
  "cells": [
    {
      "cell_type": "markdown",
      "metadata": {
        "id": "view-in-github",
        "colab_type": "text"
      },
      "source": [
        "<a href=\"https://colab.research.google.com/github/itimes-digital/deep-learning-estudo/blob/main/cluster_vinhos_rnn.ipynb\" target=\"_parent\"><img src=\"https://colab.research.google.com/assets/colab-badge.svg\" alt=\"Open In Colab\"/></a>"
      ]
    },
    {
      "cell_type": "code",
      "metadata": {
        "id": "X3OJqcCS7_A5"
      },
      "source": [
        "import pandas as pd\n",
        "import numpy as np"
      ],
      "execution_count": 1,
      "outputs": []
    },
    {
      "cell_type": "code",
      "metadata": {
        "id": "GZ344SG0u7KE",
        "outputId": "dc4c3870-811e-4e34-9cab-a1d373143450",
        "colab": {
          "base_uri": "https://localhost:8080/"
        }
      },
      "source": [
        "pip install minisom"
      ],
      "execution_count": 2,
      "outputs": [
        {
          "output_type": "stream",
          "text": [
            "Collecting minisom\n",
            "  Downloading https://files.pythonhosted.org/packages/69/3c/a5ad0d36137285cdffdd5cad105ec2eb3c3ddfbd3254a324993ab51d3401/MiniSom-2.2.7.tar.gz\n",
            "Building wheels for collected packages: minisom\n",
            "  Building wheel for minisom (setup.py) ... \u001b[?25l\u001b[?25hdone\n",
            "  Created wheel for minisom: filename=MiniSom-2.2.7-cp36-none-any.whl size=8607 sha256=35cc99950e6d51252e025fdf513721ed054e7643d402a32ea223312c5188bd4e\n",
            "  Stored in directory: /root/.cache/pip/wheels/db/9a/af/0fca4ced67fec66c00998c4bf55b13f0a4c882ee775f278862\n",
            "Successfully built minisom\n",
            "Installing collected packages: minisom\n",
            "Successfully installed minisom-2.2.7\n"
          ],
          "name": "stdout"
        }
      ]
    },
    {
      "cell_type": "code",
      "metadata": {
        "id": "rhI8ACBGvBDK"
      },
      "source": [
        "from minisom import MiniSom\n",
        "from sklearn.preprocessing import MinMaxScaler"
      ],
      "execution_count": 48,
      "outputs": []
    },
    {
      "cell_type": "code",
      "metadata": {
        "id": "Vjkx-1qnvhIu",
        "outputId": "c615a578-6d54-4f82-aa32-a80b7fb4c09d",
        "colab": {
          "base_uri": "https://localhost:8080/",
          "height": 221
        }
      },
      "source": [
        "base = pd.read_csv('https://raw.githubusercontent.com/itimes-digital/deep-learning-estudo/main/dataset/wines.csv')\n",
        "base.head()"
      ],
      "execution_count": 49,
      "outputs": [
        {
          "output_type": "execute_result",
          "data": {
            "text/html": [
              "<div>\n",
              "<style scoped>\n",
              "    .dataframe tbody tr th:only-of-type {\n",
              "        vertical-align: middle;\n",
              "    }\n",
              "\n",
              "    .dataframe tbody tr th {\n",
              "        vertical-align: top;\n",
              "    }\n",
              "\n",
              "    .dataframe thead th {\n",
              "        text-align: right;\n",
              "    }\n",
              "</style>\n",
              "<table border=\"1\" class=\"dataframe\">\n",
              "  <thead>\n",
              "    <tr style=\"text-align: right;\">\n",
              "      <th></th>\n",
              "      <th>Class</th>\n",
              "      <th>Alcohol</th>\n",
              "      <th>Malic acid</th>\n",
              "      <th>Ash</th>\n",
              "      <th>Alcalinity of ash</th>\n",
              "      <th>Magnesium</th>\n",
              "      <th>Total phenols</th>\n",
              "      <th>Flavanoids</th>\n",
              "      <th>Nonflavanoid phenols</th>\n",
              "      <th>Proanthocyanins</th>\n",
              "      <th>Color intensity</th>\n",
              "      <th>Hue</th>\n",
              "      <th>OD280/OD315 of diluted wines</th>\n",
              "      <th>Proline</th>\n",
              "    </tr>\n",
              "  </thead>\n",
              "  <tbody>\n",
              "    <tr>\n",
              "      <th>0</th>\n",
              "      <td>1</td>\n",
              "      <td>14.23</td>\n",
              "      <td>1.71</td>\n",
              "      <td>2.43</td>\n",
              "      <td>15.6</td>\n",
              "      <td>127</td>\n",
              "      <td>2.80</td>\n",
              "      <td>3.06</td>\n",
              "      <td>0.28</td>\n",
              "      <td>2.29</td>\n",
              "      <td>5.64</td>\n",
              "      <td>1.04</td>\n",
              "      <td>3.92</td>\n",
              "      <td>1065</td>\n",
              "    </tr>\n",
              "    <tr>\n",
              "      <th>1</th>\n",
              "      <td>1</td>\n",
              "      <td>13.20</td>\n",
              "      <td>1.78</td>\n",
              "      <td>2.14</td>\n",
              "      <td>11.2</td>\n",
              "      <td>100</td>\n",
              "      <td>2.65</td>\n",
              "      <td>2.76</td>\n",
              "      <td>0.26</td>\n",
              "      <td>1.28</td>\n",
              "      <td>4.38</td>\n",
              "      <td>1.05</td>\n",
              "      <td>3.40</td>\n",
              "      <td>1050</td>\n",
              "    </tr>\n",
              "    <tr>\n",
              "      <th>2</th>\n",
              "      <td>1</td>\n",
              "      <td>13.16</td>\n",
              "      <td>2.36</td>\n",
              "      <td>2.67</td>\n",
              "      <td>18.6</td>\n",
              "      <td>101</td>\n",
              "      <td>2.80</td>\n",
              "      <td>3.24</td>\n",
              "      <td>0.30</td>\n",
              "      <td>2.81</td>\n",
              "      <td>5.68</td>\n",
              "      <td>1.03</td>\n",
              "      <td>3.17</td>\n",
              "      <td>1185</td>\n",
              "    </tr>\n",
              "    <tr>\n",
              "      <th>3</th>\n",
              "      <td>1</td>\n",
              "      <td>14.37</td>\n",
              "      <td>1.95</td>\n",
              "      <td>2.50</td>\n",
              "      <td>16.8</td>\n",
              "      <td>113</td>\n",
              "      <td>3.85</td>\n",
              "      <td>3.49</td>\n",
              "      <td>0.24</td>\n",
              "      <td>2.18</td>\n",
              "      <td>7.80</td>\n",
              "      <td>0.86</td>\n",
              "      <td>3.45</td>\n",
              "      <td>1480</td>\n",
              "    </tr>\n",
              "    <tr>\n",
              "      <th>4</th>\n",
              "      <td>1</td>\n",
              "      <td>13.24</td>\n",
              "      <td>2.59</td>\n",
              "      <td>2.87</td>\n",
              "      <td>21.0</td>\n",
              "      <td>118</td>\n",
              "      <td>2.80</td>\n",
              "      <td>2.69</td>\n",
              "      <td>0.39</td>\n",
              "      <td>1.82</td>\n",
              "      <td>4.32</td>\n",
              "      <td>1.04</td>\n",
              "      <td>2.93</td>\n",
              "      <td>735</td>\n",
              "    </tr>\n",
              "  </tbody>\n",
              "</table>\n",
              "</div>"
            ],
            "text/plain": [
              "   Class  Alcohol  Malic acid  ...   Hue  OD280/OD315 of diluted wines  Proline\n",
              "0      1    14.23        1.71  ...  1.04                          3.92     1065\n",
              "1      1    13.20        1.78  ...  1.05                          3.40     1050\n",
              "2      1    13.16        2.36  ...  1.03                          3.17     1185\n",
              "3      1    14.37        1.95  ...  0.86                          3.45     1480\n",
              "4      1    13.24        2.59  ...  1.04                          2.93      735\n",
              "\n",
              "[5 rows x 14 columns]"
            ]
          },
          "metadata": {
            "tags": []
          },
          "execution_count": 49
        }
      ]
    },
    {
      "cell_type": "code",
      "metadata": {
        "id": "DU9Fbp0LvnXu"
      },
      "source": [
        "x = base.iloc[:, 1:14].values\n",
        "y = base.iloc[:, 0].values"
      ],
      "execution_count": 50,
      "outputs": []
    },
    {
      "cell_type": "code",
      "metadata": {
        "id": "ZWlue78Gv7Zy",
        "outputId": "d6a1b839-1bb9-4fb0-836e-595ae8b5064a",
        "colab": {
          "base_uri": "https://localhost:8080/"
        }
      },
      "source": [
        "scaler = MinMaxScaler(feature_range=(0,1))\n",
        "x = scaler.fit_transform(x)\n",
        "x"
      ],
      "execution_count": 51,
      "outputs": [
        {
          "output_type": "execute_result",
          "data": {
            "text/plain": [
              "array([[0.84210526, 0.1916996 , 0.57219251, ..., 0.45528455, 0.97069597,\n",
              "        0.56134094],\n",
              "       [0.57105263, 0.2055336 , 0.4171123 , ..., 0.46341463, 0.78021978,\n",
              "        0.55064194],\n",
              "       [0.56052632, 0.3201581 , 0.70053476, ..., 0.44715447, 0.6959707 ,\n",
              "        0.64693295],\n",
              "       ...,\n",
              "       [0.58947368, 0.69960474, 0.48128342, ..., 0.08943089, 0.10622711,\n",
              "        0.39728959],\n",
              "       [0.56315789, 0.36561265, 0.54010695, ..., 0.09756098, 0.12820513,\n",
              "        0.40085592],\n",
              "       [0.81578947, 0.66403162, 0.73796791, ..., 0.10569106, 0.12087912,\n",
              "        0.20114123]])"
            ]
          },
          "metadata": {
            "tags": []
          },
          "execution_count": 51
        }
      ]
    },
    {
      "cell_type": "code",
      "metadata": {
        "id": "UpFbGPsjwYXm",
        "outputId": "7c9c04b7-1ebd-4b94-d20d-c77ef640bb7c",
        "colab": {
          "base_uri": "https://localhost:8080/"
        }
      },
      "source": [
        "#mapa auto organizável\n",
        "som = MiniSom(x = 8, \n",
        "              y = 8, \n",
        "              input_len = 13, \n",
        "              sigma = 2.0, \n",
        "              learning_rate = 0.9,\n",
        "              random_seed = 1)\n",
        "\n",
        "som.random_weights_init(x);\n",
        "som.train_random(data = x, num_iteration = 1000)\n",
        "\n",
        "som._weights.shape"
      ],
      "execution_count": 52,
      "outputs": [
        {
          "output_type": "execute_result",
          "data": {
            "text/plain": [
              "(8, 8, 13)"
            ]
          },
          "metadata": {
            "tags": []
          },
          "execution_count": 52
        }
      ]
    },
    {
      "cell_type": "code",
      "metadata": {
        "id": "xhsW9Nrrx3lh",
        "outputId": "3a807b35-72c6-4a06-bc5a-100ed2aa0c6e",
        "colab": {
          "base_uri": "https://localhost:8080/"
        }
      },
      "source": [
        "som._weights[0]"
      ],
      "execution_count": 53,
      "outputs": [
        {
          "output_type": "execute_result",
          "data": {
            "text/plain": [
              "array([[0.61565888, 0.50914414, 0.57837712, 0.558616  , 0.37664079,\n",
              "        0.23474736, 0.08892093, 0.63971043, 0.31705469, 0.62379127,\n",
              "        0.16486794, 0.15416702, 0.32082525],\n",
              "       [0.58749911, 0.52487883, 0.56961627, 0.54008838, 0.34663734,\n",
              "        0.23138722, 0.08507109, 0.66736806, 0.25254548, 0.49045962,\n",
              "        0.21435073, 0.181128  , 0.28969164],\n",
              "       [0.54853112, 0.53067729, 0.56534214, 0.54315669, 0.30941295,\n",
              "        0.25566722, 0.10307469, 0.71847753, 0.21569258, 0.3716225 ,\n",
              "        0.26251061, 0.23107684, 0.24684197],\n",
              "       [0.50601925, 0.51359748, 0.57013113, 0.56721286, 0.28010014,\n",
              "        0.2784473 , 0.14298198, 0.77213235, 0.22603891, 0.31200484,\n",
              "        0.29862709, 0.29874608, 0.21180381],\n",
              "       [0.42830298, 0.43707945, 0.56867338, 0.5804492 , 0.25660081,\n",
              "        0.28428313, 0.21114622, 0.79328036, 0.25353   , 0.24362898,\n",
              "        0.35614471, 0.43429827, 0.16870157],\n",
              "       [0.32677042, 0.31622753, 0.55636733, 0.61070193, 0.22622222,\n",
              "        0.31238274, 0.2853688 , 0.69896067, 0.2895888 , 0.16541681,\n",
              "        0.46435926, 0.60294101, 0.13596006],\n",
              "       [0.27467643, 0.25314988, 0.55329436, 0.64740241, 0.2133666 ,\n",
              "        0.37146456, 0.32341694, 0.54340187, 0.3114023 , 0.12636159,\n",
              "        0.55915844, 0.67400117, 0.13624979],\n",
              "       [0.29617401, 0.2808101 , 0.53617895, 0.63921426, 0.22713781,\n",
              "        0.43397308, 0.35716707, 0.46493553, 0.33177553, 0.11212667,\n",
              "        0.54961228, 0.66890544, 0.12717384]])"
            ]
          },
          "metadata": {
            "tags": []
          },
          "execution_count": 53
        }
      ]
    },
    {
      "cell_type": "code",
      "metadata": {
        "id": "5MRTYPK2yB1Y",
        "outputId": "d14d109b-d5cb-4fab-d759-8593e11587b5",
        "colab": {
          "base_uri": "https://localhost:8080/"
        }
      },
      "source": [
        "som._activation_map"
      ],
      "execution_count": 54,
      "outputs": [
        {
          "output_type": "execute_result",
          "data": {
            "text/plain": [
              "array([[0.9947059 , 1.00010028, 1.00947628, 1.00414749, 0.98207755,\n",
              "        0.95751475, 0.93788233, 0.88861573],\n",
              "       [1.00982489, 1.01262398, 1.01486933, 1.00515617, 0.9573764 ,\n",
              "        0.90482125, 0.90045699, 0.86788667],\n",
              "       [1.03427138, 1.0498254 , 1.03551234, 0.99731509, 0.89887038,\n",
              "        0.84931734, 0.86728784, 0.83060451],\n",
              "       [1.00125601, 1.03024804, 1.02006251, 0.94133408, 0.78263294,\n",
              "        0.76242725, 0.78154722, 0.74373021],\n",
              "       [0.90378528, 0.89854938, 0.88967548, 0.77538233, 0.59936357,\n",
              "        0.59692832, 0.64112028, 0.64182014],\n",
              "       [0.74908495, 0.66983761, 0.58966705, 0.49067681, 0.39852586,\n",
              "        0.39560765, 0.46184488, 0.48663174],\n",
              "       [0.56420593, 0.45953709, 0.33787021, 0.27610384, 0.27706611,\n",
              "        0.33818756, 0.40530169, 0.42975694],\n",
              "       [0.46431613, 0.34420771, 0.26176696, 0.25985719, 0.28883621,\n",
              "        0.35643948, 0.40512767, 0.43031408]])"
            ]
          },
          "metadata": {
            "tags": []
          },
          "execution_count": 54
        }
      ]
    },
    {
      "cell_type": "code",
      "metadata": {
        "id": "38xv6mrjyPnT",
        "outputId": "bb2719c0-abd8-4021-e921-bd7abc15495c",
        "colab": {
          "base_uri": "https://localhost:8080/"
        }
      },
      "source": [
        "q = som.activation_response(x)\n",
        "q"
      ],
      "execution_count": 55,
      "outputs": [
        {
          "output_type": "execute_result",
          "data": {
            "text/plain": [
              "array([[13.,  6.,  5.,  4.,  0.,  6.,  4.,  4.],\n",
              "       [ 7.,  3.,  0.,  1.,  1.,  2.,  2.,  3.],\n",
              "       [ 1.,  1.,  1.,  1.,  4.,  5.,  5.,  3.],\n",
              "       [ 2.,  1.,  1.,  0.,  0.,  5.,  1.,  1.],\n",
              "       [ 5.,  0.,  4.,  1.,  0.,  4.,  1.,  3.],\n",
              "       [ 1.,  1.,  0.,  2.,  4.,  5.,  1.,  1.],\n",
              "       [ 2.,  1.,  3.,  0.,  5.,  3.,  1.,  4.],\n",
              "       [ 5.,  0.,  4.,  4.,  6.,  7.,  1.,  6.]])"
            ]
          },
          "metadata": {
            "tags": []
          },
          "execution_count": 55
        }
      ]
    },
    {
      "cell_type": "code",
      "metadata": {
        "id": "WRYEFXjlyYue"
      },
      "source": [
        "from pylab import pcolor, colorbar, plot"
      ],
      "execution_count": 56,
      "outputs": []
    },
    {
      "cell_type": "code",
      "metadata": {
        "id": "EpbYRGiayurG",
        "outputId": "beae43e3-6013-4de3-b55d-859b8b14612e",
        "colab": {
          "base_uri": "https://localhost:8080/",
          "height": 286
        }
      },
      "source": [
        "pcolor(som.distance_map().T) #MID - mean inter neuron distance\n",
        "colorbar()"
      ],
      "execution_count": 57,
      "outputs": [
        {
          "output_type": "execute_result",
          "data": {
            "text/plain": [
              "<matplotlib.colorbar.Colorbar at 0x7faee3a350f0>"
            ]
          },
          "metadata": {
            "tags": []
          },
          "execution_count": 57
        },
        {
          "output_type": "display_data",
          "data": {
            "image/png": "[encoded data removed]",
            "text/plain": [
              "<Figure size 432x288 with 2 Axes>"
            ]
          },
          "metadata": {
            "tags": [],
            "needs_background": "light"
          }
        }
      ]
    },
    {
      "cell_type": "code",
      "metadata": {
        "id": "nVQ1li5GzfC4",
        "outputId": "e56f6af4-fd6a-4dca-c42c-39c73ed8aa33",
        "colab": {
          "base_uri": "https://localhost:8080/"
        }
      },
      "source": [
        "w = som.winner(x[3])\n",
        "w"
      ],
      "execution_count": 58,
      "outputs": [
        {
          "output_type": "execute_result",
          "data": {
            "text/plain": [
              "(7, 5)"
            ]
          },
          "metadata": {
            "tags": []
          },
          "execution_count": 58
        }
      ]
    },
    {
      "cell_type": "code",
      "metadata": {
        "id": "gGPH2KM70DpO"
      },
      "source": [
        "markers = ['o', 's', 'D']\n",
        "color = ['r', 'g', 'b']"
      ],
      "execution_count": 59,
      "outputs": []
    },
    {
      "cell_type": "code",
      "metadata": {
        "id": "jAKpO-WV1DoI"
      },
      "source": [
        "y[y == 1] = 0\n",
        "y[y == 2] = 1\n",
        "y[y == 3] = 2"
      ],
      "execution_count": 60,
      "outputs": []
    },
    {
      "cell_type": "code",
      "metadata": {
        "id": "GvAWUD-51L5Q",
        "outputId": "28f3fe1a-ee04-4ac5-82e6-1690cf735af3",
        "colab": {
          "base_uri": "https://localhost:8080/",
          "height": 265
        }
      },
      "source": [
        "for i, a in enumerate(x):\n",
        "  #print(i)\n",
        "  #print(x)\n",
        "  w = som.winner(a);\n",
        "  #print(w)\n",
        "  plot(w[0] + 0.5, w[1] + 0.5, markers[y[i]],\n",
        "       markerfacecolor = 'None', markersize = 10,\n",
        "       markeredgecolor = color[y[i]],\n",
        "       markeredgewidth = 2)"
      ],
      "execution_count": 62,
      "outputs": [
        {
          "output_type": "display_data",
          "data": {
            "image/png": "[encoded data removed]",
            "text/plain": [
              "<Figure size 432x288 with 1 Axes>"
            ]
          },
          "metadata": {
            "tags": [],
            "needs_background": "light"
          }
        }
      ]
    },
    {
      "cell_type": "code",
      "metadata": {
        "id": "21XIa4LV1UX5"
      },
      "source": [
        ""
      ],
      "execution_count": null,
      "outputs": []
    }
  ]
}