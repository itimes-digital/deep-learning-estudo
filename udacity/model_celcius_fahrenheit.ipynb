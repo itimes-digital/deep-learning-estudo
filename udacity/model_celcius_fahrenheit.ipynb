{
  "nbformat": 4,
  "nbformat_minor": 0,
  "metadata": {
    "colab": {
      "name": "model_celcius_fahrenheit.ipynb",
      "provenance": [],
      "authorship_tag": "ABX9TyOGo71xZDkKORyqU+59MZ4Z",
      "include_colab_link": true
    },
    "kernelspec": {
      "name": "python3",
      "display_name": "Python 3"
    }
  },
  "cells": [
    {
      "cell_type": "markdown",
      "metadata": {
        "id": "view-in-github",
        "colab_type": "text"
      },
      "source": [
        "<a href=\"https://colab.research.google.com/github/itimes-digital/deep-learning-estudo/blob/main/udacity/model_celcius_fahrenheit.ipynb\" target=\"_parent\"><img src=\"https://colab.research.google.com/assets/colab-badge.svg\" alt=\"Open In Colab\"/></a>"
      ]
    },
    {
      "cell_type": "markdown",
      "metadata": {
        "id": "Z0WkRqjsDPET"
      },
      "source": [
        "## Intro to TensorFlow for Deep Learning - Udacity"
      ]
    },
    {
      "cell_type": "code",
      "metadata": {
        "id": "m7wHwz2kBdDC"
      },
      "source": [
        "import tensorflow as tf\r\n",
        "import numpy as np\r\n",
        "import matplotlib.pyplot as plt\r\n",
        "import logging"
      ],
      "execution_count": 6,
      "outputs": []
    },
    {
      "cell_type": "code",
      "metadata": {
        "colab": {
          "base_uri": "https://localhost:8080/"
        },
        "id": "2wfS3pHQDkzd",
        "outputId": "7fc10b9d-5850-4b93-99ad-d46e73558212"
      },
      "source": [
        " print(tf.__version__)"
      ],
      "execution_count": 7,
      "outputs": [
        {
          "output_type": "stream",
          "text": [
            "2.4.0\n"
          ],
          "name": "stdout"
        }
      ]
    },
    {
      "cell_type": "code",
      "metadata": {
        "id": "BmX85w2gEZ4v"
      },
      "source": [
        "logging.getLogger(\"tensorflow\").setLevel(logging.ERROR)"
      ],
      "execution_count": 9,
      "outputs": []
    },
    {
      "cell_type": "code",
      "metadata": {
        "id": "IMZllYiqFL2y"
      },
      "source": [
        "def celcius_fahrenheit(c):\r\n",
        "  return (c * 1.8) + 32;"
      ],
      "execution_count": 10,
      "outputs": []
    },
    {
      "cell_type": "code",
      "metadata": {
        "colab": {
          "base_uri": "https://localhost:8080/"
        },
        "id": "IMV9EFkjFUnQ",
        "outputId": "ca5f3640-6384-4bb6-b581-177e1f179344"
      },
      "source": [
        "celcius_fahrenheit(100)"
      ],
      "execution_count": 19,
      "outputs": [
        {
          "output_type": "execute_result",
          "data": {
            "text/plain": [
              "212.0"
            ]
          },
          "metadata": {
            "tags": []
          },
          "execution_count": 19
        }
      ]
    },
    {
      "cell_type": "code",
      "metadata": {
        "id": "MWE3u3qoE4Nb"
      },
      "source": [
        "celcius_in      = np.array([-40, -10, 0, 8, 15, 22, 38, 45, 100], dtype=float)\r\n",
        "fahrenheit_out  = np.array([-40, 14, 32, 46, 59, 71, 100, 113, 212], dtype=float)"
      ],
      "execution_count": 20,
      "outputs": []
    },
    {
      "cell_type": "code",
      "metadata": {
        "colab": {
          "base_uri": "https://localhost:8080/"
        },
        "id": "44Btfw-3F2SS",
        "outputId": "aa2d4131-8c4c-4158-9485-c27d5892064a"
      },
      "source": [
        "for i, c in enumerate(celcius_in):\r\n",
        "  print(\"{} degrees Celcius = {} degrees Fahrenheit\".format(c, fahrenheit_out[i]))"
      ],
      "execution_count": 21,
      "outputs": [
        {
          "output_type": "stream",
          "text": [
            "-40.0 degrees Celcius = -40.0 degrees Fahrenheit\n",
            "-10.0 degrees Celcius = 14.0 degrees Fahrenheit\n",
            "0.0 degrees Celcius = 32.0 degrees Fahrenheit\n",
            "8.0 degrees Celcius = 46.0 degrees Fahrenheit\n",
            "15.0 degrees Celcius = 59.0 degrees Fahrenheit\n",
            "22.0 degrees Celcius = 71.0 degrees Fahrenheit\n",
            "38.0 degrees Celcius = 100.0 degrees Fahrenheit\n",
            "45.0 degrees Celcius = 113.0 degrees Fahrenheit\n",
            "100.0 degrees Celcius = 212.0 degrees Fahrenheit\n"
          ],
          "name": "stdout"
        }
      ]
    },
    {
      "cell_type": "markdown",
      "metadata": {
        "id": "y3_Zf6z6GaOU"
      },
      "source": [
        "## Create a Model"
      ]
    },
    {
      "cell_type": "code",
      "metadata": {
        "id": "O3MDCCo-GKn4"
      },
      "source": [
        "layer_in = tf.keras.layers.Dense(units = 1, input_shape=[1])"
      ],
      "execution_count": 54,
      "outputs": []
    },
    {
      "cell_type": "code",
      "metadata": {
        "id": "K7niNubUGti8"
      },
      "source": [
        "model = tf.keras.Sequential([layer_in])"
      ],
      "execution_count": 55,
      "outputs": []
    },
    {
      "cell_type": "markdown",
      "metadata": {
        "id": "w9SFBdhsHEyg"
      },
      "source": [
        "Alternative"
      ]
    },
    {
      "cell_type": "code",
      "metadata": {
        "id": "bDJpIYOpG1Q6"
      },
      "source": [
        "model = tf.keras.Sequential([\r\n",
        "  tf.keras.layers.Dense(units = 1, input_shape=[1])\r\n",
        "])"
      ],
      "execution_count": 42,
      "outputs": []
    },
    {
      "cell_type": "code",
      "metadata": {
        "id": "vqmX82kUNUR7"
      },
      "source": [
        "model.compile(loss = 'mean_squared_error', optimizer = tf.keras.optimizers.Adam(0.1))"
      ],
      "execution_count": 56,
      "outputs": []
    },
    {
      "cell_type": "code",
      "metadata": {
        "colab": {
          "base_uri": "https://localhost:8080/"
        },
        "id": "w3cYwkU-NlGL",
        "outputId": "2c7a8f96-1ccb-4d03-983c-aa1b9589369e"
      },
      "source": [
        "model.summary()"
      ],
      "execution_count": 57,
      "outputs": [
        {
          "output_type": "stream",
          "text": [
            "Model: \"sequential_3\"\n",
            "_________________________________________________________________\n",
            "Layer (type)                 Output Shape              Param #   \n",
            "=================================================================\n",
            "dense_4 (Dense)              (None, 1)                 2         \n",
            "=================================================================\n",
            "Total params: 2\n",
            "Trainable params: 2\n",
            "Non-trainable params: 0\n",
            "_________________________________________________________________\n"
          ],
          "name": "stdout"
        }
      ]
    },
    {
      "cell_type": "code",
      "metadata": {
        "colab": {
          "base_uri": "https://localhost:8080/"
        },
        "id": "TNpnitG0NmQe",
        "outputId": "dfb744ca-2364-4f51-cc3b-90315f7ff881"
      },
      "source": [
        "history = model.fit(celcius_in, fahrenheit_out, epochs=500, verbose=False)\r\n",
        "print('Finished training the model')"
      ],
      "execution_count": 58,
      "outputs": [
        {
          "output_type": "stream",
          "text": [
            "Finished training the model\n"
          ],
          "name": "stdout"
        }
      ]
    },
    {
      "cell_type": "code",
      "metadata": {
        "colab": {
          "base_uri": "https://localhost:8080/",
          "height": 296
        },
        "id": "Mc4eOozxN1TY",
        "outputId": "712a9cb6-a8b1-4afb-d7f8-088222d49522"
      },
      "source": [
        "plt.xlabel('Epochs Number')\r\n",
        "plt.ylabel('Loss Magnitude')\r\n",
        "plt.plot(history.history['loss'])"
      ],
      "execution_count": 59,
      "outputs": [
        {
          "output_type": "execute_result",
          "data": {
            "text/plain": [
              "[<matplotlib.lines.Line2D at 0x7f5eb48f7fd0>]"
            ]
          },
          "metadata": {
            "tags": []
          },
          "execution_count": 59
        },
        {
          "output_type": "display_data",
          "data": {
            "image/png": "[encoded data removed]",
            "text/plain": [
              "<Figure size 432x288 with 1 Axes>"
            ]
          },
          "metadata": {
            "tags": [],
            "needs_background": "light"
          }
        }
      ]
    },
    {
      "cell_type": "code",
      "metadata": {
        "colab": {
          "base_uri": "https://localhost:8080/"
        },
        "id": "VHNWmPuCOFNA",
        "outputId": "6c08cf41-08df-4e26-d374-8a08799fbbfd"
      },
      "source": [
        "print(model.predict([100.0]))"
      ],
      "execution_count": 60,
      "outputs": [
        {
          "output_type": "stream",
          "text": [
            "[[212.52747]]\n"
          ],
          "name": "stdout"
        }
      ]
    },
    {
      "cell_type": "code",
      "metadata": {
        "colab": {
          "base_uri": "https://localhost:8080/"
        },
        "id": "Clrw3EgaOS7a",
        "outputId": "2257d284-8220-47d8-ca9e-05c60caa8f67"
      },
      "source": [
        "print('These are the layer variables: {}'.format(layer_in.get_weights()))"
      ],
      "execution_count": 61,
      "outputs": [
        {
          "output_type": "stream",
          "text": [
            "These are the layer variables: [array([[1.860248]], dtype=float32), array([26.50267], dtype=float32)]\n"
          ],
          "name": "stdout"
        }
      ]
    },
    {
      "cell_type": "markdown",
      "metadata": {
        "id": "bOqNJ1byQe-E"
      },
      "source": [
        "## More Layers"
      ]
    },
    {
      "cell_type": "code",
      "metadata": {
        "colab": {
          "base_uri": "https://localhost:8080/"
        },
        "id": "32pjvOI5P9mz",
        "outputId": "b4f46213-4dae-4616-ebe9-6274f449d33f"
      },
      "source": [
        "l0 = tf.keras.layers.Dense(units = 4, input_shape=[1])\r\n",
        "l1 = tf.keras.layers.Dense(units = 4)\r\n",
        "l2 = tf.keras.layers.Dense(units = 1)\r\n",
        "\r\n",
        "model = tf.keras.Sequential([l0, l1, l2])\r\n",
        "model.compile(loss = 'mean_squared_error', optimizer=tf.keras.optimizers.Adam(0.1))\r\n",
        "model.summary()"
      ],
      "execution_count": 68,
      "outputs": [
        {
          "output_type": "stream",
          "text": [
            "Model: \"sequential_5\"\n",
            "_________________________________________________________________\n",
            "Layer (type)                 Output Shape              Param #   \n",
            "=================================================================\n",
            "dense_8 (Dense)              (None, 4)                 8         \n",
            "_________________________________________________________________\n",
            "dense_9 (Dense)              (None, 4)                 20        \n",
            "_________________________________________________________________\n",
            "dense_10 (Dense)             (None, 1)                 5         \n",
            "=================================================================\n",
            "Total params: 33\n",
            "Trainable params: 33\n",
            "Non-trainable params: 0\n",
            "_________________________________________________________________\n"
          ],
          "name": "stdout"
        }
      ]
    },
    {
      "cell_type": "code",
      "metadata": {
        "colab": {
          "base_uri": "https://localhost:8080/"
        },
        "id": "go4D7QHnRKot",
        "outputId": "8b0ffb1d-c85a-48cb-94ca-08127c92e72c"
      },
      "source": [
        "history = model.fit(celcius_in, fahrenheit_out, epochs=500, verbose=False)\r\n",
        "print('Finished training model')\r\n",
        "print(model.predict([100.0]))\r\n",
        "print('Model predict that 100 degrees Celcius is: {} degrees Fahrenheit'.format(model.predict([100.0])))\r\n",
        "print('These are the 10 variables: {}'.format(l0.get_weights()))\r\n",
        "print('These are the 11 variables: {}'.format(l1.get_weights()))\r\n",
        "print('These are the 12 variables: {}'.format(l2.get_weights()))"
      ],
      "execution_count": 69,
      "outputs": [
        {
          "output_type": "stream",
          "text": [
            "Finished training model\n",
            "[[211.8192]]\n",
            "Model predict that 100 degrees Celcius is: [[211.8192]] degrees Fahrenheit\n",
            "These are the 10 variables: [array([[-0.03157808,  0.4086774 ,  0.00721515, -0.56507653]],\n",
            "      dtype=float32), array([ 2.5096052,  3.598884 , -2.8193026, -3.830949 ], dtype=float32)]\n",
            "These are the 11 variables: [array([[-1.0576617 ,  0.6924489 , -0.13180615, -1.1219671 ],\n",
            "       [-0.49414256,  1.239925  , -0.11825409,  0.38744456],\n",
            "       [ 0.60017014, -0.17513463, -0.6572519 ,  0.21957397],\n",
            "       [ 0.32170177, -1.059682  , -0.778927  ,  0.3943389 ]],\n",
            "      dtype=float32), array([-3.8196158,  3.5172484,  2.1036553,  3.2968512], dtype=float32)]\n",
            "These are the 12 variables: [array([[-0.69419163],\n",
            "       [ 1.3251745 ],\n",
            "       [ 0.34528217],\n",
            "       [ 0.36271155]], dtype=float32), array([3.137537], dtype=float32)]\n"
          ],
          "name": "stdout"
        }
      ]
    },
    {
      "cell_type": "code",
      "metadata": {
        "colab": {
          "base_uri": "https://localhost:8080/",
          "height": 299
        },
        "id": "n3H9GBr7Ss41",
        "outputId": "b01077ee-f677-4576-fa0d-6a6a6755f96d"
      },
      "source": [
        "plt.xlabel('Epochs Number')\r\n",
        "plt.ylabel('Loss Magnitude')\r\n",
        "plt.plot(history.history['loss'])"
      ],
      "execution_count": 70,
      "outputs": [
        {
          "output_type": "execute_result",
          "data": {
            "text/plain": [
              "[<matplotlib.lines.Line2D at 0x7f5eb5005f98>]"
            ]
          },
          "metadata": {
            "tags": []
          },
          "execution_count": 70
        },
        {
          "output_type": "display_data",
          "data": {
            "image/png": "[encoded data removed]",
            "text/plain": [
              "<Figure size 432x288 with 1 Axes>"
            ]
          },
          "metadata": {
            "tags": [],
            "needs_background": "light"
          }
        }
      ]
    },
    {
      "cell_type": "code",
      "metadata": {
        "id": "6Vr0SEZcTPYD",
        "outputId": "74def80d-7d33-44e0-ac24-853fd4f847c4",
        "colab": {
          "base_uri": "https://localhost:8080/"
        }
      },
      "source": [
        "print(model.predict([1000.0]))"
      ],
      "execution_count": 72,
      "outputs": [
        {
          "output_type": "stream",
          "text": [
            "[[1831.5358]]\n"
          ],
          "name": "stdout"
        }
      ]
    }
  ]
}