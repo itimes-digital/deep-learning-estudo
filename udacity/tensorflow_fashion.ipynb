{
  "nbformat": 4,
  "nbformat_minor": 0,
  "metadata": {
    "colab": {
      "name": "tensorflow_fashion.ipynb",
      "provenance": [],
      "authorship_tag": "ABX9TyPbOwfqpmF+4ee4aE6605wG",
      "include_colab_link": true
    },
    "kernelspec": {
      "name": "python3",
      "display_name": "Python 3"
    },
    "accelerator": "GPU"
  },
  "cells": [
    {
      "cell_type": "markdown",
      "metadata": {
        "id": "view-in-github",
        "colab_type": "text"
      },
      "source": [
        "<a href=\"https://colab.research.google.com/github/itimes-digital/deep-learning-estudo/blob/main/udacity/tensorflow_fashion.ipynb\" target=\"_parent\"><img src=\"https://colab.research.google.com/assets/colab-badge.svg\" alt=\"Open In Colab\"/></a>"
      ]
    },
    {
      "cell_type": "code",
      "metadata": {
        "id": "stCzov9aWDcE"
      },
      "source": [
        "!pip install -U tensorflow_datasets"
      ],
      "execution_count": null,
      "outputs": []
    },
    {
      "cell_type": "code",
      "metadata": {
        "colab": {
          "base_uri": "https://localhost:8080/"
        },
        "id": "_S6_0mhoptGD",
        "outputId": "0873367b-ddfe-4eda-bc3f-edca8a6e0bce"
      },
      "source": [
        "from __future__ import absolute_import, division, print_function\r\n",
        "\r\n",
        "import tensorflow as tf\r\n",
        "import tensorflow_datasets as tfds\r\n",
        "#tf.compat.v1.logging.get_verbosity(tf.logging.ERROR)\r\n",
        "\r\n",
        "import math\r\n",
        "import numpy as np\r\n",
        "import matplotlib.pyplot as plt\r\n",
        "\r\n",
        "import tqdm\r\n",
        "import tqdm.auto\r\n",
        "tqdm.tqdm = tqdm.auto.tqdm\r\n",
        "\r\n",
        "print(tf.__version__)\r\n",
        "\r\n",
        "tf.compat.v1.enable_eager_execution()"
      ],
      "execution_count": 11,
      "outputs": [
        {
          "output_type": "stream",
          "text": [
            "2.4.1\n"
          ],
          "name": "stdout"
        }
      ]
    },
    {
      "cell_type": "code",
      "metadata": {
        "id": "m6kN3d8vtVq6"
      },
      "source": [
        "import pandas as pd"
      ],
      "execution_count": 16,
      "outputs": []
    },
    {
      "cell_type": "code",
      "metadata": {
        "id": "y4txRlxNqlNn"
      },
      "source": [
        "dataset, metadata = tfds.load('fashion_mnist', as_supervised = True, with_info = True)\r\n",
        "train_dataset, test_dataset = dataset['train'], dataset['test']"
      ],
      "execution_count": 13,
      "outputs": []
    },
    {
      "cell_type": "code",
      "metadata": {
        "id": "-gt1a-GgsTam"
      },
      "source": [
        "class_names = ['T-shirt/top', 'Trouser', 'Pullover', 'Dress', 'Coat',\r\n",
        "               'Sandal', 'Shirt', 'Sneaker', 'Bag', 'Ankle boot']"
      ],
      "execution_count": 18,
      "outputs": []
    },
    {
      "cell_type": "code",
      "metadata": {
        "id": "DBGr0gHPtEam"
      },
      "source": [
        "number_label = [0,1, 2, 3, 4, 5, 6, 7, 8, 9]"
      ],
      "execution_count": 19,
      "outputs": []
    },
    {
      "cell_type": "code",
      "metadata": {
        "colab": {
          "base_uri": "https://localhost:8080/",
          "height": 359
        },
        "id": "cnWUcPrBtOQw",
        "outputId": "d9c546ea-6092-4ffb-dcc0-1aaa1caa75e6"
      },
      "source": [
        "label_class = pd.DataFrame(data= {'Label': number_label, 'Class': class_names})\r\n",
        "label_class"
      ],
      "execution_count": 23,
      "outputs": [
        {
          "output_type": "execute_result",
          "data": {
            "text/html": [
              "<div>\n",
              "<style scoped>\n",
              "    .dataframe tbody tr th:only-of-type {\n",
              "        vertical-align: middle;\n",
              "    }\n",
              "\n",
              "    .dataframe tbody tr th {\n",
              "        vertical-align: top;\n",
              "    }\n",
              "\n",
              "    .dataframe thead th {\n",
              "        text-align: right;\n",
              "    }\n",
              "</style>\n",
              "<table border=\"1\" class=\"dataframe\">\n",
              "  <thead>\n",
              "    <tr style=\"text-align: right;\">\n",
              "      <th></th>\n",
              "      <th>Label</th>\n",
              "      <th>Class</th>\n",
              "    </tr>\n",
              "  </thead>\n",
              "  <tbody>\n",
              "    <tr>\n",
              "      <th>0</th>\n",
              "      <td>0</td>\n",
              "      <td>T-shirt/top</td>\n",
              "    </tr>\n",
              "    <tr>\n",
              "      <th>1</th>\n",
              "      <td>1</td>\n",
              "      <td>Trouser</td>\n",
              "    </tr>\n",
              "    <tr>\n",
              "      <th>2</th>\n",
              "      <td>2</td>\n",
              "      <td>Pullover</td>\n",
              "    </tr>\n",
              "    <tr>\n",
              "      <th>3</th>\n",
              "      <td>3</td>\n",
              "      <td>Dress</td>\n",
              "    </tr>\n",
              "    <tr>\n",
              "      <th>4</th>\n",
              "      <td>4</td>\n",
              "      <td>Coat</td>\n",
              "    </tr>\n",
              "    <tr>\n",
              "      <th>5</th>\n",
              "      <td>5</td>\n",
              "      <td>Sandal</td>\n",
              "    </tr>\n",
              "    <tr>\n",
              "      <th>6</th>\n",
              "      <td>6</td>\n",
              "      <td>Shirt</td>\n",
              "    </tr>\n",
              "    <tr>\n",
              "      <th>7</th>\n",
              "      <td>7</td>\n",
              "      <td>Sneaker</td>\n",
              "    </tr>\n",
              "    <tr>\n",
              "      <th>8</th>\n",
              "      <td>8</td>\n",
              "      <td>Bag</td>\n",
              "    </tr>\n",
              "    <tr>\n",
              "      <th>9</th>\n",
              "      <td>9</td>\n",
              "      <td>Ankle boot</td>\n",
              "    </tr>\n",
              "  </tbody>\n",
              "</table>\n",
              "</div>"
            ],
            "text/plain": [
              "   Label        Class\n",
              "0      0  T-shirt/top\n",
              "1      1      Trouser\n",
              "2      2     Pullover\n",
              "3      3        Dress\n",
              "4      4         Coat\n",
              "5      5       Sandal\n",
              "6      6        Shirt\n",
              "7      7      Sneaker\n",
              "8      8          Bag\n",
              "9      9   Ankle boot"
            ]
          },
          "metadata": {
            "tags": []
          },
          "execution_count": 23
        }
      ]
    },
    {
      "cell_type": "code",
      "metadata": {
        "colab": {
          "base_uri": "https://localhost:8080/"
        },
        "id": "8fLLLePPtsBZ",
        "outputId": "2a05d362-7c94-4514-ad39-9d67312f4bac"
      },
      "source": [
        "num_train_examples = metadata.splits['train'].num_examples\r\n",
        "num_test_examples = metadata.splits['test'].num_examples\r\n",
        "print('Number of training examples: {}'.format(num_train_examples))\r\n",
        "print('Number of test examples:     {}'.format(num_test_examples))"
      ],
      "execution_count": 24,
      "outputs": [
        {
          "output_type": "stream",
          "text": [
            "Number of training examples: 60000\n",
            "Number of test examples:     10000\n"
          ],
          "name": "stdout"
        }
      ]
    },
    {
      "cell_type": "markdown",
      "metadata": {
        "id": "zY_KUjt_wBMJ"
      },
      "source": [
        "### **PreProcess the data**"
      ]
    },
    {
      "cell_type": "code",
      "metadata": {
        "id": "nyWO9bNQv7U4"
      },
      "source": [
        "def normalize(images, labels):\r\n",
        "    image = tf.cast(images, tf.float32)\r\n",
        "    images /= 255\r\n",
        "    return images, labels"
      ],
      "execution_count": 28,
      "outputs": []
    },
    {
      "cell_type": "code",
      "metadata": {
        "id": "RwLJI4yQwXAf"
      },
      "source": [
        "train_dataset = train_dataset.map(normalize)\r\n",
        "test_dataset = test_dataset.map(normalize)"
      ],
      "execution_count": 29,
      "outputs": []
    },
    {
      "cell_type": "markdown",
      "metadata": {
        "id": "SzAIYoEPwshi"
      },
      "source": [
        "### **Explore the processed data**"
      ]
    },
    {
      "cell_type": "code",
      "metadata": {
        "id": "zDJHDaK4whzD"
      },
      "source": [
        "for image, label in test_dataset.take(1):\r\n",
        "    break\r\n",
        "    image = image.numpy().reshape((28, 28))\r\n",
        "\r\n",
        "    plt.figure()\r\n",
        "    plt.imshow(image, cmap = plt.cm.binary)\r\n",
        "    plt.colorbar()\r\n",
        "    plt.grid(False)\r\n",
        "    plt.show()"
      ],
      "execution_count": 31,
      "outputs": []
    },
    {
      "cell_type": "code",
      "metadata": {
        "id": "XF9sQABLxMSu"
      },
      "source": [
        ""
      ],
      "execution_count": null,
      "outputs": []
    }
  ]
}