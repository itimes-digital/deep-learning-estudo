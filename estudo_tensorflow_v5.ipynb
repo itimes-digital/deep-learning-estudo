{
  "nbformat": 4,
  "nbformat_minor": 0,
  "metadata": {
    "colab": {
      "name": "estudo_tensorflow_v5.ipynb",
      "provenance": [],
      "authorship_tag": "ABX9TyOmErk2kUQecklVAxQghR9s",
      "include_colab_link": true
    },
    "kernelspec": {
      "name": "python3",
      "display_name": "Python 3"
    }
  },
  "cells": [
    {
      "cell_type": "markdown",
      "metadata": {
        "id": "view-in-github",
        "colab_type": "text"
      },
      "source": [
        "<a href=\"https://colab.research.google.com/github/itimes-digital/deep-learning-estudo/blob/main/estudo_tensorflow_v5.ipynb\" target=\"_parent\"><img src=\"https://colab.research.google.com/assets/colab-badge.svg\" alt=\"Open In Colab\"/></a>"
      ]
    },
    {
      "cell_type": "code",
      "metadata": {
        "id": "VG8fDS47h6Ir"
      },
      "source": [
        "import tensorflow as tf"
      ],
      "execution_count": 2,
      "outputs": []
    },
    {
      "cell_type": "code",
      "metadata": {
        "id": "7_-pQbVRijYU"
      },
      "source": [
        "!pip install tensorflow==1.14\r\n",
        "!pip install tensorflow"
      ],
      "execution_count": null,
      "outputs": []
    },
    {
      "cell_type": "markdown",
      "metadata": {
        "id": "jTGrCYPFo37u"
      },
      "source": [
        "## Cálculo de um neurônio Perceptron via Tensorflow"
      ]
    },
    {
      "cell_type": "code",
      "metadata": {
        "id": "EukAyTKNnOWs"
      },
      "source": [
        "# cálculos devem ser do mesmo tipo, isto é, int com int ou float com float\r\n",
        "a = tf.constant([[-1.0,7.0,5.0]], name = 'entrada') \r\n",
        "b = tf.constant([[0.8,0.1,0.0]], name = 'pesos')\r\n",
        "\r\n",
        "# usa o multiply para vetores ou matrizes com uma única dimensão\r\n",
        "multiplicacao = tf.multiply(a, b)\r\n",
        "soma = tf.reduce_sum(multiplicacao)"
      ],
      "execution_count": 14,
      "outputs": []
    },
    {
      "cell_type": "code",
      "metadata": {
        "colab": {
          "base_uri": "https://localhost:8080/"
        },
        "id": "yaaJoGNTobIO",
        "outputId": "8037d69a-b061-4765-830c-fb37c5ad33ec"
      },
      "source": [
        "with tf.Session() as sess:\r\n",
        "    print(sess.run(a))\r\n",
        "    print('\\n')\r\n",
        "    print(sess.run(b))\r\n",
        "    print('\\n')\r\n",
        "    print(sess.run(multiplicacao))\r\n",
        "    print('\\n')\r\n",
        "    print(sess.run(soma))"
      ],
      "execution_count": 16,
      "outputs": [
        {
          "output_type": "stream",
          "text": [
            "[[-1.  7.  5.]]\n",
            "\n",
            "\n",
            "[[0.8 0.1 0. ]]\n",
            "\n",
            "\n",
            "[[-0.8  0.7  0. ]]\n",
            "\n",
            "\n",
            "-0.100000024\n"
          ],
          "name": "stdout"
        }
      ]
    },
    {
      "cell_type": "code",
      "metadata": {
        "id": "DOI6hH8Yoz1z"
      },
      "source": [
        ""
      ],
      "execution_count": null,
      "outputs": []
    }
  ]
}