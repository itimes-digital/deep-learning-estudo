{
  "nbformat": 4,
  "nbformat_minor": 0,
  "metadata": {
    "colab": {
      "name": "gan_mnist.ipynb",
      "provenance": [],
      "authorship_tag": "ABX9TyOGtRCcVfYtaPnKQ+idSgYq",
      "include_colab_link": true
    },
    "kernelspec": {
      "name": "python3",
      "display_name": "Python 3"
    }
  },
  "cells": [
    {
      "cell_type": "markdown",
      "metadata": {
        "id": "view-in-github",
        "colab_type": "text"
      },
      "source": [
        "<a href=\"https://colab.research.google.com/github/itimes-digital/deep-learning-estudo/blob/main/gan_mnist.ipynb\" target=\"_parent\"><img src=\"https://colab.research.google.com/assets/colab-badge.svg\" alt=\"Open In Colab\"/></a>"
      ]
    },
    {
      "cell_type": "code",
      "metadata": {
        "id": "ckM4n0qgLo0o",
        "colab": {
          "base_uri": "https://localhost:8080/"
        },
        "outputId": "80a43f47-741f-4f77-bea4-03e012a8a559"
      },
      "source": [
        "pip install keras_adversarial"
      ],
      "execution_count": 1,
      "outputs": [
        {
          "output_type": "stream",
          "text": [
            "Requirement already satisfied: keras_adversarial in /usr/local/lib/python3.6/dist-packages (0.0.3)\n",
            "Requirement already satisfied: Keras in /usr/local/lib/python3.6/dist-packages (from keras_adversarial) (2.1.2)\n",
            "Requirement already satisfied: numpy>=1.9.1 in /usr/local/lib/python3.6/dist-packages (from Keras->keras_adversarial) (1.18.5)\n",
            "Requirement already satisfied: pyyaml in /usr/local/lib/python3.6/dist-packages (from Keras->keras_adversarial) (3.13)\n",
            "Requirement already satisfied: six>=1.9.0 in /usr/local/lib/python3.6/dist-packages (from Keras->keras_adversarial) (1.15.0)\n",
            "Requirement already satisfied: scipy>=0.14 in /usr/local/lib/python3.6/dist-packages (from Keras->keras_adversarial) (1.4.1)\n"
          ],
          "name": "stdout"
        }
      ]
    },
    {
      "cell_type": "code",
      "metadata": {
        "id": "vLZ5tXJ0ADu7",
        "colab": {
          "base_uri": "https://localhost:8080/",
          "height": 276
        },
        "outputId": "fcb598de-b8a2-44b5-afbb-dca21a0a4f65"
      },
      "source": [
        "import keras\r\n",
        "keras.__version__"
      ],
      "execution_count": 2,
      "outputs": [
        {
          "output_type": "stream",
          "text": [
            "Using TensorFlow backend.\n",
            "/usr/local/lib/python3.6/dist-packages/tensorflow/python/framework/dtypes.py:458: FutureWarning: Passing (type, 1) or '1type' as a synonym of type is deprecated; in a future version of numpy, it will be understood as (type, (1,)) / '(1,)type'.\n",
            "  _np_qint8 = np.dtype([(\"qint8\", np.int8, 1)])\n",
            "/usr/local/lib/python3.6/dist-packages/tensorflow/python/framework/dtypes.py:459: FutureWarning: Passing (type, 1) or '1type' as a synonym of type is deprecated; in a future version of numpy, it will be understood as (type, (1,)) / '(1,)type'.\n",
            "  _np_quint8 = np.dtype([(\"quint8\", np.uint8, 1)])\n",
            "/usr/local/lib/python3.6/dist-packages/tensorflow/python/framework/dtypes.py:460: FutureWarning: Passing (type, 1) or '1type' as a synonym of type is deprecated; in a future version of numpy, it will be understood as (type, (1,)) / '(1,)type'.\n",
            "  _np_qint16 = np.dtype([(\"qint16\", np.int16, 1)])\n",
            "/usr/local/lib/python3.6/dist-packages/tensorflow/python/framework/dtypes.py:461: FutureWarning: Passing (type, 1) or '1type' as a synonym of type is deprecated; in a future version of numpy, it will be understood as (type, (1,)) / '(1,)type'.\n",
            "  _np_quint16 = np.dtype([(\"quint16\", np.uint16, 1)])\n",
            "/usr/local/lib/python3.6/dist-packages/tensorflow/python/framework/dtypes.py:462: FutureWarning: Passing (type, 1) or '1type' as a synonym of type is deprecated; in a future version of numpy, it will be understood as (type, (1,)) / '(1,)type'.\n",
            "  _np_qint32 = np.dtype([(\"qint32\", np.int32, 1)])\n",
            "/usr/local/lib/python3.6/dist-packages/tensorflow/python/framework/dtypes.py:465: FutureWarning: Passing (type, 1) or '1type' as a synonym of type is deprecated; in a future version of numpy, it will be understood as (type, (1,)) / '(1,)type'.\n",
            "  np_resource = np.dtype([(\"resource\", np.ubyte, 1)])\n"
          ],
          "name": "stderr"
        },
        {
          "output_type": "execute_result",
          "data": {
            "application/vnd.google.colaboratory.intrinsic+json": {
              "type": "string"
            },
            "text/plain": [
              "'2.1.2'"
            ]
          },
          "metadata": {
            "tags": []
          },
          "execution_count": 2
        }
      ]
    },
    {
      "cell_type": "code",
      "metadata": {
        "id": "yarLj-1-BRv-",
        "colab": {
          "base_uri": "https://localhost:8080/"
        },
        "outputId": "b830321e-e340-401b-9ef0-6ed8d574f1aa"
      },
      "source": [
        "pip install keras==2.1.2"
      ],
      "execution_count": 3,
      "outputs": [
        {
          "output_type": "stream",
          "text": [
            "Requirement already satisfied: keras==2.1.2 in /usr/local/lib/python3.6/dist-packages (2.1.2)\n",
            "Requirement already satisfied: six>=1.9.0 in /usr/local/lib/python3.6/dist-packages (from keras==2.1.2) (1.15.0)\n",
            "Requirement already satisfied: scipy>=0.14 in /usr/local/lib/python3.6/dist-packages (from keras==2.1.2) (1.4.1)\n",
            "Requirement already satisfied: numpy>=1.9.1 in /usr/local/lib/python3.6/dist-packages (from keras==2.1.2) (1.18.5)\n",
            "Requirement already satisfied: pyyaml in /usr/local/lib/python3.6/dist-packages (from keras==2.1.2) (3.13)\n"
          ],
          "name": "stdout"
        }
      ]
    },
    {
      "cell_type": "code",
      "metadata": {
        "id": "WoQ5CuLyBxq5",
        "colab": {
          "base_uri": "https://localhost:8080/"
        },
        "outputId": "47d13a03-8f7e-4079-b011-7eb31ddada71"
      },
      "source": [
        "!pip install tensorflow==1.2"
      ],
      "execution_count": 4,
      "outputs": [
        {
          "output_type": "stream",
          "text": [
            "Requirement already satisfied: tensorflow==1.2 in /usr/local/lib/python3.6/dist-packages (1.2.0)\n",
            "Requirement already satisfied: six>=1.10.0 in /usr/local/lib/python3.6/dist-packages (from tensorflow==1.2) (1.15.0)\n",
            "Requirement already satisfied: markdown==2.2.0 in /usr/local/lib/python3.6/dist-packages (from tensorflow==1.2) (2.2.0)\n",
            "Requirement already satisfied: wheel>=0.26 in /usr/local/lib/python3.6/dist-packages (from tensorflow==1.2) (0.35.1)\n",
            "Requirement already satisfied: backports.weakref==1.0rc1 in /usr/local/lib/python3.6/dist-packages (from tensorflow==1.2) (1.0rc1)\n",
            "Requirement already satisfied: werkzeug>=0.11.10 in /usr/local/lib/python3.6/dist-packages (from tensorflow==1.2) (1.0.1)\n",
            "Requirement already satisfied: protobuf>=3.2.0 in /usr/local/lib/python3.6/dist-packages (from tensorflow==1.2) (3.12.4)\n",
            "Requirement already satisfied: numpy>=1.11.0 in /usr/local/lib/python3.6/dist-packages (from tensorflow==1.2) (1.18.5)\n",
            "Requirement already satisfied: html5lib==0.9999999 in /usr/local/lib/python3.6/dist-packages (from tensorflow==1.2) (0.9999999)\n",
            "Requirement already satisfied: bleach==1.5.0 in /usr/local/lib/python3.6/dist-packages (from tensorflow==1.2) (1.5.0)\n",
            "Requirement already satisfied: setuptools in /usr/local/lib/python3.6/dist-packages (from protobuf>=3.2.0->tensorflow==1.2) (50.3.2)\n"
          ],
          "name": "stdout"
        }
      ]
    },
    {
      "cell_type": "markdown",
      "metadata": {
        "id": "GLQ5bCkYCI2u"
      },
      "source": [
        "### O componente keras_adversarial funciona penas no Keras 2.1.2 e no tensorflow 1.2\r\n",
        "\r\n"
      ]
    },
    {
      "cell_type": "code",
      "metadata": {
        "id": "-eNmF1NWAvfW"
      },
      "source": [
        "import numpy as np\r\n",
        "import matplotlib.pyplot as plt\r\n",
        "from keras.datasets import mnist\r\n",
        "from keras.models import Sequential\r\n",
        "from keras.layers import InputLayer, Dense, Flatten, Reshape\r\n",
        "from keras.regularizers import L1L2\r\n",
        "from keras_adversarial import AdversarialModel, simple_gan, gan_targets\r\n",
        "from keras_adversarial import AdversarialOptimizerSimultaneous, normal_latent_sampling"
      ],
      "execution_count": 5,
      "outputs": []
    },
    {
      "cell_type": "markdown",
      "metadata": {
        "id": "XFRSYMY2CezF"
      },
      "source": [
        "*pip install --updgrade keras, volta a versão atual.*"
      ]
    },
    {
      "cell_type": "code",
      "metadata": {
        "id": "_36jzVtaBI0G",
        "colab": {
          "base_uri": "https://localhost:8080/"
        },
        "outputId": "45cea61f-34b0-41c0-c121-e57a760986c5"
      },
      "source": [
        "(previsores_treinamento, _), (_,_) = mnist.load_data()\r\n",
        "previsores_treinamento.shape"
      ],
      "execution_count": 6,
      "outputs": [
        {
          "output_type": "stream",
          "text": [
            "Downloading data from https://s3.amazonaws.com/img-datasets/mnist.npz\n",
            "11493376/11490434 [==============================] - 1s 0us/step\n"
          ],
          "name": "stdout"
        },
        {
          "output_type": "execute_result",
          "data": {
            "text/plain": [
              "(60000, 28, 28)"
            ]
          },
          "metadata": {
            "tags": []
          },
          "execution_count": 6
        }
      ]
    },
    {
      "cell_type": "code",
      "metadata": {
        "id": "CSh7fLGBCz9n",
        "colab": {
          "base_uri": "https://localhost:8080/"
        },
        "outputId": "79d47405-7e93-4e83-ad30-b0ee6d588fd9"
      },
      "source": [
        "previsores_treinamento = previsores_treinamento.astype('float32') / 255\r\n",
        "previsores_treinamento"
      ],
      "execution_count": 7,
      "outputs": [
        {
          "output_type": "execute_result",
          "data": {
            "text/plain": [
              "array([[[0., 0., 0., ..., 0., 0., 0.],\n",
              "        [0., 0., 0., ..., 0., 0., 0.],\n",
              "        [0., 0., 0., ..., 0., 0., 0.],\n",
              "        ...,\n",
              "        [0., 0., 0., ..., 0., 0., 0.],\n",
              "        [0., 0., 0., ..., 0., 0., 0.],\n",
              "        [0., 0., 0., ..., 0., 0., 0.]],\n",
              "\n",
              "       [[0., 0., 0., ..., 0., 0., 0.],\n",
              "        [0., 0., 0., ..., 0., 0., 0.],\n",
              "        [0., 0., 0., ..., 0., 0., 0.],\n",
              "        ...,\n",
              "        [0., 0., 0., ..., 0., 0., 0.],\n",
              "        [0., 0., 0., ..., 0., 0., 0.],\n",
              "        [0., 0., 0., ..., 0., 0., 0.]],\n",
              "\n",
              "       [[0., 0., 0., ..., 0., 0., 0.],\n",
              "        [0., 0., 0., ..., 0., 0., 0.],\n",
              "        [0., 0., 0., ..., 0., 0., 0.],\n",
              "        ...,\n",
              "        [0., 0., 0., ..., 0., 0., 0.],\n",
              "        [0., 0., 0., ..., 0., 0., 0.],\n",
              "        [0., 0., 0., ..., 0., 0., 0.]],\n",
              "\n",
              "       ...,\n",
              "\n",
              "       [[0., 0., 0., ..., 0., 0., 0.],\n",
              "        [0., 0., 0., ..., 0., 0., 0.],\n",
              "        [0., 0., 0., ..., 0., 0., 0.],\n",
              "        ...,\n",
              "        [0., 0., 0., ..., 0., 0., 0.],\n",
              "        [0., 0., 0., ..., 0., 0., 0.],\n",
              "        [0., 0., 0., ..., 0., 0., 0.]],\n",
              "\n",
              "       [[0., 0., 0., ..., 0., 0., 0.],\n",
              "        [0., 0., 0., ..., 0., 0., 0.],\n",
              "        [0., 0., 0., ..., 0., 0., 0.],\n",
              "        ...,\n",
              "        [0., 0., 0., ..., 0., 0., 0.],\n",
              "        [0., 0., 0., ..., 0., 0., 0.],\n",
              "        [0., 0., 0., ..., 0., 0., 0.]],\n",
              "\n",
              "       [[0., 0., 0., ..., 0., 0., 0.],\n",
              "        [0., 0., 0., ..., 0., 0., 0.],\n",
              "        [0., 0., 0., ..., 0., 0., 0.],\n",
              "        ...,\n",
              "        [0., 0., 0., ..., 0., 0., 0.],\n",
              "        [0., 0., 0., ..., 0., 0., 0.],\n",
              "        [0., 0., 0., ..., 0., 0., 0.]]], dtype=float32)"
            ]
          },
          "metadata": {
            "tags": []
          },
          "execution_count": 7
        }
      ]
    },
    {
      "cell_type": "markdown",
      "metadata": {
        "id": "XQdsa8wnDDzO"
      },
      "source": [
        "# Criação das redes neurais"
      ]
    },
    {
      "cell_type": "markdown",
      "metadata": {
        "id": "rMtZ19dlDOr9"
      },
      "source": [
        "### Gerador"
      ]
    },
    {
      "cell_type": "code",
      "metadata": {
        "id": "KhCVmBuSDAQk"
      },
      "source": [
        "gerador = Sequential()\r\n",
        "\r\n",
        "gerador.add(Dense(units = 500, \r\n",
        "                  input_dim = 100, \r\n",
        "                  activation = 'relu',\r\n",
        "                  kernel_regularizer = L1L2(1e-5, 1e-5)))# 1e-5, 1e-5 definido na documentação \r\n",
        "\r\n",
        "gerador.add(Dense(units = 500, \r\n",
        "                  input_dim = 100, \r\n",
        "                  activation = 'relu',\r\n",
        "                  kernel_regularizer = L1L2(1e-5, 1e-5)))\r\n",
        "\r\n",
        "gerador.add(Dense(units = 784, \r\n",
        "                  activation = 'sigmoid', \r\n",
        "                  kernel_regularizer = L1L2(1e-5, 1e-5)))# 28 * 28\r\n",
        "\r\n",
        "gerador.add(Reshape((28,28)))"
      ],
      "execution_count": 8,
      "outputs": []
    },
    {
      "cell_type": "markdown",
      "metadata": {
        "id": "bEgYg8GuFeCP"
      },
      "source": [
        "### Discriminador"
      ]
    },
    {
      "cell_type": "code",
      "metadata": {
        "id": "PEx338KfFjrm"
      },
      "source": [
        "discriminador = Sequential()\r\n",
        "\r\n",
        "discriminador.add(InputLayer(input_shape = (28,28))) # camada de entrada\r\n",
        "\r\n",
        "discriminador.add(Flatten())\r\n",
        "\r\n",
        "discriminador.add(Dense(units = 500, \r\n",
        "                        activation = 'relu', \r\n",
        "                        kernel_regularizer = L1L2(1e-5, 1e-5)))\r\n",
        "\r\n",
        "discriminador.add(Dense(units = 500, \r\n",
        "                        activation = 'relu', \r\n",
        "                        kernel_regularizer = L1L2(1e-5, 1e-5)))\r\n",
        "\r\n",
        "discriminador.add(Dense(units = 1, \r\n",
        "                        activation = 'sigmoid', \r\n",
        "                        kernel_regularizer = L1L2(1e-5, 1e-5)))"
      ],
      "execution_count": 9,
      "outputs": []
    },
    {
      "cell_type": "code",
      "metadata": {
        "id": "JmJULbinGhtB"
      },
      "source": [
        "gan = simple_gan(gerador, discriminador, normal_latent_sampling((100,)))# valor igual ao input_dim do gerador"
      ],
      "execution_count": 10,
      "outputs": []
    },
    {
      "cell_type": "code",
      "metadata": {
        "id": "roWxXJXuHzXB"
      },
      "source": [
        "model = AdversarialModel(base_model = gan,\r\n",
        "                         player_params = [gerador.trainable_weights,\r\n",
        "                                          discriminador.trainable_weights])"
      ],
      "execution_count": 11,
      "outputs": []
    },
    {
      "cell_type": "code",
      "metadata": {
        "id": "aolgP7akIF2r"
      },
      "source": [
        "model.adversarial_compile(adversarial_optimizer = AdversarialOptimizerSimultaneous,\r\n",
        "                          player_optimizers = ['adam', 'adam'],\r\n",
        "                          loss = 'binary_crossentropy')"
      ],
      "execution_count": 12,
      "outputs": []
    },
    {
      "cell_type": "code",
      "metadata": {
        "id": "t6MQiQFqIdmR"
      },
      "source": [
        "model.fit(x = previsores_treinamento, \r\n",
        "          y = gan_targets(60000), epochs = 1, batch_size = 256)"
      ],
      "execution_count": null,
      "outputs": []
    }
  ]
}