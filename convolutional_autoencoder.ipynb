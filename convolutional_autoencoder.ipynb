{
  "nbformat": 4,
  "nbformat_minor": 0,
  "metadata": {
    "colab": {
      "name": "convolutional_autoencoder.ipynb",
      "provenance": [],
      "authorship_tag": "ABX9TyME1YQmdtVUkPsxBY9gW/sw",
      "include_colab_link": true
    },
    "kernelspec": {
      "name": "python3",
      "display_name": "Python 3"
    }
  },
  "cells": [
    {
      "cell_type": "markdown",
      "metadata": {
        "id": "view-in-github",
        "colab_type": "text"
      },
      "source": [
        "<a href=\"https://colab.research.google.com/github/itimes-digital/deep-learning-estudo/blob/main/convolutional_autoencoder.ipynb\" target=\"_parent\"><img src=\"https://colab.research.google.com/assets/colab-badge.svg\" alt=\"Open In Colab\"/></a>"
      ]
    },
    {
      "cell_type": "code",
      "metadata": {
        "id": "o-jFh-T5u2A6"
      },
      "source": [
        "import matplotlib.pyplot as plt\n",
        "import numpy as np\n",
        "from keras.datasets import mnist\n",
        "from keras.models import Model, Sequential\n",
        "from keras.layers import Input, Dense, Conv2D, MaxPooling2D, UpSampling2D, Flatten, Reshape"
      ],
      "execution_count": 1,
      "outputs": []
    },
    {
      "cell_type": "code",
      "metadata": {
        "id": "BjvYKv2pv9N8",
        "outputId": "424765d3-4558-424d-d5ab-fec97b660dce",
        "colab": {
          "base_uri": "https://localhost:8080/"
        }
      },
      "source": [
        "(previsores_treinamento, _), (previsores_teste, _) = mnist.load_data()"
      ],
      "execution_count": 2,
      "outputs": [
        {
          "output_type": "stream",
          "text": [
            "Downloading data from https://storage.googleapis.com/tensorflow/tf-keras-datasets/mnist.npz\n",
            "11493376/11490434 [==============================] - 0s 0us/step\n"
          ],
          "name": "stdout"
        }
      ]
    },
    {
      "cell_type": "code",
      "metadata": {
        "id": "eRXFhCB4wfl_",
        "outputId": "c0af364d-b9bc-4b67-bc8d-71d3983ad5ff",
        "colab": {
          "base_uri": "https://localhost:8080/"
        }
      },
      "source": [
        "previsores_treinamento = previsores_treinamento.reshape((len(previsores_treinamento), 28, 28, 1))\n",
        "previsores_teste = previsores_teste.reshape((len(previsores_teste), 28, 28, 1))\n",
        "\n",
        "previsores_treinamento.shape, previsores_teste.shape"
      ],
      "execution_count": 3,
      "outputs": [
        {
          "output_type": "execute_result",
          "data": {
            "text/plain": [
              "((60000, 28, 28, 1), (10000, 28, 28, 1))"
            ]
          },
          "metadata": {
            "tags": []
          },
          "execution_count": 3
        }
      ]
    },
    {
      "cell_type": "code",
      "metadata": {
        "id": "0p1XRvYPw2bE"
      },
      "source": [
        "previsores_treinamento = previsores_treinamento.astype('float32') / 255\n",
        "previsores_teste = previsores_teste.astype('float32') / 255"
      ],
      "execution_count": 4,
      "outputs": []
    },
    {
      "cell_type": "code",
      "metadata": {
        "id": "qWR0qLr3xajH"
      },
      "source": [
        "auto_encoder = Sequential()\n",
        "\n",
        "#Encoder\n",
        "auto_encoder.add(Conv2)"
      ],
      "execution_count": null,
      "outputs": []
    }
  ]
}