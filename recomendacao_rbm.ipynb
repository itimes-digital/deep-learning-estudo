{
  "nbformat": 4,
  "nbformat_minor": 0,
  "metadata": {
    "colab": {
      "name": "recomendacao_rbm.ipynb",
      "provenance": [],
      "authorship_tag": "ABX9TyNLuL2gO5KKyKpsv7LBQ0vi",
      "include_colab_link": true
    },
    "kernelspec": {
      "name": "python3",
      "display_name": "Python 3"
    }
  },
  "cells": [
    {
      "cell_type": "markdown",
      "metadata": {
        "id": "view-in-github",
        "colab_type": "text"
      },
      "source": [
        "<a href=\"https://colab.research.google.com/github/itimes-digital/deep-learning-estudo/blob/main/recomendacao_rbm.ipynb\" target=\"_parent\"><img src=\"https://colab.research.google.com/assets/colab-badge.svg\" alt=\"Open In Colab\"/></a>"
      ]
    },
    {
      "cell_type": "code",
      "metadata": {
        "id": "oQCi2vUJI3FN"
      },
      "source": [
        "from sample_data.rbm import RBM\n",
        "import pandas as pd\n",
        "import numpy as np"
      ],
      "execution_count": 7,
      "outputs": []
    },
    {
      "cell_type": "code",
      "metadata": {
        "id": "5kzZETP5Jy-a"
      },
      "source": [
        "rbm = RBM(num_visible = 6, num_hidden = 2) # números de variáveis e números de neurônios"
      ],
      "execution_count": 10,
      "outputs": []
    },
    {
      "cell_type": "code",
      "metadata": {
        "colab": {
          "base_uri": "https://localhost:8080/"
        },
        "id": "UApN6LRVK1D2",
        "outputId": "8ac8f403-baed-44d9-8049-7f0fb2175513"
      },
      "source": [
        "base = np.array([\n",
        "                 [1,1,1,0,0,0],\n",
        "                 [1,0,1,0,0,0],\n",
        "                 [1,1,1,0,0,0],\n",
        "                 [0,0,1,1,1,1],\n",
        "                 [0,0,1,1,0,1],\n",
        "                 [0,0,1,1,0,1]\n",
        "                 ])\n",
        "base.shape"
      ],
      "execution_count": 11,
      "outputs": [
        {
          "output_type": "execute_result",
          "data": {
            "text/plain": [
              "(6, 6)"
            ]
          },
          "metadata": {
            "tags": []
          },
          "execution_count": 11
        }
      ]
    },
    {
      "cell_type": "code",
      "metadata": {
        "id": "coehIRoFLpKa"
      },
      "source": [
        "rbm.train(base, max_epochs = 5000)"
      ],
      "execution_count": null,
      "outputs": []
    },
    {
      "cell_type": "code",
      "metadata": {
        "colab": {
          "base_uri": "https://localhost:8080/"
        },
        "id": "d5VdWuEKL_zD",
        "outputId": "84b00812-f870-48fc-f087-ecb2de1e04ca"
      },
      "source": [
        "rbm.weights"
      ],
      "execution_count": 13,
      "outputs": [
        {
          "output_type": "execute_result",
          "data": {
            "text/plain": [
              "array([[ 2.46989278,  2.31518867,  0.36075925],\n",
              "       [-1.00909476, -3.29466918,  7.94699695],\n",
              "       [ 0.24110822, -7.27332248,  3.31778718],\n",
              "       [ 4.94687576,  3.88567373,  1.87058209],\n",
              "       [ 0.95170234,  3.62262235, -8.23437603],\n",
              "       [-1.31621241,  0.61144478, -4.55005251],\n",
              "       [ 0.95685855,  3.61867643, -8.23694571]])"
            ]
          },
          "metadata": {
            "tags": []
          },
          "execution_count": 13
        }
      ]
    },
    {
      "cell_type": "code",
      "metadata": {
        "id": "wICINOcoMLI1"
      },
      "source": [
        "usuario_1 = np.array([[1,1,0,1,0,0]])"
      ],
      "execution_count": 35,
      "outputs": []
    },
    {
      "cell_type": "code",
      "metadata": {
        "id": "3JdU6Q1_ON2j",
        "outputId": "0a55e05a-6b15-4e6c-c813-7a4d1e8106ec",
        "colab": {
          "base_uri": "https://localhost:8080/"
        }
      },
      "source": [
        "rbm.run_visible(usuario_1)"
      ],
      "execution_count": 36,
      "outputs": [
        {
          "output_type": "execute_result",
          "data": {
            "text/plain": [
              "array([[0., 1.]])"
            ]
          },
          "metadata": {
            "tags": []
          },
          "execution_count": 36
        }
      ]
    },
    {
      "cell_type": "code",
      "metadata": {
        "id": "HEKKSV4iOWKx"
      },
      "source": [
        "usuario_2 = np.array([[0,0,0,1,1,0]])"
      ],
      "execution_count": 56,
      "outputs": []
    },
    {
      "cell_type": "code",
      "metadata": {
        "id": "Eep3M-5ROyji",
        "outputId": "b4cdb309-5379-496c-ebc2-79c94eacec74",
        "colab": {
          "base_uri": "https://localhost:8080/"
        }
      },
      "source": [
        "rbm.run_visible(usuario_2)"
      ],
      "execution_count": 57,
      "outputs": [
        {
          "output_type": "execute_result",
          "data": {
            "text/plain": [
              "array([[1., 0.]])"
            ]
          },
          "metadata": {
            "tags": []
          },
          "execution_count": 57
        }
      ]
    },
    {
      "cell_type": "code",
      "metadata": {
        "id": "D_MK6cWIO1-B"
      },
      "source": [
        "usuario_3 = np.array([[1,1,0,0,1,1]])"
      ],
      "execution_count": 50,
      "outputs": []
    },
    {
      "cell_type": "code",
      "metadata": {
        "id": "T-nEOjc5O7Qx",
        "outputId": "1c084f25-fc08-45de-d3b6-3aaa89c22f43",
        "colab": {
          "base_uri": "https://localhost:8080/"
        }
      },
      "source": [
        "rbm.run_visible(usuario_3)"
      ],
      "execution_count": 51,
      "outputs": [
        {
          "output_type": "execute_result",
          "data": {
            "text/plain": [
              "array([[0., 0.]])"
            ]
          },
          "metadata": {
            "tags": []
          },
          "execution_count": 51
        }
      ]
    },
    {
      "cell_type": "code",
      "metadata": {
        "id": "qfUEVLX2O9vS"
      },
      "source": [
        "camada_escondida = np.array([[1,0]])"
      ],
      "execution_count": 58,
      "outputs": []
    },
    {
      "cell_type": "code",
      "metadata": {
        "id": "Ux-iKiLgPK4i",
        "outputId": "1f571b7c-bcd8-47dd-8ef7-ec02cf692b48",
        "colab": {
          "base_uri": "https://localhost:8080/"
        }
      },
      "source": [
        "recomendacao = rbm.run_hidden(camada_escondida)\n",
        "recomendacao"
      ],
      "execution_count": 59,
      "outputs": [
        {
          "output_type": "execute_result",
          "data": {
            "text/plain": [
              "array([[0., 0., 1., 1., 0., 1.]])"
            ]
          },
          "metadata": {
            "tags": []
          },
          "execution_count": 59
        }
      ]
    },
    {
      "cell_type": "code",
      "metadata": {
        "id": "4jBercOkPRKK"
      },
      "source": [
        "filmes = ['A Bruxa', 'Invocação do Mal', 'O Chamado', 'Se beber não case', 'Gente Grande', 'American Pie']"
      ],
      "execution_count": 54,
      "outputs": []
    },
    {
      "cell_type": "code",
      "metadata": {
        "id": "OAdxMrWUQRzs",
        "outputId": "b55cabd2-2ba6-4ca8-d43e-84d72e2925ce",
        "colab": {
          "base_uri": "https://localhost:8080/"
        }
      },
      "source": [
        "for i in range(len(usuario_2[0])):\n",
        "  #print(usuario_1[0, i])\n",
        "  if usuario_2[0, i] == 0 and recomendacao[0, i] == 1:\n",
        "    print(filmes[i])"
      ],
      "execution_count": 60,
      "outputs": [
        {
          "output_type": "stream",
          "text": [
            "O Chamado\n",
            "American Pie\n"
          ],
          "name": "stdout"
        }
      ]
    },
    {
      "cell_type": "code",
      "metadata": {
        "id": "KmM_07gCYMZA"
      },
      "source": [
        ""
      ],
      "execution_count": null,
      "outputs": []
    }
  ]
}