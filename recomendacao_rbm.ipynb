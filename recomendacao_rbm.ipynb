{
  "nbformat": 4,
  "nbformat_minor": 0,
  "metadata": {
    "colab": {
      "name": "recomendacao_rbm.ipynb",
      "provenance": [],
      "authorship_tag": "ABX9TyMihGM5YMWIFkgfLEPsXoN2",
      "include_colab_link": true
    },
    "kernelspec": {
      "name": "python3",
      "display_name": "Python 3"
    }
  },
  "cells": [
    {
      "cell_type": "markdown",
      "metadata": {
        "id": "view-in-github",
        "colab_type": "text"
      },
      "source": [
        "<a href=\"https://colab.research.google.com/github/itimes-digital/deep-learning-estudo/blob/main/recomendacao_rbm.ipynb\" target=\"_parent\"><img src=\"https://colab.research.google.com/assets/colab-badge.svg\" alt=\"Open In Colab\"/></a>"
      ]
    },
    {
      "cell_type": "code",
      "metadata": {
        "id": "oQCi2vUJI3FN"
      },
      "source": [
        "from sample_data.rbm import RBM\n",
        "import pandas as pd\n",
        "import numpy as np"
      ],
      "execution_count": 7,
      "outputs": []
    },
    {
      "cell_type": "code",
      "metadata": {
        "id": "5kzZETP5Jy-a"
      },
      "source": [
        "rbm = RBM(num_visible = 6, num_hidden = 2) # números de variáveis e números de neurônios"
      ],
      "execution_count": 10,
      "outputs": []
    },
    {
      "cell_type": "code",
      "metadata": {
        "colab": {
          "base_uri": "https://localhost:8080/"
        },
        "id": "UApN6LRVK1D2",
        "outputId": "8ac8f403-baed-44d9-8049-7f0fb2175513"
      },
      "source": [
        "base = np.array([\n",
        "                 [1,1,1,0,0,0],\n",
        "                 [1,0,1,0,0,0],\n",
        "                 [1,1,1,0,0,0],\n",
        "                 [0,0,1,1,1,1],\n",
        "                 [0,0,1,1,0,1],\n",
        "                 [0,0,1,1,0,1]\n",
        "                 ])\n",
        "base.shape"
      ],
      "execution_count": 11,
      "outputs": [
        {
          "output_type": "execute_result",
          "data": {
            "text/plain": [
              "(6, 6)"
            ]
          },
          "metadata": {
            "tags": []
          },
          "execution_count": 11
        }
      ]
    },
    {
      "cell_type": "code",
      "metadata": {
        "id": "coehIRoFLpKa"
      },
      "source": [
        "rbm.train(base, max_epochs = 5000)"
      ],
      "execution_count": null,
      "outputs": []
    },
    {
      "cell_type": "code",
      "metadata": {
        "colab": {
          "base_uri": "https://localhost:8080/"
        },
        "id": "d5VdWuEKL_zD",
        "outputId": "84b00812-f870-48fc-f087-ecb2de1e04ca"
      },
      "source": [
        "rbm.weights"
      ],
      "execution_count": 13,
      "outputs": [
        {
          "output_type": "execute_result",
          "data": {
            "text/plain": [
              "array([[ 2.46989278,  2.31518867,  0.36075925],\n",
              "       [-1.00909476, -3.29466918,  7.94699695],\n",
              "       [ 0.24110822, -7.27332248,  3.31778718],\n",
              "       [ 4.94687576,  3.88567373,  1.87058209],\n",
              "       [ 0.95170234,  3.62262235, -8.23437603],\n",
              "       [-1.31621241,  0.61144478, -4.55005251],\n",
              "       [ 0.95685855,  3.61867643, -8.23694571]])"
            ]
          },
          "metadata": {
            "tags": []
          },
          "execution_count": 13
        }
      ]
    },
    {
      "cell_type": "code",
      "metadata": {
        "id": "wICINOcoMLI1"
      },
      "source": [
        ""
      ],
      "execution_count": null,
      "outputs": []
    }
  ]
}