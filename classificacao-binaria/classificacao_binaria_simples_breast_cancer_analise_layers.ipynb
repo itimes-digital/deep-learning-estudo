{
  "nbformat": 4,
  "nbformat_minor": 0,
  "metadata": {
    "colab": {
      "name": "classificacao_binaria_breast_cancer.ipynb",
      "provenance": [],
      "authorship_tag": "ABX9TyNDmrr5nYkiVBf8mAIXGNvF",
      "include_colab_link": true
    },
    "kernelspec": {
      "name": "python3",
      "display_name": "Python 3"
    }
  },
  "cells": [
    {
      "cell_type": "markdown",
      "metadata": {
        "id": "view-in-github",
        "colab_type": "text"
      },
      "source": [
        "<a href=\"https://colab.research.google.com/github/itimes-digital/deep-learning-estudo/blob/main/classificacao_binaria_simples_breast_cancer_analise_layers.ipynb\" target=\"_parent\"><img src=\"https://colab.research.google.com/assets/colab-badge.svg\" alt=\"Open In Colab\"/></a>"
      ]
    },
    {
      "cell_type": "code",
      "metadata": {
        "id": "6ip00_xXzIcE"
      },
      "source": [
        "import pandas as pd\n",
        "import numpy as np"
      ],
      "execution_count": 1,
      "outputs": []
    },
    {
      "cell_type": "code",
      "metadata": {
        "id": "qaRAemgJMDAN",
        "outputId": "34556179-631a-4d3f-d8cb-23dda898e4e8",
        "colab": {
          "base_uri": "https://localhost:8080/",
          "height": 217
        }
      },
      "source": [
        "previsores = pd.read_csv(\"https://raw.githubusercontent.com/itimes-digital/deep-learning-estudo/main/dataset/entradas_breast.csv\", sep=\",\")\n",
        "previsores.head()"
      ],
      "execution_count": 2,
      "outputs": [
        {
          "output_type": "execute_result",
          "data": {
            "text/html": [
              "<div>\n",
              "<style scoped>\n",
              "    .dataframe tbody tr th:only-of-type {\n",
              "        vertical-align: middle;\n",
              "    }\n",
              "\n",
              "    .dataframe tbody tr th {\n",
              "        vertical-align: top;\n",
              "    }\n",
              "\n",
              "    .dataframe thead th {\n",
              "        text-align: right;\n",
              "    }\n",
              "</style>\n",
              "<table border=\"1\" class=\"dataframe\">\n",
              "  <thead>\n",
              "    <tr style=\"text-align: right;\">\n",
              "      <th></th>\n",
              "      <th>radius_mean</th>\n",
              "      <th>texture_mean</th>\n",
              "      <th>perimeter_mean</th>\n",
              "      <th>area_mean</th>\n",
              "      <th>smoothness_mean</th>\n",
              "      <th>compactness_mean</th>\n",
              "      <th>concavity_mean</th>\n",
              "      <th>concave_points_mean</th>\n",
              "      <th>symmetry_mean</th>\n",
              "      <th>fractal_dimension_mean</th>\n",
              "      <th>radius_se</th>\n",
              "      <th>texture_se</th>\n",
              "      <th>perimeter_se</th>\n",
              "      <th>area_se</th>\n",
              "      <th>smoothness_se</th>\n",
              "      <th>compactness_se</th>\n",
              "      <th>concavity_se</th>\n",
              "      <th>concave_points_se</th>\n",
              "      <th>symmetry_se</th>\n",
              "      <th>fractal_dimension_se</th>\n",
              "      <th>radius_worst</th>\n",
              "      <th>texture_worst</th>\n",
              "      <th>perimeter_worst</th>\n",
              "      <th>area_worst</th>\n",
              "      <th>smoothness_worst</th>\n",
              "      <th>compactness_worst</th>\n",
              "      <th>concavity_worst</th>\n",
              "      <th>concave_points_worst</th>\n",
              "      <th>symmetry_worst</th>\n",
              "      <th>fractal_dimension_worst</th>\n",
              "    </tr>\n",
              "  </thead>\n",
              "  <tbody>\n",
              "    <tr>\n",
              "      <th>0</th>\n",
              "      <td>17.99</td>\n",
              "      <td>10.38</td>\n",
              "      <td>122.80</td>\n",
              "      <td>1001.0</td>\n",
              "      <td>0.11840</td>\n",
              "      <td>0.27760</td>\n",
              "      <td>0.3001</td>\n",
              "      <td>0.14710</td>\n",
              "      <td>0.2419</td>\n",
              "      <td>0.07871</td>\n",
              "      <td>1095.0000</td>\n",
              "      <td>0.9053</td>\n",
              "      <td>8589.0</td>\n",
              "      <td>153.40</td>\n",
              "      <td>0.006399</td>\n",
              "      <td>0.04904</td>\n",
              "      <td>0.05373</td>\n",
              "      <td>0.01587</td>\n",
              "      <td>0.03003</td>\n",
              "      <td>0.006193</td>\n",
              "      <td>25.38</td>\n",
              "      <td>17.33</td>\n",
              "      <td>184.60</td>\n",
              "      <td>2019.0</td>\n",
              "      <td>0.1622</td>\n",
              "      <td>0.6656</td>\n",
              "      <td>0.7119</td>\n",
              "      <td>0.2654</td>\n",
              "      <td>0.4601</td>\n",
              "      <td>0.11890</td>\n",
              "    </tr>\n",
              "    <tr>\n",
              "      <th>1</th>\n",
              "      <td>20.57</td>\n",
              "      <td>17.77</td>\n",
              "      <td>132.90</td>\n",
              "      <td>1326.0</td>\n",
              "      <td>0.08474</td>\n",
              "      <td>0.07864</td>\n",
              "      <td>0.0869</td>\n",
              "      <td>0.07017</td>\n",
              "      <td>0.1812</td>\n",
              "      <td>0.05667</td>\n",
              "      <td>0.5435</td>\n",
              "      <td>0.7339</td>\n",
              "      <td>3398.0</td>\n",
              "      <td>74.08</td>\n",
              "      <td>0.005225</td>\n",
              "      <td>0.01308</td>\n",
              "      <td>0.01860</td>\n",
              "      <td>0.01340</td>\n",
              "      <td>0.01389</td>\n",
              "      <td>0.003532</td>\n",
              "      <td>24.99</td>\n",
              "      <td>23.41</td>\n",
              "      <td>158.80</td>\n",
              "      <td>1956.0</td>\n",
              "      <td>0.1238</td>\n",
              "      <td>0.1866</td>\n",
              "      <td>0.2416</td>\n",
              "      <td>186.0000</td>\n",
              "      <td>275.0000</td>\n",
              "      <td>0.08902</td>\n",
              "    </tr>\n",
              "    <tr>\n",
              "      <th>2</th>\n",
              "      <td>19.69</td>\n",
              "      <td>21.25</td>\n",
              "      <td>130.00</td>\n",
              "      <td>1203.0</td>\n",
              "      <td>0.10960</td>\n",
              "      <td>0.15990</td>\n",
              "      <td>0.1974</td>\n",
              "      <td>0.12790</td>\n",
              "      <td>0.2069</td>\n",
              "      <td>0.05999</td>\n",
              "      <td>0.7456</td>\n",
              "      <td>0.7869</td>\n",
              "      <td>4585.0</td>\n",
              "      <td>94.03</td>\n",
              "      <td>0.006150</td>\n",
              "      <td>0.04006</td>\n",
              "      <td>0.03832</td>\n",
              "      <td>0.02058</td>\n",
              "      <td>0.02250</td>\n",
              "      <td>0.004571</td>\n",
              "      <td>23.57</td>\n",
              "      <td>25.53</td>\n",
              "      <td>152.50</td>\n",
              "      <td>1709.0</td>\n",
              "      <td>0.1444</td>\n",
              "      <td>0.4245</td>\n",
              "      <td>0.4504</td>\n",
              "      <td>243.0000</td>\n",
              "      <td>0.3613</td>\n",
              "      <td>0.08758</td>\n",
              "    </tr>\n",
              "    <tr>\n",
              "      <th>3</th>\n",
              "      <td>11.42</td>\n",
              "      <td>20.38</td>\n",
              "      <td>77.58</td>\n",
              "      <td>386.1</td>\n",
              "      <td>0.14250</td>\n",
              "      <td>0.28390</td>\n",
              "      <td>0.2414</td>\n",
              "      <td>0.10520</td>\n",
              "      <td>0.2597</td>\n",
              "      <td>0.09744</td>\n",
              "      <td>0.4956</td>\n",
              "      <td>1156.0000</td>\n",
              "      <td>3445.0</td>\n",
              "      <td>27.23</td>\n",
              "      <td>0.009110</td>\n",
              "      <td>0.07458</td>\n",
              "      <td>0.05661</td>\n",
              "      <td>0.01867</td>\n",
              "      <td>0.05963</td>\n",
              "      <td>0.009208</td>\n",
              "      <td>14.91</td>\n",
              "      <td>26.50</td>\n",
              "      <td>98.87</td>\n",
              "      <td>567.7</td>\n",
              "      <td>0.2098</td>\n",
              "      <td>0.8663</td>\n",
              "      <td>0.6869</td>\n",
              "      <td>0.2575</td>\n",
              "      <td>0.6638</td>\n",
              "      <td>173.00000</td>\n",
              "    </tr>\n",
              "    <tr>\n",
              "      <th>4</th>\n",
              "      <td>20.29</td>\n",
              "      <td>14.34</td>\n",
              "      <td>135.10</td>\n",
              "      <td>1297.0</td>\n",
              "      <td>0.10030</td>\n",
              "      <td>0.13280</td>\n",
              "      <td>198.0000</td>\n",
              "      <td>0.10430</td>\n",
              "      <td>0.1809</td>\n",
              "      <td>0.05883</td>\n",
              "      <td>0.7572</td>\n",
              "      <td>0.7813</td>\n",
              "      <td>5438.0</td>\n",
              "      <td>94.44</td>\n",
              "      <td>0.011490</td>\n",
              "      <td>0.02461</td>\n",
              "      <td>0.05688</td>\n",
              "      <td>0.01885</td>\n",
              "      <td>0.01756</td>\n",
              "      <td>0.005115</td>\n",
              "      <td>22.54</td>\n",
              "      <td>16.67</td>\n",
              "      <td>152.20</td>\n",
              "      <td>1575.0</td>\n",
              "      <td>0.1374</td>\n",
              "      <td>205.0000</td>\n",
              "      <td>0.4000</td>\n",
              "      <td>0.1625</td>\n",
              "      <td>0.2364</td>\n",
              "      <td>0.07678</td>\n",
              "    </tr>\n",
              "  </tbody>\n",
              "</table>\n",
              "</div>"
            ],
            "text/plain": [
              "    radius_mean   texture_mean  ...   symmetry_worst   fractal_dimension_worst\n",
              "0         17.99          10.38  ...           0.4601                   0.11890\n",
              "1         20.57          17.77  ...         275.0000                   0.08902\n",
              "2         19.69          21.25  ...           0.3613                   0.08758\n",
              "3         11.42          20.38  ...           0.6638                 173.00000\n",
              "4         20.29          14.34  ...           0.2364                   0.07678\n",
              "\n",
              "[5 rows x 30 columns]"
            ]
          },
          "metadata": {
            "tags": []
          },
          "execution_count": 2
        }
      ]
    },
    {
      "cell_type": "code",
      "metadata": {
        "id": "0zGlSapRMLyK",
        "outputId": "f72186de-e44c-4fa5-da04-dfb01dc05310",
        "colab": {
          "base_uri": "https://localhost:8080/",
          "height": 633
        }
      },
      "source": [
        "previsores.info()"
      ],
      "execution_count": 3,
      "outputs": [
        {
          "output_type": "stream",
          "text": [
            "<class 'pandas.core.frame.DataFrame'>\n",
            "RangeIndex: 569 entries, 0 to 568\n",
            "Data columns (total 30 columns):\n",
            " #   Column                    Non-Null Count  Dtype  \n",
            "---  ------                    --------------  -----  \n",
            " 0    radius_mean              569 non-null    float64\n",
            " 1    texture_mean             569 non-null    float64\n",
            " 2    perimeter_mean           569 non-null    float64\n",
            " 3    area_mean                569 non-null    float64\n",
            " 4    smoothness_mean          569 non-null    float64\n",
            " 5    compactness_mean         569 non-null    float64\n",
            " 6    concavity_mean           569 non-null    float64\n",
            " 7   concave_points_mean       569 non-null    float64\n",
            " 8    symmetry_mean            569 non-null    float64\n",
            " 9    fractal_dimension_mean   569 non-null    float64\n",
            " 10   radius_se                569 non-null    float64\n",
            " 11   texture_se               569 non-null    float64\n",
            " 12   perimeter_se             569 non-null    float64\n",
            " 13   area_se                  569 non-null    float64\n",
            " 14   smoothness_se            569 non-null    float64\n",
            " 15   compactness_se           569 non-null    float64\n",
            " 16   concavity_se             569 non-null    float64\n",
            " 17   concave_points_se        569 non-null    float64\n",
            " 18   symmetry_se              569 non-null    float64\n",
            " 19   fractal_dimension_se     569 non-null    float64\n",
            " 20   radius_worst             569 non-null    float64\n",
            " 21   texture_worst            569 non-null    float64\n",
            " 22   perimeter_worst          569 non-null    float64\n",
            " 23   area_worst               569 non-null    float64\n",
            " 24   smoothness_worst         569 non-null    float64\n",
            " 25   compactness_worst        569 non-null    float64\n",
            " 26   concavity_worst          569 non-null    float64\n",
            " 27   concave_points_worst     569 non-null    float64\n",
            " 28   symmetry_worst           569 non-null    float64\n",
            " 29   fractal_dimension_worst  569 non-null    float64\n",
            "dtypes: float64(30)\n",
            "memory usage: 133.5 KB\n"
          ],
          "name": "stdout"
        }
      ]
    },
    {
      "cell_type": "code",
      "metadata": {
        "id": "w3u7mliUMish",
        "outputId": "0f249430-4762-433e-c9fe-d4000243bc01",
        "colab": {
          "base_uri": "https://localhost:8080/",
          "height": 150
        }
      },
      "source": [
        "classe = pd.read_csv(\"https://raw.githubusercontent.com/itimes-digital/deep-learning-estudo/main/dataset/saidas_breast.csv\")\n",
        "classe.info()"
      ],
      "execution_count": 4,
      "outputs": [
        {
          "output_type": "stream",
          "text": [
            "<class 'pandas.core.frame.DataFrame'>\n",
            "RangeIndex: 569 entries, 0 to 568\n",
            "Data columns (total 1 columns):\n",
            " #   Column  Non-Null Count  Dtype\n",
            "---  ------  --------------  -----\n",
            " 0   0       569 non-null    int64\n",
            "dtypes: int64(1)\n",
            "memory usage: 4.6 KB\n"
          ],
          "name": "stdout"
        }
      ]
    },
    {
      "cell_type": "code",
      "metadata": {
        "id": "HlNaqOa-MdOC",
        "outputId": "2efabc2e-fb16-4652-a135-9ef42c0dcef0",
        "colab": {
          "base_uri": "https://localhost:8080/",
          "height": 197
        }
      },
      "source": [
        "classe.head()"
      ],
      "execution_count": 16,
      "outputs": [
        {
          "output_type": "execute_result",
          "data": {
            "text/html": [
              "<div>\n",
              "<style scoped>\n",
              "    .dataframe tbody tr th:only-of-type {\n",
              "        vertical-align: middle;\n",
              "    }\n",
              "\n",
              "    .dataframe tbody tr th {\n",
              "        vertical-align: top;\n",
              "    }\n",
              "\n",
              "    .dataframe thead th {\n",
              "        text-align: right;\n",
              "    }\n",
              "</style>\n",
              "<table border=\"1\" class=\"dataframe\">\n",
              "  <thead>\n",
              "    <tr style=\"text-align: right;\">\n",
              "      <th></th>\n",
              "      <th>0</th>\n",
              "    </tr>\n",
              "  </thead>\n",
              "  <tbody>\n",
              "    <tr>\n",
              "      <th>0</th>\n",
              "      <td>0</td>\n",
              "    </tr>\n",
              "    <tr>\n",
              "      <th>1</th>\n",
              "      <td>0</td>\n",
              "    </tr>\n",
              "    <tr>\n",
              "      <th>2</th>\n",
              "      <td>0</td>\n",
              "    </tr>\n",
              "    <tr>\n",
              "      <th>3</th>\n",
              "      <td>0</td>\n",
              "    </tr>\n",
              "    <tr>\n",
              "      <th>4</th>\n",
              "      <td>0</td>\n",
              "    </tr>\n",
              "  </tbody>\n",
              "</table>\n",
              "</div>"
            ],
            "text/plain": [
              "   0\n",
              "0  0\n",
              "1  0\n",
              "2  0\n",
              "3  0\n",
              "4  0"
            ]
          },
          "metadata": {
            "tags": []
          },
          "execution_count": 16
        }
      ]
    },
    {
      "cell_type": "code",
      "metadata": {
        "id": "wxUoFl1MciQa"
      },
      "source": [
        "from sklearn.model_selection import train_test_split\n",
        "\n",
        "# previsores_treinamento = x_train\n",
        "# previsores_teste = x_test\n",
        "# classe_treinamento = y_train\n",
        "# classe_teste = y_test\n",
        "previsores_treinamento, previsores_teste, classe_treinamento, classe_teste = train_test_split(previsores, \n",
        "                                                                                              classe, \n",
        "                                                                                              test_size = 0.25)"
      ],
      "execution_count": 5,
      "outputs": []
    },
    {
      "cell_type": "code",
      "metadata": {
        "id": "HpMUF67KdXBT",
        "outputId": "7df7bc4d-6f7b-4703-80c5-6d9b067d580f",
        "colab": {
          "base_uri": "https://localhost:8080/",
          "height": 633
        }
      },
      "source": [
        "previsores_treinamento.info()"
      ],
      "execution_count": 18,
      "outputs": [
        {
          "output_type": "stream",
          "text": [
            "<class 'pandas.core.frame.DataFrame'>\n",
            "Int64Index: 426 entries, 156 to 193\n",
            "Data columns (total 30 columns):\n",
            " #   Column                    Non-Null Count  Dtype  \n",
            "---  ------                    --------------  -----  \n",
            " 0    radius_mean              426 non-null    float64\n",
            " 1    texture_mean             426 non-null    float64\n",
            " 2    perimeter_mean           426 non-null    float64\n",
            " 3    area_mean                426 non-null    float64\n",
            " 4    smoothness_mean          426 non-null    float64\n",
            " 5    compactness_mean         426 non-null    float64\n",
            " 6    concavity_mean           426 non-null    float64\n",
            " 7   concave_points_mean       426 non-null    float64\n",
            " 8    symmetry_mean            426 non-null    float64\n",
            " 9    fractal_dimension_mean   426 non-null    float64\n",
            " 10   radius_se                426 non-null    float64\n",
            " 11   texture_se               426 non-null    float64\n",
            " 12   perimeter_se             426 non-null    float64\n",
            " 13   area_se                  426 non-null    float64\n",
            " 14   smoothness_se            426 non-null    float64\n",
            " 15   compactness_se           426 non-null    float64\n",
            " 16   concavity_se             426 non-null    float64\n",
            " 17   concave_points_se        426 non-null    float64\n",
            " 18   symmetry_se              426 non-null    float64\n",
            " 19   fractal_dimension_se     426 non-null    float64\n",
            " 20   radius_worst             426 non-null    float64\n",
            " 21   texture_worst            426 non-null    float64\n",
            " 22   perimeter_worst          426 non-null    float64\n",
            " 23   area_worst               426 non-null    float64\n",
            " 24   smoothness_worst         426 non-null    float64\n",
            " 25   compactness_worst        426 non-null    float64\n",
            " 26   concavity_worst          426 non-null    float64\n",
            " 27   concave_points_worst     426 non-null    float64\n",
            " 28   symmetry_worst           426 non-null    float64\n",
            " 29   fractal_dimension_worst  426 non-null    float64\n",
            "dtypes: float64(30)\n",
            "memory usage: 103.2 KB\n"
          ],
          "name": "stdout"
        }
      ]
    },
    {
      "cell_type": "code",
      "metadata": {
        "id": "wm6KvUM3dZl3",
        "outputId": "9b4ad3d3-8020-4a7d-8d78-8144e705df8c",
        "colab": {
          "base_uri": "https://localhost:8080/",
          "height": 633
        }
      },
      "source": [
        "previsores_teste.info()"
      ],
      "execution_count": 19,
      "outputs": [
        {
          "output_type": "stream",
          "text": [
            "<class 'pandas.core.frame.DataFrame'>\n",
            "Int64Index: 143 entries, 307 to 424\n",
            "Data columns (total 30 columns):\n",
            " #   Column                    Non-Null Count  Dtype  \n",
            "---  ------                    --------------  -----  \n",
            " 0    radius_mean              143 non-null    float64\n",
            " 1    texture_mean             143 non-null    float64\n",
            " 2    perimeter_mean           143 non-null    float64\n",
            " 3    area_mean                143 non-null    float64\n",
            " 4    smoothness_mean          143 non-null    float64\n",
            " 5    compactness_mean         143 non-null    float64\n",
            " 6    concavity_mean           143 non-null    float64\n",
            " 7   concave_points_mean       143 non-null    float64\n",
            " 8    symmetry_mean            143 non-null    float64\n",
            " 9    fractal_dimension_mean   143 non-null    float64\n",
            " 10   radius_se                143 non-null    float64\n",
            " 11   texture_se               143 non-null    float64\n",
            " 12   perimeter_se             143 non-null    float64\n",
            " 13   area_se                  143 non-null    float64\n",
            " 14   smoothness_se            143 non-null    float64\n",
            " 15   compactness_se           143 non-null    float64\n",
            " 16   concavity_se             143 non-null    float64\n",
            " 17   concave_points_se        143 non-null    float64\n",
            " 18   symmetry_se              143 non-null    float64\n",
            " 19   fractal_dimension_se     143 non-null    float64\n",
            " 20   radius_worst             143 non-null    float64\n",
            " 21   texture_worst            143 non-null    float64\n",
            " 22   perimeter_worst          143 non-null    float64\n",
            " 23   area_worst               143 non-null    float64\n",
            " 24   smoothness_worst         143 non-null    float64\n",
            " 25   compactness_worst        143 non-null    float64\n",
            " 26   concavity_worst          143 non-null    float64\n",
            " 27   concave_points_worst     143 non-null    float64\n",
            " 28   symmetry_worst           143 non-null    float64\n",
            " 29   fractal_dimension_worst  143 non-null    float64\n",
            "dtypes: float64(30)\n",
            "memory usage: 34.6 KB\n"
          ],
          "name": "stdout"
        }
      ]
    },
    {
      "cell_type": "code",
      "metadata": {
        "id": "IUik7a1tdiKv",
        "outputId": "ad88c09a-0270-4f09-95eb-24f9bf011f1d",
        "colab": {
          "base_uri": "https://localhost:8080/",
          "height": 150
        }
      },
      "source": [
        "classe_treinamento.info()"
      ],
      "execution_count": 20,
      "outputs": [
        {
          "output_type": "stream",
          "text": [
            "<class 'pandas.core.frame.DataFrame'>\n",
            "Int64Index: 426 entries, 156 to 193\n",
            "Data columns (total 1 columns):\n",
            " #   Column  Non-Null Count  Dtype\n",
            "---  ------  --------------  -----\n",
            " 0   0       426 non-null    int64\n",
            "dtypes: int64(1)\n",
            "memory usage: 6.7 KB\n"
          ],
          "name": "stdout"
        }
      ]
    },
    {
      "cell_type": "code",
      "metadata": {
        "id": "qaoe6MiZdl5_",
        "outputId": "fd8a2163-9257-4459-b513-756dac1f93c2",
        "colab": {
          "base_uri": "https://localhost:8080/",
          "height": 150
        }
      },
      "source": [
        "classe_teste.info()"
      ],
      "execution_count": 21,
      "outputs": [
        {
          "output_type": "stream",
          "text": [
            "<class 'pandas.core.frame.DataFrame'>\n",
            "Int64Index: 143 entries, 307 to 424\n",
            "Data columns (total 1 columns):\n",
            " #   Column  Non-Null Count  Dtype\n",
            "---  ------  --------------  -----\n",
            " 0   0       143 non-null    int64\n",
            "dtypes: int64(1)\n",
            "memory usage: 2.2 KB\n"
          ],
          "name": "stdout"
        }
      ]
    },
    {
      "cell_type": "code",
      "metadata": {
        "id": "7g6n8WsidoT3"
      },
      "source": [
        "import keras"
      ],
      "execution_count": 10,
      "outputs": []
    },
    {
      "cell_type": "code",
      "metadata": {
        "id": "RexXf9H_eAV8"
      },
      "source": [
        "from keras.models import Sequential\n",
        "from keras.layers import Dense"
      ],
      "execution_count": 11,
      "outputs": []
    },
    {
      "cell_type": "markdown",
      "metadata": {
        "id": "xtgFqY6pfIcE"
      },
      "source": [
        "Definição do números de neurônios por camada:\n",
        "\n",
        "(numero de entrada + numero de saídas esperada) / 2 = número de units na camada."
      ]
    },
    {
      "cell_type": "code",
      "metadata": {
        "id": "5O4W7keffmao",
        "outputId": "899f7543-903a-44ce-e9c5-716aacee0164",
        "colab": {
          "base_uri": "https://localhost:8080/",
          "height": 33
        }
      },
      "source": [
        "# Medida base para definir a quantidade de neurônios na camada.\n",
        "# Como a classificação é binária, a resposta será 0 ou 1, portanto, uma saída.\n",
        "quantSaidaEsperada = 1\n",
        "units = (previsores.columns.size + quantSaidaEsperada) / 2\n",
        "units = np.round(units)\n",
        "units"
      ],
      "execution_count": 12,
      "outputs": [
        {
          "output_type": "execute_result",
          "data": {
            "text/plain": [
              "16.0"
            ]
          },
          "metadata": {
            "tags": []
          },
          "execution_count": 12
        }
      ]
    },
    {
      "cell_type": "code",
      "metadata": {
        "id": "DjZEHAGLek7e"
      },
      "source": [
        "# input_dim define a quantidade de neurônios para a camada de entrada.\n",
        "classificador = Sequential() # Estrutura básica para colocar as camadas sequencialmente\n",
        "classificador.add(Dense(units=units, # define a quantidade de neurônios a camada oculta \n",
        "                        activation='relu', \n",
        "                        kernel_initializer='random_uniform', \n",
        "                        input_dim=30))"
      ],
      "execution_count": 30,
      "outputs": []
    },
    {
      "cell_type": "code",
      "metadata": {
        "id": "FYBH2t4uPEY6"
      },
      "source": [
        "# Camada intermediária ou oculta\n",
        "classificador.add(Dense(units=units, # define a quantidade de neurônios a camada oculta\n",
        "                        activation='relu', \n",
        "                        kernel_initializer='random_uniform'))"
      ],
      "execution_count": 31,
      "outputs": []
    },
    {
      "cell_type": "code",
      "metadata": {
        "id": "FFJRJl67iNxZ"
      },
      "source": [
        "# Definindo a camada de saída\n",
        "# Como é um classificador binário para 0 ou 1\n",
        "# A quantidade de neurônio é 1\n",
        "classificador.add(Dense(units=1, activation=\"sigmoid\"))"
      ],
      "execution_count": 32,
      "outputs": []
    },
    {
      "cell_type": "code",
      "metadata": {
        "id": "J9-aA3bMP78f"
      },
      "source": [
        "otimizador = keras.optimizers.Adam(lr=0.0001, decay = 0.00001, clipvalue = 0.5)"
      ],
      "execution_count": 40,
      "outputs": []
    },
    {
      "cell_type": "code",
      "metadata": {
        "id": "QJd_5c4Ii5ol",
        "outputId": "55464a19-f243-4afb-abbf-bb8104e81cef",
        "colab": {
          "base_uri": "https://localhost:8080/",
          "height": 1000
        }
      },
      "source": [
        "# para classificação binária deve usar binary_crossentropy\n",
        "# para classificação com mais de duas classes deve usar categorical_crossentropy\n",
        "classificador.compile(optimizer= otimizador, \n",
        "                      loss='binary_crossentropy',\n",
        "                      metrics=['binary_accuracy'])\n",
        "classificador.fit(previsores_treinamento, \n",
        "                  classe_treinamento,\n",
        "                  batch_size=10, # Atualização de pesos a cada 10 registros por épocas\n",
        "                  epochs=100)\n"
      ],
      "execution_count": 41,
      "outputs": [
        {
          "output_type": "stream",
          "text": [
            "Epoch 1/100\n",
            "43/43 [==============================] - 0s 1ms/step - loss: 0.0942 - binary_accuracy: 0.9624\n",
            "Epoch 2/100\n",
            "43/43 [==============================] - 0s 1ms/step - loss: 0.0939 - binary_accuracy: 0.9507\n",
            "Epoch 3/100\n",
            "43/43 [==============================] - 0s 1ms/step - loss: 0.0901 - binary_accuracy: 0.9577\n",
            "Epoch 4/100\n",
            "43/43 [==============================] - 0s 1ms/step - loss: 0.0906 - binary_accuracy: 0.9577\n",
            "Epoch 5/100\n",
            "43/43 [==============================] - 0s 1ms/step - loss: 0.0923 - binary_accuracy: 0.9601\n",
            "Epoch 6/100\n",
            "43/43 [==============================] - 0s 1ms/step - loss: 0.0907 - binary_accuracy: 0.9624\n",
            "Epoch 7/100\n",
            "43/43 [==============================] - 0s 1ms/step - loss: 0.0858 - binary_accuracy: 0.9554\n",
            "Epoch 8/100\n",
            "43/43 [==============================] - 0s 1ms/step - loss: 0.0889 - binary_accuracy: 0.9554\n",
            "Epoch 9/100\n",
            "43/43 [==============================] - 0s 1ms/step - loss: 0.0894 - binary_accuracy: 0.9554\n",
            "Epoch 10/100\n",
            "43/43 [==============================] - 0s 1ms/step - loss: 0.0944 - binary_accuracy: 0.9577\n",
            "Epoch 11/100\n",
            "43/43 [==============================] - 0s 1ms/step - loss: 0.0922 - binary_accuracy: 0.9624\n",
            "Epoch 12/100\n",
            "43/43 [==============================] - 0s 1ms/step - loss: 0.0966 - binary_accuracy: 0.9601\n",
            "Epoch 13/100\n",
            "43/43 [==============================] - 0s 1ms/step - loss: 0.0923 - binary_accuracy: 0.9554\n",
            "Epoch 14/100\n",
            "43/43 [==============================] - 0s 1ms/step - loss: 0.1055 - binary_accuracy: 0.9601\n",
            "Epoch 15/100\n",
            "43/43 [==============================] - 0s 1ms/step - loss: 0.0895 - binary_accuracy: 0.9601\n",
            "Epoch 16/100\n",
            "43/43 [==============================] - 0s 1ms/step - loss: 0.1100 - binary_accuracy: 0.9531\n",
            "Epoch 17/100\n",
            "43/43 [==============================] - 0s 1ms/step - loss: 0.1041 - binary_accuracy: 0.9577\n",
            "Epoch 18/100\n",
            "43/43 [==============================] - 0s 1ms/step - loss: 0.0961 - binary_accuracy: 0.9577\n",
            "Epoch 19/100\n",
            "43/43 [==============================] - 0s 2ms/step - loss: 0.1060 - binary_accuracy: 0.9531\n",
            "Epoch 20/100\n",
            "43/43 [==============================] - 0s 1ms/step - loss: 0.1101 - binary_accuracy: 0.9624\n",
            "Epoch 21/100\n",
            "43/43 [==============================] - 0s 1ms/step - loss: 0.0973 - binary_accuracy: 0.9624\n",
            "Epoch 22/100\n",
            "43/43 [==============================] - 0s 1ms/step - loss: 0.1034 - binary_accuracy: 0.9624\n",
            "Epoch 23/100\n",
            "43/43 [==============================] - 0s 2ms/step - loss: 0.1037 - binary_accuracy: 0.9577\n",
            "Epoch 24/100\n",
            "43/43 [==============================] - 0s 2ms/step - loss: 0.0964 - binary_accuracy: 0.9531\n",
            "Epoch 25/100\n",
            "43/43 [==============================] - 0s 1ms/step - loss: 0.0952 - binary_accuracy: 0.9601\n",
            "Epoch 26/100\n",
            "43/43 [==============================] - 0s 1ms/step - loss: 0.1023 - binary_accuracy: 0.9601\n",
            "Epoch 27/100\n",
            "43/43 [==============================] - 0s 1ms/step - loss: 0.1114 - binary_accuracy: 0.9531\n",
            "Epoch 28/100\n",
            "43/43 [==============================] - 0s 1ms/step - loss: 0.1090 - binary_accuracy: 0.9531\n",
            "Epoch 29/100\n",
            "43/43 [==============================] - 0s 1ms/step - loss: 0.1076 - binary_accuracy: 0.9577\n",
            "Epoch 30/100\n",
            "43/43 [==============================] - 0s 1ms/step - loss: 0.1096 - binary_accuracy: 0.9554\n",
            "Epoch 31/100\n",
            "43/43 [==============================] - 0s 1ms/step - loss: 0.1028 - binary_accuracy: 0.9577\n",
            "Epoch 32/100\n",
            "43/43 [==============================] - 0s 1ms/step - loss: 0.1047 - binary_accuracy: 0.9554\n",
            "Epoch 33/100\n",
            "43/43 [==============================] - 0s 2ms/step - loss: 0.1073 - binary_accuracy: 0.9484\n",
            "Epoch 34/100\n",
            "43/43 [==============================] - 0s 1ms/step - loss: 0.1076 - binary_accuracy: 0.9601\n",
            "Epoch 35/100\n",
            "43/43 [==============================] - 0s 1ms/step - loss: 0.1020 - binary_accuracy: 0.9554\n",
            "Epoch 36/100\n",
            "43/43 [==============================] - 0s 1ms/step - loss: 0.1029 - binary_accuracy: 0.9577\n",
            "Epoch 37/100\n",
            "43/43 [==============================] - 0s 1ms/step - loss: 0.1073 - binary_accuracy: 0.9507\n",
            "Epoch 38/100\n",
            "43/43 [==============================] - 0s 1ms/step - loss: 0.1084 - binary_accuracy: 0.9484\n",
            "Epoch 39/100\n",
            "43/43 [==============================] - 0s 1ms/step - loss: 0.1131 - binary_accuracy: 0.9507\n",
            "Epoch 40/100\n",
            "43/43 [==============================] - 0s 1ms/step - loss: 0.1151 - binary_accuracy: 0.9484\n",
            "Epoch 41/100\n",
            "43/43 [==============================] - 0s 1ms/step - loss: 0.1159 - binary_accuracy: 0.9554\n",
            "Epoch 42/100\n",
            "43/43 [==============================] - 0s 1ms/step - loss: 0.1154 - binary_accuracy: 0.9507\n",
            "Epoch 43/100\n",
            "43/43 [==============================] - 0s 1ms/step - loss: 0.1074 - binary_accuracy: 0.9531\n",
            "Epoch 44/100\n",
            "43/43 [==============================] - 0s 1ms/step - loss: 0.1300 - binary_accuracy: 0.9507\n",
            "Epoch 45/100\n",
            "43/43 [==============================] - 0s 1ms/step - loss: 0.1237 - binary_accuracy: 0.9577\n",
            "Epoch 46/100\n",
            "43/43 [==============================] - 0s 1ms/step - loss: 0.1219 - binary_accuracy: 0.9554\n",
            "Epoch 47/100\n",
            "43/43 [==============================] - 0s 1ms/step - loss: 0.1217 - binary_accuracy: 0.9554\n",
            "Epoch 48/100\n",
            "43/43 [==============================] - 0s 1ms/step - loss: 0.1234 - binary_accuracy: 0.9601\n",
            "Epoch 49/100\n",
            "43/43 [==============================] - 0s 1ms/step - loss: 0.1246 - binary_accuracy: 0.9554\n",
            "Epoch 50/100\n",
            "43/43 [==============================] - 0s 1ms/step - loss: 0.1259 - binary_accuracy: 0.9507\n",
            "Epoch 51/100\n",
            "43/43 [==============================] - 0s 1ms/step - loss: 0.1240 - binary_accuracy: 0.9601\n",
            "Epoch 52/100\n",
            "43/43 [==============================] - 0s 1ms/step - loss: 0.1202 - binary_accuracy: 0.9601\n",
            "Epoch 53/100\n",
            "43/43 [==============================] - 0s 1ms/step - loss: 0.1319 - binary_accuracy: 0.9577\n",
            "Epoch 54/100\n",
            "43/43 [==============================] - 0s 1ms/step - loss: 0.1425 - binary_accuracy: 0.9437\n",
            "Epoch 55/100\n",
            "43/43 [==============================] - 0s 1ms/step - loss: 0.1138 - binary_accuracy: 0.9554\n",
            "Epoch 56/100\n",
            "43/43 [==============================] - 0s 1ms/step - loss: 0.1359 - binary_accuracy: 0.9507\n",
            "Epoch 57/100\n",
            "43/43 [==============================] - 0s 1ms/step - loss: 0.1525 - binary_accuracy: 0.9460\n",
            "Epoch 58/100\n",
            "43/43 [==============================] - 0s 1ms/step - loss: 0.1161 - binary_accuracy: 0.9577\n",
            "Epoch 59/100\n",
            "43/43 [==============================] - 0s 1ms/step - loss: 0.1263 - binary_accuracy: 0.9531\n",
            "Epoch 60/100\n",
            "43/43 [==============================] - 0s 1ms/step - loss: 0.1227 - binary_accuracy: 0.9507\n",
            "Epoch 61/100\n",
            "43/43 [==============================] - 0s 1ms/step - loss: 0.1337 - binary_accuracy: 0.9507\n",
            "Epoch 62/100\n",
            "43/43 [==============================] - 0s 1ms/step - loss: 0.1340 - binary_accuracy: 0.9484\n",
            "Epoch 63/100\n",
            "43/43 [==============================] - 0s 1ms/step - loss: 0.1343 - binary_accuracy: 0.9507\n",
            "Epoch 64/100\n",
            "43/43 [==============================] - 0s 1ms/step - loss: 0.1414 - binary_accuracy: 0.9437\n",
            "Epoch 65/100\n",
            "43/43 [==============================] - 0s 1ms/step - loss: 0.1279 - binary_accuracy: 0.9554\n",
            "Epoch 66/100\n",
            "43/43 [==============================] - 0s 1ms/step - loss: 0.1504 - binary_accuracy: 0.9531\n",
            "Epoch 67/100\n",
            "43/43 [==============================] - 0s 1ms/step - loss: 0.1515 - binary_accuracy: 0.9413\n",
            "Epoch 68/100\n",
            "43/43 [==============================] - 0s 1ms/step - loss: 0.1368 - binary_accuracy: 0.9484\n",
            "Epoch 69/100\n",
            "43/43 [==============================] - 0s 1ms/step - loss: 0.1401 - binary_accuracy: 0.9507\n",
            "Epoch 70/100\n",
            "43/43 [==============================] - 0s 1ms/step - loss: 0.1324 - binary_accuracy: 0.9484\n",
            "Epoch 71/100\n",
            "43/43 [==============================] - 0s 1ms/step - loss: 0.1321 - binary_accuracy: 0.9484\n",
            "Epoch 72/100\n",
            "43/43 [==============================] - 0s 1ms/step - loss: 0.1399 - binary_accuracy: 0.9460\n",
            "Epoch 73/100\n",
            "43/43 [==============================] - 0s 2ms/step - loss: 0.1365 - binary_accuracy: 0.9507\n",
            "Epoch 74/100\n",
            "43/43 [==============================] - 0s 1ms/step - loss: 0.1424 - binary_accuracy: 0.9460\n",
            "Epoch 75/100\n",
            "43/43 [==============================] - 0s 1ms/step - loss: 0.1468 - binary_accuracy: 0.9437\n",
            "Epoch 76/100\n",
            "43/43 [==============================] - 0s 1ms/step - loss: 0.1511 - binary_accuracy: 0.9413\n",
            "Epoch 77/100\n",
            "43/43 [==============================] - 0s 1ms/step - loss: 0.1399 - binary_accuracy: 0.9531\n",
            "Epoch 78/100\n",
            "43/43 [==============================] - 0s 1ms/step - loss: 0.1553 - binary_accuracy: 0.9413\n",
            "Epoch 79/100\n",
            "43/43 [==============================] - 0s 1ms/step - loss: 0.1564 - binary_accuracy: 0.9413\n",
            "Epoch 80/100\n",
            "43/43 [==============================] - 0s 1ms/step - loss: 0.1551 - binary_accuracy: 0.9507\n",
            "Epoch 81/100\n",
            "43/43 [==============================] - 0s 1ms/step - loss: 0.1425 - binary_accuracy: 0.9507\n",
            "Epoch 82/100\n",
            "43/43 [==============================] - 0s 1ms/step - loss: 0.1438 - binary_accuracy: 0.9507\n",
            "Epoch 83/100\n",
            "43/43 [==============================] - 0s 1ms/step - loss: 0.1417 - binary_accuracy: 0.9460\n",
            "Epoch 84/100\n",
            "43/43 [==============================] - 0s 1ms/step - loss: 0.1513 - binary_accuracy: 0.9484\n",
            "Epoch 85/100\n",
            "43/43 [==============================] - 0s 1ms/step - loss: 0.1648 - binary_accuracy: 0.9413\n",
            "Epoch 86/100\n",
            "43/43 [==============================] - 0s 1ms/step - loss: 0.1402 - binary_accuracy: 0.9507\n",
            "Epoch 87/100\n",
            "43/43 [==============================] - 0s 1ms/step - loss: 0.1490 - binary_accuracy: 0.9507\n",
            "Epoch 88/100\n",
            "43/43 [==============================] - 0s 1ms/step - loss: 0.1448 - binary_accuracy: 0.9460\n",
            "Epoch 89/100\n",
            "43/43 [==============================] - 0s 1ms/step - loss: 0.1362 - binary_accuracy: 0.9554\n",
            "Epoch 90/100\n",
            "43/43 [==============================] - 0s 2ms/step - loss: 0.1461 - binary_accuracy: 0.9437\n",
            "Epoch 91/100\n",
            "43/43 [==============================] - 0s 2ms/step - loss: 0.1419 - binary_accuracy: 0.9460\n",
            "Epoch 92/100\n",
            "43/43 [==============================] - 0s 1ms/step - loss: 0.1479 - binary_accuracy: 0.9437\n",
            "Epoch 93/100\n",
            "43/43 [==============================] - 0s 1ms/step - loss: 0.1471 - binary_accuracy: 0.9507\n",
            "Epoch 94/100\n",
            "43/43 [==============================] - 0s 1ms/step - loss: 0.1482 - binary_accuracy: 0.9484\n",
            "Epoch 95/100\n",
            "43/43 [==============================] - 0s 1ms/step - loss: 0.1597 - binary_accuracy: 0.9460\n",
            "Epoch 96/100\n",
            "43/43 [==============================] - 0s 1ms/step - loss: 0.1573 - binary_accuracy: 0.9390\n",
            "Epoch 97/100\n",
            "43/43 [==============================] - 0s 1ms/step - loss: 0.1489 - binary_accuracy: 0.9507\n",
            "Epoch 98/100\n",
            "43/43 [==============================] - 0s 1ms/step - loss: 0.1511 - binary_accuracy: 0.9484\n",
            "Epoch 99/100\n",
            "43/43 [==============================] - 0s 1ms/step - loss: 0.1449 - binary_accuracy: 0.9554\n",
            "Epoch 100/100\n",
            "43/43 [==============================] - 0s 1ms/step - loss: 0.1542 - binary_accuracy: 0.9437\n"
          ],
          "name": "stdout"
        },
        {
          "output_type": "execute_result",
          "data": {
            "text/plain": [
              "<tensorflow.python.keras.callbacks.History at 0x7f8f46bca6d8>"
            ]
          },
          "metadata": {
            "tags": []
          },
          "execution_count": 41
        }
      ]
    },
    {
      "cell_type": "code",
      "metadata": {
        "id": "fuQ364C0Zd15",
        "outputId": "c7f68215-0063-4e56-e395-f4002bf6bd32",
        "colab": {
          "base_uri": "https://localhost:8080/",
          "height": 33
        }
      },
      "source": [
        "# Pega os pesos das camadas\n",
        "peso0 = classificador.layers[0].get_weights()\n",
        "len(peso0)"
      ],
      "execution_count": 66,
      "outputs": [
        {
          "output_type": "execute_result",
          "data": {
            "text/plain": [
              "2"
            ]
          },
          "metadata": {
            "tags": []
          },
          "execution_count": 66
        }
      ]
    },
    {
      "cell_type": "code",
      "metadata": {
        "id": "NduX58BmbilJ",
        "outputId": "22b98591-473d-4d81-8e52-a7c9d4c75d3a",
        "colab": {
          "base_uri": "https://localhost:8080/",
          "height": 1000
        }
      },
      "source": [
        "# Pesos da primeira camada\n",
        "peso0[0]"
      ],
      "execution_count": 67,
      "outputs": [
        {
          "output_type": "execute_result",
          "data": {
            "text/plain": [
              "array([[ 6.84672035e-03, -6.12504296e-02, -5.66951036e-02,\n",
              "        -3.40000242e-02, -2.31132284e-02, -1.33959800e-01,\n",
              "        -3.67320478e-02,  3.84917744e-02, -1.04008345e-02,\n",
              "         1.05691865e-01,  1.20313406e-01,  1.48824200e-01,\n",
              "         1.94278806e-01,  6.78036138e-02,  3.61270760e-03,\n",
              "         2.79462766e-02],\n",
              "       [ 7.55902976e-02,  9.38729965e-04, -1.39848337e-01,\n",
              "        -4.69592325e-02, -1.86356227e-03,  1.43710226e-01,\n",
              "        -2.68873349e-02, -3.31363194e-02, -6.57269806e-02,\n",
              "         1.84019551e-01, -3.98956463e-02, -1.11075491e-02,\n",
              "        -1.89867038e-02,  4.00250293e-02, -5.84036522e-02,\n",
              "         2.20136251e-02],\n",
              "       [ 5.60307652e-02, -2.57828441e-02, -1.51256338e-01,\n",
              "         1.25720903e-01,  6.33857492e-03, -1.77797720e-01,\n",
              "        -4.41979319e-02, -2.92504188e-02, -8.59002843e-02,\n",
              "         1.01691112e-01,  1.51548937e-01,  1.68153182e-01,\n",
              "         2.01008797e-01,  7.77145848e-02, -1.34202108e-01,\n",
              "        -2.15154141e-01],\n",
              "       [ 6.91713095e-02, -2.33585164e-02,  5.75560937e-03,\n",
              "         3.97200510e-02, -1.68038383e-02, -6.37553930e-02,\n",
              "        -2.99284607e-02, -4.56206091e-02, -1.07291646e-01,\n",
              "         2.82731559e-02,  5.02307452e-02,  3.96173075e-02,\n",
              "         3.79004069e-02, -8.99920240e-03, -2.82756481e-02,\n",
              "        -9.25383531e-03],\n",
              "       [ 6.87252171e-03, -6.29057512e-02, -8.71153325e-02,\n",
              "        -1.28045619e-01, -1.18315918e-02,  1.50999939e-02,\n",
              "         2.87409164e-02, -4.50309478e-02,  2.29513366e-02,\n",
              "         2.86435068e-01, -1.15076229e-01, -2.66928762e-01,\n",
              "         4.78345575e-03,  6.64523467e-02,  1.47827163e-01,\n",
              "         6.43915217e-03],\n",
              "       [-8.86289850e-02, -1.05083287e-02, -3.24117765e-02,\n",
              "        -1.82497069e-01, -6.03527157e-03, -5.46733998e-02,\n",
              "        -3.21195200e-02,  2.25773584e-02,  5.19446097e-03,\n",
              "         1.22198433e-01, -2.04009354e-01, -2.54730523e-01,\n",
              "        -9.08968598e-02, -3.17877412e-01,  2.62445398e-02,\n",
              "         6.50474057e-02],\n",
              "       [-1.11419879e-01, -9.46966708e-02,  6.99156672e-02,\n",
              "        -1.01628713e-01, -1.21145099e-02, -2.23519042e-01,\n",
              "        -5.51409684e-02, -2.46388763e-02, -4.24223468e-02,\n",
              "        -9.92719736e-03,  5.45417815e-02, -1.43133417e-01,\n",
              "        -1.27669498e-01,  1.43442005e-01,  3.56639028e-01,\n",
              "         1.56840608e-01],\n",
              "       [ 7.65203834e-02, -5.14992550e-02,  5.03816120e-02,\n",
              "        -1.20022252e-01,  2.90485080e-02, -5.12814857e-02,\n",
              "         1.67534053e-01,  2.63546854e-02,  4.35314141e-02,\n",
              "         7.81156272e-02, -1.54306009e-01,  8.92891511e-02,\n",
              "         9.04972479e-02, -6.34140708e-03, -9.99301225e-02,\n",
              "         2.38684509e-02],\n",
              "       [ 2.02362016e-01,  3.22338231e-02,  4.12029773e-02,\n",
              "         1.54459905e-02,  1.39080705e-02, -8.19885172e-03,\n",
              "         4.20705318e-01, -4.63340804e-02,  9.74118188e-02,\n",
              "         6.43703863e-02,  4.81730141e-02,  1.49854973e-01,\n",
              "        -2.35898793e-03, -1.09082228e-02,  1.38298541e-01,\n",
              "         2.08664257e-02],\n",
              "       [ 8.90713260e-02,  3.50288749e-02,  5.08157723e-02,\n",
              "         9.85283554e-02,  5.35409600e-02, -4.58708256e-02,\n",
              "        -9.20249522e-02, -1.19443401e-03,  3.96312550e-02,\n",
              "        -1.47589564e-01,  1.43698514e-01,  3.27000804e-02,\n",
              "         5.89887612e-03,  6.12801872e-02, -2.71872044e-01,\n",
              "         1.53818270e-02],\n",
              "       [ 9.20863003e-02,  1.01422323e-02, -6.84459880e-03,\n",
              "        -4.22225669e-02,  6.55744225e-02, -1.27371261e-02,\n",
              "        -4.68374640e-02,  2.86258329e-02,  1.83349237e-01,\n",
              "         1.26272768e-01, -1.15018832e-02, -8.14486369e-02,\n",
              "        -1.99956354e-02, -1.06568679e-01, -5.16328104e-02,\n",
              "        -2.50243414e-02],\n",
              "       [-2.38925107e-02, -7.13942340e-03, -1.50048360e-02,\n",
              "        -2.44027544e-02, -5.40578254e-02, -2.78954171e-02,\n",
              "         6.47461563e-02, -6.32689567e-03,  5.07896257e-05,\n",
              "         4.69737910e-02, -1.67075291e-01, -4.74873558e-03,\n",
              "         4.03106362e-02, -2.96873115e-02, -1.86519499e-03,\n",
              "        -1.65837239e-02],\n",
              "       [-1.71410143e-01,  7.81660900e-03, -3.94431688e-03,\n",
              "         2.92383041e-02, -8.55799988e-02,  2.05163658e-02,\n",
              "         3.95103209e-02, -4.30960208e-02,  9.23687499e-03,\n",
              "         8.18456430e-03,  5.59643283e-02,  1.02443453e-02,\n",
              "         1.33762173e-02,  5.62214442e-02, -7.67433783e-03,\n",
              "        -1.76083744e-02],\n",
              "       [-1.19457580e-01,  1.31359458e-01,  1.97059527e-01,\n",
              "        -1.00891814e-01, -8.12255368e-02,  3.37557122e-02,\n",
              "        -1.41540170e-01, -4.83558588e-02,  5.55204693e-03,\n",
              "        -2.06390262e-01,  1.65765826e-02, -2.32266262e-01,\n",
              "        -2.57551342e-01, -6.73310831e-02, -1.18683360e-03,\n",
              "         9.45080593e-02],\n",
              "       [-1.61978938e-02, -6.10240102e-02, -9.68154222e-02,\n",
              "        -1.30936444e-01, -1.09976530e-02,  2.74339974e-01,\n",
              "        -1.67523548e-01,  3.25212628e-02, -1.88252013e-02,\n",
              "         1.91042751e-01, -7.75854960e-02, -1.76705733e-01,\n",
              "        -1.08643882e-01, -7.27196932e-02,  1.52055733e-02,\n",
              "         1.60328254e-01],\n",
              "       [-1.92914829e-01, -3.44873406e-02, -1.54370189e-01,\n",
              "        -4.25761521e-01, -5.40906414e-02,  4.30839837e-01,\n",
              "         9.90714654e-02, -5.04430234e-02, -4.17412780e-02,\n",
              "         4.46337700e-01, -4.82293278e-01,  4.68512736e-02,\n",
              "         2.33256117e-01, -9.52013023e-03,  1.73271298e-01,\n",
              "        -8.94562677e-02],\n",
              "       [-1.43300712e-01, -1.00852937e-01,  9.05029029e-02,\n",
              "        -2.16067478e-01, -7.65454918e-02,  2.75427163e-01,\n",
              "        -6.77013472e-02, -3.77052557e-03, -1.84113812e-03,\n",
              "        -2.47418985e-01, -1.22223422e-01, -3.06791186e-01,\n",
              "        -2.78076738e-01,  5.49023524e-02,  1.83479548e-01,\n",
              "         2.58602262e-01],\n",
              "       [ 1.76121771e-01, -2.39795260e-02, -1.68329164e-01,\n",
              "         1.46970674e-01,  4.37205806e-02, -5.29709796e-04,\n",
              "        -7.30393678e-02, -1.58042964e-02,  5.84049672e-02,\n",
              "        -1.25213538e-03,  2.22687185e-01,  1.25679255e-01,\n",
              "         3.24445814e-01,  4.54667099e-02, -2.81500161e-01,\n",
              "        -2.84257680e-01],\n",
              "       [-1.05572003e-03, -4.63111959e-02, -2.01477543e-01,\n",
              "         3.69106382e-01,  4.91886362e-02,  4.70371619e-02,\n",
              "        -1.15324691e-01, -2.06043152e-03,  2.90571228e-02,\n",
              "        -1.32890612e-01,  4.10710156e-01, -1.32200390e-01,\n",
              "        -7.92802572e-02, -1.99223071e-01,  1.04549937e-01,\n",
              "         6.96804971e-02],\n",
              "       [-6.94894120e-02, -4.73819040e-02, -4.18314186e-04,\n",
              "        -4.22867477e-01, -4.31038439e-03,  4.98389006e-01,\n",
              "        -2.54998714e-01,  6.56375429e-03, -9.12052989e-02,\n",
              "        -2.00683415e-01, -3.95940632e-01, -2.30676278e-01,\n",
              "        -4.68896717e-01, -3.04062497e-02,  3.31183225e-01,\n",
              "         4.04887557e-01],\n",
              "       [ 3.34788822e-02,  5.38256671e-03,  2.55711060e-02,\n",
              "         4.98054698e-02, -1.31588662e-02, -3.54209542e-02,\n",
              "        -1.12271585e-01,  1.63429733e-02, -9.94703919e-02,\n",
              "         7.82124028e-02,  1.40875354e-01,  1.29881665e-01,\n",
              "         1.53136000e-01,  2.27954909e-02, -1.95062250e-01,\n",
              "        -1.61095172e-01],\n",
              "       [ 5.56438789e-02, -3.83374318e-02, -8.35719344e-04,\n",
              "        -2.15240926e-01,  5.51007465e-02,  2.67907590e-01,\n",
              "        -1.61139816e-01,  3.91617231e-02, -6.92166016e-02,\n",
              "         2.24626809e-02, -1.65311202e-01, -1.76975891e-01,\n",
              "        -2.36391217e-01, -2.50934009e-02,  7.47189447e-02,\n",
              "         1.61627859e-01],\n",
              "       [ 9.42135230e-02, -5.74738719e-02, -1.07821926e-01,\n",
              "         1.05575696e-01,  1.61255933e-02, -8.15823823e-02,\n",
              "        -1.26561195e-01,  2.03395844e-03, -6.67760819e-02,\n",
              "         8.54381025e-02,  5.44139035e-02,  6.23681247e-02,\n",
              "         1.36279449e-01,  3.69307958e-02, -9.60366726e-02,\n",
              "        -8.57171044e-02],\n",
              "       [-1.25201540e-02, -1.60450824e-02,  3.32181118e-02,\n",
              "        -3.11063752e-02, -2.16962546e-02,  6.99388683e-02,\n",
              "        -1.19239964e-01,  2.50076596e-02, -6.29367530e-02,\n",
              "        -5.10153361e-02, -5.82176261e-02, -5.61071783e-02,\n",
              "        -8.87610167e-02, -7.09940046e-02,  6.06876835e-02,\n",
              "         9.50636938e-02],\n",
              "       [ 3.31002772e-02,  8.50035402e-04, -1.63252559e-02,\n",
              "         8.03320669e-03,  2.69893948e-02, -7.49555007e-02,\n",
              "        -1.29043877e-01, -6.50654919e-03,  3.51131037e-02,\n",
              "        -2.15228856e-01,  8.43161941e-02, -1.11334108e-01,\n",
              "        -1.32360145e-01, -7.61626512e-02, -2.40616081e-03,\n",
              "         1.05876453e-01],\n",
              "       [ 2.07272395e-01, -8.75489861e-02,  5.00026830e-02,\n",
              "        -7.05083366e-03,  5.74303381e-02, -6.90132827e-02,\n",
              "         1.82724848e-01,  2.92508993e-02, -4.58866134e-02,\n",
              "        -4.08713669e-02,  6.35224022e-03,  5.57253994e-02,\n",
              "        -9.38514061e-03,  4.91926931e-02,  1.32577896e-01,\n",
              "         2.43429132e-02],\n",
              "       [ 2.23307043e-01, -3.59608866e-02,  5.17975986e-02,\n",
              "         1.75652392e-02,  1.23386852e-01, -4.07863334e-02,\n",
              "        -2.34040335e-01, -4.78230417e-03, -6.38676733e-02,\n",
              "        -9.18285339e-04,  5.01299798e-02, -3.02855104e-01,\n",
              "         8.09299052e-02,  9.92151722e-02,  4.62670475e-02,\n",
              "        -6.97259605e-03],\n",
              "       [-1.76344603e-01, -1.42077450e-04,  1.71672150e-01,\n",
              "        -2.00351238e-01,  3.59146073e-02, -1.23841748e-01,\n",
              "         2.47049168e-01,  1.37008671e-02,  1.27985571e-02,\n",
              "        -9.40373465e-02, -1.24802090e-01,  2.54418969e-01,\n",
              "         2.42328257e-04, -8.45365822e-02,  1.72640219e-01,\n",
              "         9.33233723e-02],\n",
              "       [ 1.20966770e-02,  2.49134563e-02, -1.06258936e-01,\n",
              "         7.59001523e-02, -4.32237200e-02, -6.25104830e-02,\n",
              "        -2.08958745e-01, -3.48863006e-02, -5.24634048e-02,\n",
              "         2.19845906e-01, -1.10492937e-01, -8.23525414e-02,\n",
              "        -3.23589034e-02, -7.83429295e-02,  7.96504971e-03,\n",
              "         4.10896763e-02],\n",
              "       [ 6.69234246e-02, -5.79277724e-02,  3.94876748e-02,\n",
              "        -6.01077378e-02, -1.09799448e-02,  4.51511770e-01,\n",
              "        -1.71348974e-01,  1.92558598e-02, -7.67255947e-02,\n",
              "        -1.75082192e-01, -7.82419965e-02, -2.02342957e-01,\n",
              "        -3.09013933e-01,  7.58620575e-02,  2.22916767e-01,\n",
              "         3.78029168e-01]], dtype=float32)"
            ]
          },
          "metadata": {
            "tags": []
          },
          "execution_count": 67
        }
      ]
    },
    {
      "cell_type": "code",
      "metadata": {
        "id": "G7Med28Fa6-f",
        "outputId": "0d9f8eca-3964-42da-8b16-eaba5fbdd41d",
        "colab": {
          "base_uri": "https://localhost:8080/",
          "height": 83
        }
      },
      "source": [
        "# Na segunda posição do array é o bias\n",
        "peso0[1]"
      ],
      "execution_count": 68,
      "outputs": [
        {
          "output_type": "execute_result",
          "data": {
            "text/plain": [
              "array([ 0.11646228,  0.00048785, -0.24376181,  0.27339286,  0.02465107,\n",
              "       -0.33949623,  0.0424988 , -0.0048613 , -0.04206857,  0.23752463,\n",
              "        0.30821288,  0.37126327,  0.47610372,  0.15448952, -0.3491589 ,\n",
              "       -0.4320303 ], dtype=float32)"
            ]
          },
          "metadata": {
            "tags": []
          },
          "execution_count": 68
        }
      ]
    },
    {
      "cell_type": "code",
      "metadata": {
        "id": "7wR-E1uGcAVy",
        "outputId": "b2e35c5c-146f-4162-edbb-e03c78ced270",
        "colab": {
          "base_uri": "https://localhost:8080/",
          "height": 33
        }
      },
      "source": [
        "peso1 = classificador.layers[1].get_weights()\n",
        "len(peso1)"
      ],
      "execution_count": 69,
      "outputs": [
        {
          "output_type": "execute_result",
          "data": {
            "text/plain": [
              "2"
            ]
          },
          "metadata": {
            "tags": []
          },
          "execution_count": 69
        }
      ]
    },
    {
      "cell_type": "code",
      "metadata": {
        "id": "gnzAgyMqcJcc",
        "outputId": "e18e3243-0b1f-4d1d-c4fc-fc2a809cf8ce",
        "colab": {
          "base_uri": "https://localhost:8080/",
          "height": 1000
        }
      },
      "source": [
        "peso1[0]"
      ],
      "execution_count": 70,
      "outputs": [
        {
          "output_type": "execute_result",
          "data": {
            "text/plain": [
              "array([[ 2.90444549e-02,  3.62366326e-02, -4.75799702e-02,\n",
              "        -2.02963706e-02,  2.30402928e-02,  1.80412009e-01,\n",
              "         5.11377789e-02,  6.33499306e-03,  5.48842065e-02,\n",
              "         1.53404884e-02,  4.39832918e-02,  4.94176662e-03,\n",
              "        -1.91787519e-02,  3.78676243e-02,  1.59984782e-01,\n",
              "         7.98290297e-02],\n",
              "       [-5.17217442e-02, -3.23301814e-02,  5.39864367e-03,\n",
              "        -2.68607140e-02, -8.75708908e-02,  2.29307972e-02,\n",
              "        -6.17160685e-02, -7.69369155e-02,  2.84438618e-02,\n",
              "        -9.98429209e-02,  5.75968772e-02,  1.15862533e-01,\n",
              "        -4.18278836e-02,  1.10133909e-01,  2.76917387e-02,\n",
              "        -1.65302232e-02],\n",
              "       [ 1.47392815e-02, -9.45309177e-02, -9.46876928e-02,\n",
              "        -4.07741368e-02,  6.48661926e-02, -1.20679513e-01,\n",
              "        -7.53533691e-02, -6.56420514e-02, -6.88803047e-02,\n",
              "         5.83877079e-02,  4.12291810e-02,  1.59376729e-02,\n",
              "        -4.93434519e-02,  2.61324588e-02, -1.06887177e-01,\n",
              "        -1.27931625e-01],\n",
              "       [ 2.71548890e-02,  3.69830020e-02, -5.63096665e-02,\n",
              "        -3.63993607e-02,  2.49609537e-02,  1.17888741e-01,\n",
              "        -3.40546970e-03,  3.02748345e-02, -3.85446958e-02,\n",
              "        -1.58325713e-02, -1.82803790e-03,  3.28904279e-02,\n",
              "        -2.86966413e-02,  1.09470505e-02,  4.96660583e-02,\n",
              "         1.02494121e-01],\n",
              "       [-3.32232229e-02, -1.58976996e-03, -1.63431093e-03,\n",
              "        -2.55695116e-02,  2.36120494e-03,  1.38060115e-02,\n",
              "         1.79126635e-02, -2.53577903e-02,  2.18058396e-02,\n",
              "         1.99837796e-02, -2.85526589e-02,  6.71529118e-03,\n",
              "         1.15489373e-02, -1.10301636e-02,  9.28858221e-02,\n",
              "         4.05293666e-02],\n",
              "       [ 7.89919421e-02, -2.09151298e-01, -4.04129475e-02,\n",
              "        -4.39387653e-03,  3.60282511e-02, -2.68270671e-01,\n",
              "        -3.59761007e-02, -2.67775711e-02, -7.30988681e-02,\n",
              "         8.94014165e-02, -1.94527227e-02, -1.40231296e-01,\n",
              "        -9.37702581e-02, -1.13622777e-01, -1.12816729e-01,\n",
              "        -2.39579305e-01],\n",
              "       [ 1.68563519e-02,  5.14660738e-02, -3.46271507e-02,\n",
              "        -4.71789762e-03, -4.26202044e-02, -8.72194674e-03,\n",
              "         3.38122770e-02, -3.81861106e-02, -2.94858534e-02,\n",
              "         5.46142980e-02,  9.90519766e-03,  5.71363978e-02,\n",
              "        -1.75040830e-02, -5.55412732e-02, -2.71924865e-03,\n",
              "         1.37712359e-01],\n",
              "       [ 1.86156686e-02,  4.83158529e-02,  3.73001508e-02,\n",
              "        -9.52780247e-03,  8.87944922e-03,  1.75912417e-02,\n",
              "        -1.04130534e-02,  2.95555182e-02, -1.47559335e-02,\n",
              "         3.15465853e-02,  1.40101966e-02, -2.63895504e-02,\n",
              "        -3.03288326e-02,  4.00007367e-02,  4.10396680e-02,\n",
              "         7.71831349e-03],\n",
              "       [ 6.26219958e-02, -1.49274117e-03, -8.12534243e-03,\n",
              "         6.10937141e-02,  1.18595371e-02, -2.27783881e-02,\n",
              "        -2.60029603e-02, -6.36505857e-02,  1.61525402e-02,\n",
              "         3.50925326e-02,  6.02957606e-03,  2.19885493e-03,\n",
              "        -2.71920133e-02, -5.17774094e-03,  2.02984922e-02,\n",
              "        -1.26899093e-01],\n",
              "       [ 7.24836066e-02, -1.76546525e-03, -5.31374302e-04,\n",
              "         2.25186944e-02,  3.73916589e-02,  4.82168198e-02,\n",
              "        -4.42802310e-02, -3.40906419e-02, -1.41041456e-02,\n",
              "         7.42098019e-02, -4.04438935e-02,  5.21393912e-03,\n",
              "         2.51825899e-02, -1.79210457e-03, -3.39369364e-02,\n",
              "         9.35550109e-02],\n",
              "       [-1.27254706e-02,  5.62380329e-02,  7.24011473e-03,\n",
              "        -5.40611632e-02, -9.64455213e-03,  8.42491165e-02,\n",
              "         2.75871605e-02, -2.36374587e-02,  5.53098321e-02,\n",
              "        -1.70357432e-02,  3.93175473e-03,  4.91307899e-02,\n",
              "         2.70823780e-02,  4.20307927e-02,  3.93265858e-02,\n",
              "         7.97187835e-02],\n",
              "       [-2.97819842e-02, -5.48177175e-02, -2.85148676e-02,\n",
              "        -3.18433135e-03, -8.35329294e-02, -3.32753956e-02,\n",
              "         6.95994645e-02,  4.33234237e-02, -4.21465747e-02,\n",
              "        -2.00602968e-04, -1.18415812e-02, -3.32847312e-02,\n",
              "        -1.00543857e-01, -3.00545208e-02, -7.91028515e-03,\n",
              "         8.67425185e-03],\n",
              "       [-1.15227618e-03, -3.44425403e-02, -6.76825549e-03,\n",
              "        -7.54568353e-02, -8.21880698e-02,  1.25248805e-02,\n",
              "         4.57259687e-03,  3.99801806e-02, -1.51845096e-02,\n",
              "         3.08816377e-02,  2.95505207e-02, -1.50112947e-02,\n",
              "         2.69317790e-03,  3.22338343e-02,  1.11194374e-02,\n",
              "         5.22263758e-02],\n",
              "       [ 3.92186008e-02, -3.65333185e-02, -2.41084248e-02,\n",
              "        -1.23782912e-02,  4.18481901e-02, -1.34463325e-01,\n",
              "         1.65167563e-02,  3.71851847e-02, -2.09485851e-02,\n",
              "        -9.61760525e-03,  1.96713656e-02, -8.20282102e-02,\n",
              "         1.82128996e-02,  1.47121968e-02,  2.50146929e-02,\n",
              "        -6.68539926e-02],\n",
              "       [ 6.02717958e-02, -3.13438382e-03, -1.97071265e-02,\n",
              "         1.44567527e-02,  7.13607818e-02,  6.82463199e-02,\n",
              "        -3.87419248e-03, -9.81072197e-04, -1.23626124e-02,\n",
              "         7.57853091e-02, -5.25871702e-02, -3.50988582e-02,\n",
              "         3.88855971e-02, -3.53719294e-02, -1.71889737e-02,\n",
              "         1.88353397e-02],\n",
              "       [ 1.01565585e-01, -3.49429138e-02, -4.46169712e-02,\n",
              "        -7.61557445e-02,  5.48764691e-02, -9.22315195e-02,\n",
              "        -2.66679358e-02, -3.41148823e-02, -1.51230311e-02,\n",
              "         6.55549169e-02, -2.58366149e-02,  5.90820350e-02,\n",
              "        -9.94613320e-02, -1.54606942e-02, -5.66326156e-02,\n",
              "        -8.77050236e-02]], dtype=float32)"
            ]
          },
          "metadata": {
            "tags": []
          },
          "execution_count": 70
        }
      ]
    },
    {
      "cell_type": "code",
      "metadata": {
        "id": "bfHXzMpFcLjD",
        "outputId": "3427cd36-6a91-4062-ff74-4c619ca9b228",
        "colab": {
          "base_uri": "https://localhost:8080/",
          "height": 83
        }
      },
      "source": [
        "peso1[1]"
      ],
      "execution_count": 71,
      "outputs": [
        {
          "output_type": "execute_result",
          "data": {
            "text/plain": [
              "array([-0.31922436,  0.28839153, -0.04222861, -0.13052233, -0.42143473,\n",
              "        0.08872291,  0.41554144,  0.39655325,  0.03314235, -0.33132392,\n",
              "        0.35860404,  0.3503672 ,  0.23331279,  0.34602228,  0.10022593,\n",
              "        0.27161685], dtype=float32)"
            ]
          },
          "metadata": {
            "tags": []
          },
          "execution_count": 71
        }
      ]
    },
    {
      "cell_type": "code",
      "metadata": {
        "id": "oTFcQEbIcRH7",
        "outputId": "08ed6514-835f-4d1f-f8a8-23e50a28aef6",
        "colab": {
          "base_uri": "https://localhost:8080/",
          "height": 33
        }
      },
      "source": [
        "peso2 = classificador.layers[2].get_weights()\n",
        "len(peso2)"
      ],
      "execution_count": 72,
      "outputs": [
        {
          "output_type": "execute_result",
          "data": {
            "text/plain": [
              "2"
            ]
          },
          "metadata": {
            "tags": []
          },
          "execution_count": 72
        }
      ]
    },
    {
      "cell_type": "code",
      "metadata": {
        "id": "9HZCMNIbchXo",
        "outputId": "6443deb6-6aaf-4ad8-87a1-ede9b1b3fab5",
        "colab": {
          "base_uri": "https://localhost:8080/",
          "height": 283
        }
      },
      "source": [
        "peso2[0]"
      ],
      "execution_count": 73,
      "outputs": [
        {
          "output_type": "execute_result",
          "data": {
            "text/plain": [
              "array([[-0.5286843 ],\n",
              "       [ 0.09075686],\n",
              "       [-0.18509465],\n",
              "       [-0.28132325],\n",
              "       [-0.5515023 ],\n",
              "       [ 0.3331244 ],\n",
              "       [ 0.35991105],\n",
              "       [ 0.32899803],\n",
              "       [ 0.09291659],\n",
              "       [-0.37774086],\n",
              "       [ 0.3212055 ],\n",
              "       [ 0.12057946],\n",
              "       [ 0.1976873 ],\n",
              "       [ 0.41233402],\n",
              "       [ 0.4034809 ],\n",
              "       [ 0.45659557]], dtype=float32)"
            ]
          },
          "metadata": {
            "tags": []
          },
          "execution_count": 73
        }
      ]
    },
    {
      "cell_type": "code",
      "metadata": {
        "id": "NUrMxRxKcohw",
        "outputId": "b3c4832a-fa34-4470-f3b7-f590d2003449",
        "colab": {
          "base_uri": "https://localhost:8080/",
          "height": 33
        }
      },
      "source": [
        "peso2[1]"
      ],
      "execution_count": 74,
      "outputs": [
        {
          "output_type": "execute_result",
          "data": {
            "text/plain": [
              "array([0.33651152], dtype=float32)"
            ]
          },
          "metadata": {
            "tags": []
          },
          "execution_count": 74
        }
      ]
    },
    {
      "cell_type": "code",
      "metadata": {
        "id": "aHdpaZ2CmudR"
      },
      "source": [
        "previsoes = classificador.predict(previsores_teste)\n",
        "previsoes = (previsoes > 0.5)"
      ],
      "execution_count": 76,
      "outputs": []
    },
    {
      "cell_type": "code",
      "metadata": {
        "id": "QfkvCbXaNlD8"
      },
      "source": [
        "from sklearn.metrics import confusion_matrix, accuracy_score"
      ],
      "execution_count": 77,
      "outputs": []
    },
    {
      "cell_type": "code",
      "metadata": {
        "id": "Jl1L_rYSNvLB",
        "outputId": "665ffbed-6585-4036-bea8-c4382bd0ad58",
        "colab": {
          "base_uri": "https://localhost:8080/",
          "height": 33
        }
      },
      "source": [
        "precisao = accuracy_score(classe_teste, previsoes)\n",
        "precisao"
      ],
      "execution_count": 78,
      "outputs": [
        {
          "output_type": "execute_result",
          "data": {
            "text/plain": [
              "0.916083916083916"
            ]
          },
          "metadata": {
            "tags": []
          },
          "execution_count": 78
        }
      ]
    },
    {
      "cell_type": "code",
      "metadata": {
        "id": "uLbper6dN1XC",
        "outputId": "83310567-bc78-4de7-eef9-7d5f35028825",
        "colab": {
          "base_uri": "https://localhost:8080/",
          "height": 50
        }
      },
      "source": [
        "matriz_confusao = confusion_matrix(classe_teste, previsoes)\n",
        "matriz_confusao"
      ],
      "execution_count": 45,
      "outputs": [
        {
          "output_type": "execute_result",
          "data": {
            "text/plain": [
              "array([[52,  3],\n",
              "       [ 9, 79]])"
            ]
          },
          "metadata": {
            "tags": []
          },
          "execution_count": 45
        }
      ]
    },
    {
      "cell_type": "code",
      "metadata": {
        "id": "U8hojJVcOBMJ",
        "outputId": "6fc474d6-8d62-4f5d-ac93-f8d0c556e899",
        "colab": {
          "base_uri": "https://localhost:8080/",
          "height": 50
        }
      },
      "source": [
        "# Usando o Keras\n",
        "resultado = classificador.evaluate(previsores_teste, classe_teste)\n",
        "resultado"
      ],
      "execution_count": 46,
      "outputs": [
        {
          "output_type": "stream",
          "text": [
            "5/5 [==============================] - 0s 2ms/step - loss: 0.3312 - binary_accuracy: 0.9161\n"
          ],
          "name": "stdout"
        },
        {
          "output_type": "execute_result",
          "data": {
            "text/plain": [
              "[0.3311608135700226, 0.9160839319229126]"
            ]
          },
          "metadata": {
            "tags": []
          },
          "execution_count": 46
        }
      ]
    },
    {
      "cell_type": "code",
      "metadata": {
        "id": "8b14Yn1COchp"
      },
      "source": [
        ""
      ],
      "execution_count": null,
      "outputs": []
    }
  ]
}
