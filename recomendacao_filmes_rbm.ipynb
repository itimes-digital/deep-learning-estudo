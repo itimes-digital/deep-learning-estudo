{
  "nbformat": 4,
  "nbformat_minor": 0,
  "metadata": {
    "colab": {
      "name": "recomendacao_filmes_rbm.ipynb",
      "provenance": [],
      "authorship_tag": "ABX9TyPFF8pkaw+/KuhC2RAmRXFA",
      "include_colab_link": true
    },
    "kernelspec": {
      "name": "python3",
      "display_name": "Python 3"
    }
  },
  "cells": [
    {
      "cell_type": "markdown",
      "metadata": {
        "id": "view-in-github",
        "colab_type": "text"
      },
      "source": [
        "<a href=\"https://colab.research.google.com/github/itimes-digital/deep-learning-estudo/blob/main/recomendacao_filmes_rbm.ipynb\" target=\"_parent\"><img src=\"https://colab.research.google.com/assets/colab-badge.svg\" alt=\"Open In Colab\"/></a>"
      ]
    },
    {
      "cell_type": "markdown",
      "metadata": {
        "id": "7MBgI4fh2WT9"
      },
      "source": [
        "## Restricted Boltzmann Machine para recomendação de filmes"
      ]
    },
    {
      "cell_type": "code",
      "metadata": {
        "id": "x6YPEgFJaEqF"
      },
      "source": [
        "import pandas as pd\n",
        "import numpy as np\n",
        "from sample_data.rbm import RBM"
      ],
      "execution_count": 37,
      "outputs": []
    },
    {
      "cell_type": "code",
      "metadata": {
        "id": "6OATlHfSumtT"
      },
      "source": [
        "base = np.array([['Ana', 0, 1, 1, 1, 0, 1],\n",
        "               ['Marcos', 1, 1, 0, 1, 1, 1],\n",
        "               ['Pedro', 0, 1, 0, 1, 0, 1],\n",
        "               ['Claudia', 0, 1, 1, 1, 0, 1],\n",
        "               ['Adriano', 1, 1, 0, 1, 0, 1],\n",
        "               ['Janaina', 1, 1, 0, 1, 1, 1]\n",
        "               ])"
      ],
      "execution_count": 38,
      "outputs": []
    },
    {
      "cell_type": "code",
      "metadata": {
        "id": "CTTasgolwBOK"
      },
      "source": [
        "base_filmes = pd.DataFrame(data = base, columns = ['usuario', \n",
        "                                                   'Freddy x Jason', \n",
        "                                                   'O Ultimato Bourne',\n",
        "                                                   'Star Trek',\n",
        "                                                   'Exterminador do Futuro',\n",
        "                                                   'Norbit',\n",
        "                                                   'Star Wars']);"
      ],
      "execution_count": 39,
      "outputs": []
    },
    {
      "cell_type": "code",
      "metadata": {
        "id": "MINd04xXwZmn",
        "outputId": "dbea7a25-b9cd-4e88-f9e3-fa1fb9106b68",
        "colab": {
          "base_uri": "https://localhost:8080/",
          "height": 235
        }
      },
      "source": [
        "base_filmes.head(10)"
      ],
      "execution_count": 40,
      "outputs": [
        {
          "output_type": "execute_result",
          "data": {
            "text/html": [
              "<div>\n",
              "<style scoped>\n",
              "    .dataframe tbody tr th:only-of-type {\n",
              "        vertical-align: middle;\n",
              "    }\n",
              "\n",
              "    .dataframe tbody tr th {\n",
              "        vertical-align: top;\n",
              "    }\n",
              "\n",
              "    .dataframe thead th {\n",
              "        text-align: right;\n",
              "    }\n",
              "</style>\n",
              "<table border=\"1\" class=\"dataframe\">\n",
              "  <thead>\n",
              "    <tr style=\"text-align: right;\">\n",
              "      <th></th>\n",
              "      <th>usuario</th>\n",
              "      <th>Freddy x Jason</th>\n",
              "      <th>O Ultimato Bourne</th>\n",
              "      <th>Star Trek</th>\n",
              "      <th>Exterminador do Futuro</th>\n",
              "      <th>Norbit</th>\n",
              "      <th>Star Wars</th>\n",
              "    </tr>\n",
              "  </thead>\n",
              "  <tbody>\n",
              "    <tr>\n",
              "      <th>0</th>\n",
              "      <td>Ana</td>\n",
              "      <td>0</td>\n",
              "      <td>1</td>\n",
              "      <td>1</td>\n",
              "      <td>1</td>\n",
              "      <td>0</td>\n",
              "      <td>1</td>\n",
              "    </tr>\n",
              "    <tr>\n",
              "      <th>1</th>\n",
              "      <td>Marcos</td>\n",
              "      <td>1</td>\n",
              "      <td>1</td>\n",
              "      <td>0</td>\n",
              "      <td>1</td>\n",
              "      <td>1</td>\n",
              "      <td>1</td>\n",
              "    </tr>\n",
              "    <tr>\n",
              "      <th>2</th>\n",
              "      <td>Pedro</td>\n",
              "      <td>0</td>\n",
              "      <td>1</td>\n",
              "      <td>0</td>\n",
              "      <td>1</td>\n",
              "      <td>0</td>\n",
              "      <td>1</td>\n",
              "    </tr>\n",
              "    <tr>\n",
              "      <th>3</th>\n",
              "      <td>Claudia</td>\n",
              "      <td>0</td>\n",
              "      <td>1</td>\n",
              "      <td>1</td>\n",
              "      <td>1</td>\n",
              "      <td>0</td>\n",
              "      <td>1</td>\n",
              "    </tr>\n",
              "    <tr>\n",
              "      <th>4</th>\n",
              "      <td>Adriano</td>\n",
              "      <td>1</td>\n",
              "      <td>1</td>\n",
              "      <td>0</td>\n",
              "      <td>1</td>\n",
              "      <td>0</td>\n",
              "      <td>1</td>\n",
              "    </tr>\n",
              "    <tr>\n",
              "      <th>5</th>\n",
              "      <td>Janaina</td>\n",
              "      <td>1</td>\n",
              "      <td>1</td>\n",
              "      <td>0</td>\n",
              "      <td>1</td>\n",
              "      <td>1</td>\n",
              "      <td>1</td>\n",
              "    </tr>\n",
              "  </tbody>\n",
              "</table>\n",
              "</div>"
            ],
            "text/plain": [
              "   usuario Freddy x Jason  ... Norbit Star Wars\n",
              "0      Ana              0  ...      0         1\n",
              "1   Marcos              1  ...      1         1\n",
              "2    Pedro              0  ...      0         1\n",
              "3  Claudia              0  ...      0         1\n",
              "4  Adriano              1  ...      0         1\n",
              "5  Janaina              1  ...      1         1\n",
              "\n",
              "[6 rows x 7 columns]"
            ]
          },
          "metadata": {
            "tags": []
          },
          "execution_count": 40
        }
      ]
    },
    {
      "cell_type": "code",
      "metadata": {
        "id": "f4WgOHYaxW-g",
        "outputId": "30865b75-404d-4b80-9113-9cb053016f79",
        "colab": {
          "base_uri": "https://localhost:8080/"
        }
      },
      "source": [
        "base_filmes.info()"
      ],
      "execution_count": 41,
      "outputs": [
        {
          "output_type": "stream",
          "text": [
            "<class 'pandas.core.frame.DataFrame'>\n",
            "RangeIndex: 6 entries, 0 to 5\n",
            "Data columns (total 7 columns):\n",
            " #   Column                  Non-Null Count  Dtype \n",
            "---  ------                  --------------  ----- \n",
            " 0   usuario                 6 non-null      object\n",
            " 1   Freddy x Jason          6 non-null      object\n",
            " 2   O Ultimato Bourne       6 non-null      object\n",
            " 3   Star Trek               6 non-null      object\n",
            " 4   Exterminador do Futuro  6 non-null      object\n",
            " 5   Norbit                  6 non-null      object\n",
            " 6   Star Wars               6 non-null      object\n",
            "dtypes: object(7)\n",
            "memory usage: 464.0+ bytes\n"
          ],
          "name": "stdout"
        }
      ]
    },
    {
      "cell_type": "code",
      "metadata": {
        "id": "eWw7vYq8xbSw",
        "outputId": "ddeb1582-2aec-45d9-e10b-76049e9281c0",
        "colab": {
          "base_uri": "https://localhost:8080/"
        }
      },
      "source": [
        "base_filmes['Freddy x Jason'] = pd.to_numeric(base_filmes['Freddy x Jason']);\n",
        "base_filmes['O Ultimato Bourne'] = pd.to_numeric(base_filmes['O Ultimato Bourne']);\n",
        "base_filmes['Star Trek'] = pd.to_numeric(base_filmes['Star Trek']);\n",
        "base_filmes['Exterminador do Futuro'] = pd.to_numeric(base_filmes['Exterminador do Futuro']);\n",
        "base_filmes['Norbit'] = pd.to_numeric(base_filmes['Norbit']);\n",
        "base_filmes['Star Wars'] = pd.to_numeric(base_filmes['Star Wars']);\n",
        "base_filmes.info()"
      ],
      "execution_count": 42,
      "outputs": [
        {
          "output_type": "stream",
          "text": [
            "<class 'pandas.core.frame.DataFrame'>\n",
            "RangeIndex: 6 entries, 0 to 5\n",
            "Data columns (total 7 columns):\n",
            " #   Column                  Non-Null Count  Dtype \n",
            "---  ------                  --------------  ----- \n",
            " 0   usuario                 6 non-null      object\n",
            " 1   Freddy x Jason          6 non-null      int64 \n",
            " 2   O Ultimato Bourne       6 non-null      int64 \n",
            " 3   Star Trek               6 non-null      int64 \n",
            " 4   Exterminador do Futuro  6 non-null      int64 \n",
            " 5   Norbit                  6 non-null      int64 \n",
            " 6   Star Wars               6 non-null      int64 \n",
            "dtypes: int64(6), object(1)\n",
            "memory usage: 464.0+ bytes\n"
          ],
          "name": "stdout"
        }
      ]
    },
    {
      "cell_type": "code",
      "metadata": {
        "id": "_W-927Mhwc2G"
      },
      "source": [
        "rbm = RBM(num_visible = 6, num_hidden = 3) # nós que são neurônios conectados"
      ],
      "execution_count": 43,
      "outputs": []
    },
    {
      "cell_type": "code",
      "metadata": {
        "id": "HiawmYoDw3z2"
      },
      "source": [
        "rbm.train(base_filmes.iloc[:, 1:7].values, max_epochs = 5000);"
      ],
      "execution_count": null,
      "outputs": []
    },
    {
      "cell_type": "code",
      "metadata": {
        "id": "DEJXaQe5xQxm",
        "outputId": "f5160a3a-d6f8-436a-d3df-d6bb31bf2bda",
        "colab": {
          "base_uri": "https://localhost:8080/"
        }
      },
      "source": [
        "rbm.weights"
      ],
      "execution_count": 45,
      "outputs": [
        {
          "output_type": "execute_result",
          "data": {
            "text/plain": [
              "array([[ 0.84152207, -1.10812229, -1.03651273, -0.08773828],\n",
              "       [ 1.61611282,  1.72625612,  1.83242586, -7.73567437],\n",
              "       [ 3.58855331,  1.21646777,  1.2554566 ,  1.68330849],\n",
              "       [-0.42093041, -5.43602546, -5.64018251,  5.87301679],\n",
              "       [ 3.59267023,  1.24588889,  1.20198203,  1.70731328],\n",
              "       [ 0.0722511 ,  0.32859366,  0.36202037, -5.87561671],\n",
              "       [ 3.6158447 ,  1.20604382,  1.23635204,  1.66498255]])"
            ]
          },
          "metadata": {
            "tags": []
          },
          "execution_count": 45
        }
      ]
    },
    {
      "cell_type": "code",
      "metadata": {
        "id": "Gsfh6uKyyn1H"
      },
      "source": [
        "usuario_leonardo = np.array([[0, 1, 0, 1, 0, 0]])"
      ],
      "execution_count": 55,
      "outputs": []
    },
    {
      "cell_type": "code",
      "metadata": {
        "id": "VZJVK3HPy_Vd",
        "outputId": "500f7fc7-3366-4136-b421-b7e982640e83",
        "colab": {
          "base_uri": "https://localhost:8080/"
        }
      },
      "source": [
        "camada_escondida = rbm.run_visible(usuario_leonardo)\n",
        "camada_escondida"
      ],
      "execution_count": 79,
      "outputs": [
        {
          "output_type": "execute_result",
          "data": {
            "text/plain": [
              "array([[1., 0., 0.]])"
            ]
          },
          "metadata": {
            "tags": []
          },
          "execution_count": 79
        }
      ]
    },
    {
      "cell_type": "code",
      "metadata": {
        "id": "Z3nbbs3GzDsu",
        "outputId": "0fff49da-0e7b-4ecc-a7e6-141378757365",
        "colab": {
          "base_uri": "https://localhost:8080/"
        }
      },
      "source": [
        "recomendacao = rbm.run_hidden(camada_escondida)\n",
        "recomendacao"
      ],
      "execution_count": 80,
      "outputs": [
        {
          "output_type": "execute_result",
          "data": {
            "text/plain": [
              "array([[1., 1., 0., 1., 0., 1.]])"
            ]
          },
          "metadata": {
            "tags": []
          },
          "execution_count": 80
        }
      ]
    },
    {
      "cell_type": "code",
      "metadata": {
        "id": "vMcAEWOLzfuO",
        "outputId": "b54ec3ff-a50a-47d3-f2c9-9e62e0533269",
        "colab": {
          "base_uri": "https://localhost:8080/",
          "height": 235
        }
      },
      "source": [
        "base_filmes.head(10)"
      ],
      "execution_count": 81,
      "outputs": [
        {
          "output_type": "execute_result",
          "data": {
            "text/html": [
              "<div>\n",
              "<style scoped>\n",
              "    .dataframe tbody tr th:only-of-type {\n",
              "        vertical-align: middle;\n",
              "    }\n",
              "\n",
              "    .dataframe tbody tr th {\n",
              "        vertical-align: top;\n",
              "    }\n",
              "\n",
              "    .dataframe thead th {\n",
              "        text-align: right;\n",
              "    }\n",
              "</style>\n",
              "<table border=\"1\" class=\"dataframe\">\n",
              "  <thead>\n",
              "    <tr style=\"text-align: right;\">\n",
              "      <th></th>\n",
              "      <th>usuario</th>\n",
              "      <th>Freddy x Jason</th>\n",
              "      <th>O Ultimato Bourne</th>\n",
              "      <th>Star Trek</th>\n",
              "      <th>Exterminador do Futuro</th>\n",
              "      <th>Norbit</th>\n",
              "      <th>Star Wars</th>\n",
              "    </tr>\n",
              "  </thead>\n",
              "  <tbody>\n",
              "    <tr>\n",
              "      <th>0</th>\n",
              "      <td>Ana</td>\n",
              "      <td>0</td>\n",
              "      <td>1</td>\n",
              "      <td>1</td>\n",
              "      <td>1</td>\n",
              "      <td>0</td>\n",
              "      <td>1</td>\n",
              "    </tr>\n",
              "    <tr>\n",
              "      <th>1</th>\n",
              "      <td>Marcos</td>\n",
              "      <td>1</td>\n",
              "      <td>1</td>\n",
              "      <td>0</td>\n",
              "      <td>1</td>\n",
              "      <td>1</td>\n",
              "      <td>1</td>\n",
              "    </tr>\n",
              "    <tr>\n",
              "      <th>2</th>\n",
              "      <td>Pedro</td>\n",
              "      <td>0</td>\n",
              "      <td>1</td>\n",
              "      <td>0</td>\n",
              "      <td>1</td>\n",
              "      <td>0</td>\n",
              "      <td>1</td>\n",
              "    </tr>\n",
              "    <tr>\n",
              "      <th>3</th>\n",
              "      <td>Claudia</td>\n",
              "      <td>0</td>\n",
              "      <td>1</td>\n",
              "      <td>1</td>\n",
              "      <td>1</td>\n",
              "      <td>0</td>\n",
              "      <td>1</td>\n",
              "    </tr>\n",
              "    <tr>\n",
              "      <th>4</th>\n",
              "      <td>Adriano</td>\n",
              "      <td>1</td>\n",
              "      <td>1</td>\n",
              "      <td>0</td>\n",
              "      <td>1</td>\n",
              "      <td>0</td>\n",
              "      <td>1</td>\n",
              "    </tr>\n",
              "    <tr>\n",
              "      <th>5</th>\n",
              "      <td>Janaina</td>\n",
              "      <td>1</td>\n",
              "      <td>1</td>\n",
              "      <td>0</td>\n",
              "      <td>1</td>\n",
              "      <td>1</td>\n",
              "      <td>1</td>\n",
              "    </tr>\n",
              "  </tbody>\n",
              "</table>\n",
              "</div>"
            ],
            "text/plain": [
              "   usuario  Freddy x Jason  ...  Norbit  Star Wars\n",
              "0      Ana               0  ...       0          1\n",
              "1   Marcos               1  ...       1          1\n",
              "2    Pedro               0  ...       0          1\n",
              "3  Claudia               0  ...       0          1\n",
              "4  Adriano               1  ...       0          1\n",
              "5  Janaina               1  ...       1          1\n",
              "\n",
              "[6 rows x 7 columns]"
            ]
          },
          "metadata": {
            "tags": []
          },
          "execution_count": 81
        }
      ]
    },
    {
      "cell_type": "code",
      "metadata": {
        "id": "BaRGmGrkzygo",
        "outputId": "2a15a9e8-cbde-4dee-de75-012cf383c83d",
        "colab": {
          "base_uri": "https://localhost:8080/"
        }
      },
      "source": [
        "base_filmes.columns"
      ],
      "execution_count": 82,
      "outputs": [
        {
          "output_type": "execute_result",
          "data": {
            "text/plain": [
              "Index(['usuario', 'Freddy x Jason', 'O Ultimato Bourne', 'Star Trek',\n",
              "       'Exterminador do Futuro', 'Norbit', 'Star Wars'],\n",
              "      dtype='object')"
            ]
          },
          "metadata": {
            "tags": []
          },
          "execution_count": 82
        }
      ]
    },
    {
      "cell_type": "code",
      "metadata": {
        "id": "gBP6qRKf0DIx"
      },
      "source": [
        "filmes = ['Freddy x Jason', 'O Ultimato Bourne', 'Star Trek',\n",
        "       'Exterminador do Futuro', 'Norbit', 'Star Wars']"
      ],
      "execution_count": 83,
      "outputs": []
    },
    {
      "cell_type": "code",
      "metadata": {
        "id": "8DVvvly20Jsl",
        "outputId": "083acef8-f322-4839-c6d3-b62da59f8ce1",
        "colab": {
          "base_uri": "https://localhost:8080/"
        }
      },
      "source": [
        "for i in range(len(usuario_leonardo[0])):\n",
        "  #print(usuario_1[0, i])\n",
        "  if usuario_leonardo[0, i] == 0 and recomendacao[0, i] == 1:\n",
        "    print(filmes[i])"
      ],
      "execution_count": 84,
      "outputs": [
        {
          "output_type": "stream",
          "text": [
            "Freddy x Jason\n",
            "Star Wars\n"
          ],
          "name": "stdout"
        }
      ]
    },
    {
      "cell_type": "code",
      "metadata": {
        "id": "Wfu9ekbZ0Oof"
      },
      "source": [
        ""
      ],
      "execution_count": 52,
      "outputs": []
    }
  ]
}