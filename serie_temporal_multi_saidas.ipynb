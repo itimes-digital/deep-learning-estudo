{
  "nbformat": 4,
  "nbformat_minor": 0,
  "metadata": {
    "colab": {
      "name": "serie_temporal_multi_saidas.ipynb",
      "provenance": [],
      "authorship_tag": "ABX9TyN9s1DQe5rU+D05U/Ef0pBW",
      "include_colab_link": true
    },
    "kernelspec": {
      "name": "python3",
      "display_name": "Python 3"
    }
  },
  "cells": [
    {
      "cell_type": "markdown",
      "metadata": {
        "id": "view-in-github",
        "colab_type": "text"
      },
      "source": [
        "<a href=\"https://colab.research.google.com/github/itimes-digital/deep-learning-estudo/blob/main/serie_temporal_multi_saidas.ipynb\" target=\"_parent\"><img src=\"https://colab.research.google.com/assets/colab-badge.svg\" alt=\"Open In Colab\"/></a>"
      ]
    },
    {
      "cell_type": "code",
      "metadata": {
        "id": "3OOjoXkmP7kT"
      },
      "source": [
        "from keras.models import Sequential\n",
        "from keras.layers import Dense, Dropout, LSTM\n",
        "from sklearn.preprocessing import MinMaxScaler\n",
        "import pandas as pd\n",
        "import numpy as np\n",
        "import matplotlib.pyplot as plt"
      ],
      "execution_count": 1,
      "outputs": []
    },
    {
      "cell_type": "code",
      "metadata": {
        "id": "7H_l5GIvRSjw",
        "outputId": "548edf32-c793-4888-a89e-1cc24f713d20",
        "colab": {
          "base_uri": "https://localhost:8080/",
          "height": 204
        }
      },
      "source": [
        "base = pd.read_csv('https://raw.githubusercontent.com/itimes-digital/deep-learning-estudo/main/dataset/petr4_treinamento.csv')\n",
        "base.head()"
      ],
      "execution_count": 2,
      "outputs": [
        {
          "output_type": "execute_result",
          "data": {
            "text/html": [
              "<div>\n",
              "<style scoped>\n",
              "    .dataframe tbody tr th:only-of-type {\n",
              "        vertical-align: middle;\n",
              "    }\n",
              "\n",
              "    .dataframe tbody tr th {\n",
              "        vertical-align: top;\n",
              "    }\n",
              "\n",
              "    .dataframe thead th {\n",
              "        text-align: right;\n",
              "    }\n",
              "</style>\n",
              "<table border=\"1\" class=\"dataframe\">\n",
              "  <thead>\n",
              "    <tr style=\"text-align: right;\">\n",
              "      <th></th>\n",
              "      <th>Date</th>\n",
              "      <th>Open</th>\n",
              "      <th>High</th>\n",
              "      <th>Low</th>\n",
              "      <th>Close</th>\n",
              "      <th>Adj Close</th>\n",
              "      <th>Volume</th>\n",
              "    </tr>\n",
              "  </thead>\n",
              "  <tbody>\n",
              "    <tr>\n",
              "      <th>0</th>\n",
              "      <td>2013-01-02</td>\n",
              "      <td>19.990000</td>\n",
              "      <td>20.209999</td>\n",
              "      <td>19.690001</td>\n",
              "      <td>19.690001</td>\n",
              "      <td>18.086271</td>\n",
              "      <td>30182600.0</td>\n",
              "    </tr>\n",
              "    <tr>\n",
              "      <th>1</th>\n",
              "      <td>2013-01-03</td>\n",
              "      <td>19.809999</td>\n",
              "      <td>20.400000</td>\n",
              "      <td>19.700001</td>\n",
              "      <td>20.400000</td>\n",
              "      <td>18.738441</td>\n",
              "      <td>30552600.0</td>\n",
              "    </tr>\n",
              "    <tr>\n",
              "      <th>2</th>\n",
              "      <td>2013-01-04</td>\n",
              "      <td>20.330000</td>\n",
              "      <td>20.620001</td>\n",
              "      <td>20.170000</td>\n",
              "      <td>20.430000</td>\n",
              "      <td>18.766001</td>\n",
              "      <td>36141000.0</td>\n",
              "    </tr>\n",
              "    <tr>\n",
              "      <th>3</th>\n",
              "      <td>2013-01-07</td>\n",
              "      <td>20.480000</td>\n",
              "      <td>20.670000</td>\n",
              "      <td>19.950001</td>\n",
              "      <td>20.080000</td>\n",
              "      <td>18.444506</td>\n",
              "      <td>28069600.0</td>\n",
              "    </tr>\n",
              "    <tr>\n",
              "      <th>4</th>\n",
              "      <td>2013-01-08</td>\n",
              "      <td>20.110001</td>\n",
              "      <td>20.230000</td>\n",
              "      <td>19.459999</td>\n",
              "      <td>19.500000</td>\n",
              "      <td>17.911745</td>\n",
              "      <td>29091300.0</td>\n",
              "    </tr>\n",
              "  </tbody>\n",
              "</table>\n",
              "</div>"
            ],
            "text/plain": [
              "         Date       Open       High  ...      Close  Adj Close      Volume\n",
              "0  2013-01-02  19.990000  20.209999  ...  19.690001  18.086271  30182600.0\n",
              "1  2013-01-03  19.809999  20.400000  ...  20.400000  18.738441  30552600.0\n",
              "2  2013-01-04  20.330000  20.620001  ...  20.430000  18.766001  36141000.0\n",
              "3  2013-01-07  20.480000  20.670000  ...  20.080000  18.444506  28069600.0\n",
              "4  2013-01-08  20.110001  20.230000  ...  19.500000  17.911745  29091300.0\n",
              "\n",
              "[5 rows x 7 columns]"
            ]
          },
          "metadata": {
            "tags": []
          },
          "execution_count": 2
        }
      ]
    },
    {
      "cell_type": "code",
      "metadata": {
        "id": "0MdYtKjMXDSv"
      },
      "source": [
        "base = base.dropna()"
      ],
      "execution_count": 4,
      "outputs": []
    },
    {
      "cell_type": "code",
      "metadata": {
        "id": "5z1qpuofXGEc",
        "outputId": "636c7edb-a54e-4ecd-9497-b419da7077b3",
        "colab": {
          "base_uri": "https://localhost:8080/"
        }
      },
      "source": [
        "base_treinamento = base.iloc[:, 1:2].values\n",
        "base_treinamento"
      ],
      "execution_count": 7,
      "outputs": [
        {
          "output_type": "execute_result",
          "data": {
            "text/plain": [
              "array([[19.99    ],\n",
              "       [19.809999],\n",
              "       [20.33    ],\n",
              "       ...,\n",
              "       [15.99    ],\n",
              "       [16.1     ],\n",
              "       [16.1     ]])"
            ]
          },
          "metadata": {
            "tags": []
          },
          "execution_count": 7
        }
      ]
    },
    {
      "cell_type": "code",
      "metadata": {
        "id": "bkMF8Pt4XNEd",
        "outputId": "ec7bc88b-743b-482d-ba4b-4439c705d5b6",
        "colab": {
          "base_uri": "https://localhost:8080/"
        }
      },
      "source": [
        "base_valor_maximo = base.iloc[:, 2:3].values\n",
        "base_valor_maximo"
      ],
      "execution_count": 8,
      "outputs": [
        {
          "output_type": "execute_result",
          "data": {
            "text/plain": [
              "array([[20.209999],\n",
              "       [20.4     ],\n",
              "       [20.620001],\n",
              "       ...,\n",
              "       [16.139999],\n",
              "       [16.129999],\n",
              "       [16.1     ]])"
            ]
          },
          "metadata": {
            "tags": []
          },
          "execution_count": 8
        }
      ]
    },
    {
      "cell_type": "code",
      "metadata": {
        "id": "d3huiSfYXW7d"
      },
      "source": [
        "normalizador = MinMaxScaler(feature_range=(0,1))\n",
        "base_treinamento_normalizada = normalizador.fit_transform(base_treinamento)\n",
        "base_valor_maximo_normalizada = normalizador.fit_transform(base_valor_maximo)"
      ],
      "execution_count": 11,
      "outputs": []
    },
    {
      "cell_type": "code",
      "metadata": {
        "id": "qRMc7HEyXrF3"
      },
      "source": [
        "previsores = []\n",
        "preco_real_1 = []\n",
        "preco_real_2 = []\n",
        "\n",
        "for i in range(90, 1242):\n",
        "  previsores.append(base_treinamento_normalizada[i - 90: i, 0]);\n",
        "  preco_real_1.append(base_treinamento_normalizada[i, 0]);\n",
        "  preco_real_2.append(base_valor_maximo_normalizada[i, 0]);\n",
        "\n",
        "previsores, preco_real_1, preco_real_2 = np.array(previsores), np.array(preco_real_1), np.array(preco_real_2);"
      ],
      "execution_count": 13,
      "outputs": []
    },
    {
      "cell_type": "code",
      "metadata": {
        "id": "jkFuJ5Wrbypc",
        "outputId": "77060111-7047-42b8-905d-6103096ef08d",
        "colab": {
          "base_uri": "https://localhost:8080/"
        }
      },
      "source": [
        "previsores.shape, preco_real_1.shape, preco_real_2.shape"
      ],
      "execution_count": 14,
      "outputs": [
        {
          "output_type": "execute_result",
          "data": {
            "text/plain": [
              "((1152, 90), (1152,), (1152,))"
            ]
          },
          "metadata": {
            "tags": []
          },
          "execution_count": 14
        }
      ]
    },
    {
      "cell_type": "code",
      "metadata": {
        "id": "r7qc-7R3a6n6"
      },
      "source": [
        "previsores = np.reshape(previsores, (previsores.shape[0], previsores.shape[1], 1));"
      ],
      "execution_count": 15,
      "outputs": []
    },
    {
      "cell_type": "code",
      "metadata": {
        "id": "OGV46Pkmb8Do",
        "outputId": "1e2e9e97-6933-4ce6-c819-634b2f5ee3f2",
        "colab": {
          "base_uri": "https://localhost:8080/"
        }
      },
      "source": [
        "previsores.shape"
      ],
      "execution_count": 16,
      "outputs": [
        {
          "output_type": "execute_result",
          "data": {
            "text/plain": [
              "(1152, 90, 1)"
            ]
          },
          "metadata": {
            "tags": []
          },
          "execution_count": 16
        }
      ]
    },
    {
      "cell_type": "code",
      "metadata": {
        "id": "4H1dtf0Wb8wf",
        "outputId": "559ca0dd-f3c2-4609-d562-fe81fa8c949b",
        "colab": {
          "base_uri": "https://localhost:8080/"
        }
      },
      "source": [
        "preco_real = np.column_stack((preco_real_1, preco_real_2))\n",
        "preco_real.shape"
      ],
      "execution_count": 17,
      "outputs": [
        {
          "output_type": "execute_result",
          "data": {
            "text/plain": [
              "(1152, 2)"
            ]
          },
          "metadata": {
            "tags": []
          },
          "execution_count": 17
        }
      ]
    },
    {
      "cell_type": "code",
      "metadata": {
        "id": "T2JkbSIccIjs",
        "outputId": "001f4e2f-38b6-40a7-ba4b-c347884b38ee",
        "colab": {
          "base_uri": "https://localhost:8080/"
        }
      },
      "source": [
        "model = Sequential();\n",
        "\n",
        "model.add(LSTM(units = 100, return_sequences = True, input_shape = (previsores.shape[1], 1)));\n",
        "model.add(Dropout(0.3));\n",
        "\n",
        "model.add(LSTM(units = 100, return_sequences = True));\n",
        "model.add(Dropout(0.3));\n",
        "\n",
        "model.add(LSTM(units = 50, return_sequences = True));\n",
        "model.add(Dropout(0.3));\n",
        "\n",
        "model.add(LSTM(units = 50));\n",
        "model.add(Dropout(0.3));\n",
        "\n",
        "model.add(Dense(units = 2, activation = 'linear'));\n",
        "\n",
        "model.compile(optimizer = 'rmsprop', \n",
        "              loss = 'mean_squared_error', \n",
        "              metrics = ['mean_absolute_error']);\n",
        "\n",
        "model.summary();"
      ],
      "execution_count": 21,
      "outputs": [
        {
          "output_type": "stream",
          "text": [
            "Model: \"sequential_2\"\n",
            "_________________________________________________________________\n",
            "Layer (type)                 Output Shape              Param #   \n",
            "=================================================================\n",
            "lstm_8 (LSTM)                (None, 90, 100)           40800     \n",
            "_________________________________________________________________\n",
            "dropout_8 (Dropout)          (None, 90, 100)           0         \n",
            "_________________________________________________________________\n",
            "lstm_9 (LSTM)                (None, 90, 100)           80400     \n",
            "_________________________________________________________________\n",
            "dropout_9 (Dropout)          (None, 90, 100)           0         \n",
            "_________________________________________________________________\n",
            "lstm_10 (LSTM)               (None, 90, 50)            30200     \n",
            "_________________________________________________________________\n",
            "dropout_10 (Dropout)         (None, 90, 50)            0         \n",
            "_________________________________________________________________\n",
            "lstm_11 (LSTM)               (None, 50)                20200     \n",
            "_________________________________________________________________\n",
            "dropout_11 (Dropout)         (None, 50)                0         \n",
            "_________________________________________________________________\n",
            "dense_2 (Dense)              (None, 2)                 102       \n",
            "=================================================================\n",
            "Total params: 171,702\n",
            "Trainable params: 171,702\n",
            "Non-trainable params: 0\n",
            "_________________________________________________________________\n"
          ],
          "name": "stdout"
        }
      ]
    },
    {
      "cell_type": "code",
      "metadata": {
        "id": "CT8BRP5Kdfo8"
      },
      "source": [
        "model.fit(previsores, preco_real, epochs = 100, batch_size = 32)"
      ],
      "execution_count": null,
      "outputs": []
    }
  ]
}