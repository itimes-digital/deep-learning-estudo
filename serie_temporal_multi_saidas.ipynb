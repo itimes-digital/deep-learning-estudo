{
  "nbformat": 4,
  "nbformat_minor": 0,
  "metadata": {
    "colab": {
      "name": "serie_temporal_multi_saidas.ipynb",
      "provenance": [],
      "authorship_tag": "ABX9TyOIY9lX0XjIi1LkITeL/iwS",
      "include_colab_link": true
    },
    "kernelspec": {
      "name": "python3",
      "display_name": "Python 3"
    }
  },
  "cells": [
    {
      "cell_type": "markdown",
      "metadata": {
        "id": "view-in-github",
        "colab_type": "text"
      },
      "source": [
        "<a href=\"https://colab.research.google.com/github/itimes-digital/deep-learning-estudo/blob/main/serie_temporal_multi_saidas.ipynb\" target=\"_parent\"><img src=\"https://colab.research.google.com/assets/colab-badge.svg\" alt=\"Open In Colab\"/></a>"
      ]
    },
    {
      "cell_type": "code",
      "metadata": {
        "id": "3OOjoXkmP7kT"
      },
      "source": [
        "from keras.models import Sequential\n",
        "from keras.layers import Dense, Dropout, LSTM\n",
        "from sklearn.preprocessing import MinMaxScaler\n",
        "import pandas as pd\n",
        "import numpy as np\n",
        "import matplotlib.pyplot as plt"
      ],
      "execution_count": 1,
      "outputs": []
    },
    {
      "cell_type": "code",
      "metadata": {
        "colab": {
          "base_uri": "https://localhost:8080/",
          "height": 204
        },
        "id": "7H_l5GIvRSjw",
        "outputId": "548edf32-c793-4888-a89e-1cc24f713d20"
      },
      "source": [
        "base = pd.read_csv('https://raw.githubusercontent.com/itimes-digital/deep-learning-estudo/main/dataset/petr4_treinamento.csv')\n",
        "base.head()"
      ],
      "execution_count": 2,
      "outputs": [
        {
          "output_type": "execute_result",
          "data": {
            "text/html": [
              "<div>\n",
              "<style scoped>\n",
              "    .dataframe tbody tr th:only-of-type {\n",
              "        vertical-align: middle;\n",
              "    }\n",
              "\n",
              "    .dataframe tbody tr th {\n",
              "        vertical-align: top;\n",
              "    }\n",
              "\n",
              "    .dataframe thead th {\n",
              "        text-align: right;\n",
              "    }\n",
              "</style>\n",
              "<table border=\"1\" class=\"dataframe\">\n",
              "  <thead>\n",
              "    <tr style=\"text-align: right;\">\n",
              "      <th></th>\n",
              "      <th>Date</th>\n",
              "      <th>Open</th>\n",
              "      <th>High</th>\n",
              "      <th>Low</th>\n",
              "      <th>Close</th>\n",
              "      <th>Adj Close</th>\n",
              "      <th>Volume</th>\n",
              "    </tr>\n",
              "  </thead>\n",
              "  <tbody>\n",
              "    <tr>\n",
              "      <th>0</th>\n",
              "      <td>2013-01-02</td>\n",
              "      <td>19.990000</td>\n",
              "      <td>20.209999</td>\n",
              "      <td>19.690001</td>\n",
              "      <td>19.690001</td>\n",
              "      <td>18.086271</td>\n",
              "      <td>30182600.0</td>\n",
              "    </tr>\n",
              "    <tr>\n",
              "      <th>1</th>\n",
              "      <td>2013-01-03</td>\n",
              "      <td>19.809999</td>\n",
              "      <td>20.400000</td>\n",
              "      <td>19.700001</td>\n",
              "      <td>20.400000</td>\n",
              "      <td>18.738441</td>\n",
              "      <td>30552600.0</td>\n",
              "    </tr>\n",
              "    <tr>\n",
              "      <th>2</th>\n",
              "      <td>2013-01-04</td>\n",
              "      <td>20.330000</td>\n",
              "      <td>20.620001</td>\n",
              "      <td>20.170000</td>\n",
              "      <td>20.430000</td>\n",
              "      <td>18.766001</td>\n",
              "      <td>36141000.0</td>\n",
              "    </tr>\n",
              "    <tr>\n",
              "      <th>3</th>\n",
              "      <td>2013-01-07</td>\n",
              "      <td>20.480000</td>\n",
              "      <td>20.670000</td>\n",
              "      <td>19.950001</td>\n",
              "      <td>20.080000</td>\n",
              "      <td>18.444506</td>\n",
              "      <td>28069600.0</td>\n",
              "    </tr>\n",
              "    <tr>\n",
              "      <th>4</th>\n",
              "      <td>2013-01-08</td>\n",
              "      <td>20.110001</td>\n",
              "      <td>20.230000</td>\n",
              "      <td>19.459999</td>\n",
              "      <td>19.500000</td>\n",
              "      <td>17.911745</td>\n",
              "      <td>29091300.0</td>\n",
              "    </tr>\n",
              "  </tbody>\n",
              "</table>\n",
              "</div>"
            ],
            "text/plain": [
              "         Date       Open       High  ...      Close  Adj Close      Volume\n",
              "0  2013-01-02  19.990000  20.209999  ...  19.690001  18.086271  30182600.0\n",
              "1  2013-01-03  19.809999  20.400000  ...  20.400000  18.738441  30552600.0\n",
              "2  2013-01-04  20.330000  20.620001  ...  20.430000  18.766001  36141000.0\n",
              "3  2013-01-07  20.480000  20.670000  ...  20.080000  18.444506  28069600.0\n",
              "4  2013-01-08  20.110001  20.230000  ...  19.500000  17.911745  29091300.0\n",
              "\n",
              "[5 rows x 7 columns]"
            ]
          },
          "metadata": {
            "tags": []
          },
          "execution_count": 2
        }
      ]
    },
    {
      "cell_type": "code",
      "metadata": {
        "id": "0MdYtKjMXDSv"
      },
      "source": [
        "base = base.dropna()"
      ],
      "execution_count": 4,
      "outputs": []
    },
    {
      "cell_type": "code",
      "metadata": {
        "colab": {
          "base_uri": "https://localhost:8080/"
        },
        "id": "5z1qpuofXGEc",
        "outputId": "636c7edb-a54e-4ecd-9497-b419da7077b3"
      },
      "source": [
        "base_treinamento = base.iloc[:, 1:2].values\n",
        "base_treinamento"
      ],
      "execution_count": 7,
      "outputs": [
        {
          "output_type": "execute_result",
          "data": {
            "text/plain": [
              "array([[19.99    ],\n",
              "       [19.809999],\n",
              "       [20.33    ],\n",
              "       ...,\n",
              "       [15.99    ],\n",
              "       [16.1     ],\n",
              "       [16.1     ]])"
            ]
          },
          "metadata": {
            "tags": []
          },
          "execution_count": 7
        }
      ]
    },
    {
      "cell_type": "code",
      "metadata": {
        "colab": {
          "base_uri": "https://localhost:8080/"
        },
        "id": "bkMF8Pt4XNEd",
        "outputId": "ec7bc88b-743b-482d-ba4b-4439c705d5b6"
      },
      "source": [
        "base_valor_maximo = base.iloc[:, 2:3].values\n",
        "base_valor_maximo"
      ],
      "execution_count": 8,
      "outputs": [
        {
          "output_type": "execute_result",
          "data": {
            "text/plain": [
              "array([[20.209999],\n",
              "       [20.4     ],\n",
              "       [20.620001],\n",
              "       ...,\n",
              "       [16.139999],\n",
              "       [16.129999],\n",
              "       [16.1     ]])"
            ]
          },
          "metadata": {
            "tags": []
          },
          "execution_count": 8
        }
      ]
    },
    {
      "cell_type": "code",
      "metadata": {
        "id": "d3huiSfYXW7d"
      },
      "source": [
        "normalizador = MinMaxScaler(feature_range=(0,1))\n",
        "base_treinamento_normalizada = normalizador.fit_transform(base_treinamento)\n",
        "base_valor_maximo_normalizada = normalizador.fit_transform(base_valor_maximo)"
      ],
      "execution_count": 11,
      "outputs": []
    },
    {
      "cell_type": "code",
      "metadata": {
        "id": "qRMc7HEyXrF3"
      },
      "source": [
        "previsores = []\n",
        "preco_real_1 = []\n",
        "preco_real_2 = []\n",
        "\n",
        "for i in range(90, 1242):\n",
        "  previsores.append(base_treinamento_normalizada[i - 90: i, 0]);\n",
        "  preco_real_1.append(base_treinamento_normalizada[i, 0]);\n",
        "  preco_real_2.append(base_valor_maximo_normalizada[i, 0]);\n",
        "\n",
        "previsores, preco_real_1, preco_real_2 = np.array(previsores), np.array(preco_real_1), np.array(preco_real_2);"
      ],
      "execution_count": 13,
      "outputs": []
    },
    {
      "cell_type": "code",
      "metadata": {
        "colab": {
          "base_uri": "https://localhost:8080/"
        },
        "id": "jkFuJ5Wrbypc",
        "outputId": "77060111-7047-42b8-905d-6103096ef08d"
      },
      "source": [
        "previsores.shape, preco_real_1.shape, preco_real_2.shape"
      ],
      "execution_count": 14,
      "outputs": [
        {
          "output_type": "execute_result",
          "data": {
            "text/plain": [
              "((1152, 90), (1152,), (1152,))"
            ]
          },
          "metadata": {
            "tags": []
          },
          "execution_count": 14
        }
      ]
    },
    {
      "cell_type": "code",
      "metadata": {
        "id": "r7qc-7R3a6n6"
      },
      "source": [
        "previsores = np.reshape(previsores, (previsores.shape[0], previsores.shape[1], 1));"
      ],
      "execution_count": 15,
      "outputs": []
    },
    {
      "cell_type": "code",
      "metadata": {
        "colab": {
          "base_uri": "https://localhost:8080/"
        },
        "id": "OGV46Pkmb8Do",
        "outputId": "1e2e9e97-6933-4ce6-c819-634b2f5ee3f2"
      },
      "source": [
        "previsores.shape"
      ],
      "execution_count": 16,
      "outputs": [
        {
          "output_type": "execute_result",
          "data": {
            "text/plain": [
              "(1152, 90, 1)"
            ]
          },
          "metadata": {
            "tags": []
          },
          "execution_count": 16
        }
      ]
    },
    {
      "cell_type": "code",
      "metadata": {
        "colab": {
          "base_uri": "https://localhost:8080/"
        },
        "id": "4H1dtf0Wb8wf",
        "outputId": "559ca0dd-f3c2-4609-d562-fe81fa8c949b"
      },
      "source": [
        "preco_real = np.column_stack((preco_real_1, preco_real_2))\n",
        "preco_real.shape"
      ],
      "execution_count": 17,
      "outputs": [
        {
          "output_type": "execute_result",
          "data": {
            "text/plain": [
              "(1152, 2)"
            ]
          },
          "metadata": {
            "tags": []
          },
          "execution_count": 17
        }
      ]
    },
    {
      "cell_type": "code",
      "metadata": {
        "colab": {
          "base_uri": "https://localhost:8080/"
        },
        "id": "T2JkbSIccIjs",
        "outputId": "001f4e2f-38b6-40a7-ba4b-c347884b38ee"
      },
      "source": [
        "model = Sequential();\n",
        "\n",
        "model.add(LSTM(units = 100, return_sequences = True, input_shape = (previsores.shape[1], 1)));\n",
        "model.add(Dropout(0.3));\n",
        "\n",
        "model.add(LSTM(units = 100, return_sequences = True));\n",
        "model.add(Dropout(0.3));\n",
        "\n",
        "model.add(LSTM(units = 50, return_sequences = True));\n",
        "model.add(Dropout(0.3));\n",
        "\n",
        "model.add(LSTM(units = 50));\n",
        "model.add(Dropout(0.3));\n",
        "\n",
        "model.add(Dense(units = 2, activation = 'linear'));\n",
        "\n",
        "model.compile(optimizer = 'rmsprop', \n",
        "              loss = 'mean_squared_error', \n",
        "              metrics = ['mean_absolute_error']);\n",
        "\n",
        "model.summary();"
      ],
      "execution_count": 21,
      "outputs": [
        {
          "output_type": "stream",
          "text": [
            "Model: \"sequential_2\"\n",
            "_________________________________________________________________\n",
            "Layer (type)                 Output Shape              Param #   \n",
            "=================================================================\n",
            "lstm_8 (LSTM)                (None, 90, 100)           40800     \n",
            "_________________________________________________________________\n",
            "dropout_8 (Dropout)          (None, 90, 100)           0         \n",
            "_________________________________________________________________\n",
            "lstm_9 (LSTM)                (None, 90, 100)           80400     \n",
            "_________________________________________________________________\n",
            "dropout_9 (Dropout)          (None, 90, 100)           0         \n",
            "_________________________________________________________________\n",
            "lstm_10 (LSTM)               (None, 90, 50)            30200     \n",
            "_________________________________________________________________\n",
            "dropout_10 (Dropout)         (None, 90, 50)            0         \n",
            "_________________________________________________________________\n",
            "lstm_11 (LSTM)               (None, 50)                20200     \n",
            "_________________________________________________________________\n",
            "dropout_11 (Dropout)         (None, 50)                0         \n",
            "_________________________________________________________________\n",
            "dense_2 (Dense)              (None, 2)                 102       \n",
            "=================================================================\n",
            "Total params: 171,702\n",
            "Trainable params: 171,702\n",
            "Non-trainable params: 0\n",
            "_________________________________________________________________\n"
          ],
          "name": "stdout"
        }
      ]
    },
    {
      "cell_type": "code",
      "metadata": {
        "id": "CT8BRP5Kdfo8"
      },
      "source": [
        "model.fit(previsores, preco_real, epochs = 100, batch_size = 32)"
      ],
      "execution_count": null,
      "outputs": []
    },
    {
      "cell_type": "code",
      "metadata": {
        "id": "9x9HqFNpd31w",
        "outputId": "89609d62-666d-40dd-94f2-b3da2a148360",
        "colab": {
          "base_uri": "https://localhost:8080/"
        }
      },
      "source": [
        "np.mean(model.history.history['loss'])"
      ],
      "execution_count": 24,
      "outputs": [
        {
          "output_type": "execute_result",
          "data": {
            "text/plain": [
              "0.0037227313418406994"
            ]
          },
          "metadata": {
            "tags": []
          },
          "execution_count": 24
        }
      ]
    },
    {
      "cell_type": "code",
      "metadata": {
        "id": "bkFT-3IAh-Ob",
        "outputId": "b1936e41-5b82-4f00-fccf-28df8569f007",
        "colab": {
          "base_uri": "https://localhost:8080/"
        }
      },
      "source": [
        "np.mean(model.history.history['mean_absolute_error'])"
      ],
      "execution_count": 25,
      "outputs": [
        {
          "output_type": "execute_result",
          "data": {
            "text/plain": [
              "0.04231813823804259"
            ]
          },
          "metadata": {
            "tags": []
          },
          "execution_count": 25
        }
      ]
    },
    {
      "cell_type": "code",
      "metadata": {
        "id": "seHTWWShiIKl",
        "outputId": "55a6ab5d-ca14-419a-9c66-1558ab35ffce",
        "colab": {
          "base_uri": "https://localhost:8080/",
          "height": 204
        }
      },
      "source": [
        "base_teste = pd.read_csv('https://raw.githubusercontent.com/itimes-digital/deep-learning-estudo/main/dataset/petr4_teste.csv')\n",
        "base_teste.head()"
      ],
      "execution_count": 26,
      "outputs": [
        {
          "output_type": "execute_result",
          "data": {
            "text/html": [
              "<div>\n",
              "<style scoped>\n",
              "    .dataframe tbody tr th:only-of-type {\n",
              "        vertical-align: middle;\n",
              "    }\n",
              "\n",
              "    .dataframe tbody tr th {\n",
              "        vertical-align: top;\n",
              "    }\n",
              "\n",
              "    .dataframe thead th {\n",
              "        text-align: right;\n",
              "    }\n",
              "</style>\n",
              "<table border=\"1\" class=\"dataframe\">\n",
              "  <thead>\n",
              "    <tr style=\"text-align: right;\">\n",
              "      <th></th>\n",
              "      <th>Date</th>\n",
              "      <th>Open</th>\n",
              "      <th>High</th>\n",
              "      <th>Low</th>\n",
              "      <th>Close</th>\n",
              "      <th>Adj Close</th>\n",
              "      <th>Volume</th>\n",
              "    </tr>\n",
              "  </thead>\n",
              "  <tbody>\n",
              "    <tr>\n",
              "      <th>0</th>\n",
              "      <td>2018-01-02</td>\n",
              "      <td>16.190001</td>\n",
              "      <td>16.549999</td>\n",
              "      <td>16.190001</td>\n",
              "      <td>16.549999</td>\n",
              "      <td>16.516966</td>\n",
              "      <td>33461800</td>\n",
              "    </tr>\n",
              "    <tr>\n",
              "      <th>1</th>\n",
              "      <td>2018-01-03</td>\n",
              "      <td>16.490000</td>\n",
              "      <td>16.719999</td>\n",
              "      <td>16.370001</td>\n",
              "      <td>16.700001</td>\n",
              "      <td>16.666668</td>\n",
              "      <td>55940900</td>\n",
              "    </tr>\n",
              "    <tr>\n",
              "      <th>2</th>\n",
              "      <td>2018-01-04</td>\n",
              "      <td>16.780001</td>\n",
              "      <td>16.959999</td>\n",
              "      <td>16.620001</td>\n",
              "      <td>16.730000</td>\n",
              "      <td>16.696608</td>\n",
              "      <td>37064900</td>\n",
              "    </tr>\n",
              "    <tr>\n",
              "      <th>3</th>\n",
              "      <td>2018-01-05</td>\n",
              "      <td>16.700001</td>\n",
              "      <td>16.860001</td>\n",
              "      <td>16.570000</td>\n",
              "      <td>16.830000</td>\n",
              "      <td>16.796408</td>\n",
              "      <td>26958200</td>\n",
              "    </tr>\n",
              "    <tr>\n",
              "      <th>4</th>\n",
              "      <td>2018-01-08</td>\n",
              "      <td>16.740000</td>\n",
              "      <td>17.030001</td>\n",
              "      <td>16.709999</td>\n",
              "      <td>17.030001</td>\n",
              "      <td>16.996010</td>\n",
              "      <td>28400000</td>\n",
              "    </tr>\n",
              "  </tbody>\n",
              "</table>\n",
              "</div>"
            ],
            "text/plain": [
              "         Date       Open       High        Low      Close  Adj Close    Volume\n",
              "0  2018-01-02  16.190001  16.549999  16.190001  16.549999  16.516966  33461800\n",
              "1  2018-01-03  16.490000  16.719999  16.370001  16.700001  16.666668  55940900\n",
              "2  2018-01-04  16.780001  16.959999  16.620001  16.730000  16.696608  37064900\n",
              "3  2018-01-05  16.700001  16.860001  16.570000  16.830000  16.796408  26958200\n",
              "4  2018-01-08  16.740000  17.030001  16.709999  17.030001  16.996010  28400000"
            ]
          },
          "metadata": {
            "tags": []
          },
          "execution_count": 26
        }
      ]
    },
    {
      "cell_type": "code",
      "metadata": {
        "id": "8C5mUrYqvHba"
      },
      "source": [
        "preco_real_open = base_teste.iloc[:, 1:2].values\n",
        "preco_real_high = base_teste.iloc[:, 2:3].values"
      ],
      "execution_count": 44,
      "outputs": []
    },
    {
      "cell_type": "code",
      "metadata": {
        "id": "lkQdDD0xyp3G",
        "outputId": "f7d3f1cd-62c7-4997-e36b-0f494d30270a",
        "colab": {
          "base_uri": "https://localhost:8080/"
        }
      },
      "source": [
        "len(base_completa), len(base_teste)"
      ],
      "execution_count": 48,
      "outputs": [
        {
          "output_type": "execute_result",
          "data": {
            "text/plain": [
              "(1264, 22)"
            ]
          },
          "metadata": {
            "tags": []
          },
          "execution_count": 48
        }
      ]
    },
    {
      "cell_type": "code",
      "metadata": {
        "id": "qV25d_mnviDE",
        "outputId": "cc665dfb-b6a6-4192-fc50-6ad532c2248d",
        "colab": {
          "base_uri": "https://localhost:8080/"
        }
      },
      "source": [
        "base_completa = pd.concat((base['Open'], base_teste['Open']), axis = 0);\n",
        "entradas = base_completa[len(base_completa) - len(base_teste) - 90:].values;\n",
        "entradas"
      ],
      "execution_count": 46,
      "outputs": [
        {
          "output_type": "execute_result",
          "data": {
            "text/plain": [
              "array([13.93    , 13.76    , 13.79    , 13.53    , 13.85    , 13.96    ,\n",
              "       14.57    , 14.65    , 15.02    , 15.1     , 14.88    , 14.98    ,\n",
              "       14.94    , 15.03    , 15.07    , 15.02    , 15.1     , 15.25    ,\n",
              "       15.85    , 15.6     , 15.79    , 15.86    , 15.7     , 15.37    ,\n",
              "       15.5     , 15.19    , 15.6     , 15.9     , 15.88    , 15.66    ,\n",
              "       15.61    , 16.129999, 16.17    , 16.08    , 16.23    , 16.16    ,\n",
              "       16.139999, 16.219999, 16.      , 16.190001, 16.290001, 16.290001,\n",
              "       16.530001, 16.780001, 16.77    , 16.969999, 16.9     , 16.99    ,\n",
              "       16.9     , 16.959999, 17.049999, 17.309999, 16.690001, 16.889999,\n",
              "       16.709999, 16.690001, 16.639999, 15.35    , 15.62    , 15.92    ,\n",
              "       16.02    , 16.15    , 16.09    , 15.98    , 16.25    , 16.01    ,\n",
              "       15.93    , 15.87    , 15.3     , 15.34    , 15.65    , 15.5     ,\n",
              "       15.22    , 15.3     , 15.51    , 15.48    , 15.36    , 15.65    ,\n",
              "       15.1     , 15.05    , 15.16    , 15.18    , 15.21    , 15.31    ,\n",
              "       15.75    , 15.75    , 15.75    , 15.99    , 16.1     , 16.1     ,\n",
              "       16.190001, 16.49    , 16.780001, 16.700001, 16.74    , 17.030001,\n",
              "       16.92    , 16.879999, 17.040001, 17.32    , 17.35    , 17.92    ,\n",
              "       18.35    , 18.309999, 18.26    , 18.4     , 18.42    , 19.34    ,\n",
              "       19.620001, 19.67    , 19.77    , 19.74    ])"
            ]
          },
          "metadata": {
            "tags": []
          },
          "execution_count": 46
        }
      ]
    },
    {
      "cell_type": "code",
      "metadata": {
        "id": "VSUYVe60ygED"
      },
      "source": [
        "entradas = entradas.reshape(-1,1);\n",
        "entradas = normalizador.transform(entradas);"
      ],
      "execution_count": 49,
      "outputs": []
    },
    {
      "cell_type": "code",
      "metadata": {
        "id": "axlDESwswkr5",
        "outputId": "488c43cc-672c-4092-8871-81a439f49513",
        "colab": {
          "base_uri": "https://localhost:8080/"
        }
      },
      "source": [
        "entradas.shape"
      ],
      "execution_count": 50,
      "outputs": [
        {
          "output_type": "execute_result",
          "data": {
            "text/plain": [
              "(112, 1)"
            ]
          },
          "metadata": {
            "tags": []
          },
          "execution_count": 50
        }
      ]
    },
    {
      "cell_type": "code",
      "metadata": {
        "id": "lX4hW2oiwBuB"
      },
      "source": [
        "x_teste = [];\n",
        "\n",
        "for i in range(90, 112):\n",
        "  x_teste.append(entradas[i - 90: i , 0]);\n",
        "\n",
        "x_teste = np.array(x_teste);\n",
        "x_teste = np.reshape(x_teste, (x_teste.shape[0], x_teste.shape[1], 1));"
      ],
      "execution_count": 51,
      "outputs": []
    },
    {
      "cell_type": "code",
      "metadata": {
        "id": "URoJsTfAwYrT",
        "outputId": "767ebf08-ea69-4017-d75e-9097d3fff542",
        "colab": {
          "base_uri": "https://localhost:8080/"
        }
      },
      "source": [
        "x_teste.shape"
      ],
      "execution_count": 52,
      "outputs": [
        {
          "output_type": "execute_result",
          "data": {
            "text/plain": [
              "(22, 90, 1)"
            ]
          },
          "metadata": {
            "tags": []
          },
          "execution_count": 52
        }
      ]
    },
    {
      "cell_type": "code",
      "metadata": {
        "id": "EG3xk3Xcwp6l",
        "outputId": "aa2d7e24-9fdc-40d4-81e1-13eb1a4c5904",
        "colab": {
          "base_uri": "https://localhost:8080/"
        }
      },
      "source": [
        "previsoes = model.predict(x_teste);\n",
        "previsoes"
      ],
      "execution_count": 53,
      "outputs": [
        {
          "output_type": "execute_result",
          "data": {
            "text/plain": [
              "array([[0.5629824 , 0.5720097 ],\n",
              "       [0.5660409 , 0.5750915 ],\n",
              "       [0.5769397 , 0.5862287 ],\n",
              "       [0.59025943, 0.59982073],\n",
              "       [0.59110785, 0.60058117],\n",
              "       [0.5914447 , 0.6008519 ],\n",
              "       [0.60119784, 0.61082107],\n",
              "       [0.60113466, 0.6106936 ],\n",
              "       [0.5991454 , 0.6086103 ],\n",
              "       [0.6036832 , 0.613256  ],\n",
              "       [0.6149752 , 0.62482727],\n",
              "       [0.61921453, 0.6291206 ],\n",
              "       [0.63884103, 0.6492169 ],\n",
              "       [0.6588844 , 0.66969854],\n",
              "       [0.66160345, 0.6723504 ],\n",
              "       [0.65890133, 0.66947335],\n",
              "       [0.662822  , 0.6734582 ],\n",
              "       [0.6654756 , 0.67615795],\n",
              "       [0.69884664, 0.7104286 ],\n",
              "       [0.71662295, 0.72860134],\n",
              "       [0.7200741 , 0.7320211 ],\n",
              "       [0.72234964, 0.734275  ]], dtype=float32)"
            ]
          },
          "metadata": {
            "tags": []
          },
          "execution_count": 53
        }
      ]
    },
    {
      "cell_type": "code",
      "metadata": {
        "id": "nDaKMWShwzfd"
      },
      "source": [
        "previsoes = normalizador.inverse_transform(previsoes);"
      ],
      "execution_count": 54,
      "outputs": []
    },
    {
      "cell_type": "code",
      "metadata": {
        "id": "obT0_dJdw9-F",
        "outputId": "9cf8b2fd-549e-4c39-fdb9-888e819b73a7",
        "colab": {
          "base_uri": "https://localhost:8080/",
          "height": 621
        }
      },
      "source": [
        "plt.figure(figsize=(15, 10));\n",
        "plt.plot(preco_real_open, color = 'red', label = 'Preço Abertura Real');\n",
        "plt.plot(previsoes[:, 0], color = 'blue', label = 'Previsões Abertura');\n",
        "\n",
        "plt.plot(preco_real_high, color = 'black', label = 'Preço Alta Real');\n",
        "plt.plot(previsoes[:, 1], color = 'orange', label = 'Previsões Alta');\n",
        "\n",
        "plt.title('Previsão Preço das Ações');\n",
        "plt.xlabel('Tempo');\n",
        "plt.ylabel('Yahoo Finance Brasil');\n",
        "plt.legend();\n",
        "plt.show();"
      ],
      "execution_count": 56,
      "outputs": [
        {
          "output_type": "display_data",
          "data": {
            "image/png": "[encoded data removed]",
            "text/plain": [
              "<Figure size 1080x720 with 1 Axes>"
            ]
          },
          "metadata": {
            "tags": [],
            "needs_background": "light"
          }
        }
      ]
    }
  ]
}