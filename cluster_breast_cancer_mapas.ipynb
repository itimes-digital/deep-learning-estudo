{
  "nbformat": 4,
  "nbformat_minor": 0,
  "metadata": {
    "colab": {
      "name": "cluster_breast cancer_mapas.ipynb",
      "provenance": [],
      "authorship_tag": "ABX9TyNxEIk8+qh2HL6aS7kP5s+h",
      "include_colab_link": true
    },
    "kernelspec": {
      "name": "python3",
      "display_name": "Python 3"
    }
  },
  "cells": [
    {
      "cell_type": "markdown",
      "metadata": {
        "id": "view-in-github",
        "colab_type": "text"
      },
      "source": [
        "<a href=\"https://colab.research.google.com/github/itimes-digital/deep-learning-estudo/blob/main/cluster_breast_cancer_mapas.ipynb\" target=\"_parent\"><img src=\"https://colab.research.google.com/assets/colab-badge.svg\" alt=\"Open In Colab\"/></a>"
      ]
    },
    {
      "cell_type": "code",
      "metadata": {
        "id": "nlV-UwIq5r0C"
      },
      "source": [
        "import pandas as pd\n",
        "import numpy as np"
      ],
      "execution_count": 1,
      "outputs": []
    },
    {
      "cell_type": "code",
      "metadata": {
        "id": "c--iUXZY6Yh5",
        "outputId": "d7fb75d8-4158-480c-843d-59dce1f22321",
        "colab": {
          "base_uri": "https://localhost:8080/"
        }
      },
      "source": [
        "pip install minisom"
      ],
      "execution_count": 2,
      "outputs": [
        {
          "output_type": "stream",
          "text": [
            "Collecting minisom\n",
            "  Downloading https://files.pythonhosted.org/packages/69/3c/a5ad0d36137285cdffdd5cad105ec2eb3c3ddfbd3254a324993ab51d3401/MiniSom-2.2.7.tar.gz\n",
            "Building wheels for collected packages: minisom\n",
            "  Building wheel for minisom (setup.py) ... \u001b[?25l\u001b[?25hdone\n",
            "  Created wheel for minisom: filename=MiniSom-2.2.7-cp36-none-any.whl size=8607 sha256=b0649b1dd74e098fd16ff252de7fa3f854ebcac514c76f42dce8e0a9bd7a1c4e\n",
            "  Stored in directory: /root/.cache/pip/wheels/db/9a/af/0fca4ced67fec66c00998c4bf55b13f0a4c882ee775f278862\n",
            "Successfully built minisom\n",
            "Installing collected packages: minisom\n",
            "Successfully installed minisom-2.2.7\n"
          ],
          "name": "stdout"
        }
      ]
    },
    {
      "cell_type": "code",
      "metadata": {
        "id": "YcvTDV2F6frd"
      },
      "source": [
        "from minisom import MiniSom\n",
        "from sklearn.preprocessing import MinMaxScaler\n",
        "from pylab import pcolor, colorbar, plot"
      ],
      "execution_count": 25,
      "outputs": []
    },
    {
      "cell_type": "code",
      "metadata": {
        "id": "wB9b5Dw968Me",
        "outputId": "db396c92-eb66-4ae2-b560-ee4126953e89",
        "colab": {
          "base_uri": "https://localhost:8080/",
          "height": 224
        }
      },
      "source": [
        "base_x = pd.read_csv('https://raw.githubusercontent.com/itimes-digital/deep-learning-estudo/main/dataset/entradas_breast.csv')\n",
        "base_x.head()"
      ],
      "execution_count": 26,
      "outputs": [
        {
          "output_type": "execute_result",
          "data": {
            "text/html": [
              "<div>\n",
              "<style scoped>\n",
              "    .dataframe tbody tr th:only-of-type {\n",
              "        vertical-align: middle;\n",
              "    }\n",
              "\n",
              "    .dataframe tbody tr th {\n",
              "        vertical-align: top;\n",
              "    }\n",
              "\n",
              "    .dataframe thead th {\n",
              "        text-align: right;\n",
              "    }\n",
              "</style>\n",
              "<table border=\"1\" class=\"dataframe\">\n",
              "  <thead>\n",
              "    <tr style=\"text-align: right;\">\n",
              "      <th></th>\n",
              "      <th>radius_mean</th>\n",
              "      <th>texture_mean</th>\n",
              "      <th>perimeter_mean</th>\n",
              "      <th>area_mean</th>\n",
              "      <th>smoothness_mean</th>\n",
              "      <th>compactness_mean</th>\n",
              "      <th>concavity_mean</th>\n",
              "      <th>concave_points_mean</th>\n",
              "      <th>symmetry_mean</th>\n",
              "      <th>fractal_dimension_mean</th>\n",
              "      <th>radius_se</th>\n",
              "      <th>texture_se</th>\n",
              "      <th>perimeter_se</th>\n",
              "      <th>area_se</th>\n",
              "      <th>smoothness_se</th>\n",
              "      <th>compactness_se</th>\n",
              "      <th>concavity_se</th>\n",
              "      <th>concave_points_se</th>\n",
              "      <th>symmetry_se</th>\n",
              "      <th>fractal_dimension_se</th>\n",
              "      <th>radius_worst</th>\n",
              "      <th>texture_worst</th>\n",
              "      <th>perimeter_worst</th>\n",
              "      <th>area_worst</th>\n",
              "      <th>smoothness_worst</th>\n",
              "      <th>compactness_worst</th>\n",
              "      <th>concavity_worst</th>\n",
              "      <th>concave_points_worst</th>\n",
              "      <th>symmetry_worst</th>\n",
              "      <th>fractal_dimension_worst</th>\n",
              "    </tr>\n",
              "  </thead>\n",
              "  <tbody>\n",
              "    <tr>\n",
              "      <th>0</th>\n",
              "      <td>17.99</td>\n",
              "      <td>10.38</td>\n",
              "      <td>122.80</td>\n",
              "      <td>1001.0</td>\n",
              "      <td>0.11840</td>\n",
              "      <td>0.27760</td>\n",
              "      <td>0.3001</td>\n",
              "      <td>0.14710</td>\n",
              "      <td>0.2419</td>\n",
              "      <td>0.07871</td>\n",
              "      <td>1095.0000</td>\n",
              "      <td>0.9053</td>\n",
              "      <td>8589.0</td>\n",
              "      <td>153.40</td>\n",
              "      <td>0.006399</td>\n",
              "      <td>0.04904</td>\n",
              "      <td>0.05373</td>\n",
              "      <td>0.01587</td>\n",
              "      <td>0.03003</td>\n",
              "      <td>0.006193</td>\n",
              "      <td>25.38</td>\n",
              "      <td>17.33</td>\n",
              "      <td>184.60</td>\n",
              "      <td>2019.0</td>\n",
              "      <td>0.1622</td>\n",
              "      <td>0.6656</td>\n",
              "      <td>0.7119</td>\n",
              "      <td>0.2654</td>\n",
              "      <td>0.4601</td>\n",
              "      <td>0.11890</td>\n",
              "    </tr>\n",
              "    <tr>\n",
              "      <th>1</th>\n",
              "      <td>20.57</td>\n",
              "      <td>17.77</td>\n",
              "      <td>132.90</td>\n",
              "      <td>1326.0</td>\n",
              "      <td>0.08474</td>\n",
              "      <td>0.07864</td>\n",
              "      <td>0.0869</td>\n",
              "      <td>0.07017</td>\n",
              "      <td>0.1812</td>\n",
              "      <td>0.05667</td>\n",
              "      <td>0.5435</td>\n",
              "      <td>0.7339</td>\n",
              "      <td>3398.0</td>\n",
              "      <td>74.08</td>\n",
              "      <td>0.005225</td>\n",
              "      <td>0.01308</td>\n",
              "      <td>0.01860</td>\n",
              "      <td>0.01340</td>\n",
              "      <td>0.01389</td>\n",
              "      <td>0.003532</td>\n",
              "      <td>24.99</td>\n",
              "      <td>23.41</td>\n",
              "      <td>158.80</td>\n",
              "      <td>1956.0</td>\n",
              "      <td>0.1238</td>\n",
              "      <td>0.1866</td>\n",
              "      <td>0.2416</td>\n",
              "      <td>186.0000</td>\n",
              "      <td>275.0000</td>\n",
              "      <td>0.08902</td>\n",
              "    </tr>\n",
              "    <tr>\n",
              "      <th>2</th>\n",
              "      <td>19.69</td>\n",
              "      <td>21.25</td>\n",
              "      <td>130.00</td>\n",
              "      <td>1203.0</td>\n",
              "      <td>0.10960</td>\n",
              "      <td>0.15990</td>\n",
              "      <td>0.1974</td>\n",
              "      <td>0.12790</td>\n",
              "      <td>0.2069</td>\n",
              "      <td>0.05999</td>\n",
              "      <td>0.7456</td>\n",
              "      <td>0.7869</td>\n",
              "      <td>4585.0</td>\n",
              "      <td>94.03</td>\n",
              "      <td>0.006150</td>\n",
              "      <td>0.04006</td>\n",
              "      <td>0.03832</td>\n",
              "      <td>0.02058</td>\n",
              "      <td>0.02250</td>\n",
              "      <td>0.004571</td>\n",
              "      <td>23.57</td>\n",
              "      <td>25.53</td>\n",
              "      <td>152.50</td>\n",
              "      <td>1709.0</td>\n",
              "      <td>0.1444</td>\n",
              "      <td>0.4245</td>\n",
              "      <td>0.4504</td>\n",
              "      <td>243.0000</td>\n",
              "      <td>0.3613</td>\n",
              "      <td>0.08758</td>\n",
              "    </tr>\n",
              "    <tr>\n",
              "      <th>3</th>\n",
              "      <td>11.42</td>\n",
              "      <td>20.38</td>\n",
              "      <td>77.58</td>\n",
              "      <td>386.1</td>\n",
              "      <td>0.14250</td>\n",
              "      <td>0.28390</td>\n",
              "      <td>0.2414</td>\n",
              "      <td>0.10520</td>\n",
              "      <td>0.2597</td>\n",
              "      <td>0.09744</td>\n",
              "      <td>0.4956</td>\n",
              "      <td>1156.0000</td>\n",
              "      <td>3445.0</td>\n",
              "      <td>27.23</td>\n",
              "      <td>0.009110</td>\n",
              "      <td>0.07458</td>\n",
              "      <td>0.05661</td>\n",
              "      <td>0.01867</td>\n",
              "      <td>0.05963</td>\n",
              "      <td>0.009208</td>\n",
              "      <td>14.91</td>\n",
              "      <td>26.50</td>\n",
              "      <td>98.87</td>\n",
              "      <td>567.7</td>\n",
              "      <td>0.2098</td>\n",
              "      <td>0.8663</td>\n",
              "      <td>0.6869</td>\n",
              "      <td>0.2575</td>\n",
              "      <td>0.6638</td>\n",
              "      <td>173.00000</td>\n",
              "    </tr>\n",
              "    <tr>\n",
              "      <th>4</th>\n",
              "      <td>20.29</td>\n",
              "      <td>14.34</td>\n",
              "      <td>135.10</td>\n",
              "      <td>1297.0</td>\n",
              "      <td>0.10030</td>\n",
              "      <td>0.13280</td>\n",
              "      <td>198.0000</td>\n",
              "      <td>0.10430</td>\n",
              "      <td>0.1809</td>\n",
              "      <td>0.05883</td>\n",
              "      <td>0.7572</td>\n",
              "      <td>0.7813</td>\n",
              "      <td>5438.0</td>\n",
              "      <td>94.44</td>\n",
              "      <td>0.011490</td>\n",
              "      <td>0.02461</td>\n",
              "      <td>0.05688</td>\n",
              "      <td>0.01885</td>\n",
              "      <td>0.01756</td>\n",
              "      <td>0.005115</td>\n",
              "      <td>22.54</td>\n",
              "      <td>16.67</td>\n",
              "      <td>152.20</td>\n",
              "      <td>1575.0</td>\n",
              "      <td>0.1374</td>\n",
              "      <td>205.0000</td>\n",
              "      <td>0.4000</td>\n",
              "      <td>0.1625</td>\n",
              "      <td>0.2364</td>\n",
              "      <td>0.07678</td>\n",
              "    </tr>\n",
              "  </tbody>\n",
              "</table>\n",
              "</div>"
            ],
            "text/plain": [
              "    radius_mean   texture_mean  ...   symmetry_worst   fractal_dimension_worst\n",
              "0         17.99          10.38  ...           0.4601                   0.11890\n",
              "1         20.57          17.77  ...         275.0000                   0.08902\n",
              "2         19.69          21.25  ...           0.3613                   0.08758\n",
              "3         11.42          20.38  ...           0.6638                 173.00000\n",
              "4         20.29          14.34  ...           0.2364                   0.07678\n",
              "\n",
              "[5 rows x 30 columns]"
            ]
          },
          "metadata": {
            "tags": []
          },
          "execution_count": 26
        }
      ]
    },
    {
      "cell_type": "code",
      "metadata": {
        "id": "WpOW4WLE-iAK",
        "outputId": "6abaa6f9-b5d7-471e-8059-64109a948c3f",
        "colab": {
          "base_uri": "https://localhost:8080/",
          "height": 204
        }
      },
      "source": [
        "base_y = pd.read_csv('https://raw.githubusercontent.com/itimes-digital/deep-learning-estudo/main/dataset/saidas_breast.csv', names = ['classe'])\n",
        "base_y.head()"
      ],
      "execution_count": 27,
      "outputs": [
        {
          "output_type": "execute_result",
          "data": {
            "text/html": [
              "<div>\n",
              "<style scoped>\n",
              "    .dataframe tbody tr th:only-of-type {\n",
              "        vertical-align: middle;\n",
              "    }\n",
              "\n",
              "    .dataframe tbody tr th {\n",
              "        vertical-align: top;\n",
              "    }\n",
              "\n",
              "    .dataframe thead th {\n",
              "        text-align: right;\n",
              "    }\n",
              "</style>\n",
              "<table border=\"1\" class=\"dataframe\">\n",
              "  <thead>\n",
              "    <tr style=\"text-align: right;\">\n",
              "      <th></th>\n",
              "      <th>classe</th>\n",
              "    </tr>\n",
              "  </thead>\n",
              "  <tbody>\n",
              "    <tr>\n",
              "      <th>0</th>\n",
              "      <td>0</td>\n",
              "    </tr>\n",
              "    <tr>\n",
              "      <th>1</th>\n",
              "      <td>0</td>\n",
              "    </tr>\n",
              "    <tr>\n",
              "      <th>2</th>\n",
              "      <td>0</td>\n",
              "    </tr>\n",
              "    <tr>\n",
              "      <th>3</th>\n",
              "      <td>0</td>\n",
              "    </tr>\n",
              "    <tr>\n",
              "      <th>4</th>\n",
              "      <td>0</td>\n",
              "    </tr>\n",
              "  </tbody>\n",
              "</table>\n",
              "</div>"
            ],
            "text/plain": [
              "   classe\n",
              "0       0\n",
              "1       0\n",
              "2       0\n",
              "3       0\n",
              "4       0"
            ]
          },
          "metadata": {
            "tags": []
          },
          "execution_count": 27
        }
      ]
    },
    {
      "cell_type": "code",
      "metadata": {
        "id": "YHPqppLpCp0a",
        "outputId": "aedec796-8934-44a0-f1ab-16a63514676a",
        "colab": {
          "base_uri": "https://localhost:8080/"
        }
      },
      "source": [
        "base_y.info()"
      ],
      "execution_count": 43,
      "outputs": [
        {
          "output_type": "stream",
          "text": [
            "<class 'pandas.core.frame.DataFrame'>\n",
            "RangeIndex: 570 entries, 0 to 569\n",
            "Data columns (total 1 columns):\n",
            " #   Column  Non-Null Count  Dtype\n",
            "---  ------  --------------  -----\n",
            " 0   classe  570 non-null    int64\n",
            "dtypes: int64(1)\n",
            "memory usage: 4.6 KB\n"
          ],
          "name": "stdout"
        }
      ]
    },
    {
      "cell_type": "code",
      "metadata": {
        "id": "xXkIgMKWCuQT",
        "outputId": "def7787b-4092-446a-e0ff-9c361a8dce34",
        "colab": {
          "base_uri": "https://localhost:8080/"
        }
      },
      "source": [
        "base_y.value_counts()"
      ],
      "execution_count": 44,
      "outputs": [
        {
          "output_type": "execute_result",
          "data": {
            "text/plain": [
              "classe\n",
              "1         357\n",
              "0         213\n",
              "dtype: int64"
            ]
          },
          "metadata": {
            "tags": []
          },
          "execution_count": 44
        }
      ]
    },
    {
      "cell_type": "code",
      "metadata": {
        "id": "tuuuiO7w7tFm",
        "outputId": "98b278f3-4068-4ee0-e1fe-37a9c8a401ee",
        "colab": {
          "base_uri": "https://localhost:8080/"
        }
      },
      "source": [
        "base_x.info()"
      ],
      "execution_count": 28,
      "outputs": [
        {
          "output_type": "stream",
          "text": [
            "<class 'pandas.core.frame.DataFrame'>\n",
            "RangeIndex: 569 entries, 0 to 568\n",
            "Data columns (total 30 columns):\n",
            " #   Column                    Non-Null Count  Dtype  \n",
            "---  ------                    --------------  -----  \n",
            " 0    radius_mean              569 non-null    float64\n",
            " 1    texture_mean             569 non-null    float64\n",
            " 2    perimeter_mean           569 non-null    float64\n",
            " 3    area_mean                569 non-null    float64\n",
            " 4    smoothness_mean          569 non-null    float64\n",
            " 5    compactness_mean         569 non-null    float64\n",
            " 6    concavity_mean           569 non-null    float64\n",
            " 7   concave_points_mean       569 non-null    float64\n",
            " 8    symmetry_mean            569 non-null    float64\n",
            " 9    fractal_dimension_mean   569 non-null    float64\n",
            " 10   radius_se                569 non-null    float64\n",
            " 11   texture_se               569 non-null    float64\n",
            " 12   perimeter_se             569 non-null    float64\n",
            " 13   area_se                  569 non-null    float64\n",
            " 14   smoothness_se            569 non-null    float64\n",
            " 15   compactness_se           569 non-null    float64\n",
            " 16   concavity_se             569 non-null    float64\n",
            " 17   concave_points_se        569 non-null    float64\n",
            " 18   symmetry_se              569 non-null    float64\n",
            " 19   fractal_dimension_se     569 non-null    float64\n",
            " 20   radius_worst             569 non-null    float64\n",
            " 21   texture_worst            569 non-null    float64\n",
            " 22   perimeter_worst          569 non-null    float64\n",
            " 23   area_worst               569 non-null    float64\n",
            " 24   smoothness_worst         569 non-null    float64\n",
            " 25   compactness_worst        569 non-null    float64\n",
            " 26   concavity_worst          569 non-null    float64\n",
            " 27   concave_points_worst     569 non-null    float64\n",
            " 28   symmetry_worst           569 non-null    float64\n",
            " 29   fractal_dimension_worst  569 non-null    float64\n",
            "dtypes: float64(30)\n",
            "memory usage: 133.5 KB\n"
          ],
          "name": "stdout"
        }
      ]
    },
    {
      "cell_type": "code",
      "metadata": {
        "id": "YlH-oaiU8sf-",
        "outputId": "28c786f9-c200-416c-df21-e24aa9bfa804",
        "colab": {
          "base_uri": "https://localhost:8080/"
        }
      },
      "source": [
        "base_x.shape"
      ],
      "execution_count": 29,
      "outputs": [
        {
          "output_type": "execute_result",
          "data": {
            "text/plain": [
              "(569, 30)"
            ]
          },
          "metadata": {
            "tags": []
          },
          "execution_count": 29
        }
      ]
    },
    {
      "cell_type": "code",
      "metadata": {
        "id": "KJnaxxjV8OOw",
        "outputId": "d3ae6b32-d6df-4375-dff6-3821cbdf6378",
        "colab": {
          "base_uri": "https://localhost:8080/"
        }
      },
      "source": [
        "celulas = 5 * np.sqrt(base_x.shape[0])\n",
        "celulas"
      ],
      "execution_count": 67,
      "outputs": [
        {
          "output_type": "execute_result",
          "data": {
            "text/plain": [
              "119.26860441876563"
            ]
          },
          "metadata": {
            "tags": []
          },
          "execution_count": 67
        }
      ]
    },
    {
      "cell_type": "code",
      "metadata": {
        "id": "EysIZ9Ia7PQD"
      },
      "source": [
        "x = base_x.iloc[:].values"
      ],
      "execution_count": 31,
      "outputs": []
    },
    {
      "cell_type": "code",
      "metadata": {
        "id": "VsupuXV8BxNc"
      },
      "source": [
        "y = base_y.iloc[:, 0].values"
      ],
      "execution_count": 45,
      "outputs": []
    },
    {
      "cell_type": "code",
      "metadata": {
        "id": "fNRNCf887aNc",
        "outputId": "6bfdd52c-66c2-4749-ccbc-c2a3a5a37831",
        "colab": {
          "base_uri": "https://localhost:8080/"
        }
      },
      "source": [
        "scaler = MinMaxScaler(feature_range = (0,1))\n",
        "x = scaler.fit_transform(x)\n",
        "x"
      ],
      "execution_count": 33,
      "outputs": [
        {
          "output_type": "execute_result",
          "data": {
            "text/plain": [
              "array([[1.03372594e-03, 2.26580994e-02, 5.45988529e-01, ...,\n",
              "        9.12027491e-04, 5.58248834e-04, 3.69250425e-04],\n",
              "       [1.29443102e-03, 2.72573554e-01, 6.15783291e-01, ...,\n",
              "        6.39175258e-01, 5.05372410e-01, 1.96478695e-04],\n",
              "       [1.20550835e-03, 3.90260399e-01, 5.95743211e-01, ...,\n",
              "        8.35051546e-01, 3.76578924e-04, 1.88152346e-04],\n",
              "       ...,\n",
              "       [8.93268555e-04, 6.21237741e-01, 4.45788128e-01, ...,\n",
              "        4.87285223e-04, 1.20071307e-04, 1.33915438e-04],\n",
              "       [1.29746247e-03, 6.63510315e-01, 6.65537972e-01, ...,\n",
              "        9.10652921e-01, 4.63736351e-04, 7.16672865e-01],\n",
              "       [0.00000000e+00, 5.01521813e-01, 2.85398383e-02, ...,\n",
              "        0.00000000e+00, 2.40142615e-04, 8.87565616e-05]])"
            ]
          },
          "metadata": {
            "tags": []
          },
          "execution_count": 33
        }
      ]
    },
    {
      "cell_type": "code",
      "metadata": {
        "id": "Au6nAqgc7ir0",
        "outputId": "a838e598-0eb0-4272-b3cb-79b1a70ff8d2",
        "colab": {
          "base_uri": "https://localhost:8080/"
        }
      },
      "source": [
        "som = MiniSom(x = 11,\n",
        "              y = 11,\n",
        "              input_len = 30,\n",
        "              sigma = 3.0,\n",
        "              learning_rate = 0.1,\n",
        "              random_seed = 5)\n",
        "\n",
        "som.random_weights_init(x);\n",
        "som.train_random(data = x, num_iteration = 2000)\n",
        "\n",
        "som._weights.shape"
      ],
      "execution_count": 75,
      "outputs": [
        {
          "output_type": "execute_result",
          "data": {
            "text/plain": [
              "(11, 11, 30)"
            ]
          },
          "metadata": {
            "tags": []
          },
          "execution_count": 75
        }
      ]
    },
    {
      "cell_type": "code",
      "metadata": {
        "id": "kDNsVvfV9T4J",
        "outputId": "d7c36813-d0fc-4e78-ea8c-b2a5d578e894",
        "colab": {
          "base_uri": "https://localhost:8080/"
        }
      },
      "source": [
        "som._weights[0]"
      ],
      "execution_count": 76,
      "outputs": [
        {
          "output_type": "execute_result",
          "data": {
            "text/plain": [
              "array([[5.59356581e-04, 3.75924774e-01, 2.91778778e-01, 1.76320512e-01,\n",
              "        1.68450893e-02, 2.75975440e-03, 2.31986949e-02, 1.65259557e-03,\n",
              "        3.87162667e-01, 1.59822167e-03, 1.37393217e-02, 2.47329558e-01,\n",
              "        2.16596397e-01, 2.16415767e-02, 1.75552021e-01, 1.89043934e-02,\n",
              "        6.99100397e-05, 9.34890715e-04, 1.58981464e-03, 4.19656582e-04,\n",
              "        1.68394424e-03, 4.17887195e-01, 2.32265106e-01, 1.26005114e-01,\n",
              "        8.71048168e-03, 2.72403606e-02, 2.40249088e-02, 3.84516928e-02,\n",
              "        1.82532718e-02, 1.61530588e-03],\n",
              "       [5.60679541e-04, 4.02699521e-01, 2.92601846e-01, 1.76365411e-01,\n",
              "        1.30762966e-02, 3.14986391e-03, 1.84369608e-02, 1.34682008e-03,\n",
              "        3.05721323e-01, 2.13684975e-03, 1.54819672e-02, 2.51946118e-01,\n",
              "        2.12819637e-01, 2.98665587e-02, 1.73028388e-01, 1.49565915e-02,\n",
              "        7.23739932e-05, 9.87543490e-04, 2.93755335e-03, 4.20136130e-04,\n",
              "        1.19788007e-03, 4.48210277e-01, 2.34532421e-01, 1.26734367e-01,\n",
              "        6.78515606e-03, 2.31854447e-02, 2.08369059e-02, 3.15234298e-02,\n",
              "        1.90246539e-02, 1.73470725e-03],\n",
              "       [5.67951448e-04, 4.40186609e-01, 2.96789785e-01, 1.78546612e-01,\n",
              "        8.57203869e-03, 4.34413694e-03, 1.30145495e-02, 1.15376113e-03,\n",
              "        1.93141492e-01, 4.32458093e-03, 1.97778095e-02, 2.60933109e-01,\n",
              "        2.09688143e-01, 3.67282787e-02, 1.71422080e-01, 9.79846983e-03,\n",
              "        7.97094114e-05, 1.19464484e-03, 4.90711770e-03, 4.34138349e-04,\n",
              "        1.01141352e-03, 4.91165101e-01, 2.41704826e-01, 1.30670018e-01,\n",
              "        4.41809944e-03, 1.68743595e-02, 1.70800407e-02, 2.29982795e-02,\n",
              "        2.19039274e-02, 2.06245016e-03],\n",
              "       [6.03011695e-04, 4.73040552e-01, 3.14565914e-01, 1.91721358e-01,\n",
              "        4.90226386e-03, 6.47808285e-03, 9.87271607e-03, 1.30151985e-03,\n",
              "        9.46431841e-02, 9.34937772e-03, 2.77363126e-02, 2.68886975e-01,\n",
              "        2.13933548e-01, 3.66210254e-02, 1.74785877e-01, 5.38783605e-03,\n",
              "        9.20882441e-05, 1.77675923e-03, 6.64740150e-03, 4.61988333e-04,\n",
              "        9.55907262e-04, 5.28020166e-01, 2.62301110e-01, 1.44692676e-01,\n",
              "        2.48315733e-03, 1.14216808e-02, 1.33928518e-02, 1.56104872e-02,\n",
              "        2.53896785e-02, 2.25153004e-03],\n",
              "       [6.77220407e-04, 4.89013641e-01, 3.50782382e-01, 2.21196144e-01,\n",
              "        3.79485395e-03, 1.00539058e-02, 1.17523384e-02, 2.20338700e-03,\n",
              "        3.72439510e-02, 1.71879300e-02, 3.78707385e-02, 2.71688948e-01,\n",
              "        2.33023638e-01, 2.94638747e-02, 1.83681500e-01, 3.07492376e-03,\n",
              "        1.09415364e-04, 2.97544243e-03, 7.17799578e-03, 5.00027822e-04,\n",
              "        9.90929633e-04, 5.44671782e-01, 3.00011251e-01, 1.73004776e-01,\n",
              "        1.83894046e-03, 8.85063730e-03, 1.07187675e-02, 1.35226278e-02,\n",
              "        2.62496178e-02, 2.21442975e-03],\n",
              "       [7.90624481e-04, 4.88988314e-01, 4.04534223e-01, 2.68070955e-01,\n",
              "        6.76183416e-03, 1.54102434e-02, 2.04804970e-02, 4.54984085e-03,\n",
              "        1.35778768e-02, 2.52252371e-02, 4.64937748e-02, 2.66821297e-01,\n",
              "        2.73076047e-01, 2.00893986e-02, 1.91973950e-01, 2.68308715e-03,\n",
              "        1.31846212e-04, 4.80430260e-03, 6.25486815e-03, 5.32474212e-04,\n",
              "        1.09950102e-03, 5.42488106e-01, 3.53914413e-01, 2.17032091e-01,\n",
              "        3.23725199e-03, 8.77131980e-03, 1.03707577e-02, 2.01353359e-02,\n",
              "        2.29532841e-02, 2.33019316e-03],\n",
              "       [9.28911001e-04, 4.80462681e-01, 4.68568883e-01, 3.27380697e-01,\n",
              "        1.63170329e-02, 2.14538098e-02, 3.68077382e-02, 9.17974995e-03,\n",
              "        6.52417890e-03, 2.84475371e-02, 5.23178199e-02, 2.53276672e-01,\n",
              "        3.34258040e-01, 1.29402227e-02, 1.91636120e-01, 3.43531619e-03,\n",
              "        1.59788993e-04, 6.62274931e-03, 4.35861570e-03, 5.40103467e-04,\n",
              "        1.26054772e-03, 5.31110500e-01, 4.18330351e-01, 2.73914410e-01,\n",
              "        7.97272051e-03, 9.72225319e-03, 1.43078390e-02, 3.72070540e-02,\n",
              "        1.85605796e-02, 3.51770764e-03],\n",
              "       [1.06215584e-03, 4.70960893e-01, 5.29552186e-01, 3.86804880e-01,\n",
              "        3.50737185e-02, 2.60399120e-02, 5.84217283e-02, 1.63119732e-02,\n",
              "        4.87660176e-03, 2.41398869e-02, 6.01339549e-02, 2.32923163e-01,\n",
              "        4.06819182e-01, 9.56424386e-03, 1.81394480e-01, 4.43046254e-03,\n",
              "        1.93869979e-04, 7.34136657e-03, 2.45034479e-03, 5.22742005e-04,\n",
              "        1.43821549e-03, 5.20326435e-01, 4.82786736e-01, 3.34502642e-01,\n",
              "        1.70665672e-02, 1.08964181e-02, 2.36824915e-02, 6.18598968e-02,\n",
              "        1.85616530e-02, 6.91721629e-03],\n",
              "       [1.16628701e-03, 4.65109633e-01, 5.77339767e-01, 4.35298644e-01,\n",
              "        6.31101276e-02, 2.87053835e-02, 7.96829339e-02, 2.53632095e-02,\n",
              "        4.12486699e-03, 1.58042323e-02, 7.66337538e-02, 2.10787206e-01,\n",
              "        4.77280076e-01, 8.98888785e-03, 1.67710504e-01, 4.95229053e-03,\n",
              "        2.40689088e-04, 6.65288012e-03, 1.22123902e-03, 5.01808062e-04,\n",
              "        1.59588649e-03, 5.14679802e-01, 5.38435135e-01, 3.88797529e-01,\n",
              "        2.97912608e-02, 1.27085533e-02, 3.67424379e-02, 8.66041234e-02,\n",
              "        2.53939390e-02, 1.29546186e-02],\n",
              "       [1.23960728e-03, 4.63003558e-01, 6.11078053e-01, 4.70555857e-01,\n",
              "        9.67701144e-02, 3.16417839e-02, 9.50042836e-02, 3.64212293e-02,\n",
              "        3.38814698e-03, 8.49334471e-03, 1.01991900e-01, 1.92511947e-01,\n",
              "        5.35286136e-01, 9.64964522e-03, 1.57553722e-01, 4.92834376e-03,\n",
              "        3.25186161e-04, 5.28319861e-03, 6.58976600e-04, 4.94921227e-04,\n",
              "        1.71640568e-03, 5.12568353e-01, 5.81893086e-01, 4.31449869e-01,\n",
              "        4.46394292e-02, 1.54180030e-02, 4.90034880e-02, 1.05909959e-01,\n",
              "        3.70679966e-02, 2.08914340e-02],\n",
              "       [1.29607933e-03, 4.61775299e-01, 6.34976278e-01, 4.96030704e-01,\n",
              "        1.29157967e-01, 3.74630536e-02, 1.01137089e-01, 5.12231245e-02,\n",
              "        2.76121162e-03, 3.96449262e-03, 1.29156642e-01, 1.81852344e-01,\n",
              "        5.72920796e-01, 1.05764364e-02, 1.53976323e-01, 4.87918920e-03,\n",
              "        5.33102603e-04, 3.94782978e-03, 4.60586178e-04, 5.02776255e-04,\n",
              "        1.79965888e-03, 5.10313142e-01, 6.12751498e-01, 4.60955690e-01,\n",
              "        6.05497648e-02, 1.83004404e-02, 5.55626616e-02, 1.19888517e-01,\n",
              "        5.01654020e-02, 2.93081417e-02]])"
            ]
          },
          "metadata": {
            "tags": []
          },
          "execution_count": 76
        }
      ]
    },
    {
      "cell_type": "code",
      "metadata": {
        "id": "GkPmT4ov9aN_",
        "outputId": "fa3e5d50-2047-4a76-d319-861a84b0d6ef",
        "colab": {
          "base_uri": "https://localhost:8080/"
        }
      },
      "source": [
        "q = som.activation_response(x)\n",
        "q"
      ],
      "execution_count": 77,
      "outputs": [
        {
          "output_type": "execute_result",
          "data": {
            "text/plain": [
              "array([[35.,  0.,  1., 12., 11.,  6.,  8.,  7.,  6.,  7., 22.],\n",
              "       [ 0.,  0.,  0.,  9.,  4.,  1.,  2.,  3.,  6.,  1.,  4.],\n",
              "       [ 0.,  0.,  6.,  7.,  6.,  3.,  1.,  3.,  6.,  2.,  2.],\n",
              "       [ 3.,  9.,  8.,  2.,  4.,  1.,  1.,  1.,  8.,  0.,  2.],\n",
              "       [21.,  3.,  8.,  3.,  4.,  4.,  8.,  6.,  1.,  0.,  5.],\n",
              "       [14.,  4.,  5.,  3.,  4.,  4.,  7.,  3.,  0.,  1., 10.],\n",
              "       [11.,  2.,  0.,  7.,  4.,  7.,  1.,  1.,  2.,  2.,  5.],\n",
              "       [ 3.,  0.,  4., 11.,  9.,  3.,  0.,  0.,  0.,  0.,  0.],\n",
              "       [ 1., 10., 12., 11.,  0.,  0.,  0.,  0.,  0.,  3.,  0.],\n",
              "       [ 0.,  2., 19.,  2.,  0.,  0.,  0.,  0.,  0.,  0.,  1.],\n",
              "       [22.,  0.,  0.,  0.,  0.,  2., 32.,  0.,  2.,  2., 38.]])"
            ]
          },
          "metadata": {
            "tags": []
          },
          "execution_count": 77
        }
      ]
    },
    {
      "cell_type": "code",
      "metadata": {
        "id": "VbWhG4Wt9uqD",
        "outputId": "dd20fd01-03c0-4ce3-f6fd-a20024da6100",
        "colab": {
          "base_uri": "https://localhost:8080/",
          "height": 269
        }
      },
      "source": [
        "pcolor(som.distance_map().T)\n",
        "colorbar();"
      ],
      "execution_count": 79,
      "outputs": [
        {
          "output_type": "display_data",
          "data": {
            "image/png": "[encoded data removed]",
            "text/plain": [
              "<Figure size 432x288 with 2 Axes>"
            ]
          },
          "metadata": {
            "tags": [],
            "needs_background": "light"
          }
        }
      ]
    },
    {
      "cell_type": "code",
      "metadata": {
        "id": "W2iVK37G92KK"
      },
      "source": [
        "markers = ['o', 's']\n",
        "color = ['r', 'g']"
      ],
      "execution_count": 80,
      "outputs": []
    },
    {
      "cell_type": "code",
      "metadata": {
        "id": "U0orCKYw-AwM",
        "outputId": "136e81e9-5416-4da1-8055-67e8e7f04b27",
        "colab": {
          "base_uri": "https://localhost:8080/",
          "height": 269
        }
      },
      "source": [
        "pcolor(som.distance_map().T)\n",
        "colorbar();\n",
        "for i, a in enumerate(x):\n",
        "  w = som.winner(a);\n",
        "  plot(w[0] + 0.5, w[1] + 0.5, markers[y[i]],\n",
        "       markerfacecolor = 'None', markersize = 10,\n",
        "       markeredgecolor = color[y[i]], markeredgewidth = 2)"
      ],
      "execution_count": 84,
      "outputs": [
        {
          "output_type": "display_data",
          "data": {
            "image/png": "[encoded data removed]",
            "text/plain": [
              "<Figure size 432x288 with 2 Axes>"
            ]
          },
          "metadata": {
            "tags": [],
            "needs_background": "light"
          }
        }
      ]
    },
    {
      "cell_type": "code",
      "metadata": {
        "id": "D2AH1ZhG-ez2"
      },
      "source": [
        ""
      ],
      "execution_count": null,
      "outputs": []
    }
  ]
}