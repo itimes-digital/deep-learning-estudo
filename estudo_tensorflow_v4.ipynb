{
  "nbformat": 4,
  "nbformat_minor": 0,
  "metadata": {
    "colab": {
      "name": "estudo_tensorflow_v4.ipynb",
      "provenance": [],
      "authorship_tag": "ABX9TyPUDaWfbEVtX19nXCppzujO",
      "include_colab_link": true
    },
    "kernelspec": {
      "name": "python3",
      "display_name": "Python 3"
    }
  },
  "cells": [
    {
      "cell_type": "markdown",
      "metadata": {
        "id": "view-in-github",
        "colab_type": "text"
      },
      "source": [
        "<a href=\"https://colab.research.google.com/github/itimes-digital/deep-learning-estudo/blob/main/estudo_tensorflow_v4.ipynb\" target=\"_parent\"><img src=\"https://colab.research.google.com/assets/colab-badge.svg\" alt=\"Open In Colab\"/></a>"
      ]
    },
    {
      "cell_type": "code",
      "metadata": {
        "id": "VG8fDS47h6Ir"
      },
      "source": [
        "import tensorflow as tf"
      ],
      "execution_count": 2,
      "outputs": []
    },
    {
      "cell_type": "code",
      "metadata": {
        "id": "7_-pQbVRijYU"
      },
      "source": [
        "!pip install tensorflow==1.14\r\n",
        "!pip install tensorflow"
      ],
      "execution_count": null,
      "outputs": []
    },
    {
      "cell_type": "code",
      "metadata": {
        "id": "KG02S7cbiEsA"
      },
      "source": [
        "a = tf.constant([[1,2], [3,4]])\r\n",
        "b = tf.constant([[-1,3], [4,2]])"
      ],
      "execution_count": 3,
      "outputs": []
    },
    {
      "cell_type": "code",
      "metadata": {
        "id": "TfQsjOSOiVTL"
      },
      "source": [
        "multiplicacao = tf.matmul(a, b)"
      ],
      "execution_count": 4,
      "outputs": []
    },
    {
      "cell_type": "markdown",
      "metadata": {
        "id": "2gdA5byikCAW"
      },
      "source": [
        "## A multiplicação de matrizes ocorrem com os dados da linha da primeira matriz com a coluna da segunda matriz.\r\n",
        "# 1 * (-1) + 2 * 4 = **7** | 1 * 3 + 2 * 2 = **7** | ..."
      ]
    },
    {
      "cell_type": "code",
      "metadata": {
        "colab": {
          "base_uri": "https://localhost:8080/"
        },
        "id": "mQQOwZZeiZ1D",
        "outputId": "205c65fc-6c15-4ec9-b526-b8f891aef7e9"
      },
      "source": [
        "with tf.Session() as sess:\r\n",
        "    print(sess.run(a))\r\n",
        "    print('\\n')\r\n",
        "    print(sess.run(b))\r\n",
        "    print('\\n')\r\n",
        "    print(sess.run(multiplicacao))"
      ],
      "execution_count": 6,
      "outputs": [
        {
          "output_type": "stream",
          "text": [
            "[[1 2]\n",
            " [3 4]]\n",
            "\n",
            "\n",
            "[[-1  3]\n",
            " [ 4  2]]\n",
            "\n",
            "\n",
            "[[ 7  7]\n",
            " [13 17]]\n"
          ],
          "name": "stdout"
        }
      ]
    },
    {
      "cell_type": "code",
      "metadata": {
        "id": "9PHkfJRlifrz"
      },
      "source": [
        "multiplicacao2 = tf.matmul(b, a)"
      ],
      "execution_count": 7,
      "outputs": []
    },
    {
      "cell_type": "code",
      "metadata": {
        "colab": {
          "base_uri": "https://localhost:8080/"
        },
        "id": "38SUmuu7kONU",
        "outputId": "4598cfa1-d087-46e7-ea6f-fc7e48f7649d"
      },
      "source": [
        "with tf.Session() as sess:\r\n",
        "    print(sess.run(multiplicacao2))"
      ],
      "execution_count": 9,
      "outputs": [
        {
          "output_type": "stream",
          "text": [
            "[[ 8 10]\n",
            " [10 16]]\n"
          ],
          "name": "stdout"
        }
      ]
    },
    {
      "cell_type": "code",
      "metadata": {
        "id": "IZ0LbCdfkVLw"
      },
      "source": [
        "a1 = tf.constant([[2,3], [0,1], [-1,4]])\r\n",
        "b1 = tf.constant([[1,2,3], [-2,0,4]])\r\n",
        "multiplicacao3 = tf.matmul(a1, b1)"
      ],
      "execution_count": 11,
      "outputs": []
    },
    {
      "cell_type": "markdown",
      "metadata": {
        "id": "Wlgdb_rXlRAh"
      },
      "source": [
        "# 2 * 1 + 3 * (-2) = **-4** | 2 * 2 + 3 * 0 = **4** | 2 * 3 + 3 * 4 = **18** | ..."
      ]
    },
    {
      "cell_type": "code",
      "metadata": {
        "colab": {
          "base_uri": "https://localhost:8080/"
        },
        "id": "dtSNFI4kkpOz",
        "outputId": "e35c4867-0271-4290-f485-f517d4d63fa9"
      },
      "source": [
        "with tf.Session() as sess:\r\n",
        "    print(sess.run(a1))\r\n",
        "    print('\\n')\r\n",
        "    print(sess.run(b1))\r\n",
        "    print('\\n')\r\n",
        "    print(sess.run(multiplicacao3))"
      ],
      "execution_count": 12,
      "outputs": [
        {
          "output_type": "stream",
          "text": [
            "[[ 2  3]\n",
            " [ 0  1]\n",
            " [-1  4]]\n",
            "\n",
            "\n",
            "[[ 1  2  3]\n",
            " [-2  0  4]]\n",
            "\n",
            "\n",
            "[[-4  4 18]\n",
            " [-2  0  4]\n",
            " [-9 -2 13]]\n"
          ],
          "name": "stdout"
        }
      ]
    },
    {
      "cell_type": "code",
      "metadata": {
        "id": "DaE_6kpIlEoJ"
      },
      "source": [
        ""
      ],
      "execution_count": null,
      "outputs": []
    }
  ]
}