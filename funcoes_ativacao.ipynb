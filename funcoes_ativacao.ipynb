{
  "nbformat": 4,
  "nbformat_minor": 0,
  "metadata": {
    "colab": {
      "name": "Untitled0.ipynb",
      "provenance": [],
      "authorship_tag": "ABX9TyPcScJmRDilyB5zTTAK3Qdz",
      "include_colab_link": true
    },
    "kernelspec": {
      "name": "python3",
      "display_name": "Python 3"
    }
  },
  "cells": [
    {
      "cell_type": "markdown",
      "metadata": {
        "id": "view-in-github",
        "colab_type": "text"
      },
      "source": [
        "<a href=\"https://colab.research.google.com/github/itimes-digital/deep-learning-estudo/blob/main/funcoes_ativacao.ipynb\" target=\"_parent\"><img src=\"https://colab.research.google.com/assets/colab-badge.svg\" alt=\"Open In Colab\"/></a>"
      ]
    },
    {
      "cell_type": "code",
      "metadata": {
        "id": "GkAhB_X8WrKb"
      },
      "source": [
        "# Funções de ativação também chamadas de transfer function\n",
        "import numpy as np"
      ],
      "execution_count": 1,
      "outputs": []
    },
    {
      "cell_type": "code",
      "metadata": {
        "id": "2fJE5OjNtcoA"
      },
      "source": [
        "# Retorna valor 0 ou 1, binários\n",
        "def stepFunction(soma):\n",
        "  if soma >= 1:\n",
        "    return 1;\n",
        "  return 0;"
      ],
      "execution_count": 8,
      "outputs": []
    },
    {
      "cell_type": "code",
      "metadata": {
        "id": "_rDJ817vtp-3",
        "outputId": "28a91427-3f02-4e9c-b42c-7948378b0872",
        "colab": {
          "base_uri": "https://localhost:8080/",
          "height": 33
        }
      },
      "source": [
        "teste = stepFunction(-1)\n",
        "teste"
      ],
      "execution_count": 9,
      "outputs": [
        {
          "output_type": "execute_result",
          "data": {
            "text/plain": [
              "0"
            ]
          },
          "metadata": {
            "tags": []
          },
          "execution_count": 9
        }
      ]
    },
    {
      "cell_type": "code",
      "metadata": {
        "id": "IVAokZzlt5Ci",
        "outputId": "18a766a2-c67e-4e2f-c159-961f06f30fc8",
        "colab": {
          "base_uri": "https://localhost:8080/",
          "height": 33
        }
      },
      "source": [
        "teste = stepFunction(30)\n",
        "teste"
      ],
      "execution_count": 10,
      "outputs": [
        {
          "output_type": "execute_result",
          "data": {
            "text/plain": [
              "1"
            ]
          },
          "metadata": {
            "tags": []
          },
          "execution_count": 10
        }
      ]
    },
    {
      "cell_type": "code",
      "metadata": {
        "id": "eVPL0j2Ot-8Z"
      },
      "source": [
        "# Retorna valores entre 0 e 1, probabilidade\n",
        "# Classificação binária\n",
        "def sigmoidFunction(soma):\n",
        "  return 1 / (1 + np.exp(-soma));"
      ],
      "execution_count": 18,
      "outputs": []
    },
    {
      "cell_type": "code",
      "metadata": {
        "id": "HhPJq9d9uYGS",
        "outputId": "67716d3a-4563-4e5d-ec38-72480c49b9b2",
        "colab": {
          "base_uri": "https://localhost:8080/",
          "height": 33
        }
      },
      "source": [
        "teste = sigmoidFunction(-1)\n",
        "teste"
      ],
      "execution_count": 19,
      "outputs": [
        {
          "output_type": "execute_result",
          "data": {
            "text/plain": [
              "0.2689414213699951"
            ]
          },
          "metadata": {
            "tags": []
          },
          "execution_count": 19
        }
      ]
    },
    {
      "cell_type": "code",
      "metadata": {
        "id": "EoGx0TybunFq",
        "outputId": "80ca9057-538b-4130-c56e-ea135b9602c4",
        "colab": {
          "base_uri": "https://localhost:8080/",
          "height": 33
        }
      },
      "source": [
        "teste = sigmoidFunction(30)\n",
        "teste"
      ],
      "execution_count": 20,
      "outputs": [
        {
          "output_type": "execute_result",
          "data": {
            "text/plain": [
              "0.9999999999999065"
            ]
          },
          "metadata": {
            "tags": []
          },
          "execution_count": 20
        }
      ]
    },
    {
      "cell_type": "code",
      "metadata": {
        "id": "FY_aGKyiurap",
        "outputId": "7bac753b-15ff-4e91-c9bb-4a9b75a380b8",
        "colab": {
          "base_uri": "https://localhost:8080/",
          "height": 33
        }
      },
      "source": [
        "teste = sigmoidFunction(0.358)\n",
        "teste"
      ],
      "execution_count": 21,
      "outputs": [
        {
          "output_type": "execute_result",
          "data": {
            "text/plain": [
              "0.5885562043858291"
            ]
          },
          "metadata": {
            "tags": []
          },
          "execution_count": 21
        }
      ]
    },
    {
      "cell_type": "code",
      "metadata": {
        "id": "_tov8tSXuwyg"
      },
      "source": [
        "# Retorna valores entre -1 e 1\n",
        "# Tangente Hiberbólica, pode ser usado em problemas de classificação\n",
        "def tahnFunction(soma):\n",
        "  return (np.exp(soma) - np.exp(-soma)) / (np.exp(soma) + np.exp(-soma));\n"
      ],
      "execution_count": 22,
      "outputs": []
    },
    {
      "cell_type": "code",
      "metadata": {
        "id": "zlAJrZkuwRXs",
        "outputId": "d3640c20-e387-4d81-d4c0-d976888f841a",
        "colab": {
          "base_uri": "https://localhost:8080/",
          "height": 33
        }
      },
      "source": [
        "teste = tahnFunction(0.358)\n",
        "teste"
      ],
      "execution_count": 23,
      "outputs": [
        {
          "output_type": "execute_result",
          "data": {
            "text/plain": [
              "0.3434511648102781"
            ]
          },
          "metadata": {
            "tags": []
          },
          "execution_count": 23
        }
      ]
    },
    {
      "cell_type": "code",
      "metadata": {
        "id": "1xnAG_tFwU_B",
        "outputId": "822d8b63-4bd5-4bc5-a8e0-7413cebf4ec2",
        "colab": {
          "base_uri": "https://localhost:8080/",
          "height": 33
        }
      },
      "source": [
        "teste = tahnFunction(-0.358)\n",
        "teste"
      ],
      "execution_count": 24,
      "outputs": [
        {
          "output_type": "execute_result",
          "data": {
            "text/plain": [
              "-0.3434511648102781"
            ]
          },
          "metadata": {
            "tags": []
          },
          "execution_count": 24
        }
      ]
    },
    {
      "cell_type": "code",
      "metadata": {
        "id": "Qx8USv1cwaGq"
      },
      "source": [
        "# ReLU - rectified linear units, muito usado em redes convolucionais\n",
        "# Retorna valores >= 0 (sem valor máximo)\n",
        "# Usado em muitas camadas de uma rede neural\n",
        "def reluFunction(soma):\n",
        "  if soma >= 0:\n",
        "    return soma;\n",
        "  return 0;"
      ],
      "execution_count": 25,
      "outputs": []
    },
    {
      "cell_type": "code",
      "metadata": {
        "id": "AyrF_B33xmT0",
        "outputId": "581cc1d6-12d0-4cb6-b13f-45c1bc5963d4",
        "colab": {
          "base_uri": "https://localhost:8080/",
          "height": 33
        }
      },
      "source": [
        "teste = reluFunction(-0.358)\n",
        "teste"
      ],
      "execution_count": 26,
      "outputs": [
        {
          "output_type": "execute_result",
          "data": {
            "text/plain": [
              "0"
            ]
          },
          "metadata": {
            "tags": []
          },
          "execution_count": 26
        }
      ]
    },
    {
      "cell_type": "code",
      "metadata": {
        "id": "JdwiQUurxqlS",
        "outputId": "3fa67dee-d64b-4047-f530-ab50a57b7d3a",
        "colab": {
          "base_uri": "https://localhost:8080/",
          "height": 33
        }
      },
      "source": [
        "teste = reluFunction(0.358)\n",
        "teste"
      ],
      "execution_count": 27,
      "outputs": [
        {
          "output_type": "execute_result",
          "data": {
            "text/plain": [
              "0.358"
            ]
          },
          "metadata": {
            "tags": []
          },
          "execution_count": 27
        }
      ]
    },
    {
      "cell_type": "code",
      "metadata": {
        "id": "6SJ8j40txt3T"
      },
      "source": [
        "# Retorna o próprio valor que é passado\n",
        "# Muito usado em algorítmos de regressão\n",
        "def linearFunction(soma):\n",
        "  return soma;"
      ],
      "execution_count": 28,
      "outputs": []
    },
    {
      "cell_type": "code",
      "metadata": {
        "id": "wTPZT7AgypGx",
        "outputId": "ff1e45bd-d72f-4f11-94e7-9de344149aed",
        "colab": {
          "base_uri": "https://localhost:8080/",
          "height": 33
        }
      },
      "source": [
        "teste = linearFunction(0.358)\n",
        "teste"
      ],
      "execution_count": 29,
      "outputs": [
        {
          "output_type": "execute_result",
          "data": {
            "text/plain": [
              "0.358"
            ]
          },
          "metadata": {
            "tags": []
          },
          "execution_count": 29
        }
      ]
    },
    {
      "cell_type": "code",
      "metadata": {
        "id": "mXNedZ3qyr9K",
        "outputId": "0d0c6c8f-4609-4096-8c06-f5d7ce6f8b5b",
        "colab": {
          "base_uri": "https://localhost:8080/",
          "height": 33
        }
      },
      "source": [
        "teste = linearFunction(-0.358)\n",
        "teste"
      ],
      "execution_count": 30,
      "outputs": [
        {
          "output_type": "execute_result",
          "data": {
            "text/plain": [
              "-0.358"
            ]
          },
          "metadata": {
            "tags": []
          },
          "execution_count": 30
        }
      ]
    },
    {
      "cell_type": "code",
      "metadata": {
        "id": "gXpB3ddPyvUS"
      },
      "source": [
        "# Retorna probabilidade com mais de duas classes em redes neurais\n",
        "# Muito usado em redes convolucionais\n",
        "# Usado em problemas de classificação com mais de uma classe\n",
        "def softmaxFunction(x):\n",
        "  ex = np.exp(x);\n",
        "  return ex / ex.sum();"
      ],
      "execution_count": 31,
      "outputs": []
    },
    {
      "cell_type": "code",
      "metadata": {
        "id": "ILXwLr0mzkRj",
        "outputId": "dced330d-6fe9-4691-8ed5-7a749f542aee",
        "colab": {
          "base_uri": "https://localhost:8080/",
          "height": 33
        }
      },
      "source": [
        "valores = [7.0, 1.3, 2.0]\n",
        "print(softmaxFunction(valores))"
      ],
      "execution_count": 34,
      "outputs": [
        {
          "output_type": "stream",
          "text": [
            "[0.99001676 0.00331256 0.00667068]\n"
          ],
          "name": "stdout"
        }
      ]
    },
    {
      "cell_type": "code",
      "metadata": {
        "id": "YXiLnd98zvC9"
      },
      "source": [
        ""
      ],
      "execution_count": null,
      "outputs": []
    }
  ]
}