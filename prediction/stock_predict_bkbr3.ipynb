{
  "nbformat": 4,
  "nbformat_minor": 0,
  "metadata": {
    "colab": {
      "name": "stock-predict-bkbr3.ipynb",
      "provenance": [],
      "authorship_tag": "ABX9TyNYWVryHGc1DPshqIVURQjy",
      "include_colab_link": true
    },
    "kernelspec": {
      "name": "python3",
      "display_name": "Python 3"
    }
  },
  "cells": [
    {
      "cell_type": "markdown",
      "metadata": {
        "id": "view-in-github",
        "colab_type": "text"
      },
      "source": [
        "<a href=\"https://colab.research.google.com/github/itimes-digital/deep-learning-estudo/blob/main/prediction/stock_predict_bkbr3.ipynb\" target=\"_parent\"><img src=\"https://colab.research.google.com/assets/colab-badge.svg\" alt=\"Open In Colab\"/></a>"
      ]
    },
    {
      "cell_type": "code",
      "metadata": {
        "id": "aKQ-5Pur6TuH"
      },
      "source": [
        "import pandas as pd\n",
        "import numpy as np\n",
        "from keras.layers import Dense, Dropout, LSTM\n",
        "from keras.models import Sequential\n",
        "import matplotlib.pyplot as plt\n",
        "from sklearn.preprocessing import MinMaxScaler"
      ],
      "execution_count": 38,
      "outputs": []
    },
    {
      "cell_type": "code",
      "metadata": {
        "id": "q5RkttDl7REe",
        "outputId": "9f81a735-5cb4-4d50-b90a-ac5d5c2d534c",
        "colab": {
          "base_uri": "https://localhost:8080/",
          "height": 204
        }
      },
      "source": [
        "dataset = pd.read_csv('https://raw.githubusercontent.com/itimes-digital/deep-learning-estudo/main/dataset/BKBR3.SA.csv')\n",
        "dataset.head()"
      ],
      "execution_count": 3,
      "outputs": [
        {
          "output_type": "execute_result",
          "data": {
            "text/html": [
              "<div>\n",
              "<style scoped>\n",
              "    .dataframe tbody tr th:only-of-type {\n",
              "        vertical-align: middle;\n",
              "    }\n",
              "\n",
              "    .dataframe tbody tr th {\n",
              "        vertical-align: top;\n",
              "    }\n",
              "\n",
              "    .dataframe thead th {\n",
              "        text-align: right;\n",
              "    }\n",
              "</style>\n",
              "<table border=\"1\" class=\"dataframe\">\n",
              "  <thead>\n",
              "    <tr style=\"text-align: right;\">\n",
              "      <th></th>\n",
              "      <th>Date</th>\n",
              "      <th>Open</th>\n",
              "      <th>High</th>\n",
              "      <th>Low</th>\n",
              "      <th>Close</th>\n",
              "      <th>Adj Close</th>\n",
              "      <th>Volume</th>\n",
              "    </tr>\n",
              "  </thead>\n",
              "  <tbody>\n",
              "    <tr>\n",
              "      <th>0</th>\n",
              "      <td>2020-01-02</td>\n",
              "      <td>17.950001</td>\n",
              "      <td>17.950001</td>\n",
              "      <td>17.170000</td>\n",
              "      <td>17.350000</td>\n",
              "      <td>17.289284</td>\n",
              "      <td>918500.0</td>\n",
              "    </tr>\n",
              "    <tr>\n",
              "      <th>1</th>\n",
              "      <td>2020-01-03</td>\n",
              "      <td>17.040001</td>\n",
              "      <td>17.320000</td>\n",
              "      <td>16.900000</td>\n",
              "      <td>17.049999</td>\n",
              "      <td>16.990332</td>\n",
              "      <td>869200.0</td>\n",
              "    </tr>\n",
              "    <tr>\n",
              "      <th>2</th>\n",
              "      <td>2020-01-06</td>\n",
              "      <td>17.320000</td>\n",
              "      <td>17.389999</td>\n",
              "      <td>16.690001</td>\n",
              "      <td>17.230000</td>\n",
              "      <td>17.169703</td>\n",
              "      <td>672700.0</td>\n",
              "    </tr>\n",
              "    <tr>\n",
              "      <th>3</th>\n",
              "      <td>2020-01-07</td>\n",
              "      <td>17.400000</td>\n",
              "      <td>17.530001</td>\n",
              "      <td>16.980000</td>\n",
              "      <td>17.340000</td>\n",
              "      <td>17.279318</td>\n",
              "      <td>611800.0</td>\n",
              "    </tr>\n",
              "    <tr>\n",
              "      <th>4</th>\n",
              "      <td>2020-01-08</td>\n",
              "      <td>17.570000</td>\n",
              "      <td>17.570000</td>\n",
              "      <td>17.110001</td>\n",
              "      <td>17.230000</td>\n",
              "      <td>17.169703</td>\n",
              "      <td>926300.0</td>\n",
              "    </tr>\n",
              "  </tbody>\n",
              "</table>\n",
              "</div>"
            ],
            "text/plain": [
              "         Date       Open       High        Low      Close  Adj Close    Volume\n",
              "0  2020-01-02  17.950001  17.950001  17.170000  17.350000  17.289284  918500.0\n",
              "1  2020-01-03  17.040001  17.320000  16.900000  17.049999  16.990332  869200.0\n",
              "2  2020-01-06  17.320000  17.389999  16.690001  17.230000  17.169703  672700.0\n",
              "3  2020-01-07  17.400000  17.530001  16.980000  17.340000  17.279318  611800.0\n",
              "4  2020-01-08  17.570000  17.570000  17.110001  17.230000  17.169703  926300.0"
            ]
          },
          "metadata": {
            "tags": []
          },
          "execution_count": 3
        }
      ]
    },
    {
      "cell_type": "code",
      "metadata": {
        "id": "R-tgriLT7bqs",
        "outputId": "1e5c4444-3c77-4764-ad78-e331edbfc419",
        "colab": {
          "base_uri": "https://localhost:8080/"
        }
      },
      "source": [
        "print('Média Open {0}'.format(dataset['Open'].mean()))\n",
        "print('Média High {0}'.format(dataset['High'].mean()))\n",
        "print('Média Low {0}'.format(dataset['Low'].mean()))\n",
        "print('Média Close {0}'.format(dataset['Close'].mean()))\n",
        "print('Média Volume {0}'.format(dataset['Volume'].mean()))"
      ],
      "execution_count": 9,
      "outputs": [
        {
          "output_type": "stream",
          "text": [
            "Média Open 11.8475799041096\n",
            "Média High 12.164566173515988\n",
            "Média Low 11.463926931506855\n",
            "Média Close 11.812831054794518\n",
            "Média Volume 1819530.1369863013\n"
          ],
          "name": "stdout"
        }
      ]
    },
    {
      "cell_type": "code",
      "metadata": {
        "id": "m_NDiFu79HJd",
        "outputId": "745f9ef3-8cfe-4f71-c3a9-1a5cbe1e2504",
        "colab": {
          "base_uri": "https://localhost:8080/"
        }
      },
      "source": [
        "dataset.info()"
      ],
      "execution_count": 10,
      "outputs": [
        {
          "output_type": "stream",
          "text": [
            "<class 'pandas.core.frame.DataFrame'>\n",
            "RangeIndex: 220 entries, 0 to 219\n",
            "Data columns (total 7 columns):\n",
            " #   Column     Non-Null Count  Dtype  \n",
            "---  ------     --------------  -----  \n",
            " 0   Date       220 non-null    object \n",
            " 1   Open       219 non-null    float64\n",
            " 2   High       219 non-null    float64\n",
            " 3   Low        219 non-null    float64\n",
            " 4   Close      219 non-null    float64\n",
            " 5   Adj Close  219 non-null    float64\n",
            " 6   Volume     219 non-null    float64\n",
            "dtypes: float64(6), object(1)\n",
            "memory usage: 12.2+ KB\n"
          ],
          "name": "stdout"
        }
      ]
    },
    {
      "cell_type": "code",
      "metadata": {
        "id": "TvAtD-QW9LkD"
      },
      "source": [
        "dataset = dataset.dropna()"
      ],
      "execution_count": 11,
      "outputs": []
    },
    {
      "cell_type": "code",
      "metadata": {
        "id": "WKT9-k_h92xf",
        "outputId": "85b7bae3-b492-4ce4-c657-8f1585fe3b5e",
        "colab": {
          "base_uri": "https://localhost:8080/",
          "height": 204
        }
      },
      "source": [
        "dataset_previsor = dataset.iloc[0:208, 0:8]\n",
        "dataset_previsor.tail()"
      ],
      "execution_count": 31,
      "outputs": [
        {
          "output_type": "execute_result",
          "data": {
            "text/html": [
              "<div>\n",
              "<style scoped>\n",
              "    .dataframe tbody tr th:only-of-type {\n",
              "        vertical-align: middle;\n",
              "    }\n",
              "\n",
              "    .dataframe tbody tr th {\n",
              "        vertical-align: top;\n",
              "    }\n",
              "\n",
              "    .dataframe thead th {\n",
              "        text-align: right;\n",
              "    }\n",
              "</style>\n",
              "<table border=\"1\" class=\"dataframe\">\n",
              "  <thead>\n",
              "    <tr style=\"text-align: right;\">\n",
              "      <th></th>\n",
              "      <th>Date</th>\n",
              "      <th>Open</th>\n",
              "      <th>High</th>\n",
              "      <th>Low</th>\n",
              "      <th>Close</th>\n",
              "      <th>Adj Close</th>\n",
              "      <th>Volume</th>\n",
              "    </tr>\n",
              "  </thead>\n",
              "  <tbody>\n",
              "    <tr>\n",
              "      <th>204</th>\n",
              "      <td>2020-10-26</td>\n",
              "      <td>11.00</td>\n",
              "      <td>11.07</td>\n",
              "      <td>10.57</td>\n",
              "      <td>10.58</td>\n",
              "      <td>10.58</td>\n",
              "      <td>1135200.0</td>\n",
              "    </tr>\n",
              "    <tr>\n",
              "      <th>205</th>\n",
              "      <td>2020-10-27</td>\n",
              "      <td>10.65</td>\n",
              "      <td>10.71</td>\n",
              "      <td>10.51</td>\n",
              "      <td>10.54</td>\n",
              "      <td>10.54</td>\n",
              "      <td>1770700.0</td>\n",
              "    </tr>\n",
              "    <tr>\n",
              "      <th>206</th>\n",
              "      <td>2020-10-28</td>\n",
              "      <td>10.39</td>\n",
              "      <td>10.39</td>\n",
              "      <td>10.04</td>\n",
              "      <td>10.12</td>\n",
              "      <td>10.12</td>\n",
              "      <td>1398500.0</td>\n",
              "    </tr>\n",
              "    <tr>\n",
              "      <th>207</th>\n",
              "      <td>2020-10-29</td>\n",
              "      <td>10.11</td>\n",
              "      <td>10.18</td>\n",
              "      <td>9.60</td>\n",
              "      <td>9.99</td>\n",
              "      <td>9.99</td>\n",
              "      <td>2065600.0</td>\n",
              "    </tr>\n",
              "    <tr>\n",
              "      <th>208</th>\n",
              "      <td>2020-10-30</td>\n",
              "      <td>9.99</td>\n",
              "      <td>10.05</td>\n",
              "      <td>9.61</td>\n",
              "      <td>9.74</td>\n",
              "      <td>9.74</td>\n",
              "      <td>1813100.0</td>\n",
              "    </tr>\n",
              "  </tbody>\n",
              "</table>\n",
              "</div>"
            ],
            "text/plain": [
              "           Date   Open   High    Low  Close  Adj Close     Volume\n",
              "204  2020-10-26  11.00  11.07  10.57  10.58      10.58  1135200.0\n",
              "205  2020-10-27  10.65  10.71  10.51  10.54      10.54  1770700.0\n",
              "206  2020-10-28  10.39  10.39  10.04  10.12      10.12  1398500.0\n",
              "207  2020-10-29  10.11  10.18   9.60   9.99       9.99  2065600.0\n",
              "208  2020-10-30   9.99  10.05   9.61   9.74       9.74  1813100.0"
            ]
          },
          "metadata": {
            "tags": []
          },
          "execution_count": 31
        }
      ]
    },
    {
      "cell_type": "code",
      "metadata": {
        "id": "SYo7zNXFAKMX",
        "outputId": "325b0593-2f73-4838-bf1f-fa39bc7f0b0a",
        "colab": {
          "base_uri": "https://localhost:8080/",
          "height": 297
        }
      },
      "source": [
        "dataset_previsor.describe()"
      ],
      "execution_count": 32,
      "outputs": [
        {
          "output_type": "execute_result",
          "data": {
            "text/html": [
              "<div>\n",
              "<style scoped>\n",
              "    .dataframe tbody tr th:only-of-type {\n",
              "        vertical-align: middle;\n",
              "    }\n",
              "\n",
              "    .dataframe tbody tr th {\n",
              "        vertical-align: top;\n",
              "    }\n",
              "\n",
              "    .dataframe thead th {\n",
              "        text-align: right;\n",
              "    }\n",
              "</style>\n",
              "<table border=\"1\" class=\"dataframe\">\n",
              "  <thead>\n",
              "    <tr style=\"text-align: right;\">\n",
              "      <th></th>\n",
              "      <th>Open</th>\n",
              "      <th>High</th>\n",
              "      <th>Low</th>\n",
              "      <th>Close</th>\n",
              "      <th>Adj Close</th>\n",
              "      <th>Volume</th>\n",
              "    </tr>\n",
              "  </thead>\n",
              "  <tbody>\n",
              "    <tr>\n",
              "      <th>count</th>\n",
              "      <td>208.000000</td>\n",
              "      <td>208.000000</td>\n",
              "      <td>208.000000</td>\n",
              "      <td>208.000000</td>\n",
              "      <td>208.000000</td>\n",
              "      <td>2.080000e+02</td>\n",
              "    </tr>\n",
              "    <tr>\n",
              "      <th>mean</th>\n",
              "      <td>11.895625</td>\n",
              "      <td>12.212837</td>\n",
              "      <td>11.506010</td>\n",
              "      <td>11.854327</td>\n",
              "      <td>11.842865</td>\n",
              "      <td>1.800217e+06</td>\n",
              "    </tr>\n",
              "    <tr>\n",
              "      <th>std</th>\n",
              "      <td>2.898654</td>\n",
              "      <td>2.850157</td>\n",
              "      <td>2.875003</td>\n",
              "      <td>2.863271</td>\n",
              "      <td>2.842167</td>\n",
              "      <td>9.741304e+05</td>\n",
              "    </tr>\n",
              "    <tr>\n",
              "      <th>min</th>\n",
              "      <td>6.500000</td>\n",
              "      <td>8.120000</td>\n",
              "      <td>6.040000</td>\n",
              "      <td>6.850000</td>\n",
              "      <td>6.850000</td>\n",
              "      <td>4.243000e+05</td>\n",
              "    </tr>\n",
              "    <tr>\n",
              "      <th>25%</th>\n",
              "      <td>10.255000</td>\n",
              "      <td>10.545000</td>\n",
              "      <td>9.897500</td>\n",
              "      <td>10.117500</td>\n",
              "      <td>10.117500</td>\n",
              "      <td>1.125950e+06</td>\n",
              "    </tr>\n",
              "    <tr>\n",
              "      <th>50%</th>\n",
              "      <td>11.090000</td>\n",
              "      <td>11.430000</td>\n",
              "      <td>10.850000</td>\n",
              "      <td>11.090000</td>\n",
              "      <td>11.090000</td>\n",
              "      <td>1.540250e+06</td>\n",
              "    </tr>\n",
              "    <tr>\n",
              "      <th>75%</th>\n",
              "      <td>12.342500</td>\n",
              "      <td>12.787500</td>\n",
              "      <td>11.835000</td>\n",
              "      <td>12.385000</td>\n",
              "      <td>12.385000</td>\n",
              "      <td>2.244575e+06</td>\n",
              "    </tr>\n",
              "    <tr>\n",
              "      <th>max</th>\n",
              "      <td>19.469999</td>\n",
              "      <td>19.799999</td>\n",
              "      <td>19.100000</td>\n",
              "      <td>19.450001</td>\n",
              "      <td>19.381935</td>\n",
              "      <td>6.323400e+06</td>\n",
              "    </tr>\n",
              "  </tbody>\n",
              "</table>\n",
              "</div>"
            ],
            "text/plain": [
              "             Open        High         Low       Close   Adj Close        Volume\n",
              "count  208.000000  208.000000  208.000000  208.000000  208.000000  2.080000e+02\n",
              "mean    11.895625   12.212837   11.506010   11.854327   11.842865  1.800217e+06\n",
              "std      2.898654    2.850157    2.875003    2.863271    2.842167  9.741304e+05\n",
              "min      6.500000    8.120000    6.040000    6.850000    6.850000  4.243000e+05\n",
              "25%     10.255000   10.545000    9.897500   10.117500   10.117500  1.125950e+06\n",
              "50%     11.090000   11.430000   10.850000   11.090000   11.090000  1.540250e+06\n",
              "75%     12.342500   12.787500   11.835000   12.385000   12.385000  2.244575e+06\n",
              "max     19.469999   19.799999   19.100000   19.450001   19.381935  6.323400e+06"
            ]
          },
          "metadata": {
            "tags": []
          },
          "execution_count": 32
        }
      ]
    },
    {
      "cell_type": "code",
      "metadata": {
        "id": "J9mj4IJE7p9O",
        "outputId": "f00d417d-d501-4c84-e9bb-a587cf1cc1ba",
        "colab": {
          "base_uri": "https://localhost:8080/",
          "height": 390
        }
      },
      "source": [
        "dataset_futuro = dataset.iloc[208:219, 0:8]\n",
        "dataset_futuro.head(20)"
      ],
      "execution_count": 30,
      "outputs": [
        {
          "output_type": "execute_result",
          "data": {
            "text/html": [
              "<div>\n",
              "<style scoped>\n",
              "    .dataframe tbody tr th:only-of-type {\n",
              "        vertical-align: middle;\n",
              "    }\n",
              "\n",
              "    .dataframe tbody tr th {\n",
              "        vertical-align: top;\n",
              "    }\n",
              "\n",
              "    .dataframe thead th {\n",
              "        text-align: right;\n",
              "    }\n",
              "</style>\n",
              "<table border=\"1\" class=\"dataframe\">\n",
              "  <thead>\n",
              "    <tr style=\"text-align: right;\">\n",
              "      <th></th>\n",
              "      <th>Date</th>\n",
              "      <th>Open</th>\n",
              "      <th>High</th>\n",
              "      <th>Low</th>\n",
              "      <th>Close</th>\n",
              "      <th>Adj Close</th>\n",
              "      <th>Volume</th>\n",
              "    </tr>\n",
              "  </thead>\n",
              "  <tbody>\n",
              "    <tr>\n",
              "      <th>209</th>\n",
              "      <td>2020-11-03</td>\n",
              "      <td>9.91</td>\n",
              "      <td>10.04</td>\n",
              "      <td>9.55</td>\n",
              "      <td>9.65</td>\n",
              "      <td>9.65</td>\n",
              "      <td>2417900.0</td>\n",
              "    </tr>\n",
              "    <tr>\n",
              "      <th>210</th>\n",
              "      <td>2020-11-04</td>\n",
              "      <td>9.85</td>\n",
              "      <td>10.28</td>\n",
              "      <td>9.80</td>\n",
              "      <td>10.22</td>\n",
              "      <td>10.22</td>\n",
              "      <td>1110500.0</td>\n",
              "    </tr>\n",
              "    <tr>\n",
              "      <th>211</th>\n",
              "      <td>2020-11-05</td>\n",
              "      <td>10.38</td>\n",
              "      <td>10.53</td>\n",
              "      <td>10.16</td>\n",
              "      <td>10.41</td>\n",
              "      <td>10.41</td>\n",
              "      <td>1009800.0</td>\n",
              "    </tr>\n",
              "    <tr>\n",
              "      <th>212</th>\n",
              "      <td>2020-11-06</td>\n",
              "      <td>10.17</td>\n",
              "      <td>10.85</td>\n",
              "      <td>9.95</td>\n",
              "      <td>10.71</td>\n",
              "      <td>10.71</td>\n",
              "      <td>2509900.0</td>\n",
              "    </tr>\n",
              "    <tr>\n",
              "      <th>213</th>\n",
              "      <td>2020-11-09</td>\n",
              "      <td>11.08</td>\n",
              "      <td>11.80</td>\n",
              "      <td>10.95</td>\n",
              "      <td>11.78</td>\n",
              "      <td>11.78</td>\n",
              "      <td>3995600.0</td>\n",
              "    </tr>\n",
              "    <tr>\n",
              "      <th>214</th>\n",
              "      <td>2020-11-10</td>\n",
              "      <td>11.75</td>\n",
              "      <td>11.97</td>\n",
              "      <td>11.53</td>\n",
              "      <td>11.65</td>\n",
              "      <td>11.65</td>\n",
              "      <td>1663400.0</td>\n",
              "    </tr>\n",
              "    <tr>\n",
              "      <th>215</th>\n",
              "      <td>2020-11-11</td>\n",
              "      <td>11.65</td>\n",
              "      <td>11.83</td>\n",
              "      <td>11.30</td>\n",
              "      <td>11.65</td>\n",
              "      <td>11.65</td>\n",
              "      <td>1426500.0</td>\n",
              "    </tr>\n",
              "    <tr>\n",
              "      <th>216</th>\n",
              "      <td>2020-11-12</td>\n",
              "      <td>11.50</td>\n",
              "      <td>11.74</td>\n",
              "      <td>10.98</td>\n",
              "      <td>11.24</td>\n",
              "      <td>11.24</td>\n",
              "      <td>1844500.0</td>\n",
              "    </tr>\n",
              "    <tr>\n",
              "      <th>217</th>\n",
              "      <td>2020-11-13</td>\n",
              "      <td>11.24</td>\n",
              "      <td>11.61</td>\n",
              "      <td>10.95</td>\n",
              "      <td>11.56</td>\n",
              "      <td>11.56</td>\n",
              "      <td>1524100.0</td>\n",
              "    </tr>\n",
              "    <tr>\n",
              "      <th>218</th>\n",
              "      <td>2020-11-16</td>\n",
              "      <td>11.50</td>\n",
              "      <td>11.58</td>\n",
              "      <td>11.22</td>\n",
              "      <td>11.40</td>\n",
              "      <td>11.40</td>\n",
              "      <td>3646800.0</td>\n",
              "    </tr>\n",
              "    <tr>\n",
              "      <th>219</th>\n",
              "      <td>2020-11-17</td>\n",
              "      <td>11.30</td>\n",
              "      <td>11.54</td>\n",
              "      <td>10.96</td>\n",
              "      <td>11.04</td>\n",
              "      <td>11.04</td>\n",
              "      <td>2882900.0</td>\n",
              "    </tr>\n",
              "  </tbody>\n",
              "</table>\n",
              "</div>"
            ],
            "text/plain": [
              "           Date   Open   High    Low  Close  Adj Close     Volume\n",
              "209  2020-11-03   9.91  10.04   9.55   9.65       9.65  2417900.0\n",
              "210  2020-11-04   9.85  10.28   9.80  10.22      10.22  1110500.0\n",
              "211  2020-11-05  10.38  10.53  10.16  10.41      10.41  1009800.0\n",
              "212  2020-11-06  10.17  10.85   9.95  10.71      10.71  2509900.0\n",
              "213  2020-11-09  11.08  11.80  10.95  11.78      11.78  3995600.0\n",
              "214  2020-11-10  11.75  11.97  11.53  11.65      11.65  1663400.0\n",
              "215  2020-11-11  11.65  11.83  11.30  11.65      11.65  1426500.0\n",
              "216  2020-11-12  11.50  11.74  10.98  11.24      11.24  1844500.0\n",
              "217  2020-11-13  11.24  11.61  10.95  11.56      11.56  1524100.0\n",
              "218  2020-11-16  11.50  11.58  11.22  11.40      11.40  3646800.0\n",
              "219  2020-11-17  11.30  11.54  10.96  11.04      11.04  2882900.0"
            ]
          },
          "metadata": {
            "tags": []
          },
          "execution_count": 30
        }
      ]
    },
    {
      "cell_type": "markdown",
      "metadata": {
        "id": "jsC36jh3BU_c"
      },
      "source": [
        "O comportamento da bolsa se manteve tanto na abertura quanto no fechamento sem novidades, basicamente estáveis."
      ]
    },
    {
      "cell_type": "code",
      "metadata": {
        "id": "Rhikyv8I_V-7",
        "outputId": "14e3c84f-fecc-40d0-e636-fc111300b872",
        "colab": {
          "base_uri": "https://localhost:8080/",
          "height": 350
        }
      },
      "source": [
        "plt.figure(figsize=(20, 5))\n",
        "plt.plot(dataset_previsor['Open'], color = 'red', label = 'Abertura de Mercado')\n",
        "plt.plot(dataset_previsor['Close'], color = 'blue', label = 'Fechamento de Mercado')\n",
        "plt.title('Comportamento das Ações BKBR3 - 2020')\n",
        "plt.xlabel('Tempo')\n",
        "plt.ylabel('Yahoo Finance Brasil')\n",
        "plt.legend()\n",
        "plt.show()"
      ],
      "execution_count": 34,
      "outputs": [
        {
          "output_type": "display_data",
          "data": {
            "image/png": "[encoded data removed]",
            "text/plain": [
              "<Figure size 1440x360 with 1 Axes>"
            ]
          },
          "metadata": {
            "tags": [],
            "needs_background": "light"
          }
        }
      ]
    },
    {
      "cell_type": "code",
      "metadata": {
        "id": "xR58ZtzNBOo2"
      },
      "source": [
        "treinamento = dataset_previsor.iloc[:, 1:2].values"
      ],
      "execution_count": 36,
      "outputs": []
    },
    {
      "cell_type": "code",
      "metadata": {
        "id": "kMp8GotyCErL",
        "outputId": "182ea226-6d23-4235-a378-4e3b7d747237",
        "colab": {
          "base_uri": "https://localhost:8080/"
        }
      },
      "source": [
        "normalizacao = MinMaxScaler(feature_range = (0,1))\n",
        "treinamento_normalizado = normalizacao.fit_transform(treinamento)\n",
        "treinamento_normalizado[0]"
      ],
      "execution_count": 42,
      "outputs": [
        {
          "output_type": "execute_result",
          "data": {
            "text/plain": [
              "array([0.88280662])"
            ]
          },
          "metadata": {
            "tags": []
          },
          "execution_count": 42
        }
      ]
    },
    {
      "cell_type": "code",
      "metadata": {
        "id": "H9o1j5rACpn7",
        "outputId": "a536c144-95e1-4f6d-8263-e5bba2402c8e",
        "colab": {
          "base_uri": "https://localhost:8080/"
        }
      },
      "source": [
        "treinamento_normalizado.shape"
      ],
      "execution_count": 43,
      "outputs": [
        {
          "output_type": "execute_result",
          "data": {
            "text/plain": [
              "(208, 1)"
            ]
          },
          "metadata": {
            "tags": []
          },
          "execution_count": 43
        }
      ]
    },
    {
      "cell_type": "code",
      "metadata": {
        "id": "P5mwdsgmCzje"
      },
      "source": [
        "preditores = []\n",
        "preco_real = []\n",
        "\n",
        "for i in range(100, treinamento_normalizado.shape[0]):\n",
        "  preditores.append(treinamento_normalizado[i - 100: i, 0])\n",
        "  preco_real.append(treinamento_normalizado[i, 0])"
      ],
      "execution_count": 64,
      "outputs": []
    },
    {
      "cell_type": "code",
      "metadata": {
        "id": "d02s5AFcDVh8",
        "outputId": "7fb8357b-7b35-4a9f-ca4c-54de952e2160",
        "colab": {
          "base_uri": "https://localhost:8080/"
        }
      },
      "source": [
        "len(preditores)"
      ],
      "execution_count": 65,
      "outputs": [
        {
          "output_type": "execute_result",
          "data": {
            "text/plain": [
              "108"
            ]
          },
          "metadata": {
            "tags": []
          },
          "execution_count": 65
        }
      ]
    },
    {
      "cell_type": "code",
      "metadata": {
        "id": "PGBs_JDYDXdR",
        "outputId": "4c4f525a-45e3-4a96-f81c-7cd434e02ad1",
        "colab": {
          "base_uri": "https://localhost:8080/"
        }
      },
      "source": [
        "len(preco_real)"
      ],
      "execution_count": 66,
      "outputs": [
        {
          "output_type": "execute_result",
          "data": {
            "text/plain": [
              "108"
            ]
          },
          "metadata": {
            "tags": []
          },
          "execution_count": 66
        }
      ]
    },
    {
      "cell_type": "code",
      "metadata": {
        "id": "N1a21h6QDbhg"
      },
      "source": [
        "preditores, preco_real = (np.array(preditores), np.array(preco_real))"
      ],
      "execution_count": 68,
      "outputs": []
    },
    {
      "cell_type": "code",
      "metadata": {
        "id": "xkL3EIyHDtGa",
        "outputId": "5ccbaa47-5a23-4251-d4fe-aa472d52ce16",
        "colab": {
          "base_uri": "https://localhost:8080/"
        }
      },
      "source": [
        "preditores"
      ],
      "execution_count": 69,
      "outputs": [
        {
          "output_type": "execute_result",
          "data": {
            "text/plain": [
              "array([[0.88280662, 0.8126447 , 0.83423291, ..., 0.32382423, 0.4202005 ,\n",
              "        0.44718585],\n",
              "       [0.8126447 , 0.83423291, 0.84040099, ..., 0.4202005 , 0.44718585,\n",
              "        0.40015423],\n",
              "       [0.83423291, 0.84040099, 0.85350816, ..., 0.44718585, 0.40015423,\n",
              "        0.41942948],\n",
              "       ...,\n",
              "       [0.53970706, 0.54433312, 0.55898231, ..., 0.38396302, 0.34695454,\n",
              "        0.31996918],\n",
              "       [0.54433312, 0.55898231, 0.59753281, ..., 0.34695454, 0.31996918,\n",
              "        0.29992292],\n",
              "       [0.55898231, 0.59753281, 0.46106403, ..., 0.31996918, 0.29992292,\n",
              "        0.27833464]])"
            ]
          },
          "metadata": {
            "tags": []
          },
          "execution_count": 69
        }
      ]
    },
    {
      "cell_type": "code",
      "metadata": {
        "id": "s6SP4K9aD2XA",
        "outputId": "958c8cff-b94e-41cc-c25a-eabf54e175f1",
        "colab": {
          "base_uri": "https://localhost:8080/"
        }
      },
      "source": [
        "preditores.shape"
      ],
      "execution_count": 70,
      "outputs": [
        {
          "output_type": "execute_result",
          "data": {
            "text/plain": [
              "(108, 100)"
            ]
          },
          "metadata": {
            "tags": []
          },
          "execution_count": 70
        }
      ]
    },
    {
      "cell_type": "code",
      "metadata": {
        "id": "bjhgLLUnDt_q",
        "outputId": "5c772203-0f27-48d0-cd17-6f9adb84339e",
        "colab": {
          "base_uri": "https://localhost:8080/"
        }
      },
      "source": [
        "preditores = np.reshape(preditores, (preditores.shape[0], preditores.shape[1], 1))\n",
        "preditores.shape"
      ],
      "execution_count": 71,
      "outputs": [
        {
          "output_type": "execute_result",
          "data": {
            "text/plain": [
              "(108, 100, 1)"
            ]
          },
          "metadata": {
            "tags": []
          },
          "execution_count": 71
        }
      ]
    },
    {
      "cell_type": "code",
      "metadata": {
        "id": "yyy6x59fEAGh",
        "outputId": "c472d1c4-61d8-46f4-9c59-45bba41c9b4e",
        "colab": {
          "base_uri": "https://localhost:8080/"
        }
      },
      "source": [
        "model = Sequential()\n",
        "\n",
        "model.add(LSTM(units=100, return_sequences=True, input_shape = (preditores.shape[1], 1)))\n",
        "\n",
        "model.add(LSTM(units=100, return_sequences=True))\n",
        "model.add(LSTM(units=100, return_sequences=True))\n",
        "\n",
        "model.add(LSTM(units=50))\n",
        "model.add(Dropout(0.2))\n",
        "\n",
        "model.add(Dense(units = 1, activation='linear'))\n",
        "\n",
        "model.compile(optimizer = 'rmsprop', \n",
        "              loss = 'mean_squared_error',\n",
        "              metrics = ['mean_absolute_error'])\n",
        "\n",
        "model.summary()"
      ],
      "execution_count": 73,
      "outputs": [
        {
          "output_type": "stream",
          "text": [
            "Model: \"sequential\"\n",
            "_________________________________________________________________\n",
            "Layer (type)                 Output Shape              Param #   \n",
            "=================================================================\n",
            "lstm (LSTM)                  (None, 100, 100)          40800     \n",
            "_________________________________________________________________\n",
            "lstm_1 (LSTM)                (None, 100, 100)          80400     \n",
            "_________________________________________________________________\n",
            "lstm_2 (LSTM)                (None, 100, 100)          80400     \n",
            "_________________________________________________________________\n",
            "lstm_3 (LSTM)                (None, 50)                30200     \n",
            "_________________________________________________________________\n",
            "dropout (Dropout)            (None, 50)                0         \n",
            "_________________________________________________________________\n",
            "dense (Dense)                (None, 1)                 51        \n",
            "=================================================================\n",
            "Total params: 231,851\n",
            "Trainable params: 231,851\n",
            "Non-trainable params: 0\n",
            "_________________________________________________________________\n"
          ],
          "name": "stdout"
        }
      ]
    },
    {
      "cell_type": "code",
      "metadata": {
        "id": "0KeETkhtIgj9"
      },
      "source": [
        "history = model.fit(preditores, preco_real, epochs=1000, batch_size= 32)"
      ],
      "execution_count": null,
      "outputs": []
    }
  ]
}