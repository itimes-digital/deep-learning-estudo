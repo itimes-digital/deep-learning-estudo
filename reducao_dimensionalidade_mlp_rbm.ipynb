{
  "nbformat": 4,
  "nbformat_minor": 0,
  "metadata": {
    "colab": {
      "name": "reducao_dimensionalidade_mlp_rbm.ipynb",
      "provenance": [],
      "authorship_tag": "ABX9TyOpVdRaNbo/uBthEeEJcrUC",
      "include_colab_link": true
    },
    "kernelspec": {
      "name": "python3",
      "display_name": "Python 3"
    }
  },
  "cells": [
    {
      "cell_type": "markdown",
      "metadata": {
        "id": "view-in-github",
        "colab_type": "text"
      },
      "source": [
        "<a href=\"https://colab.research.google.com/github/itimes-digital/deep-learning-estudo/blob/main/reducao_dimensionalidade_mlp_rbm.ipynb\" target=\"_parent\"><img src=\"https://colab.research.google.com/assets/colab-badge.svg\" alt=\"Open In Colab\"/></a>"
      ]
    },
    {
      "cell_type": "markdown",
      "metadata": {
        "id": "2PdGbI7rKQFQ"
      },
      "source": [
        "# Uso de Restricted Boltzmann Machine e MultiLayer Perceptron, ambos da biblioteca SciKit-Learn, com o objetivo de testar possibilidade de redução de dimensionalidade ou não para classificar dígitos."
      ]
    },
    {
      "cell_type": "code",
      "metadata": {
        "id": "ZED7yfW1ASo3"
      },
      "source": [
        "import pandas as pd\n",
        "import numpy as np\n",
        "from sklearn.preprocessing import MinMaxScaler\n",
        "from sklearn.model_selection import train_test_split\n",
        "from sklearn import datasets, metrics\n",
        "from sklearn.pipeline import Pipeline\n",
        "from sklearn.neural_network import MLPClassifier, BernoulliRBM\n",
        "import matplotlib.pyplot as plt"
      ],
      "execution_count": 16,
      "outputs": []
    },
    {
      "cell_type": "code",
      "metadata": {
        "id": "kFyCSVt0CQiU",
        "outputId": "01d5e705-9c9b-4854-87c7-12f7b258b046",
        "colab": {
          "base_uri": "https://localhost:8080/"
        }
      },
      "source": [
        "base = datasets.load_digits()\n",
        "base"
      ],
      "execution_count": 3,
      "outputs": [
        {
          "output_type": "execute_result",
          "data": {
            "text/plain": [
              "{'DESCR': \".. _digits_dataset:\\n\\nOptical recognition of handwritten digits dataset\\n--------------------------------------------------\\n\\n**Data Set Characteristics:**\\n\\n    :Number of Instances: 5620\\n    :Number of Attributes: 64\\n    :Attribute Information: 8x8 image of integer pixels in the range 0..16.\\n    :Missing Attribute Values: None\\n    :Creator: E. Alpaydin (alpaydin '@' boun.edu.tr)\\n    :Date: July; 1998\\n\\nThis is a copy of the test set of the UCI ML hand-written digits datasets\\nhttps://archive.ics.uci.edu/ml/datasets/Optical+Recognition+of+Handwritten+Digits\\n\\nThe data set contains images of hand-written digits: 10 classes where\\neach class refers to a digit.\\n\\nPreprocessing programs made available by NIST were used to extract\\nnormalized bitmaps of handwritten digits from a preprinted form. From a\\ntotal of 43 people, 30 contributed to the training set and different 13\\nto the test set. 32x32 bitmaps are divided into nonoverlapping blocks of\\n4x4 and the number of on pixels are counted in each block. This generates\\nan input matrix of 8x8 where each element is an integer in the range\\n0..16. This reduces dimensionality and gives invariance to small\\ndistortions.\\n\\nFor info on NIST preprocessing routines, see M. D. Garris, J. L. Blue, G.\\nT. Candela, D. L. Dimmick, J. Geist, P. J. Grother, S. A. Janet, and C.\\nL. Wilson, NIST Form-Based Handprint Recognition System, NISTIR 5469,\\n1994.\\n\\n.. topic:: References\\n\\n  - C. Kaynak (1995) Methods of Combining Multiple Classifiers and Their\\n    Applications to Handwritten Digit Recognition, MSc Thesis, Institute of\\n    Graduate Studies in Science and Engineering, Bogazici University.\\n  - E. Alpaydin, C. Kaynak (1998) Cascading Classifiers, Kybernetika.\\n  - Ken Tang and Ponnuthurai N. Suganthan and Xi Yao and A. Kai Qin.\\n    Linear dimensionalityreduction using relevance weighted LDA. School of\\n    Electrical and Electronic Engineering Nanyang Technological University.\\n    2005.\\n  - Claudio Gentile. A New Approximate Maximal Margin Classification\\n    Algorithm. NIPS. 2000.\",\n",
              " 'data': array([[ 0.,  0.,  5., ...,  0.,  0.,  0.],\n",
              "        [ 0.,  0.,  0., ..., 10.,  0.,  0.],\n",
              "        [ 0.,  0.,  0., ..., 16.,  9.,  0.],\n",
              "        ...,\n",
              "        [ 0.,  0.,  1., ...,  6.,  0.,  0.],\n",
              "        [ 0.,  0.,  2., ..., 12.,  0.,  0.],\n",
              "        [ 0.,  0., 10., ..., 12.,  1.,  0.]]),\n",
              " 'images': array([[[ 0.,  0.,  5., ...,  1.,  0.,  0.],\n",
              "         [ 0.,  0., 13., ..., 15.,  5.,  0.],\n",
              "         [ 0.,  3., 15., ..., 11.,  8.,  0.],\n",
              "         ...,\n",
              "         [ 0.,  4., 11., ..., 12.,  7.,  0.],\n",
              "         [ 0.,  2., 14., ..., 12.,  0.,  0.],\n",
              "         [ 0.,  0.,  6., ...,  0.,  0.,  0.]],\n",
              " \n",
              "        [[ 0.,  0.,  0., ...,  5.,  0.,  0.],\n",
              "         [ 0.,  0.,  0., ...,  9.,  0.,  0.],\n",
              "         [ 0.,  0.,  3., ...,  6.,  0.,  0.],\n",
              "         ...,\n",
              "         [ 0.,  0.,  1., ...,  6.,  0.,  0.],\n",
              "         [ 0.,  0.,  1., ...,  6.,  0.,  0.],\n",
              "         [ 0.,  0.,  0., ..., 10.,  0.,  0.]],\n",
              " \n",
              "        [[ 0.,  0.,  0., ..., 12.,  0.,  0.],\n",
              "         [ 0.,  0.,  3., ..., 14.,  0.,  0.],\n",
              "         [ 0.,  0.,  8., ..., 16.,  0.,  0.],\n",
              "         ...,\n",
              "         [ 0.,  9., 16., ...,  0.,  0.,  0.],\n",
              "         [ 0.,  3., 13., ..., 11.,  5.,  0.],\n",
              "         [ 0.,  0.,  0., ..., 16.,  9.,  0.]],\n",
              " \n",
              "        ...,\n",
              " \n",
              "        [[ 0.,  0.,  1., ...,  1.,  0.,  0.],\n",
              "         [ 0.,  0., 13., ...,  2.,  1.,  0.],\n",
              "         [ 0.,  0., 16., ..., 16.,  5.,  0.],\n",
              "         ...,\n",
              "         [ 0.,  0., 16., ..., 15.,  0.,  0.],\n",
              "         [ 0.,  0., 15., ..., 16.,  0.,  0.],\n",
              "         [ 0.,  0.,  2., ...,  6.,  0.,  0.]],\n",
              " \n",
              "        [[ 0.,  0.,  2., ...,  0.,  0.,  0.],\n",
              "         [ 0.,  0., 14., ..., 15.,  1.,  0.],\n",
              "         [ 0.,  4., 16., ..., 16.,  7.,  0.],\n",
              "         ...,\n",
              "         [ 0.,  0.,  0., ..., 16.,  2.,  0.],\n",
              "         [ 0.,  0.,  4., ..., 16.,  2.,  0.],\n",
              "         [ 0.,  0.,  5., ..., 12.,  0.,  0.]],\n",
              " \n",
              "        [[ 0.,  0., 10., ...,  1.,  0.,  0.],\n",
              "         [ 0.,  2., 16., ...,  1.,  0.,  0.],\n",
              "         [ 0.,  0., 15., ..., 15.,  0.,  0.],\n",
              "         ...,\n",
              "         [ 0.,  4., 16., ..., 16.,  6.,  0.],\n",
              "         [ 0.,  8., 16., ..., 16.,  8.,  0.],\n",
              "         [ 0.,  1.,  8., ..., 12.,  1.,  0.]]]),\n",
              " 'target': array([0, 1, 2, ..., 8, 9, 8]),\n",
              " 'target_names': array([0, 1, 2, 3, 4, 5, 6, 7, 8, 9])}"
            ]
          },
          "metadata": {
            "tags": []
          },
          "execution_count": 3
        }
      ]
    },
    {
      "cell_type": "code",
      "metadata": {
        "id": "kgrOLKhJC-gn",
        "outputId": "d7ca276d-10d2-47ac-a584-125c15f2a9de",
        "colab": {
          "base_uri": "https://localhost:8080/"
        }
      },
      "source": [
        "previsores = np.asarray(base.data, 'float32');\n",
        "classe = base.target\n",
        "\n",
        "previsores.shape, classe.shape"
      ],
      "execution_count": 4,
      "outputs": [
        {
          "output_type": "execute_result",
          "data": {
            "text/plain": [
              "((1797, 64), (1797,))"
            ]
          },
          "metadata": {
            "tags": []
          },
          "execution_count": 4
        }
      ]
    },
    {
      "cell_type": "code",
      "metadata": {
        "id": "J8XwrG9CDYv5",
        "outputId": "652f598e-9d32-4985-abf5-88125d8f9586",
        "colab": {
          "base_uri": "https://localhost:8080/"
        }
      },
      "source": [
        "previsores"
      ],
      "execution_count": 5,
      "outputs": [
        {
          "output_type": "execute_result",
          "data": {
            "text/plain": [
              "array([[ 0.,  0.,  5., ...,  0.,  0.,  0.],\n",
              "       [ 0.,  0.,  0., ..., 10.,  0.,  0.],\n",
              "       [ 0.,  0.,  0., ..., 16.,  9.,  0.],\n",
              "       ...,\n",
              "       [ 0.,  0.,  1., ...,  6.,  0.,  0.],\n",
              "       [ 0.,  0.,  2., ..., 12.,  0.,  0.],\n",
              "       [ 0.,  0., 10., ..., 12.,  1.,  0.]], dtype=float32)"
            ]
          },
          "metadata": {
            "tags": []
          },
          "execution_count": 5
        }
      ]
    },
    {
      "cell_type": "code",
      "metadata": {
        "id": "MfN2LVfJGVid",
        "outputId": "ecfa4775-f302-4e61-9d69-e854cbd933a1",
        "colab": {
          "base_uri": "https://localhost:8080/"
        }
      },
      "source": [
        "scaler = MinMaxScaler(feature_range = (0,1));\n",
        "previsores = scaler.fit_transform(previsores)\n",
        "previsores"
      ],
      "execution_count": 11,
      "outputs": [
        {
          "output_type": "execute_result",
          "data": {
            "text/plain": [
              "array([[0.    , 0.    , 0.3125, ..., 0.    , 0.    , 0.    ],\n",
              "       [0.    , 0.    , 0.    , ..., 0.625 , 0.    , 0.    ],\n",
              "       [0.    , 0.    , 0.    , ..., 1.    , 0.5625, 0.    ],\n",
              "       ...,\n",
              "       [0.    , 0.    , 0.0625, ..., 0.375 , 0.    , 0.    ],\n",
              "       [0.    , 0.    , 0.125 , ..., 0.75  , 0.    , 0.    ],\n",
              "       [0.    , 0.    , 0.625 , ..., 0.75  , 0.0625, 0.    ]],\n",
              "      dtype=float32)"
            ]
          },
          "metadata": {
            "tags": []
          },
          "execution_count": 11
        }
      ]
    },
    {
      "cell_type": "code",
      "metadata": {
        "id": "95uYrLu2DalZ"
      },
      "source": [
        "x_train, x_test, y_train, y_test = train_test_split(previsores, \n",
        "                                                    classe, \n",
        "                                                    test_size = 0.2,\n",
        "                                                    random_state = 0)"
      ],
      "execution_count": 12,
      "outputs": []
    },
    {
      "cell_type": "code",
      "metadata": {
        "id": "_0lImwFgD0Zw",
        "outputId": "ba931724-e15f-4002-89b6-60ae823c8462",
        "colab": {
          "base_uri": "https://localhost:8080/"
        }
      },
      "source": [
        "x_train.shape, x_test.shape, y_train.shape, y_test.shape"
      ],
      "execution_count": 13,
      "outputs": [
        {
          "output_type": "execute_result",
          "data": {
            "text/plain": [
              "((1437, 64), (360, 64), (1437,), (360,))"
            ]
          },
          "metadata": {
            "tags": []
          },
          "execution_count": 13
        }
      ]
    },
    {
      "cell_type": "markdown",
      "metadata": {
        "id": "brtiRBT3EB7Y"
      },
      "source": [
        "## Construindo uma Restricted Boltzmann Machine para redução de dimensionalidade"
      ]
    },
    {
      "cell_type": "code",
      "metadata": {
        "id": "0SmYsmcCD-Xs"
      },
      "source": [
        "rbm = BernoulliRBM(random_state = 10)\n",
        "\n",
        "# epochs\n",
        "rbm.n_iter = 1000\n",
        "\n",
        "# nós/neurônios da camada escondida da RBM\n",
        "rbm.n_components = 50\n",
        "\n",
        "mlp = MLPClassifier(random_state = 10, \n",
        "                    max_iter = 1000,\n",
        "                    activation = 'logistic',\n",
        "                    batch_size = 100);"
      ],
      "execution_count": 14,
      "outputs": []
    },
    {
      "cell_type": "code",
      "metadata": {
        "id": "k4dtel7HF1Tk",
        "outputId": "7bc1bd50-04f3-40f1-c919-830659c825b9",
        "colab": {
          "base_uri": "https://localhost:8080/"
        }
      },
      "source": [
        "classificador_pipeline = Pipeline(steps = [('rbm', rbm),\n",
        "                                           ('mlp', mlp)])\n",
        "\n",
        "classificador_pipeline.fit(x_train, y_train)"
      ],
      "execution_count": 15,
      "outputs": [
        {
          "output_type": "execute_result",
          "data": {
            "text/plain": [
              "Pipeline(memory=None,\n",
              "         steps=[('rbm',\n",
              "                 BernoulliRBM(batch_size=10, learning_rate=0.1, n_components=50,\n",
              "                              n_iter=1000, random_state=10, verbose=0)),\n",
              "                ('mlp',\n",
              "                 MLPClassifier(activation='logistic', alpha=0.0001,\n",
              "                               batch_size=100, beta_1=0.9, beta_2=0.999,\n",
              "                               early_stopping=False, epsilon=1e-08,\n",
              "                               hidden_layer_sizes=(100,),\n",
              "                               learning_rate='constant',\n",
              "                               learning_rate_init=0.001, max_fun=15000,\n",
              "                               max_iter=1000, momentum=0.9, n_iter_no_change=10,\n",
              "                               nesterovs_momentum=True, power_t=0.5,\n",
              "                               random_state=10, shuffle=True, solver='adam',\n",
              "                               tol=0.0001, validation_fraction=0.1,\n",
              "                               verbose=False, warm_start=False))],\n",
              "         verbose=False)"
            ]
          },
          "metadata": {
            "tags": []
          },
          "execution_count": 15
        }
      ]
    },
    {
      "cell_type": "code",
      "metadata": {
        "id": "_96wDDonGrqF",
        "outputId": "12499381-8182-4af4-dc67-9f832abcf1e5",
        "colab": {
          "base_uri": "https://localhost:8080/",
          "height": 569
        }
      },
      "source": [
        "plt.figure(figsize = (20,20))\n",
        "\n",
        "for i, comp in enumerate(rbm.components_):\n",
        "  plt.subplot(10,10, i + 1);\n",
        "  plt.imshow(comp.reshape((8,8)), cmap = plt.cm.gray_r)\n",
        "  plt.xticks(())\n",
        "  plt.yticks(())\n",
        "plt.show()"
      ],
      "execution_count": 18,
      "outputs": [
        {
          "output_type": "display_data",
          "data": {
            "image/png": "[encoded data removed]",
            "text/plain": [
              "<Figure size 1440x1440 with 50 Axes>"
            ]
          },
          "metadata": {
            "tags": []
          }
        }
      ]
    },
    {
      "cell_type": "code",
      "metadata": {
        "id": "S7VJ9Dr8Hdy5",
        "outputId": "ebdc00ef-c8f9-42d5-871f-ed81d5c53e8c",
        "colab": {
          "base_uri": "https://localhost:8080/"
        }
      },
      "source": [
        "previsoes_com_rbm_mlp = classificador_pipeline.predict(x_test);\n",
        "previsoes_com_rbm_mlp"
      ],
      "execution_count": 19,
      "outputs": [
        {
          "output_type": "execute_result",
          "data": {
            "text/plain": [
              "array([2, 8, 2, 6, 6, 7, 1, 9, 8, 5, 2, 8, 6, 6, 6, 6, 1, 0, 5, 8, 8, 7,\n",
              "       8, 4, 7, 5, 4, 9, 2, 9, 4, 7, 6, 8, 9, 4, 3, 1, 0, 1, 8, 6, 7, 7,\n",
              "       1, 0, 4, 6, 2, 1, 9, 6, 7, 9, 0, 0, 5, 1, 6, 3, 0, 2, 3, 4, 1, 9,\n",
              "       2, 6, 9, 1, 8, 3, 5, 1, 2, 8, 2, 2, 9, 7, 2, 3, 6, 0, 5, 9, 7, 5,\n",
              "       1, 2, 9, 9, 3, 1, 7, 7, 4, 8, 5, 8, 5, 5, 2, 5, 9, 0, 7, 1, 4, 7,\n",
              "       3, 4, 8, 9, 7, 9, 8, 2, 6, 9, 2, 5, 8, 4, 6, 7, 0, 6, 1, 5, 3, 9,\n",
              "       9, 5, 9, 9, 5, 7, 5, 6, 2, 8, 6, 9, 6, 1, 5, 1, 5, 9, 9, 1, 5, 3,\n",
              "       6, 1, 8, 9, 9, 7, 6, 7, 6, 5, 6, 0, 8, 8, 9, 3, 6, 1, 0, 4, 1, 6,\n",
              "       3, 8, 6, 7, 4, 9, 6, 3, 0, 9, 3, 3, 0, 7, 7, 5, 7, 8, 0, 7, 8, 9,\n",
              "       6, 4, 5, 0, 1, 4, 6, 4, 3, 3, 0, 9, 5, 9, 2, 1, 4, 2, 1, 6, 8, 9,\n",
              "       2, 4, 9, 3, 7, 6, 2, 3, 3, 1, 6, 9, 3, 6, 3, 2, 2, 0, 7, 6, 1, 1,\n",
              "       3, 7, 2, 7, 1, 5, 5, 7, 5, 2, 3, 7, 2, 7, 5, 5, 7, 0, 9, 1, 6, 5,\n",
              "       9, 7, 4, 3, 8, 0, 3, 6, 4, 6, 3, 2, 6, 8, 8, 8, 4, 6, 7, 5, 2, 4,\n",
              "       5, 3, 2, 4, 6, 9, 4, 5, 4, 3, 4, 6, 2, 9, 0, 1, 7, 2, 0, 9, 6, 0,\n",
              "       4, 2, 0, 7, 5, 8, 5, 7, 8, 2, 8, 4, 3, 7, 2, 6, 9, 1, 5, 1, 0, 8,\n",
              "       2, 8, 9, 5, 6, 8, 2, 7, 2, 1, 5, 1, 6, 4, 5, 0, 9, 4, 1, 1, 7, 0,\n",
              "       8, 9, 0, 5, 4, 8, 2, 8])"
            ]
          },
          "metadata": {
            "tags": []
          },
          "execution_count": 19
        }
      ]
    },
    {
      "cell_type": "code",
      "metadata": {
        "id": "CnOJmzEtHvx5",
        "outputId": "2fe9f840-27b7-4216-a7ea-0e88d6fa1f78",
        "colab": {
          "base_uri": "https://localhost:8080/"
        }
      },
      "source": [
        "\n",
        "y_test[0], y_test[1], y_test[2], y_test[3], y_test[4], y_test[5], y_test[6], y_test[7], y_test[8]"
      ],
      "execution_count": 22,
      "outputs": [
        {
          "output_type": "execute_result",
          "data": {
            "text/plain": [
              "(2, 8, 2, 6, 6, 7, 1, 9, 8)"
            ]
          },
          "metadata": {
            "tags": []
          },
          "execution_count": 22
        }
      ]
    },
    {
      "cell_type": "code",
      "metadata": {
        "id": "of2pdjJ1H70q",
        "outputId": "6032eac3-c3df-4aa9-8541-2ef472168954",
        "colab": {
          "base_uri": "https://localhost:8080/"
        }
      },
      "source": [
        "precisao_com_rbm_mlp = metrics.accuracy_score(previsoes_com_rbm_mlp, y_test)\n",
        "precisao_com_rbm_mlp"
      ],
      "execution_count": 23,
      "outputs": [
        {
          "output_type": "execute_result",
          "data": {
            "text/plain": [
              "0.9555555555555556"
            ]
          },
          "metadata": {
            "tags": []
          },
          "execution_count": 23
        }
      ]
    },
    {
      "cell_type": "code",
      "metadata": {
        "id": "qzxHKDhhIWUf",
        "outputId": "640226b0-685e-409a-a09d-27cc8dc3b2fc",
        "colab": {
          "base_uri": "https://localhost:8080/"
        }
      },
      "source": [
        "mlp = MLPClassifier(random_state = 10, \n",
        "                    max_iter = 1000,\n",
        "                    activation = 'logistic',\n",
        "                    batch_size = 100);\n",
        "\n",
        "mlp.fit(x_train, y_train)\n",
        "previsao_sem_rbm = mlp.predict(x_test)\n",
        "previsao_sem_rbm"
      ],
      "execution_count": 24,
      "outputs": [
        {
          "output_type": "execute_result",
          "data": {
            "text/plain": [
              "array([2, 8, 2, 6, 6, 7, 1, 9, 8, 5, 2, 8, 6, 6, 6, 6, 1, 0, 5, 8, 8, 7,\n",
              "       8, 4, 7, 5, 4, 9, 2, 9, 4, 7, 6, 8, 9, 4, 3, 1, 0, 1, 8, 6, 7, 7,\n",
              "       1, 0, 7, 6, 2, 1, 9, 6, 7, 9, 0, 0, 5, 1, 6, 3, 0, 2, 3, 4, 1, 9,\n",
              "       2, 6, 9, 1, 8, 3, 5, 1, 2, 8, 2, 2, 9, 7, 2, 3, 6, 0, 5, 3, 7, 5,\n",
              "       1, 2, 9, 9, 3, 1, 7, 7, 4, 8, 5, 8, 5, 5, 2, 5, 9, 0, 7, 1, 4, 4,\n",
              "       3, 4, 8, 9, 7, 9, 8, 2, 1, 5, 2, 5, 8, 4, 1, 7, 0, 6, 1, 5, 5, 9,\n",
              "       9, 5, 9, 9, 5, 7, 5, 6, 2, 8, 6, 9, 6, 1, 5, 1, 5, 9, 9, 1, 5, 3,\n",
              "       6, 1, 8, 9, 8, 7, 6, 7, 6, 5, 6, 0, 8, 8, 9, 8, 6, 1, 0, 4, 1, 6,\n",
              "       3, 8, 6, 7, 4, 9, 6, 3, 0, 3, 3, 3, 0, 7, 7, 5, 7, 8, 0, 7, 8, 9,\n",
              "       6, 4, 5, 0, 1, 4, 6, 4, 3, 3, 0, 9, 5, 9, 2, 9, 4, 2, 1, 6, 8, 9,\n",
              "       2, 4, 9, 3, 7, 6, 2, 3, 3, 1, 6, 9, 3, 6, 3, 2, 2, 0, 7, 6, 1, 1,\n",
              "       9, 7, 2, 7, 8, 5, 5, 7, 5, 2, 3, 7, 2, 7, 5, 5, 7, 0, 9, 1, 6, 5,\n",
              "       9, 7, 4, 3, 8, 0, 3, 6, 4, 6, 3, 2, 6, 8, 8, 8, 4, 6, 7, 5, 2, 4,\n",
              "       5, 3, 2, 4, 6, 9, 4, 5, 4, 3, 4, 6, 2, 9, 0, 8, 7, 2, 0, 9, 6, 0,\n",
              "       4, 2, 0, 7, 9, 8, 5, 4, 8, 2, 8, 4, 3, 7, 2, 6, 9, 1, 5, 1, 0, 8,\n",
              "       2, 8, 9, 5, 6, 8, 2, 7, 2, 1, 5, 1, 6, 4, 5, 0, 9, 4, 1, 1, 7, 0,\n",
              "       8, 9, 0, 5, 4, 3, 8, 8])"
            ]
          },
          "metadata": {
            "tags": []
          },
          "execution_count": 24
        }
      ]
    },
    {
      "cell_type": "code",
      "metadata": {
        "id": "9nvszWNdI5-B",
        "outputId": "1b4a928f-69a8-4361-9d77-5b67a3271a33",
        "colab": {
          "base_uri": "https://localhost:8080/"
        }
      },
      "source": [
        "mlp.score(x_test, y_test)"
      ],
      "execution_count": 25,
      "outputs": [
        {
          "output_type": "execute_result",
          "data": {
            "text/plain": [
              "0.9777777777777777"
            ]
          },
          "metadata": {
            "tags": []
          },
          "execution_count": 25
        }
      ]
    }
  ]
}