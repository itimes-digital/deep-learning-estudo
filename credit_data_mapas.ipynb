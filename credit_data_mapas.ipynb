{
  "nbformat": 4,
  "nbformat_minor": 0,
  "metadata": {
    "colab": {
      "name": "credit_data_mapas.ipynb",
      "provenance": [],
      "authorship_tag": "ABX9TyNE+28+yIsrWW2ABiWNVf5y",
      "include_colab_link": true
    },
    "kernelspec": {
      "name": "python3",
      "display_name": "Python 3"
    }
  },
  "cells": [
    {
      "cell_type": "markdown",
      "metadata": {
        "id": "view-in-github",
        "colab_type": "text"
      },
      "source": [
        "<a href=\"https://colab.research.google.com/github/itimes-digital/deep-learning-estudo/blob/main/credit_data_mapas.ipynb\" target=\"_parent\"><img src=\"https://colab.research.google.com/assets/colab-badge.svg\" alt=\"Open In Colab\"/></a>"
      ]
    },
    {
      "cell_type": "code",
      "metadata": {
        "id": "EP39GzOPHLGc"
      },
      "source": [
        "import pandas as pd\n",
        "import numpy as np\n",
        "from sklearn.preprocessing import MinMaxScaler"
      ],
      "execution_count": 13,
      "outputs": []
    },
    {
      "cell_type": "code",
      "metadata": {
        "colab": {
          "base_uri": "https://localhost:8080/"
        },
        "id": "iRCuSVOyJnrg",
        "outputId": "96dc9c3b-e1f2-4548-8348-081ac8d1801b"
      },
      "source": [
        "pip install Minisom"
      ],
      "execution_count": 18,
      "outputs": [
        {
          "output_type": "stream",
          "text": [
            "Collecting Minisom\n",
            "  Downloading https://files.pythonhosted.org/packages/69/3c/a5ad0d36137285cdffdd5cad105ec2eb3c3ddfbd3254a324993ab51d3401/MiniSom-2.2.7.tar.gz\n",
            "Building wheels for collected packages: Minisom\n",
            "  Building wheel for Minisom (setup.py) ... \u001b[?25l\u001b[?25hdone\n",
            "  Created wheel for Minisom: filename=MiniSom-2.2.7-cp36-none-any.whl size=8607 sha256=208310cecd9547e2ae5ba71975274135b5971db5259ffda06198fdd75b18f0a6\n",
            "  Stored in directory: /root/.cache/pip/wheels/db/9a/af/0fca4ced67fec66c00998c4bf55b13f0a4c882ee775f278862\n",
            "Successfully built Minisom\n",
            "Installing collected packages: Minisom\n",
            "Successfully installed Minisom-2.2.7\n"
          ],
          "name": "stdout"
        }
      ]
    },
    {
      "cell_type": "code",
      "metadata": {
        "id": "_fItKtAbHYXQ",
        "colab": {
          "base_uri": "https://localhost:8080/",
          "height": 204
        },
        "outputId": "a5465567-f446-484d-ab96-75cee16a8442"
      },
      "source": [
        "base = pd.read_csv('https://raw.githubusercontent.com/itimes-digital/estudo-python-git/master/machine-learning/dataset/credit_data.csv')\n",
        "base.head()"
      ],
      "execution_count": 3,
      "outputs": [
        {
          "output_type": "execute_result",
          "data": {
            "text/html": [
              "<div>\n",
              "<style scoped>\n",
              "    .dataframe tbody tr th:only-of-type {\n",
              "        vertical-align: middle;\n",
              "    }\n",
              "\n",
              "    .dataframe tbody tr th {\n",
              "        vertical-align: top;\n",
              "    }\n",
              "\n",
              "    .dataframe thead th {\n",
              "        text-align: right;\n",
              "    }\n",
              "</style>\n",
              "<table border=\"1\" class=\"dataframe\">\n",
              "  <thead>\n",
              "    <tr style=\"text-align: right;\">\n",
              "      <th></th>\n",
              "      <th>i#clientid</th>\n",
              "      <th>income</th>\n",
              "      <th>age</th>\n",
              "      <th>loan</th>\n",
              "      <th>c#default</th>\n",
              "    </tr>\n",
              "  </thead>\n",
              "  <tbody>\n",
              "    <tr>\n",
              "      <th>0</th>\n",
              "      <td>1</td>\n",
              "      <td>66155.925095</td>\n",
              "      <td>59.017015</td>\n",
              "      <td>8106.532131</td>\n",
              "      <td>0</td>\n",
              "    </tr>\n",
              "    <tr>\n",
              "      <th>1</th>\n",
              "      <td>2</td>\n",
              "      <td>34415.153966</td>\n",
              "      <td>48.117153</td>\n",
              "      <td>6564.745018</td>\n",
              "      <td>0</td>\n",
              "    </tr>\n",
              "    <tr>\n",
              "      <th>2</th>\n",
              "      <td>3</td>\n",
              "      <td>57317.170063</td>\n",
              "      <td>63.108049</td>\n",
              "      <td>8020.953296</td>\n",
              "      <td>0</td>\n",
              "    </tr>\n",
              "    <tr>\n",
              "      <th>3</th>\n",
              "      <td>4</td>\n",
              "      <td>42709.534201</td>\n",
              "      <td>45.751972</td>\n",
              "      <td>6103.642260</td>\n",
              "      <td>0</td>\n",
              "    </tr>\n",
              "    <tr>\n",
              "      <th>4</th>\n",
              "      <td>5</td>\n",
              "      <td>66952.688845</td>\n",
              "      <td>18.584336</td>\n",
              "      <td>8770.099235</td>\n",
              "      <td>1</td>\n",
              "    </tr>\n",
              "  </tbody>\n",
              "</table>\n",
              "</div>"
            ],
            "text/plain": [
              "   i#clientid        income        age         loan  c#default\n",
              "0           1  66155.925095  59.017015  8106.532131          0\n",
              "1           2  34415.153966  48.117153  6564.745018          0\n",
              "2           3  57317.170063  63.108049  8020.953296          0\n",
              "3           4  42709.534201  45.751972  6103.642260          0\n",
              "4           5  66952.688845  18.584336  8770.099235          1"
            ]
          },
          "metadata": {
            "tags": []
          },
          "execution_count": 3
        }
      ]
    },
    {
      "cell_type": "code",
      "metadata": {
        "colab": {
          "base_uri": "https://localhost:8080/"
        },
        "id": "GHI6WHYZIGRh",
        "outputId": "a52fd1fd-3bb7-49f5-e0b4-778504cea72f"
      },
      "source": [
        "base.info()"
      ],
      "execution_count": 4,
      "outputs": [
        {
          "output_type": "stream",
          "text": [
            "<class 'pandas.core.frame.DataFrame'>\n",
            "RangeIndex: 2000 entries, 0 to 1999\n",
            "Data columns (total 5 columns):\n",
            " #   Column      Non-Null Count  Dtype  \n",
            "---  ------      --------------  -----  \n",
            " 0   i#clientid  2000 non-null   int64  \n",
            " 1   income      2000 non-null   float64\n",
            " 2   age         1997 non-null   float64\n",
            " 3   loan        2000 non-null   float64\n",
            " 4   c#default   2000 non-null   int64  \n",
            "dtypes: float64(3), int64(2)\n",
            "memory usage: 78.2 KB\n"
          ],
          "name": "stdout"
        }
      ]
    },
    {
      "cell_type": "code",
      "metadata": {
        "colab": {
          "base_uri": "https://localhost:8080/"
        },
        "id": "p6cgbmB7IWpg",
        "outputId": "047248f7-0ae9-4319-9543-106b3e25bf81"
      },
      "source": [
        "base.isnull().sum()"
      ],
      "execution_count": 6,
      "outputs": [
        {
          "output_type": "execute_result",
          "data": {
            "text/plain": [
              "i#clientid    0\n",
              "income        0\n",
              "age           3\n",
              "loan          0\n",
              "c#default     0\n",
              "dtype: int64"
            ]
          },
          "metadata": {
            "tags": []
          },
          "execution_count": 6
        }
      ]
    },
    {
      "cell_type": "code",
      "metadata": {
        "colab": {
          "base_uri": "https://localhost:8080/",
          "height": 297
        },
        "id": "mQMp0aC7IKZv",
        "outputId": "1c50b1f4-882e-49c5-9159-77d401ea6a7c"
      },
      "source": [
        "base.describe()"
      ],
      "execution_count": 5,
      "outputs": [
        {
          "output_type": "execute_result",
          "data": {
            "text/html": [
              "<div>\n",
              "<style scoped>\n",
              "    .dataframe tbody tr th:only-of-type {\n",
              "        vertical-align: middle;\n",
              "    }\n",
              "\n",
              "    .dataframe tbody tr th {\n",
              "        vertical-align: top;\n",
              "    }\n",
              "\n",
              "    .dataframe thead th {\n",
              "        text-align: right;\n",
              "    }\n",
              "</style>\n",
              "<table border=\"1\" class=\"dataframe\">\n",
              "  <thead>\n",
              "    <tr style=\"text-align: right;\">\n",
              "      <th></th>\n",
              "      <th>i#clientid</th>\n",
              "      <th>income</th>\n",
              "      <th>age</th>\n",
              "      <th>loan</th>\n",
              "      <th>c#default</th>\n",
              "    </tr>\n",
              "  </thead>\n",
              "  <tbody>\n",
              "    <tr>\n",
              "      <th>count</th>\n",
              "      <td>2000.000000</td>\n",
              "      <td>2000.000000</td>\n",
              "      <td>1997.000000</td>\n",
              "      <td>2000.000000</td>\n",
              "      <td>2000.000000</td>\n",
              "    </tr>\n",
              "    <tr>\n",
              "      <th>mean</th>\n",
              "      <td>1000.500000</td>\n",
              "      <td>45331.600018</td>\n",
              "      <td>40.807559</td>\n",
              "      <td>4444.369695</td>\n",
              "      <td>0.141500</td>\n",
              "    </tr>\n",
              "    <tr>\n",
              "      <th>std</th>\n",
              "      <td>577.494589</td>\n",
              "      <td>14326.327119</td>\n",
              "      <td>13.624469</td>\n",
              "      <td>3045.410024</td>\n",
              "      <td>0.348624</td>\n",
              "    </tr>\n",
              "    <tr>\n",
              "      <th>min</th>\n",
              "      <td>1.000000</td>\n",
              "      <td>20014.489470</td>\n",
              "      <td>-52.423280</td>\n",
              "      <td>1.377630</td>\n",
              "      <td>0.000000</td>\n",
              "    </tr>\n",
              "    <tr>\n",
              "      <th>25%</th>\n",
              "      <td>500.750000</td>\n",
              "      <td>32796.459717</td>\n",
              "      <td>28.990415</td>\n",
              "      <td>1939.708847</td>\n",
              "      <td>0.000000</td>\n",
              "    </tr>\n",
              "    <tr>\n",
              "      <th>50%</th>\n",
              "      <td>1000.500000</td>\n",
              "      <td>45789.117313</td>\n",
              "      <td>41.317159</td>\n",
              "      <td>3974.719419</td>\n",
              "      <td>0.000000</td>\n",
              "    </tr>\n",
              "    <tr>\n",
              "      <th>75%</th>\n",
              "      <td>1500.250000</td>\n",
              "      <td>57791.281668</td>\n",
              "      <td>52.587040</td>\n",
              "      <td>6432.410625</td>\n",
              "      <td>0.000000</td>\n",
              "    </tr>\n",
              "    <tr>\n",
              "      <th>max</th>\n",
              "      <td>2000.000000</td>\n",
              "      <td>69995.685578</td>\n",
              "      <td>63.971796</td>\n",
              "      <td>13766.051239</td>\n",
              "      <td>1.000000</td>\n",
              "    </tr>\n",
              "  </tbody>\n",
              "</table>\n",
              "</div>"
            ],
            "text/plain": [
              "        i#clientid        income          age          loan    c#default\n",
              "count  2000.000000   2000.000000  1997.000000   2000.000000  2000.000000\n",
              "mean   1000.500000  45331.600018    40.807559   4444.369695     0.141500\n",
              "std     577.494589  14326.327119    13.624469   3045.410024     0.348624\n",
              "min       1.000000  20014.489470   -52.423280      1.377630     0.000000\n",
              "25%     500.750000  32796.459717    28.990415   1939.708847     0.000000\n",
              "50%    1000.500000  45789.117313    41.317159   3974.719419     0.000000\n",
              "75%    1500.250000  57791.281668    52.587040   6432.410625     0.000000\n",
              "max    2000.000000  69995.685578    63.971796  13766.051239     1.000000"
            ]
          },
          "metadata": {
            "tags": []
          },
          "execution_count": 5
        }
      ]
    },
    {
      "cell_type": "code",
      "metadata": {
        "id": "LSyjYc9JIslr"
      },
      "source": [
        "base.dropna(inplace=True)"
      ],
      "execution_count": 9,
      "outputs": []
    },
    {
      "cell_type": "code",
      "metadata": {
        "id": "E2Nf2GuQINd2"
      },
      "source": [
        "base.loc[base.age < 0, 'age'] = 40.80"
      ],
      "execution_count": 10,
      "outputs": []
    },
    {
      "cell_type": "code",
      "metadata": {
        "colab": {
          "base_uri": "https://localhost:8080/"
        },
        "id": "LrIIu4rCIflx",
        "outputId": "9a043dea-aec6-44ea-ac4c-d5fe8c980fde"
      },
      "source": [
        "base.info()"
      ],
      "execution_count": 11,
      "outputs": [
        {
          "output_type": "stream",
          "text": [
            "<class 'pandas.core.frame.DataFrame'>\n",
            "Int64Index: 1997 entries, 0 to 1999\n",
            "Data columns (total 5 columns):\n",
            " #   Column      Non-Null Count  Dtype  \n",
            "---  ------      --------------  -----  \n",
            " 0   i#clientid  1997 non-null   int64  \n",
            " 1   income      1997 non-null   float64\n",
            " 2   age         1997 non-null   float64\n",
            " 3   loan        1997 non-null   float64\n",
            " 4   c#default   1997 non-null   int64  \n",
            "dtypes: float64(3), int64(2)\n",
            "memory usage: 93.6 KB\n"
          ],
          "name": "stdout"
        }
      ]
    },
    {
      "cell_type": "code",
      "metadata": {
        "id": "0CnHA9DiIhmZ"
      },
      "source": [
        "x = base.iloc[:, 0:4].values\n",
        "y = base.iloc[:, 4].values"
      ],
      "execution_count": 40,
      "outputs": []
    },
    {
      "cell_type": "code",
      "metadata": {
        "id": "fCCtgrk0JFFz"
      },
      "source": [
        "scaler = MinMaxScaler(feature_range = (0,1))\n",
        "x = scaler.fit_transform(x);"
      ],
      "execution_count": 41,
      "outputs": []
    },
    {
      "cell_type": "code",
      "metadata": {
        "colab": {
          "base_uri": "https://localhost:8080/"
        },
        "id": "5K8R02-pJzeG",
        "outputId": "f6b86f4b-7ba8-469d-a181-1da9a754e42c"
      },
      "source": [
        "x.shape"
      ],
      "execution_count": 42,
      "outputs": [
        {
          "output_type": "execute_result",
          "data": {
            "text/plain": [
              "(1997, 4)"
            ]
          },
          "metadata": {
            "tags": []
          },
          "execution_count": 42
        }
      ]
    },
    {
      "cell_type": "code",
      "metadata": {
        "colab": {
          "base_uri": "https://localhost:8080/"
        },
        "id": "I7HZYQ2cJ3Lv",
        "outputId": "d8f22902-7e59-42ec-b25e-631ff71bd6dd"
      },
      "source": [
        "celulas = 5 * np.sqrt(x.shape[0])\n",
        "celulas"
      ],
      "execution_count": 43,
      "outputs": [
        {
          "output_type": "execute_result",
          "data": {
            "text/plain": [
              "223.43902971504332"
            ]
          },
          "metadata": {
            "tags": []
          },
          "execution_count": 43
        }
      ]
    },
    {
      "cell_type": "code",
      "metadata": {
        "id": "mWts-SPLKWOh"
      },
      "source": [
        "from minisom import MiniSom"
      ],
      "execution_count": 44,
      "outputs": []
    },
    {
      "cell_type": "code",
      "metadata": {
        "id": "kIMbO5oZJch0"
      },
      "source": [
        "som = MiniSom(x = 15,\n",
        "              y = 15,\n",
        "              input_len = 4,\n",
        "              random_seed = 0)\n",
        "\n",
        "som.random_weights_init(x)\n",
        "som.train_random(data = x, num_iteration = 1000)"
      ],
      "execution_count": 45,
      "outputs": []
    },
    {
      "cell_type": "code",
      "metadata": {
        "colab": {
          "base_uri": "https://localhost:8080/",
          "height": 269
        },
        "id": "KclcVAffKfNL",
        "outputId": "4c5e7359-e028-4977-b415-c9a493a1d215"
      },
      "source": [
        "from pylab import pcolor, colorbar, plot\n",
        "pcolor(som.distance_map().T)\n",
        "colorbar();"
      ],
      "execution_count": 46,
      "outputs": [
        {
          "output_type": "display_data",
          "data": {
            "image/png": "[encoded data removed]",
            "text/plain": [
              "<Figure size 432x288 with 2 Axes>"
            ]
          },
          "metadata": {
            "tags": [],
            "needs_background": "light"
          }
        }
      ]
    },
    {
      "cell_type": "code",
      "metadata": {
        "id": "1zFZoni3K99a"
      },
      "source": [
        "markers = ['o', 's']\n",
        "colors = ['r', 'g']"
      ],
      "execution_count": 47,
      "outputs": []
    },
    {
      "cell_type": "code",
      "metadata": {
        "colab": {
          "base_uri": "https://localhost:8080/",
          "height": 269
        },
        "id": "Iv-JPuo3LPN8",
        "outputId": "7a222ee4-9d7e-4e16-8c15-6df532a9a3a1"
      },
      "source": [
        "pcolor(som.distance_map().T)\n",
        "colorbar();\n",
        "for i, a in enumerate(x):\n",
        "  w = som.winner(a);\n",
        "  plot(w[0] + 0.5, w[1] + 0.5, markers[y[i]],\n",
        "       markerfacecolor = 'None', markersize = 10,\n",
        "       markeredgecolor = colors[y[i]], markeredgewidth = 2)"
      ],
      "execution_count": 48,
      "outputs": [
        {
          "output_type": "display_data",
          "data": {
            "image/png": "[encoded data removed]",
            "text/plain": [
              "<Figure size 432x288 with 2 Axes>"
            ]
          },
          "metadata": {
            "tags": [],
            "needs_background": "light"
          }
        }
      ]
    },
    {
      "cell_type": "code",
      "metadata": {
        "id": "PzLP-zWLMb8n"
      },
      "source": [
        "#buscar clientes que estão no amarelo já que a distância entre vizinhos são altas\n",
        "mapeamento = som.win_map(x)"
      ],
      "execution_count": 49,
      "outputs": []
    },
    {
      "cell_type": "code",
      "metadata": {
        "id": "TCl3fGwuMzUX"
      },
      "source": [
        "suspeitos = np.concatenate((mapeamento[(6,10)], \n",
        "                            mapeamento[(7,10)], \n",
        "                            mapeamento[(7,11)], \n",
        "                            mapeamento[(8,10)], \n",
        "                            mapeamento[(8,11)], \n",
        "                            mapeamento[(9,10)],\n",
        "                            mapeamento[(9,11)],\n",
        "                            mapeamento[(1,2)],\n",
        "                            mapeamento[(1,3)],\n",
        "                            mapeamento[(2,2)],\n",
        "                            mapeamento[(10,10)],\n",
        "                            mapeamento[(10,11)],\n",
        "                            mapeamento[(2,3)]),\n",
        "                            axis = 0)"
      ],
      "execution_count": 68,
      "outputs": []
    },
    {
      "cell_type": "code",
      "metadata": {
        "id": "rNQbSpFtNnql"
      },
      "source": [
        "suspeitos = scaler.inverse_transform(suspeitos)"
      ],
      "execution_count": 69,
      "outputs": []
    },
    {
      "cell_type": "code",
      "metadata": {
        "colab": {
          "base_uri": "https://localhost:8080/"
        },
        "id": "lPu-WeBrN4QP",
        "outputId": "2d290bf9-62bb-4694-dd2e-d513528d4a77"
      },
      "source": [
        "suspeitos"
      ],
      "execution_count": 70,
      "outputs": [
        {
          "output_type": "execute_result",
          "data": {
            "text/plain": [
              "array([[6.08000000e+02, 4.56520593e+04, 5.36743410e+01, 5.40821213e+03],\n",
              "       [6.23000000e+02, 4.36940344e+04, 4.95150355e+01, 5.04963551e+03],\n",
              "       [6.26000000e+02, 4.18166568e+04, 4.89172136e+01, 4.53457597e+03],\n",
              "       [3.34000000e+02, 4.80182115e+04, 5.02041390e+01, 6.12009002e+03],\n",
              "       [3.48000000e+02, 4.48974884e+04, 5.13580611e+01, 5.73239903e+03],\n",
              "       [4.56000000e+02, 4.75483626e+04, 4.78391001e+01, 6.15393656e+03],\n",
              "       [5.33000000e+02, 4.96045442e+04, 5.19440088e+01, 7.04591920e+03],\n",
              "       [3.29000000e+02, 3.62424480e+04, 3.94154708e+01, 5.68899485e+03],\n",
              "       [4.64000000e+02, 3.64305384e+04, 3.82274418e+01, 5.85518559e+03],\n",
              "       [5.46000000e+02, 4.07948702e+04, 3.80405282e+01, 6.51943706e+03],\n",
              "       [3.68000000e+02, 4.84632046e+04, 5.05264298e+01, 8.12025809e+03],\n",
              "       [3.70000000e+02, 5.03104224e+04, 5.30386969e+01, 8.36171910e+03],\n",
              "       [3.78000000e+02, 4.63281719e+04, 5.68408306e+01, 7.87967621e+03],\n",
              "       [1.70000000e+01, 4.35486547e+04, 3.95745304e+01, 3.93554445e+03],\n",
              "       [6.60000000e+01, 4.06221949e+04, 4.15271888e+01, 4.94990233e+03],\n",
              "       [8.30000000e+01, 3.68019072e+04, 4.30279434e+01, 5.40634493e+03],\n",
              "       [1.75000000e+02, 3.97721187e+04, 4.37254478e+01, 5.49289369e+03],\n",
              "       [3.27000000e+02, 3.80825195e+04, 4.55199772e+01, 4.21346526e+03],\n",
              "       [1.56000000e+02, 5.16895485e+04, 4.61541915e+01, 9.88197601e+03],\n",
              "       [4.62000000e+02, 5.28629471e+04, 4.73313971e+01, 9.75415224e+03],\n",
              "       [4.70000000e+02, 5.47072885e+04, 4.42378815e+01, 1.02551901e+04],\n",
              "       [5.07000000e+02, 5.65108354e+04, 4.73082861e+01, 9.25543965e+03],\n",
              "       [2.23000000e+02, 4.57887471e+04, 4.12619462e+01, 5.89404132e+03],\n",
              "       [3.60000000e+02, 4.79043412e+04, 4.00392702e+01, 6.18351415e+03],\n",
              "       [4.37000000e+02, 4.75339209e+04, 3.99551941e+01, 6.63777087e+03],\n",
              "       [2.42000000e+02, 5.10004224e+04, 2.78029975e+01, 7.78732696e+02],\n",
              "       [3.63000000e+02, 4.73167014e+04, 2.70641977e+01, 1.94067404e+03],\n",
              "       [4.67000000e+02, 4.61957772e+04, 3.24135986e+01, 9.27067594e+02],\n",
              "       [5.34000000e+02, 4.84333735e+04, 2.85319973e+01, 7.89633361e+02],\n",
              "       [1.19000000e+02, 3.45075279e+04, 3.85877834e+01, 1.79375026e+03],\n",
              "       [2.94000000e+02, 3.16576193e+04, 3.77786643e+01, 1.44807198e+03],\n",
              "       [4.19000000e+02, 3.43323153e+04, 3.65013709e+01, 1.22572022e+03],\n",
              "       [4.27000000e+02, 3.73020834e+04, 3.50154039e+01, 2.36617424e+03],\n",
              "       [2.71000000e+02, 5.20942184e+04, 4.08445078e+01, 4.95021199e+02],\n",
              "       [2.87000000e+02, 5.07307334e+04, 4.19700668e+01, 1.87905966e+03],\n",
              "       [2.91000000e+02, 5.49255183e+04, 4.08056031e+01, 5.54488345e+02],\n",
              "       [5.62000000e+02, 5.30338641e+04, 3.84575597e+01, 1.04274705e+04],\n",
              "       [6.12000000e+02, 5.22188825e+04, 3.75427568e+01, 9.79209153e+03],\n",
              "       [6.21000000e+02, 5.59480677e+04, 4.03030154e+01, 8.56922057e+03],\n",
              "       [6.85000000e+02, 5.51162345e+04, 4.14688852e+01, 1.02846068e+04],\n",
              "       [1.01000000e+02, 5.14610532e+04, 3.66515586e+01, 7.29226418e+03],\n",
              "       [1.78000000e+02, 5.00728476e+04, 3.30152727e+01, 8.08856802e+03],\n",
              "       [3.13000000e+02, 5.14550985e+04, 3.72856837e+01, 9.44711716e+03],\n",
              "       [3.46000000e+02, 5.01397400e+04, 3.02678123e+01, 7.75879982e+03],\n",
              "       [3.79000000e+02, 4.96333275e+04, 3.89890089e+01, 7.91531344e+03],\n",
              "       [4.89000000e+02, 4.86850420e+04, 3.25332560e+01, 9.69858217e+03],\n",
              "       [5.89000000e+02, 4.83263209e+04, 3.56521986e+01, 7.16870700e+03],\n",
              "       [5.05000000e+02, 3.55782341e+04, 4.23945970e+01, 3.64084889e+03]])"
            ]
          },
          "metadata": {
            "tags": []
          },
          "execution_count": 70
        }
      ]
    },
    {
      "cell_type": "code",
      "metadata": {
        "colab": {
          "base_uri": "https://localhost:8080/"
        },
        "id": "AlMEbHa3N52W",
        "outputId": "a2852f5e-1d80-4ed3-c89c-88204a0b464c"
      },
      "source": [
        "classe = []\n",
        "\n",
        "for i in range(len(base)):\n",
        "  for j in range(len(suspeitos)):\n",
        "    if base.iloc[i, 0] == int(round(suspeitos[j, 0])):\n",
        "      classe.append(base.iloc[i, 4]);\n",
        "\n",
        "classe = np.asarray(classe)\n",
        "classe"
      ],
      "execution_count": 71,
      "outputs": [
        {
          "output_type": "execute_result",
          "data": {
            "text/plain": [
              "array([0, 0, 0, 0, 0, 0, 0, 1, 0, 0, 0, 0, 0, 0, 0, 0, 0, 0, 1, 0, 0, 0,\n",
              "       0, 0, 0, 0, 0, 0, 0, 0, 0, 0, 0, 0, 1, 0, 0, 0, 0, 0, 0, 0, 0, 0,\n",
              "       0, 0, 0, 0])"
            ]
          },
          "metadata": {
            "tags": []
          },
          "execution_count": 71
        }
      ]
    },
    {
      "cell_type": "code",
      "metadata": {
        "colab": {
          "base_uri": "https://localhost:8080/"
        },
        "id": "GJgWtqclPFr-",
        "outputId": "3d6d34ea-15fa-409b-e1d7-1d1624fcc806"
      },
      "source": [
        "suspeitos_final = np.column_stack((suspeitos, classe))\n",
        "suspeitos_final"
      ],
      "execution_count": 72,
      "outputs": [
        {
          "output_type": "execute_result",
          "data": {
            "text/plain": [
              "array([[6.08000000e+02, 4.56520593e+04, 5.36743410e+01, 5.40821213e+03,\n",
              "        0.00000000e+00],\n",
              "       [6.23000000e+02, 4.36940344e+04, 4.95150355e+01, 5.04963551e+03,\n",
              "        0.00000000e+00],\n",
              "       [6.26000000e+02, 4.18166568e+04, 4.89172136e+01, 4.53457597e+03,\n",
              "        0.00000000e+00],\n",
              "       [3.34000000e+02, 4.80182115e+04, 5.02041390e+01, 6.12009002e+03,\n",
              "        0.00000000e+00],\n",
              "       [3.48000000e+02, 4.48974884e+04, 5.13580611e+01, 5.73239903e+03,\n",
              "        0.00000000e+00],\n",
              "       [4.56000000e+02, 4.75483626e+04, 4.78391001e+01, 6.15393656e+03,\n",
              "        0.00000000e+00],\n",
              "       [5.33000000e+02, 4.96045442e+04, 5.19440088e+01, 7.04591920e+03,\n",
              "        0.00000000e+00],\n",
              "       [3.29000000e+02, 3.62424480e+04, 3.94154708e+01, 5.68899485e+03,\n",
              "        1.00000000e+00],\n",
              "       [4.64000000e+02, 3.64305384e+04, 3.82274418e+01, 5.85518559e+03,\n",
              "        0.00000000e+00],\n",
              "       [5.46000000e+02, 4.07948702e+04, 3.80405282e+01, 6.51943706e+03,\n",
              "        0.00000000e+00],\n",
              "       [3.68000000e+02, 4.84632046e+04, 5.05264298e+01, 8.12025809e+03,\n",
              "        0.00000000e+00],\n",
              "       [3.70000000e+02, 5.03104224e+04, 5.30386969e+01, 8.36171910e+03,\n",
              "        0.00000000e+00],\n",
              "       [3.78000000e+02, 4.63281719e+04, 5.68408306e+01, 7.87967621e+03,\n",
              "        0.00000000e+00],\n",
              "       [1.70000000e+01, 4.35486547e+04, 3.95745304e+01, 3.93554445e+03,\n",
              "        0.00000000e+00],\n",
              "       [6.60000000e+01, 4.06221949e+04, 4.15271888e+01, 4.94990233e+03,\n",
              "        0.00000000e+00],\n",
              "       [8.30000000e+01, 3.68019072e+04, 4.30279434e+01, 5.40634493e+03,\n",
              "        0.00000000e+00],\n",
              "       [1.75000000e+02, 3.97721187e+04, 4.37254478e+01, 5.49289369e+03,\n",
              "        0.00000000e+00],\n",
              "       [3.27000000e+02, 3.80825195e+04, 4.55199772e+01, 4.21346526e+03,\n",
              "        0.00000000e+00],\n",
              "       [1.56000000e+02, 5.16895485e+04, 4.61541915e+01, 9.88197601e+03,\n",
              "        1.00000000e+00],\n",
              "       [4.62000000e+02, 5.28629471e+04, 4.73313971e+01, 9.75415224e+03,\n",
              "        0.00000000e+00],\n",
              "       [4.70000000e+02, 5.47072885e+04, 4.42378815e+01, 1.02551901e+04,\n",
              "        0.00000000e+00],\n",
              "       [5.07000000e+02, 5.65108354e+04, 4.73082861e+01, 9.25543965e+03,\n",
              "        0.00000000e+00],\n",
              "       [2.23000000e+02, 4.57887471e+04, 4.12619462e+01, 5.89404132e+03,\n",
              "        0.00000000e+00],\n",
              "       [3.60000000e+02, 4.79043412e+04, 4.00392702e+01, 6.18351415e+03,\n",
              "        0.00000000e+00],\n",
              "       [4.37000000e+02, 4.75339209e+04, 3.99551941e+01, 6.63777087e+03,\n",
              "        0.00000000e+00],\n",
              "       [2.42000000e+02, 5.10004224e+04, 2.78029975e+01, 7.78732696e+02,\n",
              "        0.00000000e+00],\n",
              "       [3.63000000e+02, 4.73167014e+04, 2.70641977e+01, 1.94067404e+03,\n",
              "        0.00000000e+00],\n",
              "       [4.67000000e+02, 4.61957772e+04, 3.24135986e+01, 9.27067594e+02,\n",
              "        0.00000000e+00],\n",
              "       [5.34000000e+02, 4.84333735e+04, 2.85319973e+01, 7.89633361e+02,\n",
              "        0.00000000e+00],\n",
              "       [1.19000000e+02, 3.45075279e+04, 3.85877834e+01, 1.79375026e+03,\n",
              "        0.00000000e+00],\n",
              "       [2.94000000e+02, 3.16576193e+04, 3.77786643e+01, 1.44807198e+03,\n",
              "        0.00000000e+00],\n",
              "       [4.19000000e+02, 3.43323153e+04, 3.65013709e+01, 1.22572022e+03,\n",
              "        0.00000000e+00],\n",
              "       [4.27000000e+02, 3.73020834e+04, 3.50154039e+01, 2.36617424e+03,\n",
              "        0.00000000e+00],\n",
              "       [2.71000000e+02, 5.20942184e+04, 4.08445078e+01, 4.95021199e+02,\n",
              "        0.00000000e+00],\n",
              "       [2.87000000e+02, 5.07307334e+04, 4.19700668e+01, 1.87905966e+03,\n",
              "        1.00000000e+00],\n",
              "       [2.91000000e+02, 5.49255183e+04, 4.08056031e+01, 5.54488345e+02,\n",
              "        0.00000000e+00],\n",
              "       [5.62000000e+02, 5.30338641e+04, 3.84575597e+01, 1.04274705e+04,\n",
              "        0.00000000e+00],\n",
              "       [6.12000000e+02, 5.22188825e+04, 3.75427568e+01, 9.79209153e+03,\n",
              "        0.00000000e+00],\n",
              "       [6.21000000e+02, 5.59480677e+04, 4.03030154e+01, 8.56922057e+03,\n",
              "        0.00000000e+00],\n",
              "       [6.85000000e+02, 5.51162345e+04, 4.14688852e+01, 1.02846068e+04,\n",
              "        0.00000000e+00],\n",
              "       [1.01000000e+02, 5.14610532e+04, 3.66515586e+01, 7.29226418e+03,\n",
              "        0.00000000e+00],\n",
              "       [1.78000000e+02, 5.00728476e+04, 3.30152727e+01, 8.08856802e+03,\n",
              "        0.00000000e+00],\n",
              "       [3.13000000e+02, 5.14550985e+04, 3.72856837e+01, 9.44711716e+03,\n",
              "        0.00000000e+00],\n",
              "       [3.46000000e+02, 5.01397400e+04, 3.02678123e+01, 7.75879982e+03,\n",
              "        0.00000000e+00],\n",
              "       [3.79000000e+02, 4.96333275e+04, 3.89890089e+01, 7.91531344e+03,\n",
              "        0.00000000e+00],\n",
              "       [4.89000000e+02, 4.86850420e+04, 3.25332560e+01, 9.69858217e+03,\n",
              "        0.00000000e+00],\n",
              "       [5.89000000e+02, 4.83263209e+04, 3.56521986e+01, 7.16870700e+03,\n",
              "        0.00000000e+00],\n",
              "       [5.05000000e+02, 3.55782341e+04, 4.23945970e+01, 3.64084889e+03,\n",
              "        0.00000000e+00]])"
            ]
          },
          "metadata": {
            "tags": []
          },
          "execution_count": 72
        }
      ]
    },
    {
      "cell_type": "code",
      "metadata": {
        "id": "6L6OV_BEPVsr"
      },
      "source": [
        "suspeitos_final = suspeitos_final[suspeitos_final[:, 4].argsort()]"
      ],
      "execution_count": 73,
      "outputs": []
    },
    {
      "cell_type": "code",
      "metadata": {
        "colab": {
          "base_uri": "https://localhost:8080/",
          "height": 204
        },
        "id": "miIyceBTP290",
        "outputId": "0a87982e-3494-48d1-8139-9b29ba5c408d"
      },
      "source": [
        "suspeitos_final = pd.DataFrame(data=suspeitos_final, columns=['#clientid', 'income', 'age', 'loan', 'suspeito'])\n",
        "suspeitos_final.head()"
      ],
      "execution_count": 75,
      "outputs": [
        {
          "output_type": "execute_result",
          "data": {
            "text/html": [
              "<div>\n",
              "<style scoped>\n",
              "    .dataframe tbody tr th:only-of-type {\n",
              "        vertical-align: middle;\n",
              "    }\n",
              "\n",
              "    .dataframe tbody tr th {\n",
              "        vertical-align: top;\n",
              "    }\n",
              "\n",
              "    .dataframe thead th {\n",
              "        text-align: right;\n",
              "    }\n",
              "</style>\n",
              "<table border=\"1\" class=\"dataframe\">\n",
              "  <thead>\n",
              "    <tr style=\"text-align: right;\">\n",
              "      <th></th>\n",
              "      <th>#clientid</th>\n",
              "      <th>income</th>\n",
              "      <th>age</th>\n",
              "      <th>loan</th>\n",
              "      <th>suspeito</th>\n",
              "    </tr>\n",
              "  </thead>\n",
              "  <tbody>\n",
              "    <tr>\n",
              "      <th>0</th>\n",
              "      <td>608.0</td>\n",
              "      <td>45652.059272</td>\n",
              "      <td>53.674341</td>\n",
              "      <td>5408.212129</td>\n",
              "      <td>0.0</td>\n",
              "    </tr>\n",
              "    <tr>\n",
              "      <th>1</th>\n",
              "      <td>242.0</td>\n",
              "      <td>51000.422442</td>\n",
              "      <td>27.802998</td>\n",
              "      <td>778.732696</td>\n",
              "      <td>0.0</td>\n",
              "    </tr>\n",
              "    <tr>\n",
              "      <th>2</th>\n",
              "      <td>363.0</td>\n",
              "      <td>47316.701377</td>\n",
              "      <td>27.064198</td>\n",
              "      <td>1940.674044</td>\n",
              "      <td>0.0</td>\n",
              "    </tr>\n",
              "    <tr>\n",
              "      <th>3</th>\n",
              "      <td>467.0</td>\n",
              "      <td>46195.777173</td>\n",
              "      <td>32.413599</td>\n",
              "      <td>927.067594</td>\n",
              "      <td>0.0</td>\n",
              "    </tr>\n",
              "    <tr>\n",
              "      <th>4</th>\n",
              "      <td>534.0</td>\n",
              "      <td>48433.373489</td>\n",
              "      <td>28.531997</td>\n",
              "      <td>789.633361</td>\n",
              "      <td>0.0</td>\n",
              "    </tr>\n",
              "  </tbody>\n",
              "</table>\n",
              "</div>"
            ],
            "text/plain": [
              "   #clientid        income        age         loan  suspeito\n",
              "0      608.0  45652.059272  53.674341  5408.212129       0.0\n",
              "1      242.0  51000.422442  27.802998   778.732696       0.0\n",
              "2      363.0  47316.701377  27.064198  1940.674044       0.0\n",
              "3      467.0  46195.777173  32.413599   927.067594       0.0\n",
              "4      534.0  48433.373489  28.531997   789.633361       0.0"
            ]
          },
          "metadata": {
            "tags": []
          },
          "execution_count": 75
        }
      ]
    },
    {
      "cell_type": "code",
      "metadata": {
        "colab": {
          "base_uri": "https://localhost:8080/"
        },
        "id": "AtOKQHHSP5vd",
        "outputId": "9279bc91-46d3-4162-ef82-c0d11dc4fc30"
      },
      "source": [
        "base.iloc[604, 0:5]"
      ],
      "execution_count": 97,
      "outputs": [
        {
          "output_type": "execute_result",
          "data": {
            "text/plain": [
              "i#clientid      608.000000\n",
              "income        45652.059272\n",
              "age              53.674341\n",
              "loan           5408.212129\n",
              "c#default         0.000000\n",
              "Name: 607, dtype: float64"
            ]
          },
          "metadata": {
            "tags": []
          },
          "execution_count": 97
        }
      ]
    },
    {
      "cell_type": "code",
      "metadata": {
        "id": "ffIzm7QJTWcY"
      },
      "source": [
        ""
      ],
      "execution_count": null,
      "outputs": []
    }
  ]
}